{
  "cells": [
    {
      "cell_type": "markdown",
      "id": "5f034096",
      "metadata": {},
      "source": [
        "# 7b. Generate edges that connect walk network to public transport stops"
      ]
    },
    {
      "cell_type": "code",
      "execution_count": null,
      "id": "071158b6",
      "metadata": {
        "gather": {
          "logged": 1705500764480
        }
      },
      "outputs": [],
      "source": [
        "# Standard library and path imports\n",
        "import set_path\n",
        "\n",
        "# Third-party library imports\n",
        "import geopandas as gpd\n",
        "import momepy\n",
        "import networkx as nx\n",
        "import folium\n",
        "\n",
        "# Local or project-specific imports\n",
        "import plot_utils\n",
        "import crossing_utils\n",
        "import settings as st\n",
        "\n",
        "if st.my_run == \"azure\":\n",
        "    import config_azure as cf\n",
        "elif st.my_run == \"local\":\n",
        "    import config as cf"
      ]
    },
    {
      "cell_type": "markdown",
      "id": "50c6b9b1",
      "metadata": {},
      "source": [
        "## Import walking network "
      ]
    },
    {
      "cell_type": "code",
      "execution_count": null,
      "id": "b4a3ab12-418d-4c39-8d47-51946b25f288",
      "metadata": {
        "gather": {
          "logged": 1705500792390
        }
      },
      "outputs": [],
      "source": [
        "# Get basic pedestrian network with widths\n",
        "gdf_network = gpd.read_file(cf.output_file_widths).to_crs(crs=st.CRS)\n",
        "gdf_network_nodes = gpd.GeoDataFrame(geometry = gdf_network.boundary.explode(index_parts=True), crs=st.CRS)\n",
        "gdf_network_nodes['x'], gdf_network_nodes['y'] = gdf_network_nodes.geometry.x, gdf_network_nodes.geometry.y\n",
        "gdf_network_nodes.reset_index()\n",
        "graph_network = momepy.gdf_to_nx(gdf_network, approach='primal')"
      ]
    },
    {
      "cell_type": "code",
      "execution_count": null,
      "id": "87aeac20-1362-4cd6-b859-94a7a4dc5648",
      "metadata": {
        "gather": {
          "logged": 1705500801359
        },
        "jupyter": {
          "outputs_hidden": false,
          "source_hidden": false
        },
        "nteract": {
          "transient": {
            "deleting": false
          }
        }
      },
      "outputs": [],
      "source": [
        "# Calculate connected components for pedestrian network\n",
        "cc_network = list(nx.connected_components(graph_network))\n",
        "nodes_in_edge = [line.coords[0] for line in gdf_network['geometry'].to_list()]\n",
        "cc_ids = [i for node in nodes_in_edge for i in range(len(cc_network)) if node in cc_network[i]]\n",
        "gdf_network_nodes['cc'] = [x for y in zip(cc_ids, cc_ids) for x in y]"
      ]
    },
    {
      "cell_type": "markdown",
      "id": "b119fa36-97db-4304-98f3-9f2419d955c9",
      "metadata": {},
      "source": [
        "##  Generate edges to include public transport stop features"
      ]
    },
    {
      "cell_type": "markdown",
      "id": "0305933d-ee94-4680-b9a6-9b3e17ea125d",
      "metadata": {},
      "source": [
        "### Import public transport stop features"
      ]
    },
    {
      "cell_type": "code",
      "execution_count": null,
      "id": "0d67ccd2-f06b-408a-bb19-535fba848a6c",
      "metadata": {
        "gather": {
          "logged": 1705500853645
        },
        "jupyter": {
          "outputs_hidden": false,
          "source_hidden": false
        },
        "nteract": {
          "transient": {
            "deleting": false
          }
        }
      },
      "outputs": [],
      "source": [
        "# # Import public transport stop features\n",
        "gdf_ptf = gpd.read_file(cf.output_public_transport_features).to_crs(crs=st.CRS)"
      ]
    },
    {
      "cell_type": "markdown",
      "id": "d3171ef4-cc72-4189-9e98-1d9c9f19c523",
      "metadata": {
        "nteract": {
          "transient": {
            "deleting": false
          }
        }
      },
      "source": [
        "### Generate edges to connect public transport stop nodes"
      ]
    },
    {
      "cell_type": "code",
      "execution_count": null,
      "id": "c0fa3061-4d1b-407a-a544-e259e3b81d07",
      "metadata": {
        "gather": {
          "logged": 1705500890419
        },
        "jupyter": {
          "outputs_hidden": false,
          "source_hidden": false
        },
        "nteract": {
          "transient": {
            "deleting": false
          }
        }
      },
      "outputs": [],
      "source": [
        "# Get coordinates of public transport nodes\n",
        "gdf_ptf['x'], gdf_ptf['y'] = gdf_ptf.geometry.x, gdf_ptf.geometry.y\n",
        "\n",
        "# Generate edges\n",
        "gdf_network_edges = crossing_utils.get_connections(gdf_ptf, gdf_network_nodes, max_dist=15, max_connections=1, crs=st.CRS, include_cc_rule=True, cc_column='cc')\n",
        "print('Number of new edges from osm node to network node:', len(gdf_network_edges))"
      ]
    },
    {
      "cell_type": "code",
      "execution_count": null,
      "id": "76f4e2ce",
      "metadata": {},
      "outputs": [],
      "source": [
        "# Assign obstacle_free_width_float to connection edges\n",
        "touching_indices = [gdf_network_edges[gdf_network_edges.geometry.touches(row['geometry'])].index.to_list() for _, row in gdf_ptf.iterrows()]\n",
        "for i in range(len(touching_indices)):\n",
        "    gdf_network_edges.loc[touching_indices[i], 'obstacle_free_width_float'] = gdf_ptf.iloc[i]['obstacle_free_width_float']"
      ]
    },
    {
      "cell_type": "markdown",
      "id": "038ff181",
      "metadata": {},
      "source": [
        "## Store"
      ]
    },
    {
      "cell_type": "code",
      "execution_count": null,
      "id": "9dd86c77",
      "metadata": {},
      "outputs": [],
      "source": [
        "gdf_network_edges.to_file(cf.output_walk_public_transport_stop_connections, driver='GPKG')"
      ]
    },
    {
      "cell_type": "markdown",
      "id": "4b040a19-bee5-434e-9672-2c4b9081692b",
      "metadata": {
        "nteract": {
          "transient": {
            "deleting": false
          }
        }
      },
      "source": [
        "## Visualize connection edges"
      ]
    },
    {
      "cell_type": "code",
      "execution_count": null,
      "id": "5c507598-d05e-4a26-920c-05d6dd01f3cd",
      "metadata": {
        "gather": {
          "logged": 1705329313249
        },
        "jupyter": {
          "outputs_hidden": false,
          "source_hidden": false
        },
        "nteract": {
          "transient": {
            "deleting": false
          }
        }
      },
      "outputs": [],
      "source": [
        "# set True for satellite background, False for standard background\n",
        "satellite = False\n",
        "\n",
        "# Create Folium map\n",
        "map = folium.Map(\n",
        "    location=[52.350547922223434, 4.7940192423718443], tiles=plot_utils.generate_map_params(satellite=satellite),\n",
        "    min_zoom=10, max_zoom=25, zoom_start=17,\n",
        "    zoom_control=True, control_scale=True, control=False\n",
        "    )\n",
        "\n",
        "# Add network and new edges\n",
        "geo_j = folium.GeoJson(gdf_network, style_function=lambda x: {\"color\": \"black\", \"weight\": 2}).add_to(map)\n",
        "feature_names = gdf_network_edges.columns.tolist()\n",
        "feature_names.remove('geometry')\n",
        "geo_j = folium.GeoJson(gdf_network_edges, tooltip=plot_utils.gen_tooltip(feature_names, feature_names), style_function=lambda x: {\"color\": \"green\", \"weight\": 6}).add_to(map)\n",
        "\n",
        "# Add crossing features\n",
        "feature_names = gdf_ptf.columns.tolist()\n",
        "feature_names.remove('geometry')\n",
        "color_column = 'wheelchair_accessible'\n",
        "geo_j = folium.GeoJson(gdf_ptf, tooltip=plot_utils.gen_tooltip(feature_names, feature_names), \n",
        "                       marker=folium.Marker(icon=folium.Icon(icon='solid fa-code-merge', prefix='fa')), \n",
        "                       style_function =lambda feature: {\"markerColor\": 'green' if feature[\"properties\"][color_column] == 'Yes' else \n",
        "                       'red' if feature[\"properties\"][color_column] == 'No' else\n",
        "                       'orange'}).add_to(map)\n",
        "map"
      ]
    }
  ],
  "metadata": {
    "kernel_info": {
      "name": "crosswalk_extraction"
    },
    "kernelspec": {
      "display_name": "Python 3 (ipykernel)",
      "language": "python",
      "name": "python3"
    },
    "language_info": {
      "codemirror_mode": {
        "name": "ipython",
        "version": 3
      },
      "file_extension": ".py",
      "mimetype": "text/x-python",
      "name": "python",
      "nbconvert_exporter": "python",
      "pygments_lexer": "ipython3",
      "version": "3.8.0"
    },
    "microsoft": {
      "host": {
        "AzureML": {
          "notebookHasBeenCompleted": true
        }
      },
      "ms_spell_check": {
        "ms_spell_check_language": "en"
      }
    },
    "nteract": {
      "version": "nteract-front-end@1.0.0"
    }
  },
  "nbformat": 4,
  "nbformat_minor": 5
}
