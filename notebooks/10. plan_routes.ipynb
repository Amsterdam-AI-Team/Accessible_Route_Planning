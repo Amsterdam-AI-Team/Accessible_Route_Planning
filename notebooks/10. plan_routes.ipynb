{
  "cells": [
    {
      "cell_type": "markdown",
      "metadata": {
        "nteract": {
          "transient": {
            "deleting": false
          }
        }
      },
      "source": [
        "# 10. Plan accessible routes"
      ]
    },
    {
      "cell_type": "code",
      "execution_count": null,
      "metadata": {
        "gather": {
          "logged": 1707986795397
        }
      },
      "outputs": [],
      "source": [
        "# Standard library and path imports\n",
        "import set_path\n",
        "\n",
        "# Third-party library imports\n",
        "import numpy as np\n",
        "import pandas as pd\n",
        "import shapely.ops as so\n",
        "import shapely.geometry as sg\n",
        "import geopandas as gpd\n",
        "import matplotlib.pyplot as plt\n",
        "import matplotlib.patches as mpatches\n",
        "import contextily as cx\n",
        "import networkx as nx\n",
        "import folium\n",
        "import momepy\n",
        "\n",
        "# Local or project-specific imports\n",
        "import plot_utils\n",
        "import poly_utils\n",
        "import settings as st\n",
        "\n",
        "if st.my_run == \"azure\":\n",
        "    import config_azure as cf\n",
        "elif st.my_run == \"local\":\n",
        "    import config as cf"
      ]
    },
    {
      "cell_type": "markdown",
      "metadata": {
        "nteract": {
          "transient": {
            "deleting": false
          }
        }
      },
      "source": [
        "## User inputs\n",
        "\n",
        "- max_curb_height: the maximum curb height you wish to encounter when crossing a street.\n",
        "- min_sidewalk_width: the minimum width of sidewalks you encounter in your planned route.\n",
        "- walk_bike_preference: wether you prefer to use the sidewalk or bike lane to go from your origin to destination."
      ]
    },
    {
      "cell_type": "code",
      "execution_count": null,
      "metadata": {
        "gather": {
          "logged": 1707986795848
        },
        "jupyter": {
          "outputs_hidden": false,
          "source_hidden": false
        },
        "nteract": {
          "transient": {
            "deleting": false
          }
        }
      },
      "outputs": [],
      "source": [
        "# Profile settings\n",
        "max_curb_height = 0.04  # m\n",
        "min_sidewalk_width = 0.80  # m\n",
        "walk_bike_preference = 'walk' # choose between walk and bike"
      ]
    },
    {
      "cell_type": "code",
      "execution_count": null,
      "metadata": {
        "gather": {
          "logged": 1707987903564
        },
        "jupyter": {
          "outputs_hidden": false,
          "source_hidden": false
        },
        "nteract": {
          "transient": {
            "deleting": false
          }
        }
      },
      "outputs": [],
      "source": [
        "# Demo route\n",
        "origin_coords = [52.350742215584745, 4.794238086197541]\n",
        "dest_coords = [52.3520288145023, 4.796890562713733]"
      ]
    },
    {
      "cell_type": "markdown",
      "metadata": {
        "nteract": {
          "transient": {
            "deleting": false
          }
        }
      },
      "source": [
        "## Get network data"
      ]
    },
    {
      "cell_type": "code",
      "execution_count": null,
      "metadata": {
        "gather": {
          "logged": 1707986827896
        },
        "jupyter": {
          "outputs_hidden": false,
          "source_hidden": false
        },
        "nteract": {
          "transient": {
            "deleting": false
          }
        }
      },
      "outputs": [],
      "source": [
        "# Get network with widths, crossings and public transport stops\n",
        "df_raw = gpd.read_file(cf.output_basic_network_including_crossings)"
      ]
    },
    {
      "cell_type": "code",
      "execution_count": null,
      "metadata": {
        "gather": {
          "logged": 1707987031102
        },
        "jupyter": {
          "outputs_hidden": false,
          "source_hidden": false
        },
        "nteract": {
          "transient": {
            "deleting": false
          }
        }
      },
      "outputs": [],
      "source": [
        "# Select relevant columns\n",
        "df = df_raw[['length', 'obstacle_free_width_float', 'width_fill', 'sidewalk_id', 'crossing',\n",
        "       'walk_bike_connection', 'walk_public_transport_stop_connection',\n",
        "       'public_transport_stop', 'bikepath_id',\n",
        "       'crossing_type', 'curb_height_max', 'stop_type', 'stop_name',\n",
        "       'stop_placement_type', 'wheelchair_accessible', 'geometry']]\n",
        "df = df.rename(columns={'walk_public_transport_stop_connection': 'walk_pt_connection'})\n",
        "df.head(3)"
      ]
    },
    {
      "cell_type": "code",
      "execution_count": null,
      "metadata": {
        "gather": {
          "logged": 1707987033735
        },
        "jupyter": {
          "outputs_hidden": false,
          "source_hidden": false
        },
        "nteract": {
          "transient": {
            "deleting": false
          }
        }
      },
      "outputs": [],
      "source": [
        "# Check if missings values are as expected\n",
        "print(len(df))\n",
        "df.isna().sum()"
      ]
    },
    {
      "cell_type": "markdown",
      "metadata": {
        "nteract": {
          "transient": {
            "deleting": false
          }
        }
      },
      "source": [
        "## Set hard limits"
      ]
    },
    {
      "cell_type": "code",
      "execution_count": null,
      "metadata": {
        "gather": {
          "logged": 1707987036259
        },
        "jupyter": {
          "outputs_hidden": false,
          "source_hidden": false
        },
        "nteract": {
          "transient": {
            "deleting": false
          }
        }
      },
      "outputs": [],
      "source": [
        "df['include'] = 1"
      ]
    },
    {
      "cell_type": "markdown",
      "metadata": {
        "nteract": {
          "transient": {
            "deleting": false
          }
        }
      },
      "source": [
        "### Prepare to drop crossings based on max curb height"
      ]
    },
    {
      "cell_type": "code",
      "execution_count": null,
      "metadata": {
        "gather": {
          "logged": 1707987038126
        },
        "jupyter": {
          "outputs_hidden": false,
          "source_hidden": false
        },
        "nteract": {
          "transient": {
            "deleting": false
          }
        }
      },
      "outputs": [],
      "source": [
        "# Check if there are any curb height crossings without max height\n",
        "df[df['crossing_type'] == 'curb_height']['curb_height_max'].value_counts(dropna=False)"
      ]
    },
    {
      "cell_type": "code",
      "execution_count": null,
      "metadata": {
        "gather": {
          "logged": 1707987039628
        },
        "jupyter": {
          "outputs_hidden": false,
          "source_hidden": false
        },
        "nteract": {
          "transient": {
            "deleting": false
          }
        }
      },
      "outputs": [],
      "source": [
        "# Don't include crossings with curbs that are too high\n",
        "df.loc[df['curb_height_max'] > max_curb_height, 'include'] = 0"
      ]
    },
    {
      "cell_type": "code",
      "execution_count": null,
      "metadata": {
        "gather": {
          "logged": 1707987040746
        },
        "jupyter": {
          "outputs_hidden": false,
          "source_hidden": false
        },
        "nteract": {
          "transient": {
            "deleting": false
          }
        }
      },
      "outputs": [],
      "source": [
        "# Check if the right amount of paths are included\n",
        "print(df['curb_height_max'].value_counts(dropna=False))\n",
        "print(df['include'].value_counts(dropna=False))"
      ]
    },
    {
      "cell_type": "markdown",
      "metadata": {
        "nteract": {
          "transient": {
            "deleting": false
          }
        }
      },
      "source": [
        "### Prepare to drop paths based on minimum width"
      ]
    },
    {
      "cell_type": "code",
      "execution_count": null,
      "metadata": {
        "gather": {
          "logged": 1707987058660
        },
        "jupyter": {
          "outputs_hidden": false,
          "source_hidden": false
        },
        "nteract": {
          "transient": {
            "deleting": false
          }
        }
      },
      "outputs": [],
      "source": [
        "# Give crossings a width\n",
        "df.loc[df['crossing'] == 'Yes', 'obstacle_free_width_float'] = st.width_6\n",
        "df.loc[df['crossing'] == 'Yes', 'width_fill'] = 4\n",
        "\n",
        "# Give bike paths a width\n",
        "df.loc[~df['bikepath_id'].isnull(), 'obstacle_free_width_float'] = st.width_5\n",
        "df.loc[~df['bikepath_id'].isnull(), 'width_fill'] = 4\n",
        "\n",
        "# Give walk bike connections a width\n",
        "df.loc[df['walk_bike_connection'] == 'Yes', 'obstacle_free_width_float'] = st.width_5\n",
        "df.loc[df['walk_bike_connection'] == 'Yes', 'width_fill'] = 4\n",
        "\n",
        "# Give walk public transport stop connections a width if unknown\n",
        "df.loc[(df['walk_pt_connection'] == 'Yes') & df['obstacle_free_width_float'].isnull(), 'width_fill'] = 4\n",
        "df.loc[(df['walk_pt_connection'] == 'Yes') & df['obstacle_free_width_float'].isnull(), 'obstacle_free_width_float'] = st.width_2"
      ]
    },
    {
      "cell_type": "code",
      "execution_count": null,
      "metadata": {
        "gather": {
          "logged": 1707987059848
        },
        "jupyter": {
          "outputs_hidden": false,
          "source_hidden": false
        },
        "nteract": {
          "transient": {
            "deleting": false
          }
        }
      },
      "outputs": [],
      "source": [
        "# Check if there are any remaining paths without width\n",
        "df.loc[(df['obstacle_free_width_float'].isnull()) & (df['public_transport_stop'] == 'No')]"
      ]
    },
    {
      "cell_type": "code",
      "execution_count": null,
      "metadata": {
        "gather": {
          "logged": 1707987061182
        },
        "jupyter": {
          "outputs_hidden": false,
          "source_hidden": false
        },
        "nteract": {
          "transient": {
            "deleting": false
          }
        }
      },
      "outputs": [],
      "source": [
        "# Don't include paths that are too narrow\n",
        "df.loc[df['obstacle_free_width_float'] < min_sidewalk_width, 'include'] = 0"
      ]
    },
    {
      "cell_type": "code",
      "execution_count": null,
      "metadata": {
        "gather": {
          "logged": 1707987062147
        },
        "jupyter": {
          "outputs_hidden": false,
          "source_hidden": false
        },
        "nteract": {
          "transient": {
            "deleting": false
          }
        }
      },
      "outputs": [],
      "source": [
        "# Check if the right amount of paths are included\n",
        "print(df['obstacle_free_width_float'].value_counts())\n",
        "print(df['include'].value_counts(dropna=False))"
      ]
    },
    {
      "cell_type": "markdown",
      "metadata": {
        "nteract": {
          "transient": {
            "deleting": false
          }
        }
      },
      "source": [
        "## Create objective"
      ]
    },
    {
      "cell_type": "code",
      "execution_count": null,
      "metadata": {
        "gather": {
          "logged": 1707987063543
        },
        "jupyter": {
          "outputs_hidden": false,
          "source_hidden": false
        },
        "nteract": {
          "transient": {
            "deleting": false
          }
        }
      },
      "outputs": [],
      "source": [
        "# Define weight (combination of objectives)\n",
        "df['my_weight'] = df['length']"
      ]
    },
    {
      "cell_type": "markdown",
      "metadata": {
        "nteract": {
          "transient": {
            "deleting": false
          }
        }
      },
      "source": [
        "### Include preference to prevent crossings"
      ]
    },
    {
      "cell_type": "code",
      "execution_count": null,
      "metadata": {
        "gather": {
          "logged": 1707987064940
        },
        "jupyter": {
          "outputs_hidden": false,
          "source_hidden": false
        },
        "nteract": {
          "transient": {
            "deleting": false
          }
        }
      },
      "outputs": [],
      "source": [
        "df.loc[df['crossing'] == 'Yes', 'my_weight'] = df['length'] * st.crossing_weight_factor"
      ]
    },
    {
      "cell_type": "markdown",
      "metadata": {
        "nteract": {
          "transient": {
            "deleting": false
          }
        }
      },
      "source": [
        "### Include bike/pedestrian preference"
      ]
    },
    {
      "cell_type": "code",
      "execution_count": null,
      "metadata": {
        "gather": {
          "logged": 1707987066367
        },
        "jupyter": {
          "outputs_hidden": false,
          "source_hidden": false
        },
        "nteract": {
          "transient": {
            "deleting": false
          }
        }
      },
      "outputs": [],
      "source": [
        "if walk_bike_preference == 'walk':\n",
        "    df.loc[df['sidewalk_id'].notna(), 'my_weight'] = df['length'] * st.walk_bike_preference_weight_factor\n",
        "elif walk_bike_preference == 'bike':\n",
        "    df.loc[df['bikepath_id'].notna(), 'my_weight'] = df['length'] * st.walk_bike_preference_weight_factor"
      ]
    },
    {
      "cell_type": "code",
      "execution_count": null,
      "metadata": {
        "gather": {
          "logged": 1707987068749
        },
        "jupyter": {
          "outputs_hidden": false,
          "source_hidden": false
        },
        "nteract": {
          "transient": {
            "deleting": false
          }
        }
      },
      "outputs": [],
      "source": [
        "# Check weights\n",
        "df['my_weight'].plot()"
      ]
    },
    {
      "cell_type": "code",
      "execution_count": null,
      "metadata": {
        "gather": {
          "logged": 1707987069911
        }
      },
      "outputs": [],
      "source": [
        "# Normalize weights\n",
        "df['my_weight'] = df['my_weight'] /df['my_weight'].abs().max()"
      ]
    },
    {
      "cell_type": "markdown",
      "metadata": {
        "nteract": {
          "transient": {
            "deleting": false
          }
        }
      },
      "source": [
        "## Store final dataframe"
      ]
    },
    {
      "cell_type": "code",
      "execution_count": null,
      "metadata": {
        "gather": {
          "logged": 1707988439422
        },
        "jupyter": {
          "outputs_hidden": false,
          "source_hidden": false
        },
        "nteract": {
          "transient": {
            "deleting": false
          }
        }
      },
      "outputs": [],
      "source": [
        "df.to_file(cf.output_final_network, driver='GPKG')"
      ]
    },
    {
      "cell_type": "markdown",
      "metadata": {
        "nteract": {
          "transient": {
            "deleting": false
          }
        }
      },
      "source": [
        "## Create graphs"
      ]
    },
    {
      "cell_type": "code",
      "execution_count": null,
      "metadata": {
        "gather": {
          "logged": 1707987071947
        },
        "jupyter": {
          "outputs_hidden": false,
          "source_hidden": false
        },
        "nteract": {
          "transient": {
            "deleting": false
          }
        }
      },
      "outputs": [],
      "source": [
        "# Select accessible paths to include\n",
        "df_sel = df[df['include'] == 1]"
      ]
    },
    {
      "cell_type": "code",
      "execution_count": null,
      "metadata": {
        "gather": {
          "logged": 1707987072895
        },
        "jupyter": {
          "outputs_hidden": false,
          "source_hidden": false
        },
        "nteract": {
          "transient": {
            "deleting": false
          }
        }
      },
      "outputs": [],
      "source": [
        "df.shape"
      ]
    },
    {
      "cell_type": "code",
      "execution_count": null,
      "metadata": {
        "gather": {
          "logged": 1707987073857
        },
        "jupyter": {
          "outputs_hidden": false,
          "source_hidden": false
        },
        "nteract": {
          "transient": {
            "deleting": false
          }
        }
      },
      "outputs": [],
      "source": [
        "df_sel.shape"
      ]
    },
    {
      "cell_type": "code",
      "execution_count": null,
      "metadata": {
        "gather": {
          "logged": 1707987084767
        },
        "jupyter": {
          "outputs_hidden": false,
          "source_hidden": false
        },
        "nteract": {
          "transient": {
            "deleting": false
          }
        }
      },
      "outputs": [],
      "source": [
        "# Create graph based on max height and min width  # Warning relates to public transport stop nodes\n",
        "G_sel = momepy.gdf_to_nx(df_sel, approach=\"primal\", multigraph=True)\n",
        "\n",
        "# Create full graph\n",
        "G = momepy.gdf_to_nx(df, approach=\"primal\", multigraph=True)"
      ]
    },
    {
      "cell_type": "markdown",
      "metadata": {
        "nteract": {
          "transient": {
            "deleting": false
          }
        }
      },
      "source": [
        "### Take connectivity into account"
      ]
    },
    {
      "cell_type": "code",
      "execution_count": null,
      "metadata": {
        "gather": {
          "logged": 1707987085130
        },
        "jupyter": {
          "outputs_hidden": false,
          "source_hidden": false
        },
        "nteract": {
          "transient": {
            "deleting": false
          }
        }
      },
      "outputs": [],
      "source": [
        "# Check sizes of connected components for full graph\n",
        "[len(c) for c in sorted(nx.connected_components(G), key=len, reverse=True)][:20]"
      ]
    },
    {
      "cell_type": "code",
      "execution_count": null,
      "metadata": {
        "gather": {
          "logged": 1707987088799
        },
        "jupyter": {
          "outputs_hidden": false,
          "source_hidden": false
        },
        "nteract": {
          "transient": {
            "deleting": false
          }
        }
      },
      "outputs": [],
      "source": [
        "# Check sizes of connected components for graph based on max height and min width\n",
        "[len(c) for c in sorted(nx.connected_components(G_sel), key=len, reverse=True)][:20]"
      ]
    },
    {
      "cell_type": "code",
      "execution_count": null,
      "metadata": {
        "gather": {
          "logged": 1707987096177
        },
        "jupyter": {
          "outputs_hidden": false,
          "source_hidden": false
        },
        "nteract": {
          "transient": {
            "deleting": false
          }
        }
      },
      "outputs": [],
      "source": [
        "# Get subgraphs\n",
        "S = [G.subgraph(c).copy() for c in sorted(nx.connected_components(G), key=len, reverse=True)]\n",
        "S_sel = [G_sel.subgraph(c).copy() for c in sorted(nx.connected_components(G_sel), key=len, reverse=True)]"
      ]
    },
    {
      "cell_type": "code",
      "execution_count": null,
      "metadata": {
        "gather": {
          "logged": 1707987099972
        },
        "jupyter": {
          "outputs_hidden": false,
          "source_hidden": false
        },
        "nteract": {
          "transient": {
            "deleting": false
          }
        }
      },
      "outputs": [],
      "source": [
        "# Generated networks of areas tend to be fragmented in multiple subgraphs (i.e., the network is not fully connected.)\n",
        "# Therefore, if my_areas is set, we only keep the largest subgraphs to generate routes.\n",
        "# The network of the demo data is fully connected, so we do not need to perform selection of subgraphs.\n",
        "if st.my_areas:\n",
        "    G_con = nx.compose(S[0], S[1])\n",
        "    G_sel_con = nx.compose(S_sel[0], S_sel[1])\n",
        "    G_sel_con = nx.compose(G_sel_con, S_sel[2])\n",
        "    G_sel_con = nx.compose(G_sel_con, S_sel[3])\n",
        "    G_sel_con = nx.compose(G_sel_con, S_sel[4])\n",
        "else:\n",
        "    G_con = G\n",
        "    G_sel_con = G"
      ]
    },
    {
      "cell_type": "code",
      "execution_count": null,
      "metadata": {
        "gather": {
          "logged": 1707987106220
        },
        "jupyter": {
          "outputs_hidden": false,
          "source_hidden": false
        },
        "nteract": {
          "transient": {
            "deleting": false
          }
        }
      },
      "outputs": [],
      "source": [
        "# Create dataframes with full, connected and final network\n",
        "G_df = momepy.nx_to_gdf(G, points=False, lines=True)\n",
        "G_con_df = momepy.nx_to_gdf(G_con, points=False, lines=True)\n",
        "G_sel_con_df = momepy.nx_to_gdf(G_sel_con, points=False, lines=True)"
      ]
    },
    {
      "cell_type": "markdown",
      "metadata": {
        "nteract": {
          "transient": {
            "deleting": false
          }
        }
      },
      "source": [
        "## Visualize network"
      ]
    },
    {
      "cell_type": "code",
      "execution_count": null,
      "metadata": {
        "gather": {
          "logged": 1707987106555
        },
        "jupyter": {
          "outputs_hidden": false,
          "source_hidden": false
        },
        "nteract": {
          "transient": {
            "deleting": false
          }
        }
      },
      "outputs": [],
      "source": [
        "G_df.shape"
      ]
    },
    {
      "cell_type": "code",
      "execution_count": null,
      "metadata": {
        "gather": {
          "logged": 1707987106950
        },
        "jupyter": {
          "outputs_hidden": false,
          "source_hidden": false
        },
        "nteract": {
          "transient": {
            "deleting": false
          }
        }
      },
      "outputs": [],
      "source": [
        "G_con_df.shape"
      ]
    },
    {
      "cell_type": "code",
      "execution_count": null,
      "metadata": {
        "gather": {
          "logged": 1707987107338
        },
        "jupyter": {
          "outputs_hidden": false,
          "source_hidden": false
        },
        "nteract": {
          "transient": {
            "deleting": false
          }
        }
      },
      "outputs": [],
      "source": [
        "G_sel_con_df.shape"
      ]
    },
    {
      "cell_type": "code",
      "execution_count": null,
      "metadata": {
        "gather": {
          "logged": 1707988207707
        },
        "jupyter": {
          "outputs_hidden": false,
          "source_hidden": false
        },
        "nteract": {
          "transient": {
            "deleting": false
          }
        }
      },
      "outputs": [],
      "source": [
        "# set True for satellite background, False for standard background\n",
        "satellite = False\n",
        "\n",
        "# Create Folium map\n",
        "map = folium.Map(\n",
        "    location=[52.350547922223434, 4.794019242371844], tiles=plot_utils.generate_map_params(satellite=satellite),\n",
        "    min_zoom=10, max_zoom=25, zoom_start=17,\n",
        "    zoom_control=True, control_scale=True, control=False\n",
        "    )\n",
        "\n",
        "# Add complete network\n",
        "folium.GeoJson(data=G_df, style_function=lambda x: {\"color\": \"lightgray\"}).add_to(map)\n",
        "\n",
        "# Overlay network without hard limits (but with taking connectivity into account)\n",
        "folium.GeoJson(data=G_con_df[G_con_df['crossing'] == 'No'], style_function=lambda x: {\"color\": \"lightblue\"}).add_to(map)\n",
        "folium.GeoJson(data=G_con_df[G_con_df['crossing'] == 'Yes'], style_function=lambda x: {\"color\": \"pink\"}).add_to(map)\n",
        "folium.GeoJson(data=G_con_df[~G_con_df['bikepath_id'].isnull()], style_function=lambda x: {\"color\": \"lightgreen\"}).add_to(map)\n",
        "\n",
        "# Overlay final network (with hard limits and taking connectivity into account)\n",
        "folium.GeoJson(data=G_sel_con_df[G_sel_con_df['crossing'] == 'No'], style_function=lambda x: {\"color\": \"blue\"}).add_to(map)  \n",
        "folium.GeoJson(data=G_sel_con_df[~G_sel_con_df['bikepath_id'].isnull()], style_function=lambda x: {\"color\": \"darkgreen\"}).add_to(map)\n",
        "folium.GeoJson(data=G_sel_con_df[G_sel_con_df['crossing'] == 'Yes'], style_function=lambda x: {\"color\": \"purple\"}).add_to(map)\n",
        "\n",
        "# Add public transport stop nodes icluding information to the network\n",
        "gdf_ptf = df.loc[df['public_transport_stop'] == 'Yes']\n",
        "feature_names = gdf_ptf.columns.tolist()\n",
        "feature_names.remove('geometry')\n",
        "color_column = 'wheelchair_accessible'\n",
        "tooltip = plot_utils.gen_tooltip(feature_names, feature_names)\n",
        "folium.GeoJson(gdf_ptf, tooltip=tooltip, marker=folium.Marker(icon=folium.Icon(icon='solid fa-code-merge', prefix='fa')), style_function=lambda feature: {\"markerColor\": 'green' if\n",
        "                                                                                                                                            feature[\"properties\"][color_column] == 'Yes' else \n",
        "                                                                                                                                            'red' if feature[\"properties\"][color_column] == 'No' else\n",
        "                                                                                                                                            'orange'}).add_to(map)"
      ]
    },
    {
      "cell_type": "code",
      "execution_count": null,
      "metadata": {},
      "outputs": [],
      "source": [
        "map"
      ]
    },
    {
      "cell_type": "code",
      "execution_count": null,
      "metadata": {
        "gather": {
          "logged": 1707988235535
        },
        "jupyter": {
          "outputs_hidden": false,
          "source_hidden": false
        },
        "nteract": {
          "transient": {
            "deleting": false
          }
        }
      },
      "outputs": [],
      "source": [
        "# Store map\n",
        "map.save(cf.network_map_final)"
      ]
    },
    {
      "cell_type": "markdown",
      "metadata": {
        "nteract": {
          "transient": {
            "deleting": false
          }
        }
      },
      "source": [
        "## Add directionality\n",
        "Note: this cannot be done earlier, as the conected components part cannot deal with directionality"
      ]
    },
    {
      "cell_type": "code",
      "execution_count": null,
      "metadata": {
        "gather": {
          "logged": 1707987214445
        },
        "jupyter": {
          "outputs_hidden": false,
          "source_hidden": false
        },
        "nteract": {
          "transient": {
            "deleting": false
          }
        }
      },
      "outputs": [],
      "source": [
        "len(G_sel_con.edges)"
      ]
    },
    {
      "cell_type": "code",
      "execution_count": null,
      "metadata": {
        "gather": {
          "logged": 1707987224939
        },
        "jupyter": {
          "outputs_hidden": false,
          "source_hidden": false
        },
        "nteract": {
          "transient": {
            "deleting": false
          }
        }
      },
      "outputs": [],
      "source": [
        "# Make bi-directionality of sidewalks (and not of bike paths) explicit\n",
        "G_con_df['oneway'] = np.where(G_con_df['bikepath_id'].isna(), False, True)\n",
        "G_sel_con_df['oneway'] = np.where(G_sel_con_df['bikepath_id'].isna(), False, True)\n",
        "\n",
        "# Create graphs that take directionality into account\n",
        "G_con_dir = momepy.gdf_to_nx(G_con_df, approach=\"primal\", multigraph=True, directed=True, oneway_column=\"oneway\")\n",
        "G_sel_con_dir = momepy.gdf_to_nx(G_sel_con_df, approach=\"primal\", multigraph=True, directed=True, oneway_column=\"oneway\")\n",
        "len(G_sel_con_dir.edges)"
      ]
    },
    {
      "cell_type": "markdown",
      "metadata": {
        "nteract": {
          "transient": {
            "deleting": false
          }
        }
      },
      "source": [
        "## Get route"
      ]
    },
    {
      "cell_type": "code",
      "execution_count": null,
      "metadata": {
        "gather": {
          "logged": 1707987911549
        },
        "jupyter": {
          "outputs_hidden": false,
          "source_hidden": false
        },
        "nteract": {
          "transient": {
            "deleting": false
          }
        }
      },
      "outputs": [],
      "source": [
        "# Define origin and destination\n",
        "df_coords = pd.DataFrame({\"coordinates\": [\"origin\", \"destination\"],\n",
        "       \"latitude\": [origin_coords[0], dest_coords[0]],\n",
        "       \"longitude\": [origin_coords[1], dest_coords[1]]})\n",
        "\n",
        "# Create geodataframe\n",
        "gdf_coords = gpd.GeoDataFrame(\n",
        "    df_coords, geometry=gpd.points_from_xy(df_coords.longitude, df_coords.latitude), crs=st.CRS_map\n",
        ")\n",
        "gdf_coords = gdf_coords.to_crs(st.CRS)\n",
        "gdf_coords = gdf_coords[['coordinates', 'geometry']]\n",
        "\n",
        "# Get origin and destination location\n",
        "origin_point = gdf_coords.loc[gdf_coords['coordinates'] == 'origin', 'geometry'].values[0]\n",
        "dest_point = gdf_coords.loc[gdf_coords['coordinates'] == 'destination', 'geometry'].values[0]"
      ]
    },
    {
      "cell_type": "code",
      "execution_count": null,
      "metadata": {
        "gather": {
          "logged": 1707987913165
        },
        "jupyter": {
          "outputs_hidden": false,
          "source_hidden": false
        },
        "nteract": {
          "transient": {
            "deleting": false
          }
        }
      },
      "outputs": [],
      "source": [
        "# Get origin and destination node location - in full network\n",
        "origin_node_loc = so.nearest_points(origin_point, sg.MultiPoint(list(G_con_dir.nodes)))[1]\n",
        "dest_node_loc = so.nearest_points(dest_point, sg.MultiPoint(list(G_con_dir.nodes)))[1]\n",
        "\n",
        "# Get origin and destination node - in full network\n",
        "origin_node = (origin_node_loc.x, origin_node_loc.y)\n",
        "dest_node = (dest_node_loc.x, dest_node_loc.y)\n",
        "print(origin_node)\n",
        "print(dest_node)"
      ]
    },
    {
      "cell_type": "code",
      "execution_count": null,
      "metadata": {
        "gather": {
          "logged": 1707987914187
        },
        "jupyter": {
          "outputs_hidden": false,
          "source_hidden": false
        },
        "nteract": {
          "transient": {
            "deleting": false
          }
        }
      },
      "outputs": [],
      "source": [
        "# Get origin and destination node location - in accessible network\n",
        "origin_node_sel_loc = so.nearest_points(origin_point, sg.MultiPoint(list(G_sel_con_dir.nodes)))[1]\n",
        "dest_node_sel_loc = so.nearest_points(dest_point, sg.MultiPoint(list(G_sel_con_dir.nodes)))[1]\n",
        "\n",
        "# Get origin and destination node - in accessible network\n",
        "origin_node_sel = (origin_node_sel_loc.x, origin_node_sel_loc.y)\n",
        "dest_node_sel = (dest_node_sel_loc.x, dest_node_sel_loc.y)\n",
        "print(origin_node_sel)\n",
        "print(dest_node_sel)"
      ]
    },
    {
      "cell_type": "code",
      "execution_count": null,
      "metadata": {
        "gather": {
          "logged": 1707987914539
        },
        "jupyter": {
          "outputs_hidden": false,
          "source_hidden": false
        },
        "nteract": {
          "transient": {
            "deleting": false
          }
        }
      },
      "outputs": [],
      "source": [
        "heuristic = 'dijkstra'\n",
        "\n",
        "if heuristic =='dijkstra':\n",
        "    # Get shortest path between origin and destination, based on length (in full network)\n",
        "    my_path_length = nx.shortest_path(G_con_dir, origin_node, dest_node, weight='length')\n",
        "    # Get 'shortest' path between origin and destination, based on custom weight (in accessible network)\n",
        "    my_path_weight = nx.shortest_path(G_sel_con_dir, origin_node_sel, dest_node_sel, weight='my_weight')\n",
        "elif heuristic == 'a_star':\n",
        "    # Get shortest path between origin and destination, based on length (in full network)\n",
        "    my_path_length = nx.astar_path(G_con_dir, origin_node, dest_node, heuristic=poly_utils.dist, weight='length')\n",
        "    # Get 'shortest' path between origin and destination, based on custom weight (in accessible network)\n",
        "    my_path_weight = nx.astar_path(G_sel_con_dir, origin_node_sel, dest_node_sel, heuristic=poly_utils.dist, weight='my_weight')"
      ]
    },
    {
      "cell_type": "code",
      "execution_count": null,
      "metadata": {
        "gather": {
          "logged": 1707987916184
        },
        "jupyter": {
          "outputs_hidden": false,
          "source_hidden": false
        },
        "nteract": {
          "transient": {
            "deleting": false
          }
        }
      },
      "outputs": [],
      "source": [
        "# Put shortest path (based on length) in a dataframe\n",
        "G_path_length = nx.subgraph(G_con_dir, my_path_length)\n",
        "df_path_length = momepy.nx_to_gdf(G_path_length, lines=True, points=False)"
      ]
    },
    {
      "cell_type": "code",
      "execution_count": null,
      "metadata": {
        "gather": {
          "logged": 1707987916799
        },
        "jupyter": {
          "outputs_hidden": false,
          "source_hidden": false
        },
        "nteract": {
          "transient": {
            "deleting": false
          }
        }
      },
      "outputs": [],
      "source": [
        "# Put 'shortest' path (based on accessibility weight) in a dataframe\n",
        "G_path_weight = nx.subgraph(G_sel_con_dir, my_path_weight)\n",
        "df_path_weight = momepy.nx_to_gdf(G_path_weight, lines=True, points=False)"
      ]
    },
    {
      "cell_type": "code",
      "execution_count": null,
      "metadata": {
        "gather": {
          "logged": 1707987917318
        },
        "jupyter": {
          "outputs_hidden": false,
          "source_hidden": false
        },
        "nteract": {
          "transient": {
            "deleting": false
          }
        }
      },
      "outputs": [],
      "source": [
        "# Check lengths of routes (m)\n",
        "print(df_path_length['mm_len'].sum().round())\n",
        "print(df_path_weight['mm_len'].sum().round())"
      ]
    },
    {
      "cell_type": "markdown",
      "metadata": {
        "nteract": {
          "transient": {
            "deleting": false
          }
        }
      },
      "source": [
        "## Visualize route"
      ]
    },
    {
      "cell_type": "code",
      "execution_count": null,
      "metadata": {
        "gather": {
          "logged": 1707987919151
        },
        "jupyter": {
          "outputs_hidden": false,
          "source_hidden": false
        },
        "nteract": {
          "transient": {
            "deleting": false
          }
        }
      },
      "outputs": [],
      "source": [
        "# Subset network for plotting\n",
        "my_rad = 70\n",
        "gdf_coords['buffer'] = gdf_coords['geometry'].buffer(my_rad, cap_style=3)\n",
        "plot_area = gpd.GeoDataFrame(geometry=[gdf_coords['buffer'][0].union(gdf_coords['buffer'][1])], crs=st.CRS)\n",
        "df_sub = gpd.sjoin(df, plot_area, how='inner').reset_index()"
      ]
    },
    {
      "cell_type": "code",
      "execution_count": null,
      "metadata": {
        "gather": {
          "logged": 1707987921478
        },
        "jupyter": {
          "outputs_hidden": false,
          "source_hidden": false
        },
        "nteract": {
          "transient": {
            "deleting": false
          }
        }
      },
      "outputs": [],
      "source": [
        "fig, ax = plt.subplots(figsize=(10,10))\n",
        "\n",
        "# Network\n",
        "df_sub.plot(ax=ax, color='lightgrey', linewidth=1)\n",
        "\n",
        "# 'Shortest' paths\n",
        "df_path_weight.plot(ax=ax, color='black', linewidth=3)\n",
        "df_path_weight[~df_path_weight['bikepath_id'].isnull()].plot(ax=ax, color='darkgreen', linewidth=3)\n",
        "df_path_length.plot(ax=ax, color='grey', linewidth=2)\n",
        "\n",
        "# Origin and destination location\n",
        "gdf_coords.head(1).plot(ax=ax, color='blue', markersize=50)\n",
        "gdf_coords.tail(1).plot(ax=ax, color='red', markersize=50)\n",
        "\n",
        "# Origin and destination nodes\n",
        "gpd.GeoSeries([origin_node_sel_loc], crs=st.CRS).plot(ax=ax, color='blue', markersize=20)\n",
        "gpd.GeoSeries([dest_node_sel_loc], crs=st.CRS).plot(ax=ax, color='red', markersize=20)\n",
        "\n",
        "# Background\n",
        "cx.add_basemap(ax=ax, source=cx.providers.CartoDB.Voyager, crs=st.CRS)\n",
        "\n",
        "# Legend\n",
        "route_acc = mpatches.Patch(color='black', label='accessible route (pedestrian)')\n",
        "route_acc_b = mpatches.Patch(color='darkgreen', label='accessible route (bike)')\n",
        "route = mpatches.Patch(color='grey', label='shortest route')\n",
        "origin = mpatches.Patch(color='blue', label= 'origin')\n",
        "dest = mpatches.Patch(color='red', label= 'destination')\n",
        "plt.legend(handles=[route_acc,route_acc_b,route,origin,dest], loc='lower center')\n",
        "\n",
        "plt.axis('off')\n",
        "\n",
        "plt.savefig(cf.out_folder + 'accessible_route.png', bbox_inches='tight')\n",
        "plt.show()"
      ]
    },
    {
      "cell_type": "markdown",
      "metadata": {
        "nteract": {
          "transient": {
            "deleting": false
          }
        }
      },
      "source": [
        "## Store route"
      ]
    },
    {
      "cell_type": "code",
      "execution_count": null,
      "metadata": {
        "gather": {
          "logged": 1706713379293
        },
        "jupyter": {
          "outputs_hidden": false,
          "source_hidden": false
        },
        "nteract": {
          "transient": {
            "deleting": false
          }
        }
      },
      "outputs": [],
      "source": [
        "df_path_weight['length'] = df_path_weight['length'].round(2)\n",
        "df_path_weight_store = df_path_weight.to_crs(st.CRS_map)\n",
        "df_path_weight_store = df_path_weight_store[['geometry', 'length']]\n",
        "df_path_points_store = df_path_weight_store['geometry'].get_coordinates()\n",
        "df_path_points_store = df_path_points_store.reset_index(names='linestring_id')\n",
        "df_path_points_store"
      ]
    },
    {
      "cell_type": "code",
      "execution_count": null,
      "metadata": {
        "gather": {
          "logged": 1706713380554
        },
        "jupyter": {
          "outputs_hidden": false,
          "source_hidden": false
        },
        "nteract": {
          "transient": {
            "deleting": false
          }
        }
      },
      "outputs": [],
      "source": [
        "gdf_coords_store = gdf_coords.to_crs(st.CRS_map)\n",
        "gdf_coords_store = gdf_coords_store[['coordinates', 'geometry']]\n",
        "gdf_coords_points_store = gdf_coords_store.set_index('coordinates')['geometry'].get_coordinates()\n",
        "gdf_coords_points_store = gdf_coords_points_store.reset_index()\n",
        "gdf_coords_points_store"
      ]
    },
    {
      "cell_type": "code",
      "execution_count": null,
      "metadata": {
        "gather": {
          "logged": 1706099667404
        },
        "jupyter": {
          "outputs_hidden": false,
          "source_hidden": false
        },
        "nteract": {
          "transient": {
            "deleting": false
          }
        }
      },
      "outputs": [],
      "source": [
        "# Store the data\n",
        "df_path_points_store.to_csv(cf.out_folder + 'accessible_route.csv', sep=';')\n",
        "gdf_coords_points_store.to_csv(cf.out_folder + 'accessible_route_start_end.csv', sep=';')"
      ]
    }
  ],
  "metadata": {
    "kernel_info": {
      "name": "venv_rp"
    },
    "kernelspec": {
      "display_name": "plan_routes",
      "language": "python",
      "name": "python3"
    },
    "language_info": {
      "codemirror_mode": {
        "name": "ipython",
        "version": 3
      },
      "file_extension": ".py",
      "mimetype": "text/x-python",
      "name": "python",
      "nbconvert_exporter": "python",
      "pygments_lexer": "ipython3",
      "version": "3.8.0"
    },
    "microsoft": {
      "host": {
        "AzureML": {
          "notebookHasBeenCompleted": true
        }
      },
      "ms_spell_check": {
        "ms_spell_check_language": "en"
      }
    },
    "nteract": {
      "version": "nteract-front-end@1.0.0"
    }
  },
  "nbformat": 4,
  "nbformat_minor": 2
}
