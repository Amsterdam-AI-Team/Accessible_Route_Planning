{
  "cells": [
    {
      "cell_type": "markdown",
      "metadata": {
        "nteract": {
          "transient": {
            "deleting": false
          }
        }
      },
      "source": [
        "# 10. Merge the walk network, bike network, generated crossings and public transport stops"
      ]
    },
    {
      "cell_type": "code",
      "execution_count": null,
      "metadata": {
        "gather": {
          "logged": 1707985933626
        }
      },
      "outputs": [],
      "source": [
        "# Standard library and path imports\n",
        "import os\n",
        "import set_path\n",
        "\n",
        "# Third-party library imports\n",
        "import geopandas as gpd\n",
        "import pandas as pd\n",
        "from tqdm.notebook import tqdm\n",
        "tqdm.pandas()\n",
        "import folium\n",
        "\n",
        "# Local or project-specific imports\n",
        "import plot_utils\n",
        "import settings as st\n",
        "\n",
        "if st.my_run == \"azure\":\n",
        "    import config_azure as cf\n",
        "elif st.my_run == \"local\":\n",
        "    import config as cf"
      ]
    },
    {
      "cell_type": "markdown",
      "metadata": {},
      "source": [
        "## Import networks, crossings and public transport stops"
      ]
    },
    {
      "cell_type": "code",
      "execution_count": null,
      "metadata": {
        "gather": {
          "logged": 1707985949828
        },
        "jupyter": {
          "outputs_hidden": false,
          "source_hidden": false
        },
        "nteract": {
          "transient": {
            "deleting": false
          }
        }
      },
      "outputs": [],
      "source": [
        "# Import network and crossings\n",
        "gdf_network = gpd.read_file(cf.output_file_widths).to_crs(crs=st.CRS)\n",
        "gdf_osm_crossings = gpd.read_file(cf.output_osm_crossings).to_crs(crs=st.CRS)\n",
        "gdf_project_sidewalk_crossings = gpd.read_file(cf.output_project_sidewalk_crossings).to_crs(crs=st.CRS)\n",
        "gdf_traffic_sign_crossings = gpd.read_file(cf.output_traffic_sign_crossings).to_crs(crs=st.CRS)\n",
        "gdf_bike_network = gpd.read_file(cf.output_bike_network_cut).to_crs(crs=st.CRS)\n",
        "gdf_walk_bike_connections = gpd.read_file(cf.output_walk_bike_connections_base + '_max_height_0.04.gpkg').to_crs(crs=st.CRS)\n",
        "gdf_walk_public_transport_stop_connections = gpd.read_file(cf.output_walk_public_transport_stop_connections).to_crs(crs=st.CRS)\n",
        "gdf_public_transport_stop_features = gpd.read_file(cf.output_public_transport_features).to_crs(crs=st.CRS)\n",
        "\n",
        "curb_crossing_filles = [file for file in os.listdir(cf.out_folder) if file.startswith('curb_crossings')]\n",
        "gdf_curb_crossings = pd.concat([gpd.read_file(cf.out_folder + file).to_crs(crs=st.CRS) for file in curb_crossing_filles])"
      ]
    },
    {
      "cell_type": "markdown",
      "metadata": {},
      "source": [
        "## Set column values"
      ]
    },
    {
      "cell_type": "code",
      "execution_count": null,
      "metadata": {
        "gather": {
          "logged": 1707985980328
        },
        "jupyter": {
          "outputs_hidden": false,
          "source_hidden": false
        },
        "nteract": {
          "transient": {
            "deleting": false
          }
        }
      },
      "outputs": [],
      "source": [
        "# Set crossing and connection columns columns\n",
        "gdf_osm_crossings['crossing_type'] = 'osm'\n",
        "gdf_project_sidewalk_crossings['crossing_type'] = 'project_sidewalk'\n",
        "gdf_traffic_sign_crossings['crossing_type'] = 'traffic_sign'\n",
        "gdf_curb_crossings['crossing_type'] = 'curb_height'\n",
        "\n",
        "gdf_crossings = pd.concat([gdf_osm_crossings, gdf_project_sidewalk_crossings, \n",
        "                     gdf_traffic_sign_crossings, gdf_curb_crossings])"
      ]
    },
    {
      "cell_type": "code",
      "execution_count": null,
      "metadata": {
        "gather": {
          "logged": 1707986438519
        }
      },
      "outputs": [],
      "source": [
        "# Set edge type columns and length\n",
        "column = 'crossing'\n",
        "gdf_network[column] = 'No'\n",
        "gdf_crossings[column] = 'Yes'\n",
        "gdf_walk_bike_connections[column] = 'No'\n",
        "gdf_public_transport_stop_features[column] = 'No'\n",
        "gdf_walk_public_transport_stop_connections[column] = 'No'\n",
        "\n",
        "column = 'walk_bike_connection'\n",
        "gdf_network[column] = 'No'\n",
        "gdf_bike_network[column] = 'No'\n",
        "gdf_crossings[column] = 'No'\n",
        "gdf_walk_bike_connections[column] = 'Yes'\n",
        "gdf_public_transport_stop_features[column] = 'No'\n",
        "gdf_walk_public_transport_stop_connections[column] = 'No'\n",
        "\n",
        "column = 'walk_public_transport_stop_connection'\n",
        "gdf_network[column] = 'No'\n",
        "gdf_bike_network[column] = 'No'\n",
        "gdf_crossings[column] = 'No'\n",
        "gdf_walk_bike_connections[column] = 'No'\n",
        "gdf_public_transport_stop_features[column] = 'No'\n",
        "gdf_walk_public_transport_stop_connections[column] = 'Yes'\n",
        "\n",
        "column = 'public_transport_stop'\n",
        "gdf_network[column] = 'No'\n",
        "gdf_bike_network[column] = 'No'\n",
        "gdf_crossings[column] = 'No'\n",
        "gdf_walk_bike_connections[column] = 'No'\n",
        "gdf_public_transport_stop_features[column] = 'Yes'\n",
        "gdf_walk_public_transport_stop_connections[column] = 'No'\n",
        "\n",
        "column = 'path_type'\n",
        "gdf_network[column] = 'walk'\n",
        "gdf_bike_network[column] = 'bike'\n",
        "gdf_crossings[column] = 'walk'\n",
        "gdf_walk_bike_connections[column] = 'walk_bike_connection'\n",
        "gdf_walk_public_transport_stop_connections[column] = 'walk'\n",
        "\n",
        "gdf_crossings['length'] = gdf_crossings.geometry.length\n",
        "gdf_walk_bike_connections['length'] = gdf_walk_bike_connections.geometry.length\n",
        "gdf_walk_public_transport_stop_connections['length'] = gdf_walk_public_transport_stop_connections.geometry.length"
      ]
    },
    {
      "cell_type": "markdown",
      "metadata": {},
      "source": [
        "## Store"
      ]
    },
    {
      "cell_type": "code",
      "execution_count": null,
      "metadata": {
        "gather": {
          "logged": 1707986508594
        },
        "jupyter": {
          "outputs_hidden": false,
          "source_hidden": false
        },
        "nteract": {
          "transient": {
            "deleting": false
          }
        }
      },
      "outputs": [],
      "source": [
        "# Merge walking network and crossings\n",
        "dfs = [gdf_network, gdf_bike_network, gdf_crossings, \n",
        "       gdf_walk_bike_connections, gdf_walk_public_transport_stop_connections, \n",
        "       gdf_public_transport_stop_features]\n",
        "non_empty_dfs = [df for df in dfs if not df.empty]\n",
        "gdf_walk_bike_network_including_crossings = pd.concat([gdf_network, gdf_bike_network, gdf_crossings, \n",
        "                                                       gdf_walk_bike_connections, gdf_walk_public_transport_stop_connections, \n",
        "                                                       gdf_public_transport_stop_features])\n",
        "\n",
        "# Export network including crossings\n",
        "gdf_walk_bike_network_including_crossings.to_file(cf.output_basic_network_including_crossings, driver='GPKG')"
      ]
    },
    {
      "cell_type": "markdown",
      "metadata": {},
      "source": [
        "## Visualize final network"
      ]
    },
    {
      "cell_type": "code",
      "execution_count": null,
      "metadata": {},
      "outputs": [],
      "source": [
        "# set True for satellite background, False for standard background\n",
        "satellite = False\n",
        "\n",
        "# Create Folium map\n",
        "map = folium.Map(\n",
        "    location=[52.350547922223434, 4.7940192423718443], tiles=plot_utils.generate_map_params(satellite=satellite),\n",
        "    min_zoom=10, max_zoom=25, zoom_start=17,\n",
        "    zoom_control=True, control_scale=True, control=False\n",
        "    )\n",
        "\n",
        "feature_names = gdf_walk_bike_network_including_crossings.columns.tolist()\n",
        "feature_names.remove('geometry')\n",
        "tooltip = plot_utils.gen_tooltip(feature_names, feature_names)\n",
        "geo_j = folium.GeoJson(gdf_walk_bike_network_including_crossings, tooltip=tooltip, style_function=lambda x: {\"color\": \"black\", \"weight\": 3}).add_to(map)\n",
        "\n",
        "map"
      ]
    }
  ],
  "metadata": {
    "kernel_info": {
      "name": "python3"
    },
    "kernelspec": {
      "display_name": "Python 3 (ipykernel)",
      "language": "python",
      "name": "python3"
    },
    "language_info": {
      "codemirror_mode": {
        "name": "ipython",
        "version": 3
      },
      "file_extension": ".py",
      "mimetype": "text/x-python",
      "name": "python",
      "nbconvert_exporter": "python",
      "pygments_lexer": "ipython3",
      "version": "3.8.0"
    },
    "microsoft": {
      "host": {
        "AzureML": {
          "notebookHasBeenCompleted": true
        }
      },
      "ms_spell_check": {
        "ms_spell_check_language": "en"
      }
    },
    "nteract": {
      "version": "nteract-front-end@1.0.0"
    }
  },
  "nbformat": 4,
  "nbformat_minor": 2
}
