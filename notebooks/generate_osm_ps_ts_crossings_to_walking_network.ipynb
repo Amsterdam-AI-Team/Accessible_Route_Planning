{
  "cells": [
    {
      "cell_type": "markdown",
      "source": [
        "# Get osm, project sidewalk and traffic sign crossings"
      ],
      "metadata": {},
      "id": "5f034096"
    },
    {
      "cell_type": "code",
      "source": [
        "# Select where to run notebook: \"azure\" or \"local\"\n",
        "my_run = \"azure\""
      ],
      "outputs": [],
      "execution_count": null,
      "metadata": {
        "gather": {
          "logged": 1705329134330
        },
        "jupyter": {
          "outputs_hidden": false,
          "source_hidden": false
        },
        "nteract": {
          "transient": {
            "deleting": false
          }
        }
      },
      "id": "99175144-9be5-4aaa-93ff-cbaafda2181d"
    },
    {
      "cell_type": "code",
      "source": [
        "import set_path\n",
        "\n",
        "import numpy as np\n",
        "import pandas as pd\n",
        "\n",
        "import shapely.geometry as sg\n",
        "import geopandas as gpd\n",
        "from geopandas import GeoDataFrame\n",
        "from shapely import wkt\n",
        "import momepy\n",
        "import networkx as nx\n",
        "from scipy.spatial.distance import cdist\n",
        "from branca.element import Template, MacroElement\n",
        "from tqdm import tqdm\n",
        "\n",
        "import folium\n",
        "\n",
        "import settings as st\n",
        "if my_run == \"azure\":\n",
        "    import config_azure as cf\n",
        "elif my_run == \"local\":\n",
        "    import config as cf"
      ],
      "outputs": [],
      "execution_count": null,
      "metadata": {
        "gather": {
          "logged": 1705329136720
        }
      },
      "id": "071158b6"
    },
    {
      "cell_type": "code",
      "source": [
        "os.system('sudo blobfuse /home/azureuser/cloudfiles/code/blobfuse/sidewalk --tmp-path=/mnt/resource/blobfusetmp --config-file=/home/azureuser/cloudfiles/code/blobfuse/fuse_connection_sidewalk.cfg -o attr_timeout=3600 -o entry_timeout=3600 -o negative_timeout=3600 -o allow_other -o nonempty')"
      ],
      "outputs": [],
      "execution_count": null,
      "metadata": {
        "gather": {
          "logged": 1705329137590
        },
        "jupyter": {
          "outputs_hidden": false,
          "source_hidden": false
        },
        "nteract": {
          "transient": {
            "deleting": false
          }
        }
      },
      "id": "7483f8f4-1714-49c4-a509-6a4784e49dfa"
    },
    {
      "cell_type": "markdown",
      "source": [
        "### Import walking network "
      ],
      "metadata": {},
      "id": "50c6b9b1"
    },
    {
      "cell_type": "code",
      "source": [
        "# Get basic pedestrian network with widths\n",
        "CRS = 'EPSG:28992'\n",
        "\n",
        "gdf_network = gpd.read_file(cf.output_file_widths).to_crs(crs=CRS)\n",
        "gdf_network_nodes = gpd.GeoDataFrame(geometry = gdf_network.boundary.explode(index_parts=True), crs=CRS)\n",
        "gdf_network_nodes['x'], gdf_network_nodes['y'] = gdf_network_nodes.geometry.x, gdf_network_nodes.geometry.y\n",
        "gdf_network_nodes.reset_index()\n",
        "graph_network = momepy.gdf_to_nx(gdf_network, approach='primal')"
      ],
      "outputs": [],
      "execution_count": null,
      "metadata": {
        "gather": {
          "logged": 1705329147313
        }
      },
      "id": "b4a3ab12-418d-4c39-8d47-51946b25f288"
    },
    {
      "cell_type": "code",
      "source": [
        "# Calculate connected components for pedestrian network\n",
        "cc_network = list(nx.connected_components(graph_network))\n",
        "nodes_in_edge = [line.coords[0] for line in gdf_network['geometry'].to_list()]\n",
        "cc_ids = [i for node in nodes_in_edge for i in range(len(cc_network)) if node in cc_network[i]]\n",
        "gdf_network_nodes['cc'] = [x for y in zip(cc_ids, cc_ids) for x in y]"
      ],
      "outputs": [],
      "execution_count": null,
      "metadata": {
        "jupyter": {
          "source_hidden": false,
          "outputs_hidden": false
        },
        "nteract": {
          "transient": {
            "deleting": false
          }
        },
        "gather": {
          "logged": 1705329149468
        }
      },
      "id": "87aeac20-1362-4cd6-b859-94a7a4dc5648"
    },
    {
      "cell_type": "markdown",
      "source": [
        "# 1. Create crossings with OSM crossing features"
      ],
      "metadata": {},
      "id": "b119fa36-97db-4304-98f3-9f2419d955c9"
    },
    {
      "cell_type": "markdown",
      "source": [
        "### Import osm crossing features"
      ],
      "metadata": {},
      "id": "0305933d-ee94-4680-b9a6-9b3e17ea125d"
    },
    {
      "cell_type": "code",
      "source": [
        "# # Import osm crossing features\n",
        "osm_crossing_features = cf.in_folder + 'route_planning/crossing_features/OpenStreetMap/crossing_features_osm.csv'\n",
        "df_osm_cf = pd.read_csv(osm_crossing_features)\n",
        "df_osm_cf['geometry'] = df_osm_cf['geometry'].apply(wkt.loads)\n",
        "gdf_osm_cf = gpd.GeoDataFrame(df_osm_cf, crs='EPSG:4326').to_crs(crs=CRS).reset_index()"
      ],
      "outputs": [],
      "execution_count": null,
      "metadata": {
        "gather": {
          "logged": 1705329215499
        },
        "jupyter": {
          "outputs_hidden": false,
          "source_hidden": false
        },
        "nteract": {
          "transient": {
            "deleting": false
          }
        }
      },
      "id": "0d67ccd2-f06b-408a-bb19-535fba848a6c"
    },
    {
      "cell_type": "markdown",
      "source": [
        "### Select crossing features and nodes to keep\n"
      ],
      "metadata": {
        "nteract": {
          "transient": {
            "deleting": false
          }
        }
      },
      "id": "8096e21a-ff68-4c06-aac5-3cf1c854e26d"
    },
    {
      "cell_type": "code",
      "source": [
        "# Create network and crossing feature dataframes\n",
        "gdf_osm_cf_sel = gdf_osm_cf.loc[gdf_osm_cf['highway'] != 'cycleway']\n",
        "gdf_osm_nodes = gdf_osm_cf_sel[gdf_osm_cf_sel['element_type'] == 'node']\n",
        "gdf_osm_edges = gdf_osm_cf_sel[gdf_osm_cf_sel['element_type'] == 'way']\n",
        "\n",
        "# Remove crossing nodes that already are on a crossing edge\n",
        "for i, row in gdf_osm_nodes.iterrows():\n",
        "    gdf_osm_nodes.loc[i, 'min_dis'] = gdf_osm_edges.distance(row['geometry']).min()\n",
        "gdf_osm_nodes = gdf_osm_nodes.loc[gdf_osm_nodes['min_dis'] > 0.01]"
      ],
      "outputs": [],
      "execution_count": null,
      "metadata": {
        "gather": {
          "logged": 1705329218597
        },
        "jupyter": {
          "outputs_hidden": false,
          "source_hidden": false
        },
        "nteract": {
          "transient": {
            "deleting": false
          }
        }
      },
      "id": "32ea3892-d7d9-4bb9-adfb-631e6ddf7331"
    },
    {
      "cell_type": "markdown",
      "source": [
        "### Initiate function to match connect nodes in the network"
      ],
      "metadata": {},
      "id": "a32fbb87-84b8-4442-8ebb-39e98e82ac28"
    },
    {
      "cell_type": "code",
      "source": [
        "# Function to find closest target nodes from source nodes and subsequently create edge between tese nodes.\n",
        "# Edge is a connection between a source and a target node.\n",
        "# max_dist: maximmum distance between source and target node is max_dist.\n",
        "# max_connections: maximum number of new edges from source node.\n",
        "# include_cc_rule: Restricts nodes to be connected to the same walking network component multiple times\n",
        "def get_crossing_edges(gdf_source_nodes, gdf_target_nodes, max_dist=20, max_connections=3, CRS='EPSG:28992', include_cc_rule=False):\n",
        "\n",
        "    # Get distance matrices\n",
        "    dist_matrix = cdist(gdf_source_nodes[['x', 'y']].values, gdf_target_nodes[['x', 'y']].values, metric='euclidean')\n",
        "    np.fill_diagonal(dist_matrix, 10**6)\n",
        "    dist_sort = np.sort(dist_matrix, axis=1)\n",
        "    dist_argsort = np.argsort(dist_matrix, axis=1)\n",
        "\n",
        "    # Calculate new edges\n",
        "    idxs = np.where(dist_sort < max_dist, True, False)\n",
        "    nodes_to_connect = [list(row[row_idxs]) for row, row_idxs in zip(dist_argsort, idxs)]\n",
        "\n",
        "    if include_cc_rule:\n",
        "        edges_geometries = []\n",
        "        for source_node in tqdm(range(len(dist_sort))):\n",
        "            restricted_cc, connections_count = [], 0\n",
        "\n",
        "            for target_node in nodes_to_connect[source_node]:\n",
        "                target_cc = gdf_target_nodes.iloc[target_node]['cc']\n",
        "                if target_cc not in restricted_cc and connections_count < max_connections:\n",
        "                    edge = sg.LineString([gdf_source_nodes.iloc[source_node]['geometry'], gdf_target_nodes.iloc[target_node]['geometry']])\n",
        "                    edges_geometries.append(edge)\n",
        "                    restricted_cc.append(target_cc)\n",
        "                    connections_count += 1\n",
        "\n",
        "    else:\n",
        "        edges = [[i, nodes_to_connect[i][j]] for i in range(len(dist_sort)) for j in range(len(nodes_to_connect[i])) if j < max_connections]\n",
        "        edges_geometries = [sg.LineString([gdf_source_nodes.iloc[edge[0]]['geometry'], gdf_target_nodes.iloc[edge[1]]['geometry']]) for edge in edges]\n",
        "    \n",
        "    gdf_edges = gpd.GeoDataFrame(geometry=edges_geometries, crs=CRS)\n",
        "    return gdf_edges"
      ],
      "outputs": [],
      "execution_count": null,
      "metadata": {
        "gather": {
          "logged": 1705329221329
        }
      },
      "id": "c59c7dd9-ad72-45cf-9134-fbe0c8a7a7b0"
    },
    {
      "cell_type": "markdown",
      "source": [
        "### Add osm crosswalk edges to the network"
      ],
      "metadata": {
        "nteract": {
          "transient": {
            "deleting": false
          }
        }
      },
      "id": "7711a26f-4913-4748-abe3-4fbdb4c0ee5d"
    },
    {
      "cell_type": "code",
      "source": [
        "# # Current heuristic: find closest node in the network and connect outer points of crosswalk edge to that point\n",
        "\n",
        "# Get outer nodes of crossing edges and connect to network\n",
        "gdf_osm_edge_nodes = gpd.GeoDataFrame(geometry=gdf_osm_edges['geometry'].boundary.explode(index_parts=True), crs=CRS).reset_index()\n",
        "gdf_osm_edge_nodes['x'], gdf_osm_edge_nodes['y'] = gdf_osm_edge_nodes.geometry.x, gdf_osm_edge_nodes.geometry.y\n",
        "gdf_new_edges_from_osm_edges = get_crossing_edges(gdf_osm_edge_nodes, gdf_network_nodes, max_dist=10, max_connections=2, include_cc_rule=True)\n",
        "print('Number of new edges from crosswalk edge to network node:', len(gdf_new_edges_from_osm_edges))"
      ],
      "outputs": [],
      "execution_count": null,
      "metadata": {
        "gather": {
          "logged": 1705329226938
        },
        "jupyter": {
          "outputs_hidden": false,
          "source_hidden": false
        },
        "nteract": {
          "transient": {
            "deleting": false
          }
        }
      },
      "id": "410c68a5-d781-4185-b61b-ca21cf041e81"
    },
    {
      "cell_type": "markdown",
      "source": [
        "### Add osm crosswalk nodes to the network"
      ],
      "metadata": {
        "nteract": {
          "transient": {
            "deleting": false
          }
        }
      },
      "id": "d3171ef4-cc72-4189-9e98-1d9c9f19c523"
    },
    {
      "cell_type": "code",
      "source": [
        "# TODO\n",
        "# Include number of intersections with road as selection criteria to keep or delete new edges\n",
        "# Include length of subnetwork that is connected to crossing feature node by new edge as selection criteria to keep or delete new edges\n",
        "\n",
        "# Get coordinates of crossing feature nodes\n",
        "gdf_osm_nodes['x'], gdf_osm_nodes['y'] = gdf_osm_nodes.geometry.x, gdf_osm_nodes.geometry.y\n",
        "\n",
        "# Connect osm crosswalk nodes to eachother\n",
        "gdf_self_edges = get_crossing_edges(gdf_osm_nodes, gdf_osm_nodes, max_dist=10, max_connections=2, include_cc_rule=False)\n",
        "print('Number of new edges from crossing node to crossing node:', len(gdf_self_edges))\n",
        "\n",
        "# Connect osm crosswalk nodes to network\n",
        "gdf_network_edges = get_crossing_edges(gdf_osm_nodes, gdf_network_nodes, max_dist=10, max_connections=3, include_cc_rule=True)\n",
        "print('Number of new edges from osm node to network node:', len(gdf_network_edges))"
      ],
      "outputs": [],
      "execution_count": null,
      "metadata": {
        "gather": {
          "logged": 1705329248324
        },
        "jupyter": {
          "outputs_hidden": false,
          "source_hidden": false
        },
        "nteract": {
          "transient": {
            "deleting": false
          }
        }
      },
      "id": "c0fa3061-4d1b-407a-a544-e259e3b81d07"
    },
    {
      "cell_type": "markdown",
      "source": [
        "### create map and visualize crossings on map"
      ],
      "metadata": {
        "nteract": {
          "transient": {
            "deleting": false
          }
        }
      },
      "id": "4b040a19-bee5-434e-9672-2c4b9081692b"
    },
    {
      "cell_type": "code",
      "source": [
        "# Initialize legend\n",
        "template = \"\"\"\n",
        "{% macro html(this, kwargs) %}\n",
        "\n",
        "<!doctype html>\n",
        "<html lang=\"en\">\n",
        "<head>\n",
        "  <meta charset=\"utf-8\">\n",
        "  <meta name=\"viewport\" content=\"width=device-width, initial-scale=1\">\n",
        "  <title>jQuery UI Draggable - Default functionality</title>\n",
        "  <link rel=\"stylesheet\" href=\"//code.jquery.com/ui/1.12.1/themes/base/jquery-ui.css\">\n",
        "\n",
        "  <script src=\"https://code.jquery.com/jquery-1.12.4.js\"></script>\n",
        "  <script src=\"https://code.jquery.com/ui/1.12.1/jquery-ui.js\"></script>\n",
        "  \n",
        "  <script>\n",
        "  $( function() {\n",
        "    $( \"#maplegend\" ).draggable({\n",
        "                    start: function (event, ui) {\n",
        "                        $(this).css({\n",
        "                            right: \"auto\",\n",
        "                            top: \"auto\",\n",
        "                            bottom: \"auto\"\n",
        "                        });\n",
        "                    }\n",
        "                });\n",
        "});\n",
        "\n",
        "  </script>\n",
        "</head>\n",
        "<body>\n",
        "\n",
        " \n",
        "<div id='maplegend' class='maplegend' \n",
        "    style='position: absolute; z-index:9999; border:2px solid grey; background-color:rgba(255, 255, 255, 0.8);\n",
        "     border-radius:6px; padding: 10px; font-size:14px; right: 20px; bottom: 20px;'>\n",
        "     \n",
        "<div class='legend-title'>Legend</div>\n",
        "<div class='legend-scale'>\n",
        "  <ul class='legend-labels'>\n",
        "    <li><span style='background:black;opacity:0.7;'></span>Network Edge </li>\n",
        "    <li><span style='background:orange;opacity:0.7;'></span>Crossing Edge</li>\n",
        "    <li><span style='background:red;opacity:0.7;'></span>Crossing Edge <-> Network Node</li>\n",
        "    <li><span style='background:yellow;opacity:0.7;'></span>Crossing Node <-> Network Node</li>\n",
        "    <li><span style='background:limegreen;opacity:0.7;'></span>Crossing Node <-> Crossing Node</li>\n",
        "  </ul>\n",
        "</div>\n",
        "</div>\n",
        " \n",
        "</body>\n",
        "</html>\n",
        "\n",
        "<style type='text/css'>\n",
        "  .maplegend .legend-title {\n",
        "    text-align: left;\n",
        "    margin-bottom: 5px;\n",
        "    font-weight: bold;\n",
        "    font-size: 90%;\n",
        "    }\n",
        "  .maplegend .legend-scale ul {\n",
        "    margin: 0;\n",
        "    margin-bottom: 5px;\n",
        "    padding: 0;\n",
        "    float: left;\n",
        "    list-style: none;\n",
        "    }\n",
        "  .maplegend .legend-scale ul li {\n",
        "    font-size: 80%;\n",
        "    list-style: none;\n",
        "    margin-left: 0;\n",
        "    line-height: 18px;\n",
        "    margin-bottom: 2px;\n",
        "    }\n",
        "  .maplegend ul.legend-labels li span {\n",
        "    display: block;\n",
        "    float: left;\n",
        "    height: 16px;\n",
        "    width: 30px;\n",
        "    margin-right: 5px;\n",
        "    margin-left: 0;\n",
        "    border: 1px solid #999;\n",
        "    }\n",
        "  .maplegend .legend-source {\n",
        "    font-size: 80%;\n",
        "    color: #777;\n",
        "    clear: both;\n",
        "    }\n",
        "  .maplegend a {\n",
        "    color: #777;\n",
        "    }\n",
        "</style>\n",
        "{% endmacro %}\"\"\"\n",
        "\n",
        "macro = MacroElement()\n",
        "macro._template = Template(template)"
      ],
      "outputs": [],
      "execution_count": null,
      "metadata": {
        "jupyter": {
          "source_hidden": false,
          "outputs_hidden": false
        },
        "nteract": {
          "transient": {
            "deleting": false
          }
        },
        "gather": {
          "logged": 1705329252598
        }
      },
      "id": "b18a8bf9-cf5a-4ce4-806e-8164dff17d7f"
    },
    {
      "cell_type": "code",
      "source": [
        "# Create tooltip for feature representation on map\n",
        "def gen_tooltip(fields, aliases):\n",
        "\n",
        "    tooltip = folium.GeoJsonTooltip(\n",
        "        fields=fields,\n",
        "        aliases=aliases,\n",
        "        localize=True,\n",
        "        sticky=False,\n",
        "        labels=True,\n",
        "        style=\"\"\"\n",
        "            background-color: #F0EFEF;\n",
        "            border: 2px solid black;\n",
        "            border-radius: 3px;\n",
        "            box-shadow: 3px;\n",
        "        \"\"\",\n",
        "        max_width=800,\n",
        "    )\n",
        "    return tooltip"
      ],
      "outputs": [],
      "execution_count": null,
      "metadata": {
        "jupyter": {
          "source_hidden": false,
          "outputs_hidden": false
        },
        "nteract": {
          "transient": {
            "deleting": false
          }
        },
        "gather": {
          "logged": 1705329255864
        }
      },
      "id": "78086753-488b-4c8e-a6a1-754f93373b2f"
    },
    {
      "cell_type": "code",
      "source": [
        "# set True for satelite background, False for regular background\n",
        "satelite = False\n",
        "\n",
        "# Set folium map background\n",
        "if satelite == True:\n",
        "    network_color = 'white'\n",
        "    tile = folium.TileLayer(\n",
        "                tiles = 'https://server.arcgisonline.com/ArcGIS/rest/services/World_Imagery/MapServer/tile/{z}/{y}/{x}',\n",
        "                attr = 'Esri',\n",
        "                name = 'Esri Satellite',\n",
        "                overlay = False,\n",
        "                control = True)\n",
        "else:\n",
        "    tile = 'openstreetmap'\n",
        "    network_color = 'black'\n",
        "\n",
        "# Create Folium map\n",
        "map = folium.Map(\n",
        "    location=[52.389164, 4.908453], tiles=tile,\n",
        "    min_zoom=10, max_zoom=25, zoom_start=15,\n",
        "    zoom_control=True, control_scale=True, control=False\n",
        "    )\n",
        "\n",
        "# Add network and new edges\n",
        "geo_j = folium.GeoJson(gdf_network, style_function=lambda x: {\"color\": \"black\", \"weight\": 2}).add_to(map)\n",
        "geo_j = folium.GeoJson(gdf_osm_edges, style_function=lambda x: {\"color\": \"orange\", \"weight\": 4}).add_to(map)\n",
        "geo_j = folium.GeoJson(gdf_new_edges_from_osm_edges, style_function=lambda x: {\"color\": \"red\", \"weight\": 6}).add_to(map)\n",
        "geo_j = folium.GeoJson(gdf_network_edges, style_function=lambda x: {\"color\": \"yellow\", \"weight\": 6}).add_to(map)\n",
        "geo_j = folium.GeoJson(gdf_self_edges, style_function=lambda x: {\"color\": \"lightgreen\", \"weight\": 6}).add_to(map)\n",
        "\n",
        "# Add crossing edges and nodes\n",
        "feature_names = gdf_osm_cf_sel.columns.tolist()\n",
        "feature_names.remove('geometry')\n",
        "tooltip = gen_tooltip(feature_names, feature_names)\n",
        "geo_j = folium.GeoJson(gdf_osm_cf_sel, style_function=lambda x: {\"color\": \"orange\", \"weight\": 4}, tooltip=tooltip).add_to(map)\n",
        "\n",
        "# Save map\n",
        "map.get_root().add_child(macro)\n",
        "map.save(cf.out_folder + 'extracted_crossings/osm_crossing_edges.html')"
      ],
      "outputs": [],
      "execution_count": null,
      "metadata": {
        "gather": {
          "logged": 1705329313249
        },
        "jupyter": {
          "outputs_hidden": false,
          "source_hidden": false
        },
        "nteract": {
          "transient": {
            "deleting": false
          }
        }
      },
      "id": "5c507598-d05e-4a26-920c-05d6dd01f3cd"
    },
    {
      "cell_type": "markdown",
      "source": [
        "### Save new edges"
      ],
      "metadata": {
        "nteract": {
          "transient": {
            "deleting": false
          }
        }
      },
      "id": "38e2325a-b4b1-4a98-ad35-2cbddd2f991d"
    },
    {
      "cell_type": "code",
      "source": [
        "gdf_edges = pd.concat([gdf_osm_edges, gdf_new_edges_from_osm_edges, gdf_self_edges, gdf_network_edges], ignore_index=True, sort=False)\n",
        "gdf_edges.to_file(cf.output_osm_crossings, driver='GPKG')"
      ],
      "outputs": [],
      "execution_count": null,
      "metadata": {
        "jupyter": {
          "source_hidden": false,
          "outputs_hidden": false
        },
        "nteract": {
          "transient": {
            "deleting": false
          }
        },
        "gather": {
          "logged": 1705329601254
        }
      },
      "id": "ad69e0bc-db97-4815-b0d8-bace2a6e795c"
    },
    {
      "cell_type": "markdown",
      "source": [
        "## 2. Create crossings with Project Sidewalk crossing features"
      ],
      "metadata": {},
      "id": "e8c496dd-65a8-49a2-90c3-33bc24196b0f"
    },
    {
      "cell_type": "markdown",
      "source": [
        "### Import Project sidewalk crossing features"
      ],
      "metadata": {},
      "id": "3cbc3c1b-0c98-47ce-a1a1-6b9a26c0598e"
    },
    {
      "cell_type": "code",
      "source": [
        "# Import project sidewalk crossing features\n",
        "pj_crossing_features = cf.in_folder + 'route_planning/crossing_features/project_sidewalk/crossing_features_project_sidewalk.csv'\n",
        "df_ps_cf = pd.read_csv(pj_crossing_features)\n",
        "df_ps_cf['geometry'] = df_ps_cf['geometry'].apply(wkt.loads)\n",
        "gdf_ps_cf = gpd.GeoDataFrame(df_ps_cf, crs=CRS).reset_index()"
      ],
      "outputs": [],
      "execution_count": null,
      "metadata": {
        "gather": {
          "logged": 1705329710922
        }
      },
      "id": "9b95745b-6ed2-489c-b74d-2ebacb79f6ff"
    },
    {
      "cell_type": "markdown",
      "source": [
        "### Select crossing features and nodes to keep"
      ],
      "metadata": {},
      "id": "8240ba4b-7331-4a82-8cdd-08f3f3c4176a"
    },
    {
      "cell_type": "code",
      "source": [
        "# Create network and crossing feature dataframes\n",
        "gdf_ps_nodes = gdf_ps_cf.loc[gdf_ps_cf['label_type'] == 'Crosswalk']\n",
        "\n",
        "# TODO Check if ['CurbRamp' 'Obstacle' 'Signal' 'NoCurbRamp' 'SurfaceProblem'] nodes are useful to find crossings as well"
      ],
      "outputs": [],
      "execution_count": null,
      "metadata": {
        "gather": {
          "logged": 1705329714966
        }
      },
      "id": "a73e7ada-5f6e-4a17-b7a9-91667fbc0981"
    },
    {
      "cell_type": "markdown",
      "source": [
        "### Add project sidewalk nodes to network"
      ],
      "metadata": {},
      "id": "6cdc1616-6821-46ad-8fb8-f546c8dee81b"
    },
    {
      "cell_type": "code",
      "source": [
        "# TODO\n",
        "# Include number of intersections with road as selection criteria to keep or delete new edges\n",
        "# Include length of subnetwork that is connected to crossing feature node by new edge as selection criteria to keep or delete new edges\n",
        "\n",
        "# Get coordinates of crossing feature and network nodes\n",
        "gdf_ps_nodes['x'], gdf_ps_nodes['y'] = gdf_ps_nodes.geometry.x, gdf_ps_nodes.geometry.y\n",
        "\n",
        "# Connect osm crosswalk nodes to eachother\n",
        "gdf_self_edges = get_crossing_edges(gdf_ps_nodes, gdf_ps_nodes, max_dist=20, max_connections=2, include_cc_rule=False)\n",
        "print('Number of new edges from crosswalk node to crosswalk node:', len(gdf_self_edges))\n",
        "\n",
        "# Connect osm crosswalk nodes to network\n",
        "gdf_network_edges = get_crossing_edges(gdf_ps_nodes, gdf_network_nodes, max_dist=10, max_connections=3, include_cc_rule=True)\n",
        "print('Number of new edges from crosswalk node to network node:', len(gdf_network_edges))"
      ],
      "outputs": [],
      "execution_count": null,
      "metadata": {
        "gather": {
          "logged": 1705329718476
        }
      },
      "id": "629d5ef3-7585-4082-9f7e-b9e8e84f7c3d"
    },
    {
      "cell_type": "markdown",
      "source": [
        "### Create map and add crossings"
      ],
      "metadata": {},
      "id": "137dd18c-6d3b-4c1a-b31e-7ae1ec3d8d90"
    },
    {
      "cell_type": "code",
      "source": [
        "# set True for satelite background, False for regular background\n",
        "satelite = False\n",
        "\n",
        "# Set folium map background\n",
        "if satelite == True:\n",
        "    network_color = 'white'\n",
        "    tile = folium.TileLayer(\n",
        "                tiles = 'https://server.arcgisonline.com/ArcGIS/rest/services/World_Imagery/MapServer/tile/{z}/{y}/{x}',\n",
        "                attr = 'Esri',\n",
        "                name = 'Esri Satellite',\n",
        "                overlay = False,\n",
        "                control = True)\n",
        "else:\n",
        "    tile = 'openstreetmap'\n",
        "    network_color = 'black'\n",
        "\n",
        "# Create Folium map\n",
        "map = folium.Map(\n",
        "    location=[52.389164, 4.908453], tiles=tile,\n",
        "    min_zoom=10, max_zoom=25, zoom_start=15,\n",
        "    zoom_control=True, control_scale=True, control=False\n",
        "    )\n",
        "\n",
        "# Add network edges and crossing nodes\n",
        "geo_j = folium.GeoJson(gdf_network, style_function=lambda x: {\"color\": \"black\", \"weight\": 2}).add_to(map)\n",
        "geo_j = folium.GeoJson(gdf_network_edges, style_function=lambda x: {\"color\": \"yellow\", \"weight\": 6}).add_to(map)\n",
        "geo_j = folium.GeoJson(gdf_self_edges, style_function=lambda x: {\"color\": \"lightgreen\", \"weight\": 6}).add_to(map)\n",
        "\n",
        "# Add crossing edges and nodes\n",
        "feature_names = gdf_ps_nodes.columns.tolist()\n",
        "feature_names.remove('geometry')\n",
        "tooltip = gen_tooltip(feature_names, feature_names)\n",
        "geo_j = folium.GeoJson(gdf_ps_nodes, style_function=lambda x: {\"color\": \"orange\", \"weight\": 4}, tooltip=tooltip).add_to(map)\n",
        "\n",
        "# Save map\n",
        "map.get_root().add_child(macro)\n",
        "map.save(cf.out_folder + 'extracted_crossings/project_sidwalk_crossing_edges.html')"
      ],
      "outputs": [],
      "execution_count": null,
      "metadata": {
        "gather": {
          "logged": 1705329739408
        }
      },
      "id": "c79fd691-8206-403f-bb46-00456ebe8d97"
    },
    {
      "cell_type": "markdown",
      "source": [
        "### Save new edges"
      ],
      "metadata": {
        "nteract": {
          "transient": {
            "deleting": false
          }
        }
      },
      "id": "e505e570-d936-4e2a-8cb3-9759bd575582"
    },
    {
      "cell_type": "code",
      "source": [
        "gdf_edges = pd.concat([gdf_self_edges, gdf_network_edges], ignore_index=True, sort=False)\n",
        "gdf_edges.to_file(cf.output_project_sidewalk_crossings, driver='GPKG')"
      ],
      "outputs": [],
      "execution_count": null,
      "metadata": {
        "jupyter": {
          "source_hidden": false,
          "outputs_hidden": false
        },
        "nteract": {
          "transient": {
            "deleting": false
          }
        },
        "gather": {
          "logged": 1705329745915
        }
      },
      "id": "63241f0c-bab3-4de8-b3a6-c722d47d3269"
    },
    {
      "cell_type": "markdown",
      "source": [
        "## 3. Add crossings with traffic sign features "
      ],
      "metadata": {},
      "id": "5208187f-b1da-4ba8-a819-b2547d8f59fe"
    },
    {
      "cell_type": "markdown",
      "source": [
        "### Import traffic sign features"
      ],
      "metadata": {},
      "id": "626064b8-269c-417e-9b80-5e322e710d9e"
    },
    {
      "cell_type": "code",
      "source": [
        "# Import project traffic sign features\n",
        "tf_features = cf.in_folder + 'route_planning/crossing_features/traffic_sign/crossing_features_traffic_sign.csv'\n",
        "df_ts_f = pd.read_csv(tf_features)\n",
        "df_ts_f['geometry'] = df_ts_f['geometry'].apply(wkt.loads)\n",
        "gdf_ts_nodes = gpd.GeoDataFrame(df_ts_f, crs='EPSG:4326').to_crs(crs=CRS).reset_index()"
      ],
      "outputs": [],
      "execution_count": null,
      "metadata": {
        "gather": {
          "logged": 1705329943735
        }
      },
      "id": "8a3feeb5-48ab-4a6d-b87f-266ac7eb0d10"
    },
    {
      "cell_type": "markdown",
      "source": [
        "### Add traffic sign nodes to network"
      ],
      "metadata": {},
      "id": "6618ba14-0ef8-47ce-9d39-32a66e1c21e4"
    },
    {
      "cell_type": "code",
      "source": [
        "# TODO\n",
        "# Include number of intersections with road as selection criteria to keep or delete new edges\n",
        "# Include length of subnetwork that is connected to crossing feature node by new edge as selection criteria to keep or delete new edges\n",
        "\n",
        "# Get coordinates of crossing feature and network nodes\n",
        "gdf_ts_nodes['x'], gdf_ts_nodes['y'] = gdf_ts_nodes.geometry.x, gdf_ts_nodes.geometry.y\n",
        "\n",
        "# Connect osm crosswalk nodes to eachother\n",
        "gdf_self_edges = get_crossing_edges(gdf_ts_nodes, gdf_ts_nodes, max_dist=20, max_connections=2, include_cc_rule=False)\n",
        "print('Number of new edges from traffic sign node to traffic sign node:', len(gdf_self_edges))\n",
        "\n",
        "# Connect osm crosswalk nodes to network\n",
        "gdf_network_edges = get_crossing_edges(gdf_ts_nodes, gdf_network_nodes, max_dist=12, max_connections=3, include_cc_rule=True)\n",
        "print('Number of new edges from traffic sign node to network node:', len(gdf_network_edges))"
      ],
      "outputs": [],
      "execution_count": null,
      "metadata": {
        "gather": {
          "logged": 1705329947787
        }
      },
      "id": "40c991e8-e63e-49e2-8f4f-ee055cb6e44b"
    },
    {
      "cell_type": "markdown",
      "source": [
        "### Create map and add crossings"
      ],
      "metadata": {},
      "id": "d265f7df-745f-4acc-bc89-4321e53b963d"
    },
    {
      "cell_type": "code",
      "source": [
        "# set True for satelite background, False for regular background\n",
        "satelite = False\n",
        "\n",
        "# Set folium map background\n",
        "if satelite == True:\n",
        "    network_color = 'white'\n",
        "    tile = folium.TileLayer(\n",
        "                tiles = 'https://server.arcgisonline.com/ArcGIS/rest/services/World_Imagery/MapServer/tile/{z}/{y}/{x}',\n",
        "                attr = 'Esri',\n",
        "                name = 'Esri Satellite',\n",
        "                overlay = False,\n",
        "                control = True)\n",
        "else:\n",
        "    tile = 'openstreetmap'\n",
        "    network_color = 'black'\n",
        "\n",
        "# Create Folium map\n",
        "map = folium.Map(\n",
        "    location=[52.389164, 4.908453], tiles=tile,\n",
        "    min_zoom=10, max_zoom=25, zoom_start=15,\n",
        "    zoom_control=True, control_scale=True, control=False\n",
        "    )\n",
        "\n",
        "# Add network edges and crossing nodes\n",
        "geo_j = folium.GeoJson(gdf_network, style_function=lambda x: {\"color\": \"black\", \"weight\": 2}).add_to(map)\n",
        "geo_j = folium.GeoJson(gdf_network_edges, style_function=lambda x: {\"color\": \"yellow\", \"weight\": 6}).add_to(map)\n",
        "geo_j = folium.GeoJson(gdf_self_edges, style_function=lambda x: {\"color\": \"lightgreen\", \"weight\": 6}).add_to(map)\n",
        "\n",
        "# Add crossing edges and nodes\n",
        "feature_names = gdf_ts_nodes.columns.tolist()\n",
        "feature_names.remove('geometry')\n",
        "tooltip = gen_tooltip(feature_names, feature_names)\n",
        "geo_j = folium.GeoJson(gdf_ts_nodes, style_function=lambda x: {\"color\": \"orange\", \"weight\": 4}, tooltip=tooltip).add_to(map)\n",
        "\n",
        "# Save map\n",
        "map.get_root().add_child(macro)\n",
        "map.save(cf.out_folder + 'extracted_crossings/traffic_sign_crossing_edges.html')"
      ],
      "outputs": [],
      "execution_count": null,
      "metadata": {
        "gather": {
          "logged": 1705329964625
        }
      },
      "id": "168ae6ea-b481-4042-93c0-ec0c6e5b8a8a"
    },
    {
      "cell_type": "markdown",
      "source": [
        "### Save new edges"
      ],
      "metadata": {
        "nteract": {
          "transient": {
            "deleting": false
          }
        }
      },
      "id": "ab6d8b77-eeb4-4fe0-868f-4b1fbfd0121e"
    },
    {
      "cell_type": "code",
      "source": [
        "gdf_edges = pd.concat([gdf_self_edges, gdf_network_edges], ignore_index=True, sort=False)\n",
        "gdf_edges.to_file(cf.output_traffic_sign_crossings, driver='GPKG')"
      ],
      "outputs": [],
      "execution_count": null,
      "metadata": {
        "jupyter": {
          "source_hidden": false,
          "outputs_hidden": false
        },
        "nteract": {
          "transient": {
            "deleting": false
          }
        },
        "gather": {
          "logged": 1705329969250
        }
      },
      "id": "a38dfcbc-55f5-49c5-8c64-3fbb95e28406"
    }
  ],
  "metadata": {
    "kernel_info": {
      "name": "crosswalk_extraction"
    },
    "kernelspec": {
      "name": "crosswalk_extraction",
      "language": "python",
      "display_name": "crosswalk_extraction"
    },
    "language_info": {
      "name": "python",
      "version": "3.8.0",
      "mimetype": "text/x-python",
      "codemirror_mode": {
        "name": "ipython",
        "version": 3
      },
      "pygments_lexer": "ipython3",
      "nbconvert_exporter": "python",
      "file_extension": ".py"
    },
    "microsoft": {
      "host": {
        "AzureML": {
          "notebookHasBeenCompleted": true
        }
      },
      "ms_spell_check": {
        "ms_spell_check_language": "en"
      }
    },
    "nteract": {
      "version": "nteract-front-end@1.0.0"
    }
  },
  "nbformat": 4,
  "nbformat_minor": 5
}