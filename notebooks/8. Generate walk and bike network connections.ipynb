{
  "cells": [
    {
      "cell_type": "markdown",
      "metadata": {
        "nteract": {
          "transient": {
            "deleting": false
          }
        }
      },
      "source": [
        "# 8. Merge the walking network and bike network"
      ]
    },
    {
      "cell_type": "code",
      "execution_count": null,
      "metadata": {
        "gather": {
          "logged": 1705069470025
        }
      },
      "outputs": [],
      "source": [
        "# Standard library and path imports\n",
        "import set_path\n",
        "import warnings\n",
        "\n",
        "# Third-party library imports\n",
        "import geopandas as gpd\n",
        "import pandas as pd\n",
        "import numpy as np\n",
        "import shapely.geometry as sg\n",
        "import networkx as nx\n",
        "import folium\n",
        "import momepy\n",
        "from shapely import wkt\n",
        "from tqdm.notebook import tqdm\n",
        "\n",
        "# Local or project-specific imports\n",
        "import plot_utils\n",
        "import crossing_utils\n",
        "import curb_utils\n",
        "import settings as st\n",
        "\n",
        "if st.my_run == \"azure\":\n",
        "    import config_azure as cf\n",
        "elif st.my_run == \"local\":\n",
        "    import config as cf\n",
        "\n",
        "from shapely.errors import ShapelyDeprecationWarning\n",
        "warnings.filterwarnings(\"ignore\", category=ShapelyDeprecationWarning)"
      ]
    },
    {
      "cell_type": "markdown",
      "metadata": {
        "nteract": {
          "transient": {
            "deleting": false
          }
        }
      },
      "source": [
        "## Import walking network, bike network and curb heights"
      ]
    },
    {
      "cell_type": "code",
      "execution_count": null,
      "metadata": {
        "gather": {
          "logged": 1705069480315
        },
        "jupyter": {
          "outputs_hidden": false,
          "source_hidden": false
        },
        "nteract": {
          "transient": {
            "deleting": false
          }
        }
      },
      "outputs": [],
      "source": [
        "# Import walking, road and bike network\n",
        "gdf_walking_network = gpd.read_file(cf.output_file_widths).to_crs(crs=st.CRS)\n",
        "gdf_walking_nodes = gpd.GeoDataFrame(geometry = gdf_walking_network.boundary.explode(index_parts=True), crs=st.CRS)\n",
        "gdf_walking_nodes['x'], gdf_walking_nodes['y'] = gdf_walking_nodes.geometry.x, gdf_walking_nodes.geometry.y\n",
        "gdf_road_network = gpd.read_file(cf.output_road_network).to_crs(crs=st.CRS)\n",
        "gdf_bike_network = gpd.read_file(cf.output_bike_network).to_crs(crs=st.CRS)\n",
        "gdf_bike_path_polygons = gpd.read_file(cf.output_bikepaths_bike_network).to_crs(crs=st.CRS)\n",
        "\n",
        "# Import curb heights\n",
        "gdf_ch = gpd.read_file(cf.output_curb_heigts)"
      ]
    },
    {
      "cell_type": "code",
      "execution_count": null,
      "metadata": {},
      "outputs": [],
      "source": [
        "# Cut bike network in pieces of length distance_delta and obtain corresponding node coordinates\n",
        "distance_delta = 10\n",
        "df_bike_network_cut = pd.DataFrame(columns=gdf_bike_network.columns)\n",
        "geoms = []\n",
        "for i, row in gdf_bike_network.iterrows():\n",
        "    points_on_line = curb_utils.get_points_on_line(row['geometry'], distance_delta)\n",
        "    result = curb_utils.split_line_by_point(row['geometry'], points_on_line)\n",
        "    for line_segm in result:\n",
        "        df_bike_network_cut.loc[len(df_bike_network_cut)] = row\n",
        "        geoms.append(line_segm)\n",
        "\n",
        "gdf_bike_network_cut = gpd.GeoDataFrame(df_bike_network_cut, geometry=geoms, crs=st.CRS)\n",
        "gdf_bike_network_cut['length'] = gdf_bike_network_cut['geometry'].length\n",
        "gdf_bike_network_cut =  gdf_bike_network_cut.drop(columns=['index'])\n",
        "gdf_bike_nodes = gpd.GeoDataFrame(geometry = gdf_bike_network_cut.boundary.explode(index_parts=True), crs=st.CRS)\n",
        "gdf_bike_nodes['x'], gdf_bike_nodes['y'] = gdf_bike_nodes.geometry.x, gdf_bike_nodes.geometry.y"
      ]
    },
    {
      "cell_type": "code",
      "execution_count": null,
      "metadata": {
        "gather": {
          "logged": 1705069484315
        },
        "jupyter": {
          "outputs_hidden": false,
          "source_hidden": false
        },
        "nteract": {
          "transient": {
            "deleting": false
          }
        }
      },
      "outputs": [],
      "source": [
        "# Calculate connected components for pedestrian network\n",
        "graph_network = momepy.gdf_to_nx(gdf_walking_network, approach='primal')\n",
        "cc_network = list(nx.connected_components(graph_network))\n",
        "nodes_in_edge = [line.coords[0] for line in gdf_walking_network['geometry'].to_list()]\n",
        "cc_ids = [i for node in nodes_in_edge for i in range(len(cc_network)) if node in cc_network[i]]\n",
        "gdf_walking_nodes['cc'] = [x for y in zip(cc_ids, cc_ids) for x in y]"
      ]
    },
    {
      "cell_type": "markdown",
      "metadata": {
        "nteract": {
          "transient": {
            "deleting": false
          }
        }
      },
      "source": [
        "## Generate edges to connect walk and bike network"
      ]
    },
    {
      "cell_type": "markdown",
      "metadata": {},
      "source": [
        "### Set max switch height (curb height) to switch between the networks\n",
        "In practice, settings a maximum curb height up to approximately 0.04m equals a smooth transition between the networks. This is due to noise in the point cloud. \\\n",
        "This parameter increments linearly, so setting max_height at 0.06m would roughly equal a max curb height of 0.02m etc. "
      ]
    },
    {
      "cell_type": "code",
      "execution_count": null,
      "metadata": {
        "gather": {
          "logged": 1705069484456
        },
        "jupyter": {
          "outputs_hidden": false,
          "source_hidden": false
        },
        "nteract": {
          "transient": {
            "deleting": false
          }
        }
      },
      "outputs": [],
      "source": [
        "# SET THIS VALUE\n",
        "max_network_switch_height = 0.04 # in meter\n",
        "\n",
        "gdf_ch.dropna(subset=['curb_height'])\n",
        "gdf_ch = gdf_ch.loc[(gdf_ch['curb_height'] <= max_network_switch_height)]\n",
        "gdf_ch['centroid'] = gdf_ch['geometry'].centroid\n",
        "gdf_ch.reset_index(drop=True, inplace=True)"
      ]
    },
    {
      "cell_type": "markdown",
      "metadata": {
        "nteract": {
          "transient": {
            "deleting": false
          }
        }
      },
      "source": [
        "### Only keep curbs which connect bike path and sidewalk"
      ]
    },
    {
      "cell_type": "code",
      "execution_count": null,
      "metadata": {
        "gather": {
          "logged": 1705069488774
        },
        "jupyter": {
          "outputs_hidden": false,
          "source_hidden": false
        },
        "nteract": {
          "transient": {
            "deleting": false
          }
        }
      },
      "outputs": [],
      "source": [
        "idxs = [i for i, row in gdf_ch.iterrows() if len(gdf_bike_path_polygons.intersects(row['geometry']).unique())  > 1]\n",
        "switch_curbs = gdf_ch.loc[idxs]"
      ]
    },
    {
      "cell_type": "markdown",
      "metadata": {
        "nteract": {
          "transient": {
            "deleting": false
          }
        }
      },
      "source": [
        "### Obtain helper edges from curb to walking network and from curb to cycle network"
      ]
    },
    {
      "cell_type": "code",
      "execution_count": null,
      "metadata": {
        "gather": {
          "logged": 1705069841613
        },
        "jupyter": {
          "outputs_hidden": false,
          "source_hidden": false
        },
        "nteract": {
          "transient": {
            "deleting": false
          }
        }
      },
      "outputs": [],
      "source": [
        "# Get connections\n",
        "gdf_ch['geometry'] = gdf_ch['centroid']\n",
        "gdf_ch['x'], gdf_ch['y'] = gdf_ch.geometry.x, gdf_ch.geometry.y\n",
        "\n",
        "walking_edges, walking_edges_geometries = crossing_utils.get_connections(gdf_ch, gdf_walking_nodes, max_dist=5, max_connections=1, \n",
        "                                                                         include_cc_rule=True, cc_column='cc', return_gdf=False)\n",
        "cycling_edges, cycling_edges_geometries = crossing_utils.get_connections(gdf_ch, gdf_bike_nodes, max_dist=5, max_connections=3, return_gdf=False)"
      ]
    },
    {
      "cell_type": "markdown",
      "metadata": {},
      "source": [
        "### Obtain connections edges from walking network to cycling network without curb node"
      ]
    },
    {
      "cell_type": "code",
      "execution_count": null,
      "metadata": {
        "gather": {
          "logged": 1705069857184
        },
        "jupyter": {
          "outputs_hidden": false,
          "source_hidden": false
        },
        "nteract": {
          "transient": {
            "deleting": false
          }
        }
      },
      "outputs": [],
      "source": [
        "connection_edges, walk_nodes, cycle_nodes = [], [], []\n",
        "for i in tqdm(range(len(walking_edges))):\n",
        "    walking_edge = walking_edges[i]\n",
        "    for cycling_edge in cycling_edges:\n",
        "        if walking_edge[0] == cycling_edge[0]: # check if edges share curb node\n",
        "            walk_node = gdf_walking_nodes.iloc[walking_edge[1]]['geometry']\n",
        "            cycle_node = gdf_bike_nodes.iloc[cycling_edge[1]]['geometry']\n",
        "            con_edge = sg.LineString([walk_node, cycle_node])\n",
        "            walk_nodes.append(walk_node.coords[0])\n",
        "            cycle_nodes.append(cycle_node.coords[0])\n",
        "            connection_edges.append(con_edge)\n",
        "            \n",
        "gdf_connection_edges = gpd.GeoDataFrame(geometry=np.asarray(connection_edges, dtype=\"object\"), crs=st.CRS)\n",
        "gdf_connection_edges['walk_node'] = walk_nodes\n",
        "gdf_connection_edges['cycle_node'] = cycle_nodes\n",
        "gdf_connection_edges['length'] = gdf_connection_edges['geometry'].length"
      ]
    },
    {
      "cell_type": "markdown",
      "metadata": {},
      "source": [
        "### Remove duplicate and unnecessary edges"
      ]
    },
    {
      "cell_type": "code",
      "execution_count": null,
      "metadata": {},
      "outputs": [],
      "source": [
        "# Determine connected component walking nodes and remove duplciate edges\n",
        "for i, row in gdf_connection_edges.iterrows():\n",
        "    for j in range(len(cc_network)):\n",
        "        if row['walk_node'] in cc_network[j]:\n",
        "            gdf_connection_edges.loc[i, 'walk_cc'] = j\n",
        "\n",
        "# Remove duplicate edges          \n",
        "gdf_connection_edges = gdf_connection_edges.groupby(['cycle_node', 'walk_node']).nth(0)\n",
        "\n",
        "# If cycle node is connected to multiple walk nodes that belong to same connected compenent, only keep shortest connection\n",
        "gdf_connection_edges = gdf_connection_edges.sort_values('length', ascending=True).groupby(['cycle_node', 'walk_cc']).nth(0)\n",
        "\n",
        "# Delete unecessary columns\n",
        "gdf_connection_edges.reset_index(inplace=True)\n",
        "gdf_connection_edges = gdf_connection_edges.drop(columns=['index', 'walk_node', 'cycle_node', 'walk_cc', 'length'])\n",
        "\n",
        "# # Remove connections that are too long\n",
        "gdf_connection_edges = gdf_connection_edges.loc[gdf_connection_edges.geometry.length < 6]"
      ]
    },
    {
      "cell_type": "markdown",
      "metadata": {},
      "source": [
        "## Store"
      ]
    },
    {
      "cell_type": "code",
      "execution_count": null,
      "metadata": {},
      "outputs": [],
      "source": [
        "# Save connection edges as geopackage\n",
        "gdf_connection_edges.to_file(cf.output_walk_bike_connections_base + '_max_height_{}.gpkg'.format(max_network_switch_height), driver='GPKG')\n",
        "\n",
        "# Save splitted bike network\n",
        "gdf_bike_network_cut.to_file(cf.output_bike_network_cut, driver='GPKG')"
      ]
    },
    {
      "cell_type": "markdown",
      "metadata": {},
      "source": [
        "## Visualize connections"
      ]
    },
    {
      "cell_type": "code",
      "execution_count": null,
      "metadata": {
        "gather": {
          "logged": 1705069868858
        },
        "jupyter": {
          "outputs_hidden": false,
          "source_hidden": false
        },
        "nteract": {
          "transient": {
            "deleting": false
          }
        }
      },
      "outputs": [],
      "source": [
        "# set True for satellite background, False for regular background\n",
        "satellite = False\n",
        "\n",
        "# Create Folium map\n",
        "map = folium.Map(\n",
        "    location=[52.350547922223434, 4.7940192423718443], tiles=plot_utils.generate_map_params(satellite=satellite),\n",
        "    min_zoom=10, max_zoom=25, zoom_start=17,\n",
        "    zoom_control=True, control_scale=True, control=False\n",
        "    )\n",
        "\n",
        "# Add network and new edges\n",
        "geo_j = folium.GeoJson(gdf_walking_network, style_function=lambda x: {\"color\": \"black\", \"weight\": 3}).add_to(map)\n",
        "geo_j = folium.GeoJson(gdf_bike_network, style_function=lambda x: {\"color\": \"green\", \"weight\": 3}).add_to(map)\n",
        "geo_j = folium.GeoJson(gdf_connection_edges, style_function=lambda x: {\"color\": \"red\", \"weight\": 3}).add_to(map)\n",
        "\n",
        "# plot map\n",
        "map"
      ]
    }
  ],
  "metadata": {
    "kernel_info": {
      "name": "add_crossings"
    },
    "kernelspec": {
      "display_name": "add_crossings",
      "language": "python",
      "name": "python3"
    },
    "language_info": {
      "codemirror_mode": {
        "name": "ipython",
        "version": 3
      },
      "file_extension": ".py",
      "mimetype": "text/x-python",
      "name": "python",
      "nbconvert_exporter": "python",
      "pygments_lexer": "ipython3",
      "version": "3.8.0"
    },
    "microsoft": {
      "host": {
        "AzureML": {
          "notebookHasBeenCompleted": true
        }
      },
      "ms_spell_check": {
        "ms_spell_check_language": "en"
      }
    },
    "nteract": {
      "version": "nteract-front-end@1.0.0"
    }
  },
  "nbformat": 4,
  "nbformat_minor": 2
}
