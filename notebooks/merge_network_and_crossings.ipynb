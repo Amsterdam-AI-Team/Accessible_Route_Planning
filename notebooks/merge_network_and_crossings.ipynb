{
  "cells": [
    {
      "cell_type": "markdown",
      "source": [
        "# Merge the pedestrian (walking and bike) network, public transport stops and extracted crossings from osm, project sidewalk, traffic signs and curb heights"
      ],
      "metadata": {
        "nteract": {
          "transient": {
            "deleting": false
          }
        }
      }
    },
    {
      "cell_type": "code",
      "source": [
        "# Select where to run notebook: \"azure\" or \"local\"\n",
        "my_run = \"azure\""
      ],
      "outputs": [],
      "execution_count": null,
      "metadata": {
        "gather": {
          "logged": 1709122417425
        }
      }
    },
    {
      "cell_type": "code",
      "source": [
        "import geopandas as gpd\n",
        "import pandas as pd\n",
        "\n",
        "from shapely.ops import split\n",
        "from tqdm import tqdm\n",
        "\n",
        "import settings as st\n",
        "\n",
        "if my_run == \"azure\":\n",
        "    import config_azure as cf\n",
        "elif my_run == \"local\":\n",
        "    import config as cf"
      ],
      "outputs": [],
      "execution_count": null,
      "metadata": {
        "gather": {
          "logged": 1709122439790
        }
      }
    },
    {
      "cell_type": "code",
      "source": [
        "os.system('sudo blobfuse /home/azureuser/cloudfiles/code/blobfuse/sidewalk --tmp-path=/mnt/resource/blobfusetmp --config-file=/home/azureuser/cloudfiles/code/blobfuse/fuse_connection_sidewalk.cfg -o attr_timeout=3600 -o entry_timeout=3600 -o negative_timeout=3600 -o allow_other -o nonempty')"
      ],
      "outputs": [],
      "execution_count": null,
      "metadata": {
        "gather": {
          "logged": 1709122439978
        },
        "jupyter": {
          "outputs_hidden": false,
          "source_hidden": false
        },
        "nteract": {
          "transient": {
            "deleting": false
          }
        }
      }
    },
    {
      "cell_type": "code",
      "source": [
        "# Import network and crossings\n",
        "gdf_network = gpd.read_file(cf.output_file_widths).to_crs(crs=st.CRS)\n",
        "gdf_osm_crossings = gpd.read_file(cf.output_osm_crossings).to_crs(crs=st.CRS)\n",
        "gdf_project_sidewalk_crossings = gpd.read_file(cf.output_project_sidewalk_crossings).to_crs(crs=st.CRS)\n",
        "gdf_traffic_sign_crossings = gpd.read_file(cf.output_traffic_sign_crossings).to_crs(crs=st.CRS)\n",
        "gdf_bike_network = gpd.read_file(cf.output_bike_network_cut).to_crs(crs=st.CRS)\n",
        "gdf_walk_bike_connections = gpd.read_file(cf.output_walk_bike_connections_base + '_max_height_0.04.gpkg').to_crs(crs=st.CRS)\n",
        "gdf_walk_public_transport_stop_connections = gpd.read_file(cf.output_walk_public_transport_stop_connections).to_crs(crs=st.CRS)\n",
        "gdf_public_transport_stop_features = gpd.read_file(cf.output_public_transport_features).to_crs(crs=st.CRS)\n",
        "\n",
        "gdf_curb_crossings_4cm = gpd.read_file(cf.output_curb_crossings_base + '_max_height_0.04.gpkg').to_crs(crs=st.CRS)\n",
        "gdf_curb_crossings_6cm = gpd.read_file(cf.output_curb_crossings_base + '_max_height_0.06.gpkg').to_crs(crs=st.CRS)\n",
        "gdf_curb_crossings_8cm = gpd.read_file(cf.output_curb_crossings_base + '_max_height_0.08.gpkg').to_crs(crs=st.CRS)\n",
        "gdf_curb_crossings_4cm['curb_height_max'] = 0.04\n",
        "gdf_curb_crossings_6cm['curb_height_max'] = 0.06\n",
        "gdf_curb_crossings_8cm['curb_height_max'] = 0.08\n",
        "gdf_curb_crossings = pd.concat([gdf_curb_crossings_4cm, gdf_curb_crossings_6cm, gdf_curb_crossings_8cm])"
      ],
      "outputs": [],
      "execution_count": null,
      "metadata": {
        "gather": {
          "logged": 1709122454492
        },
        "jupyter": {
          "outputs_hidden": false,
          "source_hidden": false
        },
        "nteract": {
          "transient": {
            "deleting": false
          }
        }
      }
    },
    {
      "cell_type": "code",
      "source": [
        "# Set crossing and connection columns columns\n",
        "gdf_osm_crossings['crossing_type'] = 'osm'\n",
        "gdf_project_sidewalk_crossings['crossing_type'] = 'project_sidewalk'\n",
        "gdf_traffic_sign_crossings['crossing_type'] = 'traffic_sign'\n",
        "gdf_curb_crossings['crossing_type'] = 'curb_height'\n",
        "\n",
        "gdf_crossings = pd.concat([gdf_osm_crossings, gdf_project_sidewalk_crossings, \n",
        "                     gdf_traffic_sign_crossings, gdf_curb_crossings])"
      ],
      "outputs": [],
      "execution_count": null,
      "metadata": {
        "gather": {
          "logged": 1709122454612
        },
        "jupyter": {
          "outputs_hidden": false,
          "source_hidden": false
        },
        "nteract": {
          "transient": {
            "deleting": false
          }
        }
      }
    },
    {
      "cell_type": "code",
      "source": [
        "# Get intersections between bike network and crossings and split edges at these intersections\n",
        "df, geoms = pd.DataFrame(columns=gdf_crossings.columns), []\n",
        "for i, row in tqdm(gdf_crossings.iterrows(), total=len(gdf_crossings)):\n",
        "    pos_intersections = row['geometry'].intersection(gdf_bike_network['geometry'])\n",
        "    intersections = pos_intersections.unique()[1:]\n",
        "    if intersections:\n",
        "        for intersection in intersections:\n",
        "            try:\n",
        "                splits = split(row['geometry'], intersection).geoms\n",
        "                for sub_edge in splits:\n",
        "                    df.loc[len(df)] = row\n",
        "                    geoms.append(sub_edge)\n",
        "            except:\n",
        "                df.loc[len(df)] = row\n",
        "                geoms.append(row['geometry'])\n",
        "    else:\n",
        "        df.loc[len(df)] = row\n",
        "        geoms.append(row['geometry'])\n",
        "\n",
        "gdf_crossings_new = gpd.GeoDataFrame(df, geometry=geoms, crs=st.CRS)"
      ],
      "outputs": [],
      "execution_count": null,
      "metadata": {
        "gather": {
          "logged": 1709127607399
        },
        "jupyter": {
          "outputs_hidden": false,
          "source_hidden": false
        },
        "nteract": {
          "transient": {
            "deleting": false
          }
        }
      }
    },
    {
      "cell_type": "code",
      "source": [
        "# Set edge type columns and length\n",
        "column = 'crossing'\n",
        "gdf_network[column] = 'No'\n",
        "gdf_crossings_new[column] = 'Yes'\n",
        "gdf_walk_bike_connections[column] = 'No'\n",
        "gdf_public_transport_stop_features[column] = 'No'\n",
        "gdf_walk_public_transport_stop_connections[column] = 'No'\n",
        "\n",
        "column = 'walk_bike_connection'\n",
        "gdf_network[column] = 'No'\n",
        "gdf_bike_network[column] = 'No'\n",
        "gdf_crossings_new[column] = 'No'\n",
        "gdf_walk_bike_connections[column] = 'Yes'\n",
        "gdf_public_transport_stop_features[column] = 'No'\n",
        "gdf_walk_public_transport_stop_connections[column] = 'No'\n",
        "\n",
        "column = 'walk_public_transport_stop_connection'\n",
        "gdf_network[column] = 'No'\n",
        "gdf_bike_network[column] = 'No'\n",
        "gdf_crossings_new[column] = 'No'\n",
        "gdf_walk_bike_connections[column] = 'No'\n",
        "gdf_public_transport_stop_features[column] = 'No'\n",
        "gdf_walk_public_transport_stop_connections[column] = 'Yes'\n",
        "\n",
        "column = 'public_transport_stop'\n",
        "gdf_network[column] = 'No'\n",
        "gdf_bike_network[column] = 'No'\n",
        "gdf_crossings_new[column] = 'No'\n",
        "gdf_walk_bike_connections[column] = 'No'\n",
        "gdf_public_transport_stop_features[column] = 'Yes'\n",
        "gdf_walk_public_transport_stop_connections[column] = 'No'\n",
        "\n",
        "column = 'path_type'\n",
        "gdf_network[column] = 'walk'\n",
        "gdf_bike_network[column] = 'bike'\n",
        "gdf_crossings_new[column] = 'walk'\n",
        "gdf_walk_bike_connections[column] = 'walk_bike_connection'\n",
        "gdf_walk_public_transport_stop_connections[column] = 'walk'\n",
        "\n",
        "gdf_crossings_new['length'] = gdf_crossings_new.geometry.length\n",
        "gdf_walk_bike_connections['length'] = gdf_walk_bike_connections.geometry.length\n",
        "gdf_walk_public_transport_stop_connections['length'] = gdf_walk_public_transport_stop_connections.geometry.length"
      ],
      "outputs": [],
      "execution_count": null,
      "metadata": {
        "gather": {
          "logged": 1709133449611
        }
      }
    },
    {
      "cell_type": "code",
      "source": [
        "# Merge walking network and crossings\n",
        "gdf_walk_bike_network_including_crossings = pd.concat([gdf_network, gdf_bike_network, gdf_crossings_new, gdf_walk_bike_connections, gdf_walk_public_transport_stop_connections, gdf_public_transport_stop_features])\n",
        "\n",
        "# Export network including crossings\n",
        "gdf_walk_bike_network_including_crossings.to_file(cf.output_basic_network_including_crossings, driver='GPKG')"
      ],
      "outputs": [],
      "execution_count": null,
      "metadata": {
        "gather": {
          "logged": 1709133469753
        },
        "jupyter": {
          "outputs_hidden": false,
          "source_hidden": false
        },
        "nteract": {
          "transient": {
            "deleting": false
          }
        }
      }
    }
  ],
  "metadata": {
    "kernel_info": {
      "name": "venv_rp"
    },
    "kernelspec": {
      "name": "venv_rp",
      "language": "python",
      "display_name": "venv_rp"
    },
    "microsoft": {
      "host": {
        "AzureML": {
          "notebookHasBeenCompleted": true
        }
      },
      "ms_spell_check": {
        "ms_spell_check_language": "en"
      }
    },
    "nteract": {
      "version": "nteract-front-end@1.0.0"
    },
    "language_info": {
      "name": "python",
      "version": "3.8.10",
      "mimetype": "text/x-python",
      "codemirror_mode": {
        "name": "ipython",
        "version": 3
      },
      "pygments_lexer": "ipython3",
      "nbconvert_exporter": "python",
      "file_extension": ".py"
    }
  },
  "nbformat": 4,
  "nbformat_minor": 2
}