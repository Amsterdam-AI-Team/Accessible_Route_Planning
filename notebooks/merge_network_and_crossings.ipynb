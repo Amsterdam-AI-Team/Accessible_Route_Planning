{
  "cells": [
    {
      "cell_type": "markdown",
      "metadata": {
        "nteract": {
          "transient": {
            "deleting": false
          }
        }
      },
      "source": [
        "# Merge the walking network and extracted crossings from osm, project sidewalk, traffic signs and curb heights"
      ]
    },
    {
      "cell_type": "code",
      "execution_count": null,
      "metadata": {},
      "outputs": [],
      "source": [
        "# Select where to run notebook: \"azure\" or \"local\"\n",
        "my_run = \"azure\""
      ]
    },
    {
      "cell_type": "code",
      "execution_count": null,
      "metadata": {
        "gather": {
          "logged": 1703157973570
        }
      },
      "outputs": [],
      "source": [
        "import geopandas as gpd\n",
        "import pandas as pd\n",
        "\n",
        "import settings as st\n",
        "\n",
        "if my_run == \"azure\":\n",
        "    import config_azure as cf\n",
        "elif my_run == \"local\":\n",
        "    import config as cf"
      ]
    },
    {
      "cell_type": "code",
      "execution_count": null,
      "metadata": {
        "gather": {
          "logged": 1703157973884
        },
        "jupyter": {
          "outputs_hidden": false,
          "source_hidden": false
        },
        "nteract": {
          "transient": {
            "deleting": false
          }
        }
      },
      "outputs": [],
      "source": [
        "os.system('sudo blobfuse /home/azureuser/cloudfiles/code/blobfuse/sidewalk --tmp-path=/mnt/resource/blobfusetmp --config-file=/home/azureuser/cloudfiles/code/blobfuse/fuse_connection_sidewalk.cfg -o attr_timeout=3600 -o entry_timeout=3600 -o negative_timeout=3600 -o allow_other -o nonempty')"
      ]
    },
    {
      "cell_type": "code",
      "execution_count": null,
      "metadata": {
        "gather": {
          "logged": 1703157988156
        },
        "jupyter": {
          "outputs_hidden": false,
          "source_hidden": false
        },
        "nteract": {
          "transient": {
            "deleting": false
          }
        }
      },
      "outputs": [],
      "source": [
        "# Import network and crossings\n",
        "CRS = st.CRS\n",
        "\n",
        "gdf_network = gpd.read_file(cf.output_file_widths).to_crs(crs=CRS)\n",
        "gdf_osm_crossings = gpd.read_file(cf.output_osm_crossings).to_crs(crs=CRS)\n",
        "gdf_project_sidewalk_crossings = gpd.read_file(cf.output_project_sidewalk_crossings).to_crs(crs=CRS)\n",
        "gdf_traffic_sign_crossings = gpd.read_file(cf.output_traffic_sign_crossings).to_crs(crs=CRS)\n",
        "\n",
        "gdf_curb_crossings_4cm = gpd.read_file(cf.output_curb_crossings_base + '_max_height_0.04.gpkg').to_crs(crs=CRS)\n",
        "gdf_curb_crossings_6cm = gpd.read_file(cf.output_curb_crossings_base + '_max_height_0.06.gpkg').to_crs(crs=CRS)\n",
        "gdf_curb_crossings_8cm = gpd.read_file(cf.output_curb_crossings_base + '_max_height_0.08.gpkg').to_crs(crs=CRS)"
      ]
    },
    {
      "cell_type": "code",
      "execution_count": null,
      "metadata": {
        "gather": {
          "logged": 1703158118264
        },
        "jupyter": {
          "outputs_hidden": false,
          "source_hidden": false
        },
        "nteract": {
          "transient": {
            "deleting": false
          }
        }
      },
      "outputs": [],
      "source": [
        "# Set and delete columns\n",
        "gdf_osm_crossings['crossing_type'] = 'osm'\n",
        "gdf_project_sidewalk_crossings['crossing_type'] = 'project_sidewalk'\n",
        "gdf_traffic_sign_crossings['crossing_type'] = 'traffic_sign'\n",
        "\n",
        "gdf_curb_crossings_4cm['curb_height_max'] = 0.04\n",
        "gdf_curb_crossings_6cm['curb_height_max'] = 0.06\n",
        "gdf_curb_crossings_8cm['curb_height_max'] = 0.08\n",
        "\n",
        "gdf_curb_crossings = pd.concat([gdf_curb_crossings_4cm, gdf_curb_crossings_6cm, gdf_curb_crossings_8cm])\n",
        "gdf_curb_crossings['crossing_type'] = 'curb_height'\n",
        "\n",
        "gdf_crossings = pd.concat([gdf_osm_crossings, gdf_project_sidewalk_crossings, \n",
        "                     gdf_traffic_sign_crossings, gdf_curb_crossings])\n",
        "gdf_crossings = gdf_crossings.drop(columns=['index', 'element_type', 'osmid', 'crossing', 'highway', 'kerb',\n",
        "       'tactile_paving', 'button_operated', 'traffic_signals:sound',\n",
        "       'traffic_signals:vibration', 'crossing:island', 'crossing_ref',\n",
        "       'bicycle', 'barrier', 'crossing:markings', 'nodes', 'footway',\n",
        "       'surface', 'lit', 'smoothness', 'cycleway', 'mofa', 'moped', 'oneway',\n",
        "       'sidewalk', 'traffic_sign', 'traffic_calming', 'natural'])\n",
        "\n",
        "gdf_crossings['length'] = gdf_crossings.geometry.length\n",
        "\n",
        "gdf_network['crossing'] = 'No'\n",
        "gdf_crossings['crossing'] = 'Yes'\n",
        "\n",
        "# Merge walking network and crossings\n",
        "gdf_network_including_crossings = pd.concat([gdf_network, gdf_crossings])\n",
        "\n",
        "# Export network including crossings\n",
        "gdf_network_including_crossings.to_file(cf.output_basic_network_including_crossings, driver='GPKG')"
      ]
    }
  ],
  "metadata": {
    "kernel_info": {
      "name": "add_crossings"
    },
    "kernelspec": {
      "display_name": "add_crossings",
      "language": "python",
      "name": "add_crossings"
    },
    "language_info": {
      "codemirror_mode": {
        "name": "ipython",
        "version": 3
      },
      "file_extension": ".py",
      "mimetype": "text/x-python",
      "name": "python",
      "nbconvert_exporter": "python",
      "pygments_lexer": "ipython3",
      "version": "3.8.0"
    },
    "microsoft": {
      "host": {
        "AzureML": {
          "notebookHasBeenCompleted": true
        }
      },
      "ms_spell_check": {
        "ms_spell_check_language": "en"
      }
    },
    "nteract": {
      "version": "nteract-front-end@1.0.0"
    }
  },
  "nbformat": 4,
  "nbformat_minor": 2
}
