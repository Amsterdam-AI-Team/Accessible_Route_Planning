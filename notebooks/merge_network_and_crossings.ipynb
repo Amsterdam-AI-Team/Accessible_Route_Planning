{
  "cells": [
    {
      "cell_type": "markdown",
      "metadata": {
        "nteract": {
          "transient": {
            "deleting": false
          }
        }
      },
      "source": [
        "# Merge the walking network and extracted crossings from osm, project sidewalk, traffic signs and curb heights"
      ]
    },
    {
      "cell_type": "code",
      "execution_count": null,
      "metadata": {
        "gather": {
          "logged": 1705654222863
        }
      },
      "outputs": [],
      "source": [
        "# Select where to run notebook: \"azure\" or \"local\"\n",
        "my_run = \"azure\""
      ]
    },
    {
      "cell_type": "code",
      "execution_count": null,
      "metadata": {
        "gather": {
          "logged": 1705654233067
        }
      },
      "outputs": [],
      "source": [
        "import geopandas as gpd\n",
        "import pandas as pd\n",
        "\n",
        "from shapely.ops import split\n",
        "from tqdm import tqdm\n",
        "\n",
        "import settings as st\n",
        "\n",
        "if my_run == \"azure\":\n",
        "    import config_azure as cf\n",
        "elif my_run == \"local\":\n",
        "    import config as cf"
      ]
    },
    {
      "cell_type": "code",
      "execution_count": null,
      "metadata": {
        "gather": {
          "logged": 1705654233348
        },
        "jupyter": {
          "outputs_hidden": false,
          "source_hidden": false
        },
        "nteract": {
          "transient": {
            "deleting": false
          }
        }
      },
      "outputs": [],
      "source": [
        "os.system('sudo blobfuse /home/azureuser/cloudfiles/code/blobfuse/sidewalk --tmp-path=/mnt/resource/blobfusetmp --config-file=/home/azureuser/cloudfiles/code/blobfuse/fuse_connection_sidewalk.cfg -o attr_timeout=3600 -o entry_timeout=3600 -o negative_timeout=3600 -o allow_other -o nonempty')"
      ]
    },
    {
      "cell_type": "code",
      "execution_count": null,
      "metadata": {
        "gather": {
          "logged": 1705654248157
        },
        "jupyter": {
          "outputs_hidden": false,
          "source_hidden": false
        },
        "nteract": {
          "transient": {
            "deleting": false
          }
        }
      },
      "outputs": [],
      "source": [
        "# Import network and crossings\n",
        "CRS = st.CRS\n",
        "\n",
        "gdf_network = gpd.read_file(cf.output_file_widths).to_crs(crs=CRS)\n",
        "gdf_osm_crossings = gpd.read_file(cf.output_osm_crossings).to_crs(crs=CRS)\n",
        "gdf_project_sidewalk_crossings = gpd.read_file(cf.output_project_sidewalk_crossings).to_crs(crs=CRS)\n",
        "gdf_traffic_sign_crossings = gpd.read_file(cf.output_traffic_sign_crossings).to_crs(crs=CRS)\n",
        "gdf_bike_network = gpd.read_file(cf.output_bike_network_cut).to_crs(crs=CRS)\n",
        "gdf_walk_bike_connections = gpd.read_file(cf.output_walk_bike_connections_base + '_max_height_0.04.gpkg').to_crs(crs=CRS)\n",
        "\n",
        "gdf_curb_crossings_4cm = gpd.read_file(cf.output_curb_crossings_base + '_max_height_0.04.gpkg').to_crs(crs=CRS)\n",
        "gdf_curb_crossings_6cm = gpd.read_file(cf.output_curb_crossings_base + '_max_height_0.06.gpkg').to_crs(crs=CRS)\n",
        "gdf_curb_crossings_8cm = gpd.read_file(cf.output_curb_crossings_base + '_max_height_0.08.gpkg').to_crs(crs=CRS)"
      ]
    },
    {
      "cell_type": "code",
      "execution_count": null,
      "metadata": {
        "gather": {
          "logged": 1705323659356
        },
        "jupyter": {
          "outputs_hidden": false,
          "source_hidden": false
        },
        "nteract": {
          "transient": {
            "deleting": false
          }
        }
      },
      "outputs": [],
      "source": [
        "# Set crossing and connection columns columns\n",
        "gdf_osm_crossings['crossing_type'] = 'osm'\n",
        "gdf_project_sidewalk_crossings['crossing_type'] = 'project_sidewalk'\n",
        "gdf_traffic_sign_crossings['crossing_type'] = 'traffic_sign'\n",
        "\n",
        "gdf_curb_crossings_4cm['curb_height_max'] = 0.04\n",
        "gdf_curb_crossings_6cm['curb_height_max'] = 0.06\n",
        "gdf_curb_crossings_8cm['curb_height_max'] = 0.08\n",
        "\n",
        "gdf_curb_crossings = pd.concat([gdf_curb_crossings_4cm, gdf_curb_crossings_6cm, gdf_curb_crossings_8cm])\n",
        "gdf_curb_crossings['crossing_type'] = 'curb_height'\n",
        "\n",
        "gdf_crossings = pd.concat([gdf_osm_crossings, gdf_project_sidewalk_crossings, \n",
        "                     gdf_traffic_sign_crossings, gdf_curb_crossings])"
      ]
    },
    {
      "cell_type": "code",
      "execution_count": null,
      "metadata": {
        "gather": {
          "logged": 1705323678417
        },
        "jupyter": {
          "outputs_hidden": false,
          "source_hidden": false
        },
        "nteract": {
          "transient": {
            "deleting": false
          }
        }
      },
      "outputs": [],
      "source": [
        "# Get intersections between bike network and crossings and add as nodes to the network\n",
        "df, geoms = pd.DataFrame(columns=gdf_crossings.columns), []\n",
        "for i, row in tqdm(gdf_crossings.iterrows(), total=len(gdf_crossings)):\n",
        "    pos_intersections = row['geometry'].intersection(gdf_bike_network['geometry'])\n",
        "    intersections = pos_intersections.unique()[1:]\n",
        "    if intersections:\n",
        "        for intersection in intersections:\n",
        "            splits = split(row['geometry'], intersection).geoms\n",
        "            for sub_edge in splits:\n",
        "                df.loc[len(df)] = row\n",
        "                geoms.append(sub_edge)\n",
        "    else:\n",
        "        df.loc[len(df)] = row\n",
        "        geoms.append(row['geometry'])\n",
        "\n",
        "gdf_crossings_new = gpd.GeoDataFrame(df, geometry=geoms, crs=CRS)\n",
        "gdf_crossings_new['length'] = gdf_crossings_new.geometry.length"
      ]
    },
    {
      "cell_type": "code",
      "execution_count": null,
      "metadata": {},
      "outputs": [],
      "source": [
        "# Set edge type columns\n",
        "gdf_network['crossing'] = 'No'\n",
        "gdf_bike_network['crossing'] = 'No'\n",
        "gdf_crossings_new['crossing'] = 'Yes'\n",
        "gdf_walk_bike_connections['crossing'] = 'No'\n",
        "\n",
        "gdf_network['walk_bike_connection'] = 'No'\n",
        "gdf_bike_network['walk_bike_connection'] = 'No'\n",
        "gdf_crossings_new['walk_bike_connection'] = 'Yes'\n",
        "gdf_walk_bike_connections['walk_bike_connection'] = 'Yes'"
      ]
    },
    {
      "cell_type": "code",
      "execution_count": null,
      "metadata": {
        "gather": {
          "logged": 1705324294024
        },
        "jupyter": {
          "outputs_hidden": false,
          "source_hidden": false
        },
        "nteract": {
          "transient": {
            "deleting": false
          }
        }
      },
      "outputs": [],
      "source": [
        "# Merge walking network and crossings\n",
        "gdf_walk_bike_network_including_crossings = pd.concat([gdf_network, gdf_bike_network, gdf_crossings_new, gdf_walk_bike_connections])\n",
        "\n",
        "# Export network including crossings\n",
        "gdf_walk_bike_network_including_crossings.to_file(cf.output_basic_network_including_crossings, driver='GPKG')"
      ]
    }
  ],
  "metadata": {
    "kernel_info": {
      "name": "add_crossings"
    },
    "kernelspec": {
      "display_name": "osm_env",
      "language": "python",
      "name": "python3"
    },
    "language_info": {
      "codemirror_mode": {
        "name": "ipython",
        "version": 3
      },
      "file_extension": ".py",
      "mimetype": "text/x-python",
      "name": "python",
      "nbconvert_exporter": "python",
      "pygments_lexer": "ipython3",
      "version": "3.8.0"
    },
    "microsoft": {
      "host": {
        "AzureML": {
          "notebookHasBeenCompleted": true
        }
      },
      "ms_spell_check": {
        "ms_spell_check_language": "en"
      }
    },
    "nteract": {
      "version": "nteract-front-end@1.0.0"
    }
  },
  "nbformat": 4,
  "nbformat_minor": 2
}
