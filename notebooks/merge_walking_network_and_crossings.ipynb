{
  "cells": [
    {
      "cell_type": "markdown",
      "source": [
        "# Merge the walking network and extracted crossings from osm, project sidewalk, traffic signs and curb heights"
      ],
      "metadata": {
        "nteract": {
          "transient": {
            "deleting": false
          }
        }
      }
    },
    {
      "cell_type": "code",
      "source": [
        "import geopandas as gpd\n",
        "import pandas as pd\n",
        "import config_azure as cf\n",
        "import folium"
      ],
      "outputs": [
        {
          "output_type": "stream",
          "name": "stderr",
          "text": "/anaconda/envs/azureml_py38/lib/python3.8/site-packages/geopandas/_compat.py:124: UserWarning: The Shapely GEOS version (3.11.2-CAPI-1.17.2) is incompatible with the GEOS version PyGEOS was compiled with (3.10.4-CAPI-1.16.2). Conversions between both will be slow.\n  warnings.warn(\n/tmp/ipykernel_30331/1699750937.py:1: DeprecationWarning: Shapely 2.0 is installed, but because PyGEOS is also installed, GeoPandas still uses PyGEOS by default. However, starting with version 0.14, the default will switch to Shapely. To force to use Shapely 2.0 now, you can either uninstall PyGEOS or set the environment variable USE_PYGEOS=0. You can do this before starting the Python process, or in your code before importing geopandas:\n\nimport os\nos.environ['USE_PYGEOS'] = '0'\nimport geopandas\n\nIn the next release, GeoPandas will switch to using Shapely by default, even if PyGEOS is installed. If you only have PyGEOS installed to get speed-ups, this switch should be smooth. However, if you are using PyGEOS directly (calling PyGEOS functions on geometries from GeoPandas), this will then stop working and you are encouraged to migrate from PyGEOS to Shapely 2.0 (https://shapely.readthedocs.io/en/latest/migration_pygeos.html).\n  import geopandas as gpd\n"
        }
      ],
      "execution_count": 1,
      "metadata": {
        "gather": {
          "logged": 1702646484278
        }
      }
    },
    {
      "cell_type": "code",
      "source": [
        "# Import network and crossings\n",
        "CRS = 'EPSG:28992'\n",
        "\n",
        "gdf_network = gpd.read_file(cf.output_file_widths).to_crs(crs=CRS)\n",
        "gdf_osm_crossings = gpd.read_file(cf.output_osm_crossings).to_crs(crs=CRS)\n",
        "gdf_project_sidewalk_crossings = gpd.read_file(cf.output_project_sidewalk_crossings).to_crs(crs=CRS)\n",
        "gdf_traffic_sign_crossings = gpd.read_file(cf.output_traffic_sign_crossings).to_crs(crs=CRS)\n",
        "\n",
        "gdf_curb_crossings_4cm = gpd.read_file(cf.output_curb_crossings_base + '_max_height_0.04.gpkg').to_crs(crs=CRS)\n",
        "gdf_curb_crossings_6cm = gpd.read_file(cf.output_curb_crossings_base + '_max_height_0.06.gpkg').to_crs(crs=CRS)\n",
        "gdf_curb_crossings_8cm = gpd.read_file(cf.output_curb_crossings_base + '_max_height_0.08.gpkg').to_crs(crs=CRS)"
      ],
      "outputs": [],
      "execution_count": 2,
      "metadata": {
        "jupyter": {
          "source_hidden": false,
          "outputs_hidden": false
        },
        "nteract": {
          "transient": {
            "deleting": false
          }
        },
        "gather": {
          "logged": 1702646498318
        }
      }
    },
    {
      "cell_type": "code",
      "source": [
        "# Set and delete columns\n",
        "gdf_osm_crossings['crossing_type'] = 'osm'\n",
        "gdf_project_sidewalk_crossings['crossing_type'] = 'project_sidewalk'\n",
        "gdf_traffic_sign_crossings['crossing_type'] = 'traffic_sign'\n",
        "\n",
        "gdf_curb_crossings_4cm['curb_height_max'] = 0.04\n",
        "gdf_curb_crossings_6cm['curb_height_max'] = 0.06\n",
        "gdf_curb_crossings_8cm['curb_height_max'] = 0.08\n",
        "\n",
        "gdf_curb_crossings = pd.concat([gdf_curb_crossings_4cm, gdf_curb_crossings_6cm, gdf_curb_crossings_8cm])\n",
        "gdf_curb_crossings['crossing_type'] = 'curb_height'\n",
        "\n",
        "gdf_crossings = pd.concat([gdf_osm_crossings, gdf_project_sidewalk_crossings, \n",
        "                     gdf_traffic_sign_crossings, gdf_curb_crossings])\n",
        "gdf_crossings = gdf_crossings.drop(columns=['index', 'element_type', 'osmid', 'crossing', 'highway', 'kerb',\n",
        "       'tactile_paving', 'button_operated', 'traffic_signals:sound',\n",
        "       'traffic_signals:vibration', 'crossing:island', 'crossing_ref',\n",
        "       'bicycle', 'barrier', 'crossing:markings', 'nodes', 'footway',\n",
        "       'surface', 'lit', 'smoothness', 'cycleway', 'mofa', 'moped', 'oneway',\n",
        "       'sidewalk', 'traffic_sign', 'traffic_calming', 'natural'])\n",
        "\n",
        "gdf_network['crossing'] = 'No'\n",
        "gdf_crossings['crossing'] = 'Yes'\n",
        "\n",
        "\n",
        "# Merge walking network and crossings\n",
        "gdf_network_including_crossings = pd.concat([gdf_network, gdf_crossings])\n",
        "\n",
        "# Export network including crossings\n",
        "gdf_network_including_crossings.to_file(cf.output_basic_network_including_crossings, driver='GPKG')"
      ],
      "outputs": [],
      "execution_count": 4,
      "metadata": {
        "jupyter": {
          "source_hidden": false,
          "outputs_hidden": false
        },
        "nteract": {
          "transient": {
            "deleting": false
          }
        },
        "gather": {
          "logged": 1702646619952
        }
      }
    }
  ],
  "metadata": {
    "kernelspec": {
      "display_name": "Python 3.10 - SDK v2",
      "language": "python",
      "name": "python310-sdkv2"
    },
    "language_info": {
      "name": "python",
      "version": "3.10.11",
      "mimetype": "text/x-python",
      "codemirror_mode": {
        "name": "ipython",
        "version": 3
      },
      "pygments_lexer": "ipython3",
      "nbconvert_exporter": "python",
      "file_extension": ".py"
    },
    "microsoft": {
      "ms_spell_check": {
        "ms_spell_check_language": "en"
      },
      "host": {
        "AzureML": {
          "notebookHasBeenCompleted": true
        }
      }
    },
    "nteract": {
      "version": "nteract-front-end@1.0.0"
    }
  },
  "nbformat": 4,
  "nbformat_minor": 2
}