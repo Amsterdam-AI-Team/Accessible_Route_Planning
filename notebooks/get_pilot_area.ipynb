{
  "cells": [
    {
      "cell_type": "markdown",
      "source": [
        "# 0a. Get pilot area "
      ],
      "metadata": {
        "nteract": {
          "transient": {
            "deleting": false
          }
        }
      }
    },
    {
      "cell_type": "code",
      "source": [
        "# Select where to run notebook: \"azure\" or \"local\"\n",
        "my_run = \"azure\""
      ],
      "outputs": [],
      "execution_count": null,
      "metadata": {
        "jupyter": {
          "source_hidden": false,
          "outputs_hidden": false
        },
        "nteract": {
          "transient": {
            "deleting": false
          }
        },
        "gather": {
          "logged": 1699442404494
        }
      }
    },
    {
      "cell_type": "code",
      "source": [
        "import geopandas as gpd\n",
        "\n",
        "import settings as st\n",
        "if my_run == \"azure\":\n",
        "    import config_azure as cf\n",
        "elif my_run == \"local\":\n",
        "    import config as cf"
      ],
      "outputs": [],
      "execution_count": null,
      "metadata": {
        "gather": {
          "logged": 1699442406434
        }
      }
    },
    {
      "cell_type": "markdown",
      "source": [
        "## Get administrative areas of Amsterdam\n",
        "\n",
        "For administrative purposes, the city is divided in pieces, on different levels: 'stadsdelen', 'gebieden', 'wijken' and 'buurten'. These can be viewed here: https://maps.amsterdam.nl/gebiedsindeling/. Data can be retrieved from an API: https://api.data.amsterdam.nl/v1/docs/datasets/gebieden.html"
      ],
      "metadata": {
        "nteract": {
          "transient": {
            "deleting": false
          }
        }
      }
    },
    {
      "cell_type": "code",
      "source": [
        "# Get area data\n",
        "area_url = \"https://api.data.amsterdam.nl/v1/gebieden/\" + st.area_choice + \"/?_format=geojson\" \n",
        "gdf_area_raw = gpd.read_file(area_url)"
      ],
      "outputs": [],
      "execution_count": null,
      "metadata": {
        "jupyter": {
          "source_hidden": false,
          "outputs_hidden": false
        },
        "nteract": {
          "transient": {
            "deleting": false
          }
        },
        "gather": {
          "logged": 1699442411190
        }
      }
    },
    {
      "cell_type": "code",
      "source": [
        "# Select columns of geodataframe\n",
        "gdf_area = gdf_area_raw[['geometry', 'code', 'naam']]\n",
        "\n",
        "# Adjust crs\n",
        "gdf_area = gdf_area.to_crs(st.CRS)"
      ],
      "outputs": [],
      "execution_count": null,
      "metadata": {
        "jupyter": {
          "source_hidden": false,
          "outputs_hidden": false
        },
        "nteract": {
          "transient": {
            "deleting": false
          }
        },
        "gather": {
          "logged": 1699442413308
        }
      }
    },
    {
      "cell_type": "markdown",
      "source": [
        "## Store output with selected areas "
      ],
      "metadata": {
        "nteract": {
          "transient": {
            "deleting": false
          }
        }
      }
    },
    {
      "cell_type": "code",
      "source": [
        "# Make a selection of areas\n",
        "gdf_area_select = gdf_area[gdf_area['naam'].isin(st.my_areas)].reset_index(drop=True)\n",
        "gdf_area_select"
      ],
      "outputs": [],
      "execution_count": null,
      "metadata": {
        "jupyter": {
          "source_hidden": false,
          "outputs_hidden": false
        },
        "nteract": {
          "transient": {
            "deleting": false
          }
        },
        "gather": {
          "logged": 1699442416611
        }
      }
    },
    {
      "cell_type": "code",
      "source": [
        "# Store area geometries in a file\n",
        "gdf_area_select.to_file(cf.output_pilot_area, driver='GeoJSON')"
      ],
      "outputs": [],
      "execution_count": null,
      "metadata": {
        "jupyter": {
          "source_hidden": false,
          "outputs_hidden": false
        },
        "nteract": {
          "transient": {
            "deleting": false
          }
        },
        "gather": {
          "logged": 1699442419183
        }
      }
    }
  ],
  "metadata": {
    "kernelspec": {
      "name": "venv_arp",
      "language": "python",
      "display_name": "venv_arp"
    },
    "language_info": {
      "name": "python",
      "version": "3.8.10",
      "mimetype": "text/x-python",
      "codemirror_mode": {
        "name": "ipython",
        "version": 3
      },
      "pygments_lexer": "ipython3",
      "nbconvert_exporter": "python",
      "file_extension": ".py"
    },
    "microsoft": {
      "ms_spell_check": {
        "ms_spell_check_language": "en"
      },
      "host": {
        "AzureML": {
          "notebookHasBeenCompleted": true
        }
      }
    },
    "kernel_info": {
      "name": "venv_arp"
    },
    "nteract": {
      "version": "nteract-front-end@1.0.0"
    }
  },
  "nbformat": 4,
  "nbformat_minor": 2
}