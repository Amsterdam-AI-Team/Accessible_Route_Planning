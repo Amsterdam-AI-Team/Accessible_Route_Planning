{
  "cells": [
    {
      "cell_type": "markdown",
      "source": [
        "# Get curb heights from point cloud\n",
        "\n",
        "\n",
        "### NOTE: First run the ground_and_road_fusion.ipynb notebook, otherwise this notebook does not work"
      ],
      "metadata": {},
      "id": "ac4c2e62"
    },
    {
      "cell_type": "code",
      "source": [
        "import set_path\n",
        "\n",
        "import upcp.scrapers.ams_bgt_scraper as ams_bgt_scraper\n",
        "import upcp.utils.las_utils as las_utils\n",
        "import upcp.utils.bgt_utils as bgt_utils\n",
        "\n",
        "from upcp.labels import Labels\n",
        "from upc_sw.las_utils_extra import read_las\n",
        "from upc_sw.sidewalk_filter import *"
      ],
      "outputs": [],
      "execution_count": null,
      "metadata": {
        "gather": {
          "logged": 1705404506124
        }
      },
      "id": "f2e29620"
    },
    {
      "cell_type": "code",
      "source": [
        "import os\n",
        "import numpy as np\n",
        "import pandas as pd\n",
        "import seaborn as sns\n",
        "\n",
        "import matplotlib.pyplot as plt\n",
        "from shapely.geometry import LineString, Point, MultiPoint, MultiLineString, Polygon, MultiPolygon \n",
        "from shapely.ops import unary_union, split, snap\n",
        "\n",
        "import geopandas as gpd\n",
        "import folium\n",
        "from tqdm import tqdm\n",
        "from geopandas import GeoDataFrame\n",
        "import branca.colormap as cm\n",
        "\n",
        "import functions as f\n",
        "\n",
        "import requests\n",
        "import statistics\n",
        "\n",
        "import warnings\n",
        "from shapely.errors import ShapelyDeprecationWarning\n",
        "warnings.filterwarnings(\"ignore\", category=ShapelyDeprecationWarning) \n",
        "\n",
        "import config_azure as cf"
      ],
      "outputs": [],
      "execution_count": null,
      "metadata": {
        "gather": {
          "logged": 1705404506977
        }
      },
      "id": "6537bc29"
    },
    {
      "cell_type": "code",
      "source": [
        "CRS = 'epsg:28992'"
      ],
      "outputs": [],
      "execution_count": null,
      "metadata": {
        "gather": {
          "logged": 1705404507072
        }
      },
      "id": "d9269e9f"
    },
    {
      "cell_type": "code",
      "source": [
        "def create_mask(points, polygons):\n",
        "    label_mask = np.zeros(len(points), dtype=bool)\n",
        "\n",
        "    # Already labelled ground points can be labelled as road.\n",
        "    mask = (labels == Labels.GROUND) | (labels == Labels.ROAD)\n",
        "    mask_ids = np.where(mask)[0]\n",
        "\n",
        "    road_mask = np.zeros((len(mask_ids),), dtype=bool)\n",
        "    for polygon in polygons:\n",
        "        clip_mask = clip_utils.poly_clip(points[mask, :], polygon)\n",
        "        road_mask = road_mask | clip_mask\n",
        "\n",
        "    label_mask[mask_ids[road_mask]] = True\n",
        "\n",
        "    return label_mask\n",
        "\n",
        "def create_mask2(points, polygons):\n",
        "    label_mask = np.zeros(len(points), dtype=bool)\n",
        "\n",
        "    for polygon in polygons:\n",
        "        clip_mask = clip_utils.poly_clip(points, polygon)\n",
        "        label_mask = label_mask | clip_mask\n",
        "\n",
        "    return label_mask"
      ],
      "outputs": [],
      "execution_count": null,
      "metadata": {
        "gather": {
          "logged": 1705404507218
        }
      },
      "id": "1231d2d9"
    },
    {
      "cell_type": "code",
      "source": [
        "# Functions for method 1\n",
        "\n",
        "def bbox_to_polygon(bbox):\n",
        "    return Polygon([bbox[0],(bbox[0][0],bbox[1][1]), bbox[1],(bbox[1][0],bbox[0][1])])\n",
        "\n",
        "def calculate_curb_height_median(points, labels, segment_polygon, nr_points): # calculate median over all points\n",
        "    curb_height = np.nan\n",
        "    available_points = True\n",
        "\n",
        "    label_mask = create_mask(points, [segment_polygon,]) # TODO\n",
        "    points_in_segment = points[label_mask]\n",
        "    labels_in_segment = labels[label_mask]\n",
        "    \n",
        "    z_values_road = points_in_segment[labels_in_segment == Labels.ROAD][:, -1]\n",
        "\n",
        "    if len(z_values_road) > min_nr_points:\n",
        "        z_values_road.sort()\n",
        "        road_height = statistics.median(z_values_road)\n",
        "    else:\n",
        "        available_points = False\n",
        "\n",
        "    z_values_sidewalk = points_in_segment[labels_in_segment == Labels.GROUND][:, -1]\n",
        "    if len(z_values_sidewalk) > min_nr_points:\n",
        "        z_values_sidewalk.sort()\n",
        "        sidewalk_height = statistics.median(z_values_sidewalk)\n",
        "    else:\n",
        "        available_points = False\n",
        "\n",
        "    if available_points:\n",
        "        curb_height = sidewalk_height - road_height\n",
        "    \n",
        "    return curb_height, available_points\n",
        "\n",
        "def get_height_color(curb_height, available_points, min_h):\n",
        "    if not available_points:\n",
        "        color = 'black'\n",
        "        return color\n",
        "    \n",
        "    if curb_height < min_h:\n",
        "        color = 'green'\n",
        "    else:\n",
        "        color = 'orange'\n",
        "    return color\n",
        "\n",
        "def get_points_on_line(line, distance_delta):\n",
        "    # generate the equidistant points\n",
        "    distances = np.arange(0, line.length, distance_delta)\n",
        "    points = MultiPoint([line.interpolate(distance) for distance in distances] + [(line.coords[0], line.coords[-2])]) # line.boundary[1]\n",
        "    return points[:-1] # Exclude last (duplicate) point\n",
        "\n",
        "def split_line_by_point(line, point, tolerance: float=1): # TO DO Tolerence is belangrijk, misschien hier nog mee tweaken\n",
        "    return split(snap(line, point, tolerance), point)\n",
        "\n",
        "def plot_line(ax, ob):\n",
        "    x, y = ob.xy\n",
        "    ax.plot(x, y, linewidth=2, color='black')\n",
        "\n",
        "def plot_poly(ax, poly, color='C0'):\n",
        "    x,y = poly.exterior.xy\n",
        "    plt.fill(x, y, color=color, alpha=0.3)\n",
        "    plt.plot(x, y, color=color)"
      ],
      "outputs": [],
      "execution_count": null,
      "metadata": {
        "gather": {
          "logged": 1705404507315
        }
      },
      "id": "9b79dbe1"
    },
    {
      "cell_type": "markdown",
      "source": [
        "# 0. Prepare"
      ],
      "metadata": {},
      "id": "6825a95b"
    },
    {
      "cell_type": "code",
      "source": [
        "# # Pull polygon of area for which to gather curb segments\n",
        "os.system('sudo blobfuse /home/azureuser/cloudfiles/code/blobfuse/sidewalk --tmp-path=/mnt/resource/blobfusetmp --config-file=/home/azureuser/cloudfiles/code/blobfuse/fuse_connection_sidewalk.cfg -o attr_timeout=3600 -o entry_timeout=3600 -o negative_timeout=3600 -o allow_other -o nonempty')\n",
        "\n",
        "# Import areas\n",
        "CRS = 'epsg:28992'\n",
        "df_areas = gpd.read_file(cf.output_pilot_area)\n",
        "polygon = df_areas.to_crs(crs=CRS).unary_union"
      ],
      "outputs": [],
      "execution_count": null,
      "metadata": {
        "gather": {
          "logged": 1705404507483
        },
        "jupyter": {
          "outputs_hidden": false,
          "source_hidden": false
        },
        "nteract": {
          "transient": {
            "deleting": false
          }
        }
      },
      "id": "57784d1c-e46a-4f4a-9296-d0134cc0ed95"
    },
    {
      "cell_type": "markdown",
      "source": [
        "## Select possible tiles"
      ],
      "metadata": {},
      "id": "cde11bac"
    },
    {
      "cell_type": "code",
      "source": [
        "# Mount ovl container to access point clouds and set folders\n",
        "os.system('sudo blobfuse /home/azureuser/cloudfiles/code/blobfuse/ovl --tmp-path=/mnt/resource/blobfusetmp --config-file=/home/azureuser/cloudfiles/code/blobfuse/fuse_connection_ovl.cfg -o attr_timeout=3600 -o entry_timeout=3600 -o negative_timeout=3600 -o allow_other -o nonempty')\n",
        "base_folder = \"/home/azureuser/cloudfiles/code/blobfuse/ovl/\"\n",
        "base_folder_bgt = base_folder + 'bgt/bgt_roads/'\n",
        "base_folder_images = '../output/media/road_curb_segments/'\n",
        "in_folder_point_clouds = base_folder + 'pointcloud/Labeled/ground_and_road/'\n",
        "\n",
        "if not os.path.isdir(base_folder_images):\n",
        "    os.makedirs(base_folder_images)"
      ],
      "outputs": [],
      "execution_count": null,
      "metadata": {
        "gather": {
          "logged": 1705404507566
        },
        "jupyter": {
          "outputs_hidden": false,
          "source_hidden": false
        },
        "nteract": {
          "transient": {
            "deleting": false
          }
        }
      },
      "id": "f72318bc-4a1d-4def-aa7d-df1f1d95b88b"
    },
    {
      "cell_type": "code",
      "source": [
        "# Collect all tiles in polygon area\n",
        "all_pc_filenames = []\n",
        "for path, subdirs, files in os.walk(in_folder_point_clouds):\n",
        "    for name in files:\n",
        "            if '.laz' in name:\n",
        "                all_pc_filenames.append(os.path.join(path, name))\n",
        "all_pc_filenames = np.array(all_pc_filenames)\n",
        "all_pc_tilecodes = np.array([las_utils.get_tilecode_from_filename(filename) for filename in all_pc_filenames])\n",
        "all_pc_bboxes = np.array([las_utils.get_bbox_from_tile_code(tilecode) for tilecode in all_pc_tilecodes])\n",
        "\n",
        "all_pc_polygons = [las_utils.get_polygon_from_tile_code(tilecode) for tilecode in all_pc_tilecodes]\n",
        "gdf_pc_polygons = gpd.GeoDataFrame(geometry=all_pc_polygons)\n",
        "\n",
        "gdf = gdf_pc_polygons.intersection(polygon)\n",
        "pc_idxs_in_area_polygon = gdf[~gdf.is_empty].index.to_list()\n",
        "\n",
        "# filenames, tilecodes and bounding boxes of point clouds in selected area\n",
        "pc_filenames = all_pc_filenames[pc_idxs_in_area_polygon]\n",
        "pc_tilecodes = all_pc_tilecodes[pc_idxs_in_area_polygon]\n",
        "pc_bboxes = all_pc_bboxes[pc_idxs_in_area_polygon]\n",
        "\n",
        "sns.set()\n",
        "ax = gdf_pc_polygons.iloc[pc_idxs_in_area_polygon].boundary.plot()\n",
        "plt.title('Point clouds in selected area')\n",
        "plt.show()"
      ],
      "outputs": [],
      "execution_count": null,
      "metadata": {
        "gather": {
          "logged": 1705404507973
        }
      },
      "id": "e7c0a24c"
    },
    {
      "cell_type": "markdown",
      "source": [
        "## Generate dictionary with point cloud tile information\n",
        "This contains:\n",
        "tilecode, filename, point cloud tile polygon, sidewalk polygons, parkeervlak polygons"
      ],
      "metadata": {},
      "id": "78416a5f"
    },
    {
      "cell_type": "code",
      "source": [
        "tiles_bgt_dict = {}\n",
        "for tilecode, filename, bbox in zip(pc_tilecodes, pc_filenames, pc_bboxes):\n",
        "    bgt_data_file = base_folder_bgt + '{}.csv'.format(tilecode)\n",
        "\n",
        "    ((x_min, y_max), (x_max, y_min)) = bbox\n",
        "\n",
        "    # Create reader for BGT sidewalk part polygons.\n",
        "    bgt_sidewalk_reader = bgt_utils.BGTPolyReader(bgt_file=bgt_data_file)\n",
        "\n",
        "    sidewalk_polygons = bgt_sidewalk_reader.filter_tile(\n",
        "                                tilecode,\n",
        "                                padding=0, offset=0,\n",
        "                                merge=False)\n",
        "\n",
        "    parkeervlak_polygons = bgt_sidewalk_reader.filter_tile(\n",
        "                                tilecode,\n",
        "                                padding=0, offset=0,\n",
        "                                bgt_types=['parkeervlak',],\n",
        "                                merge=False)\n",
        "\n",
        "    tiles_bgt_dict[tilecode] = {'filename': filename, \n",
        "                                'bbox': bbox, \n",
        "                                'tile_polygon': bbox_to_polygon(bbox),\n",
        "                                'sw_polygons': sidewalk_polygons, \n",
        "                                'pkv_polygons': parkeervlak_polygons,\n",
        "                                'lines_in_tile': None,\n",
        "                                'potential_crossing_lines': None}"
      ],
      "outputs": [],
      "execution_count": null,
      "metadata": {
        "gather": {
          "logged": 1705404516096
        }
      },
      "id": "7d99564c"
    },
    {
      "cell_type": "markdown",
      "source": [
        "# 1. First method - heights"
      ],
      "metadata": {},
      "id": "e4b13723"
    },
    {
      "cell_type": "markdown",
      "source": [
        "## Add all lines and potential crossing lines to point cloud information dictionary\n",
        "We split line between sidewalk and road in segments. Next, we create overlapping polygons of these line segments with given buffer along the line."
      ],
      "metadata": {},
      "id": "b4299b88"
    },
    {
      "cell_type": "code",
      "source": [
        "# Loop over point cloud and generate curb height images\n",
        "for tilecode, values in tiles_bgt_dict.items():\n",
        "    sidewalk_polygons = tiles_bgt_dict[tilecode]['sw_polygons']\n",
        "    parkeervlak_polygons = tiles_bgt_dict[tilecode]['pkv_polygons']\n",
        "\n",
        "    # Check if point cloud tile holds sidewalk polygons\n",
        "    if sidewalk_polygons:\n",
        "        tile_polygon = tiles_bgt_dict[tilecode]['tile_polygon']\n",
        "        sidewalks_merged = unary_union(sidewalk_polygons)\n",
        "        road_in_tile = sidewalks_merged.intersection(tile_polygon)\n",
        "        \n",
        "        boundary = road_in_tile.boundary\n",
        "        lines_in_tile = boundary.intersection(tile_polygon.buffer(-0.5))\n",
        "\n",
        "        # Remove curbs next to parking, these are not accessible\n",
        "        potential_crossing_lines = lines_in_tile\n",
        "        for parkeer in parkeervlak_polygons:\n",
        "            potential_crossing_lines = potential_crossing_lines.difference(parkeer)\n",
        "\n",
        "        # Add lines to dictionary\n",
        "        tiles_bgt_dict[tilecode]['lines_in_tile'] = lines_in_tile\n",
        "        tiles_bgt_dict[tilecode]['potential_crossing_lines'] = potential_crossing_lines"
      ],
      "outputs": [],
      "execution_count": null,
      "metadata": {
        "gather": {
          "logged": 1705404517361
        }
      },
      "id": "d2a394dc"
    },
    {
      "cell_type": "markdown",
      "source": [
        "### Set parameters for curb detection"
      ],
      "metadata": {},
      "id": "c942530c"
    },
    {
      "cell_type": "code",
      "source": [
        "## Tweak parameters\n",
        "\n",
        "# Cut offs for height categories\n",
        "min_h = 0.04 # 0.07\n",
        "#mid_h = 0.15  # 0.15\n",
        "\n",
        "# Width of the buffer (to both sides)\n",
        "buffer_w = 0.15 # 0.5\n",
        "\n",
        "# Amount of points to take the median height from \n",
        "nr_points = 200 # 500, 1000\n",
        "\n",
        "# Minimum amount of points within polygon to continue\n",
        "min_nr_points = nr_points # 1000\n",
        "\n",
        "# length of polygons\n",
        "distance_delta = 1 # 2"
      ],
      "outputs": [],
      "execution_count": null,
      "metadata": {
        "gather": {
          "logged": 1705404517446
        },
        "jupyter": {
          "outputs_hidden": false,
          "source_hidden": false
        },
        "nteract": {
          "transient": {
            "deleting": false
          }
        }
      },
      "id": "7be42374-f295-4d94-be7c-4edf0a32b4a0"
    },
    {
      "cell_type": "markdown",
      "source": [
        "### Plot possible crossing lines on map and save as csv"
      ],
      "metadata": {},
      "id": "07eff1db"
    },
    {
      "cell_type": "code",
      "source": [
        "# Load curb heights csv file\n",
        "curb_height_df = pd.DataFrame(columns=['line_segm', 'line_segm_polygon', 'overarching_line_segm','curb_height'])\n",
        "\n",
        "# Calculate curb heights and save in csv\n",
        "for tilecode, values in tqdm(tiles_bgt_dict.items()):\n",
        "    potential_crossing_lines = tiles_bgt_dict[tilecode]['potential_crossing_lines']\n",
        "\n",
        "    # if potential_crossing_lines and not os.path.isfile(base_folder_images + '{}_height.png'.format(tilecode)):\n",
        "    if potential_crossing_lines:\n",
        "        lines_in_tile = tiles_bgt_dict[tilecode]['lines_in_tile']\n",
        "        potential_crossing_lines = tiles_bgt_dict[tilecode]['potential_crossing_lines']\n",
        "        filename = tiles_bgt_dict[tilecode]['filename']\n",
        "        try:\n",
        "            points, labels = read_las(filename)\n",
        "\n",
        "            if potential_crossing_lines.type == 'LineString':\n",
        "                potential_crossing_lines = [potential_crossing_lines]\n",
        "\n",
        "            for line in potential_crossing_lines:\n",
        "\n",
        "                points_on_line = get_points_on_line(line, distance_delta)\n",
        "                result = split_line_by_point(line, points_on_line)\n",
        "\n",
        "                for line_segm in result:\n",
        "                    poly = line_segm.buffer(0.5, single_sided=True)\n",
        "                    poly2 = line_segm.buffer(-0.5, single_sided=True)\n",
        "                    poly_union = unary_union([poly, poly2])\n",
        "\n",
        "                    if line_segm.length < (distance_delta/2):\n",
        "                        continue\n",
        "\n",
        "                    # calc height difference planes of sidewalk and road using point cloud\n",
        "                    if poly_union.type == 'MultiPolygon':\n",
        "                        curb_height, available_points = 0, False\n",
        "                    else:\n",
        "                        curb_height, available_points = calculate_curb_height_median(points, labels, poly_union, nr_points)\n",
        "                        height_color = get_height_color(curb_height, available_points, min_h)\n",
        "                    \n",
        "                    # add curb information to dataframe\n",
        "                    new_row = [line_segm, poly_union, line, curb_height]\n",
        "                    curb_height_df.loc[len(curb_height_df)] = new_row\n",
        "        except:\n",
        "            continue"
      ],
      "outputs": [],
      "execution_count": null,
      "metadata": {
        "gather": {
          "logged": 1705417266033
        },
        "jupyter": {
          "outputs_hidden": false,
          "source_hidden": false
        },
        "nteract": {
          "transient": {
            "deleting": false
          }
        }
      },
      "id": "0467794e-102f-43a9-8e85-d08de1871e6d"
    },
    {
      "cell_type": "markdown",
      "source": [
        "### export curb heights as csv and create html map curb heights and"
      ],
      "metadata": {
        "nteract": {
          "transient": {
            "deleting": false
          }
        }
      },
      "id": "a566abb5-d7d0-4fa2-b838-13b796dee7d9"
    },
    {
      "cell_type": "code",
      "source": [
        "curb_height_df['geometry'] = curb_height_df['line_segm']\n",
        "gdf = gpd.GeoDataFrame(curb_height_df, crs=CRS)\n",
        "gdf = gdf.drop(columns=['line_segm', 'line_segm_polygon', 'overarching_line_segm'])\n",
        "gdf['tilecode'] = np.floor(gdf.centroid.x/50).astype(int).astype(str) + '_' + np.floor(gdf.centroid.y/50).astype(int).astype(str)\n",
        "gdf.fillna(100, inplace=True)"
      ],
      "outputs": [],
      "execution_count": null,
      "metadata": {
        "gather": {
          "logged": 1705417278201
        },
        "jupyter": {
          "outputs_hidden": false,
          "source_hidden": false
        },
        "nteract": {
          "transient": {
            "deleting": false
          }
        }
      },
      "id": "59bf0e30-d2b0-4618-afcc-90acefe2ff7a"
    },
    {
      "cell_type": "code",
      "source": [
        "# Create tooltip for feature representation on map\n",
        "def gen_tooltip(fields, aliases):\n",
        "\n",
        "    tooltip = folium.GeoJsonTooltip(\n",
        "        fields=fields,\n",
        "        aliases=aliases,\n",
        "        localize=True,\n",
        "        sticky=False,\n",
        "        labels=True,\n",
        "        style=\"\"\"\n",
        "            background-color: #F0EFEF;\n",
        "            border: 2px solid black;\n",
        "            border-radius: 3px;\n",
        "            box-shadow: 3px;\n",
        "        \"\"\",\n",
        "        max_width=800,\n",
        "    )\n",
        "    return tooltip\n",
        "\n",
        "# set True for satelite background, False for regular background\n",
        "satelite = False\n",
        "\n",
        "# Set folium map background\n",
        "if satelite == True:\n",
        "    network_color = 'white'\n",
        "    tile = folium.TileLayer(\n",
        "                tiles = 'https://server.arcgisonline.com/ArcGIS/rest/services/World_Imagery/MapServer/tile/{z}/{y}/{x}',\n",
        "                attr = 'Esri',\n",
        "                name = 'Esri Satellite',\n",
        "                overlay = False,\n",
        "                control = True)\n",
        "else:\n",
        "    tile = 'openstreetmap'\n",
        "    network_color = 'black'\n",
        "\n",
        "# Create Folium map\n",
        "map = folium.Map(\n",
        "    location=[52.389164, 4.908453], tiles=tile,\n",
        "    min_zoom=10, max_zoom=25, zoom_start=15,\n",
        "    zoom_control=True, control_scale=True, control=False\n",
        "    )\n",
        "\n",
        "# Add colormap\n",
        "cmp = cm.linear.RdYlGn_11.colors\n",
        "cmp = list(reversed(cmp))\n",
        "colormap = cm.LinearColormap(colors=cmp, vmin=0, vmax=0.2, caption='Curb height (m)')\n",
        "colormap.add_to(map)\n",
        "\n",
        "# Add curb height features\n",
        "json = gdf.to_crs(crs='EPSG:4326').to_json()\n",
        "feature_names = gdf.columns.tolist()\n",
        "feature_names.remove('geometry')\n",
        "tooltip = gen_tooltip(feature_names, feature_names)\n",
        "folium.GeoJson(json, style_function=lambda feature: {\"color\": colormap(feature[\"properties\"]['curb_height']) if feature['properties']['curb_height'] != 100 else 'black', \n",
        "            \"weight\": 7 if feature[\"properties\"]['curb_height'] != 100 else 2}, tooltip=tooltip).add_to(map)"
      ],
      "outputs": [],
      "execution_count": null,
      "metadata": {
        "gather": {
          "logged": 1705417287533
        },
        "jupyter": {
          "outputs_hidden": false,
          "source_hidden": false
        },
        "nteract": {
          "transient": {
            "deleting": false
          }
        }
      },
      "id": "6a33e031-fb4e-498b-a18b-3f05e2d1b380"
    },
    {
      "cell_type": "code",
      "source": [
        "# Change directory \n",
        "os.system('sudo blobfuse /home/azureuser/cloudfiles/code/blobfuse/sidewalk --tmp-path=/mnt/resource/blobfusetmp --config-file=/home/azureuser/cloudfiles/code/blobfuse/fuse_connection_sidewalk.cfg -o attr_timeout=3600 -o entry_timeout=3600 -o negative_timeout=3600 -o allow_other -o nonempty')\n",
        "\n",
        "# Save curb height data as csv\n",
        "curb_height_df.to_csv(cf.out_folder + '/curb_heights/curbs_and_heights.csv')\n",
        "\n",
        "# Save network with curb height features as html map\n",
        "if satelite == True:\n",
        "    map.save(cf.out_folder + '/curb_heights/curb_height_map_gradients_satelite.html')\n",
        "else:\n",
        "    map.save(cf.out_folder + '/curb_heights/curb_height_map_gradients.html')"
      ],
      "outputs": [],
      "execution_count": null,
      "metadata": {
        "jupyter": {
          "source_hidden": false,
          "outputs_hidden": false
        },
        "nteract": {
          "transient": {
            "deleting": false
          }
        },
        "gather": {
          "logged": 1705417310498
        }
      },
      "id": "d02c58bb-5d29-4191-9883-ebeca9f6a5af"
    }
  ],
  "metadata": {
    "kernel_info": {
      "name": "curb_exploration"
    },
    "kernelspec": {
      "display_name": "curb_exploration",
      "language": "python",
      "name": "curb_exploration"
    },
    "language_info": {
      "name": "python",
      "version": "3.8.0",
      "mimetype": "text/x-python",
      "codemirror_mode": {
        "name": "ipython",
        "version": 3
      },
      "pygments_lexer": "ipython3",
      "nbconvert_exporter": "python",
      "file_extension": ".py"
    },
    "microsoft": {
      "host": {
        "AzureML": {
          "notebookHasBeenCompleted": true
        }
      },
      "ms_spell_check": {
        "ms_spell_check_language": "en"
      }
    },
    "nteract": {
      "version": "nteract-front-end@1.0.0"
    }
  },
  "nbformat": 4,
  "nbformat_minor": 5
}