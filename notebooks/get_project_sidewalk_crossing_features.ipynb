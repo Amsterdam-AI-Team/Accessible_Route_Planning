{
  "cells": [
    {
      "cell_type": "markdown",
      "source": [
        "# Project Sidewalk - get crossing features"
      ],
      "metadata": {},
      "id": "7c5326ee"
    },
    {
      "cell_type": "code",
      "source": [
        "import json\n",
        "import requests\n",
        "import functions as f\n",
        "\n",
        "import pandas as pd\n",
        "import geopandas as gpd\n",
        "from geopandas import GeoDataFrame\n",
        "\n",
        "import matplotlib.pyplot as plt\n",
        "\n",
        "import seaborn as sns\n",
        "import folium\n",
        "\n",
        "import config_azure as cf"
      ],
      "outputs": [],
      "execution_count": null,
      "metadata": {
        "gather": {
          "logged": 1705329072218
        }
      },
      "id": "78547941"
    },
    {
      "cell_type": "code",
      "source": [
        "os.system('sudo blobfuse /home/azureuser/cloudfiles/code/blobfuse/sidewalk --tmp-path=/mnt/resource/blobfusetmp --config-file=/home/azureuser/cloudfiles/code/blobfuse/fuse_connection_sidewalk.cfg -o attr_timeout=3600 -o entry_timeout=3600 -o negative_timeout=3600 -o allow_other -o nonempty')"
      ],
      "outputs": [],
      "execution_count": null,
      "metadata": {
        "jupyter": {
          "source_hidden": false,
          "outputs_hidden": false
        },
        "nteract": {
          "transient": {
            "deleting": false
          }
        },
        "gather": {
          "logged": 1705329072357
        }
      },
      "id": "e169d77f-d723-4e98-9bf9-871f5e93b39b"
    },
    {
      "cell_type": "markdown",
      "source": [
        "### Settings"
      ],
      "metadata": {},
      "id": "39b45d8d"
    },
    {
      "cell_type": "code",
      "source": [
        "CRS = 'epsg:28992'"
      ],
      "outputs": [],
      "execution_count": null,
      "metadata": {
        "gather": {
          "logged": 1705329072575
        }
      },
      "id": "69b1645b"
    },
    {
      "cell_type": "markdown",
      "source": [
        "## 1. Get project sidewalk data"
      ],
      "metadata": {},
      "id": "6e81e822"
    },
    {
      "cell_type": "markdown",
      "source": [
        "### Get the correct url for a small test neighborhood or the whole city"
      ],
      "metadata": {},
      "id": "7077c387"
    },
    {
      "cell_type": "code",
      "source": [
        "base_url = \"https://sidewalk-amsterdam.cs.washington.edu/v2/access/attributesWithLabels?lat1={}&lng1={}&lat2={}&lng2={}\" \n",
        "amsterdam_bbox_coords = (52.303, 4.8, 52.425, 5.05)\n",
        "url = base_url.format(*amsterdam_bbox_coords)"
      ],
      "outputs": [],
      "execution_count": null,
      "metadata": {
        "gather": {
          "logged": 1705329072656
        }
      },
      "id": "782c3134"
    },
    {
      "cell_type": "markdown",
      "source": [
        "### Try to read the data from local dump if available else go to the Project Sidewalk API"
      ],
      "metadata": {},
      "id": "5b8822a8"
    },
    {
      "cell_type": "code",
      "source": [
        "local_dump = url.replace('/', '|')\n",
        "\n",
        "try:\n",
        "    project_sidewalk_labels = json.load(open(local_dump, 'r'))\n",
        "except Exception as e:\n",
        "    print(\"Couldn't load local dump\")\n",
        "    project_sidewalk_labels = requests.get(url.format(*amsterdam_bbox_coords)).json()\n",
        "    json.dump(project_sidewalk_labels, open(local_dump, 'w'))"
      ],
      "outputs": [],
      "execution_count": null,
      "metadata": {
        "gather": {
          "logged": 1705329072745
        }
      },
      "id": "28bf7d4b"
    },
    {
      "cell_type": "markdown",
      "source": [
        "### Create sidewalk data geodataframe"
      ],
      "metadata": {},
      "id": "7936041d"
    },
    {
      "cell_type": "code",
      "source": [
        "p_sw_gdf = gpd.GeoDataFrame.from_features(project_sidewalk_labels['features'], crs='epsg:4326')\n",
        "p_sw_gdf = p_sw_gdf.to_crs(CRS)\n",
        "p_sw_gdf"
      ],
      "outputs": [],
      "execution_count": null,
      "metadata": {
        "gather": {
          "logged": 1705329072922
        }
      },
      "id": "2fd2398e"
    },
    {
      "cell_type": "markdown",
      "source": [
        "### Get mask of area"
      ],
      "metadata": {},
      "id": "da95144e-f6b5-4f06-8904-2c480e47e075"
    },
    {
      "cell_type": "code",
      "source": [
        "# Import areas\n",
        "df_areas = gpd.read_file(cf.output_pilot_area)\n",
        "polygon = df_areas.to_crs(crs=CRS).unary_union"
      ],
      "outputs": [],
      "execution_count": null,
      "metadata": {
        "gather": {
          "logged": 1705329073017
        }
      },
      "id": "30740862-ba60-4cc2-9e76-b0c0f1956fb8"
    },
    {
      "cell_type": "markdown",
      "source": [
        "### Extract sidewalk data in polygon of area"
      ],
      "metadata": {},
      "id": "147e575d-8575-4d65-9f03-02666abdb294"
    },
    {
      "cell_type": "code",
      "source": [
        "sw_data_in_area_mask = polygon.contains(p_sw_gdf['geometry'])\n",
        "p_sw_area_gdf = p_sw_gdf.loc[sw_data_in_area_mask]"
      ],
      "outputs": [],
      "execution_count": null,
      "metadata": {
        "gather": {
          "logged": 1705329073099
        }
      },
      "id": "67304b4e-bb2b-4c4e-9c77-f280215d952f"
    },
    {
      "cell_type": "markdown",
      "source": [
        "### Inspect data"
      ],
      "metadata": {},
      "id": "df1c3a52"
    },
    {
      "cell_type": "code",
      "source": [
        "if p_sw_area_gdf.empty:\n",
        "    print('No sidewalk data available in area')\n",
        "\n",
        "p_sw_area_gdf"
      ],
      "outputs": [],
      "execution_count": null,
      "metadata": {
        "gather": {
          "logged": 1705329073243
        }
      },
      "id": "6d6a9f15"
    },
    {
      "cell_type": "code",
      "source": [
        "# Create tooltip for feature representation on map\n",
        "def gen_tooltip(fields, aliases):\n",
        "\n",
        "    tooltip = folium.GeoJsonTooltip(\n",
        "        fields=fields,\n",
        "        aliases=aliases,\n",
        "        localize=True,\n",
        "        sticky=False,\n",
        "        labels=True,\n",
        "        style=\"\"\"\n",
        "            background-color: #F0EFEF;\n",
        "            border: 2px solid black;\n",
        "            border-radius: 3px;\n",
        "            box-shadow: 3px;\n",
        "        \"\"\",\n",
        "        max_width=800,\n",
        "    )\n",
        "    return tooltip\n",
        "\n",
        "# set True for satelite background, False for regular background\n",
        "satelite = False\n",
        "\n",
        "# Set folium map background\n",
        "if satelite == True:\n",
        "    network_color = 'white'\n",
        "    tile = folium.TileLayer(\n",
        "                tiles = 'https://server.arcgisonline.com/ArcGIS/rest/services/World_Imagery/MapServer/tile/{z}/{y}/{x}',\n",
        "                attr = 'Esri',\n",
        "                name = 'Esri Satellite',\n",
        "                overlay = False,\n",
        "                control = True)\n",
        "else:\n",
        "    tile = 'openstreetmap'\n",
        "    network_color = 'black'\n",
        "\n",
        "# Create Folium map\n",
        "map = folium.Map(\n",
        "    location=[52.389164, 4.908453], tiles=tile,\n",
        "    min_zoom=10, max_zoom=25, zoom_start=15,\n",
        "    zoom_control=True, control_scale=True, control=False\n",
        "    )\n",
        "\n",
        "# Add traffic sign features\n",
        "feature_names = p_sw_area_gdf.columns.tolist()\n",
        "feature_names.remove('geometry')\n",
        "tooltip = gen_tooltip(feature_names, feature_names)\n",
        "geo_j = folium.GeoJson(p_sw_area_gdf, tooltip=tooltip, style_function=lambda x: {\"color\": \"orange\", \"weight\": 10}).add_to(map)\n",
        "\n",
        "map"
      ],
      "outputs": [],
      "execution_count": null,
      "metadata": {
        "gather": {
          "logged": 1705329073502
        }
      },
      "id": "69dc88ba"
    },
    {
      "cell_type": "markdown",
      "source": [
        "### Save project sidewalk data in selected area as csv"
      ],
      "metadata": {},
      "id": "acb72868-c042-407d-af85-6a8d57833c2a"
    },
    {
      "cell_type": "code",
      "source": [
        "# Save project sidewalk crossing features as csv\n",
        "p_sw_area_gdf.to_csv(cf.out_folder + '/crossing_features/project_sidewalk/crossing_features_project_sidewalk.csv')\n",
        "\n",
        "# Save network with project sidewalk crossing features as html map\n",
        "if satelite == True:\n",
        "    map.save(cf.out_folder + '/crossing_features/project_sidewalk/crossing_features_project_sidewalk_satelite.html')\n",
        "else:\n",
        "    map.save(cf.out_folder + '/crossing_features/project_sidewalk/crossing_features_project_sidewalk.html')"
      ],
      "outputs": [],
      "execution_count": null,
      "metadata": {
        "gather": {
          "logged": 1705329073603
        }
      },
      "id": "ec3e3409-8717-4c25-8164-4aabb4d782fe"
    }
  ],
  "metadata": {
    "kernelspec": {
      "display_name": "project_sidewalk",
      "language": "python",
      "name": "project_sidewalk"
    },
    "language_info": {
      "name": "python",
      "version": "3.8.0",
      "mimetype": "text/x-python",
      "codemirror_mode": {
        "name": "ipython",
        "version": 3
      },
      "pygments_lexer": "ipython3",
      "nbconvert_exporter": "python",
      "file_extension": ".py"
    },
    "microsoft": {
      "ms_spell_check": {
        "ms_spell_check_language": "en"
      },
      "host": {
        "AzureML": {
          "notebookHasBeenCompleted": true
        }
      }
    },
    "nteract": {
      "version": "nteract-front-end@1.0.0"
    }
  },
  "nbformat": 4,
  "nbformat_minor": 5
}