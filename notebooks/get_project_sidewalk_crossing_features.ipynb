{
  "cells": [
    {
      "cell_type": "markdown",
      "id": "7c5326ee",
      "metadata": {},
      "source": [
        "# Project Sidewalk - get crossing features"
      ]
    },
    {
      "cell_type": "code",
      "execution_count": null,
      "id": "080e1e2f-d560-4f05-b941-790fb5fc375d",
      "metadata": {
        "gather": {
          "logged": 1705499450160
        },
        "jupyter": {
          "outputs_hidden": false,
          "source_hidden": false
        },
        "nteract": {
          "transient": {
            "deleting": false
          }
        }
      },
      "outputs": [],
      "source": [
        "# Select where to run notebook: \"azure\" or \"local\"\n",
        "my_run = \"azure\""
      ]
    },
    {
      "cell_type": "code",
      "execution_count": null,
      "id": "78547941",
      "metadata": {
        "gather": {
          "logged": 1705499452818
        }
      },
      "outputs": [],
      "source": [
        "import set_path\n",
        "\n",
        "import json\n",
        "import requests\n",
        "\n",
        "import geopandas as gpd\n",
        "from geopandas import GeoDataFrame\n",
        "\n",
        "import folium\n",
        "\n",
        "import plot_utils\n",
        "\n",
        "import settings as st\n",
        "\n",
        "if my_run == \"azure\":\n",
        "    import config_azure as cf\n",
        "elif my_run == \"local\":\n",
        "    import config as cf"
      ]
    },
    {
      "cell_type": "code",
      "execution_count": null,
      "id": "e169d77f-d723-4e98-9bf9-871f5e93b39b",
      "metadata": {
        "gather": {
          "logged": 1705499454717
        },
        "jupyter": {
          "outputs_hidden": false,
          "source_hidden": false
        },
        "nteract": {
          "transient": {
            "deleting": false
          }
        }
      },
      "outputs": [],
      "source": [
        "os.system('sudo blobfuse /home/azureuser/cloudfiles/code/blobfuse/sidewalk --tmp-path=/mnt/resource/blobfusetmp --config-file=/home/azureuser/cloudfiles/code/blobfuse/fuse_connection_sidewalk.cfg -o attr_timeout=3600 -o entry_timeout=3600 -o negative_timeout=3600 -o allow_other -o nonempty')"
      ]
    },
    {
      "cell_type": "markdown",
      "id": "39b45d8d",
      "metadata": {},
      "source": [
        "### Settings"
      ]
    },
    {
      "cell_type": "code",
      "execution_count": null,
      "id": "69b1645b",
      "metadata": {
        "gather": {
          "logged": 1705499456149
        }
      },
      "outputs": [],
      "source": [
        "CRS = st.CRS"
      ]
    },
    {
      "cell_type": "markdown",
      "id": "6e81e822",
      "metadata": {},
      "source": [
        "## 1. Get project sidewalk data"
      ]
    },
    {
      "cell_type": "markdown",
      "id": "7077c387",
      "metadata": {},
      "source": [
        "### Get the correct url for a small test neighborhood or the whole city"
      ]
    },
    {
      "cell_type": "code",
      "execution_count": null,
      "id": "782c3134",
      "metadata": {
        "gather": {
          "logged": 1705499458291
        }
      },
      "outputs": [],
      "source": [
        "base_url = \"https://sidewalk-amsterdam.cs.washington.edu/v2/access/attributesWithLabels?lat1={}&lng1={}&lat2={}&lng2={}\" \n",
        "amsterdam_bbox_coords = (52.303, 4.8, 52.425, 5.05)\n",
        "url = base_url.format(*amsterdam_bbox_coords)"
      ]
    },
    {
      "cell_type": "markdown",
      "id": "5b8822a8",
      "metadata": {},
      "source": [
        "### Try to read the data from local dump if available else go to the Project Sidewalk API"
      ]
    },
    {
      "cell_type": "code",
      "execution_count": null,
      "id": "28bf7d4b",
      "metadata": {
        "gather": {
          "logged": 1705499459528
        }
      },
      "outputs": [],
      "source": [
        "local_dump = url.replace('/', '|')\n",
        "\n",
        "try:\n",
        "    project_sidewalk_labels = json.load(open(local_dump, 'r'))\n",
        "except Exception as e:\n",
        "    print(\"Couldn't load local dump\")\n",
        "    project_sidewalk_labels = requests.get(url.format(*amsterdam_bbox_coords)).json()\n",
        "    json.dump(project_sidewalk_labels, open(local_dump, 'w'))"
      ]
    },
    {
      "cell_type": "markdown",
      "id": "7936041d",
      "metadata": {},
      "source": [
        "### Create sidewalk data geodataframe"
      ]
    },
    {
      "cell_type": "code",
      "execution_count": null,
      "id": "2fd2398e",
      "metadata": {
        "gather": {
          "logged": 1705499461520
        }
      },
      "outputs": [],
      "source": [
        "p_sw_gdf = gpd.GeoDataFrame.from_features(project_sidewalk_labels['features'], crs='epsg:4326')\n",
        "p_sw_gdf = p_sw_gdf.to_crs(CRS)"
      ]
    },
    {
      "cell_type": "markdown",
      "id": "da95144e-f6b5-4f06-8904-2c480e47e075",
      "metadata": {},
      "source": [
        "### Get mask of area"
      ]
    },
    {
      "cell_type": "code",
      "execution_count": null,
      "id": "30740862-ba60-4cc2-9e76-b0c0f1956fb8",
      "metadata": {
        "gather": {
          "logged": 1705499464385
        }
      },
      "outputs": [],
      "source": [
        "# Import areas\n",
        "df_areas = gpd.read_file(cf.output_pilot_area)\n",
        "polygon = df_areas.to_crs(crs=CRS).unary_union"
      ]
    },
    {
      "cell_type": "markdown",
      "id": "147e575d-8575-4d65-9f03-02666abdb294",
      "metadata": {},
      "source": [
        "### Extract sidewalk data in polygon of area"
      ]
    },
    {
      "cell_type": "code",
      "execution_count": null,
      "id": "67304b4e-bb2b-4c4e-9c77-f280215d952f",
      "metadata": {
        "gather": {
          "logged": 1705499465779
        }
      },
      "outputs": [],
      "source": [
        "sw_data_in_area_mask = polygon.contains(p_sw_gdf['geometry'])\n",
        "p_sw_area_gdf = p_sw_gdf.loc[sw_data_in_area_mask]"
      ]
    },
    {
      "cell_type": "markdown",
      "id": "df1c3a52",
      "metadata": {},
      "source": [
        "### Inspect data"
      ]
    },
    {
      "cell_type": "code",
      "execution_count": null,
      "id": "6d6a9f15",
      "metadata": {
        "gather": {
          "logged": 1705499596438
        }
      },
      "outputs": [],
      "source": [
        "if p_sw_area_gdf.empty:\n",
        "    print('No sidewalk data available in area')\n",
        "\n",
        "p_sw_area_gdf"
      ]
    },
    {
      "cell_type": "code",
      "execution_count": null,
      "id": "69dc88ba",
      "metadata": {
        "gather": {
          "logged": 1705499736290
        }
      },
      "outputs": [],
      "source": [
        "# set True for satelite background, False for regular background\n",
        "satelite = False\n",
        "\n",
        "# Create Folium map\n",
        "map = folium.Map(\n",
        "    location=[52.389164, 4.908453], tiles=plot_utils.generate_map_params(satelite=satelite),\n",
        "    min_zoom=10, max_zoom=25, zoom_start=15,\n",
        "    zoom_control=True, control_scale=True, control=False\n",
        "    )\n",
        "\n",
        "# Add traffic sign features\n",
        "feature_names = p_sw_area_gdf.columns.tolist()\n",
        "feature_names.remove('geometry')\n",
        "tooltip = plot_utils.gen_tooltip(feature_names, feature_names)\n",
        "geo_j = folium.GeoJson(p_sw_area_gdf, tooltip=tooltip, style_function=lambda x: {\"color\": \"orange\", \"weight\": 10}).add_to(map)\n",
        "\n",
        "map"
      ]
    },
    {
      "cell_type": "markdown",
      "id": "acb72868-c042-407d-af85-6a8d57833c2a",
      "metadata": {},
      "source": [
        "### Save project sidewalk data in selected area as csv"
      ]
    },
    {
      "cell_type": "code",
      "execution_count": null,
      "id": "ec3e3409-8717-4c25-8164-4aabb4d782fe",
      "metadata": {
        "gather": {
          "logged": 1705329073603
        }
      },
      "outputs": [],
      "source": [
        "# Save project sidewalk crossing features as csv\n",
        "p_sw_area_gdf.to_csv(cf.output_project_sidewalk_crossing_features)"
      ]
    }
  ],
  "metadata": {
    "kernelspec": {
      "display_name": "project_sidewalk",
      "language": "python",
      "name": "project_sidewalk"
    },
    "language_info": {
      "codemirror_mode": {
        "name": "ipython",
        "version": 3
      },
      "file_extension": ".py",
      "mimetype": "text/x-python",
      "name": "python",
      "nbconvert_exporter": "python",
      "pygments_lexer": "ipython3",
      "version": "3.8.0"
    },
    "microsoft": {
      "host": {
        "AzureML": {
          "notebookHasBeenCompleted": true
        }
      },
      "ms_spell_check": {
        "ms_spell_check_language": "en"
      }
    },
    "nteract": {
      "version": "nteract-front-end@1.0.0"
    }
  },
  "nbformat": 4,
  "nbformat_minor": 5
}
