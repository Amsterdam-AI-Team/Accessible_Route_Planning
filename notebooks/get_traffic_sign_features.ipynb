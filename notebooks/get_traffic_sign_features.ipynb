{
  "cells": [
    {
      "cell_type": "markdown",
      "source": [
        "# Get traffic sign features"
      ],
      "metadata": {},
      "id": "7c5326ee"
    },
    {
      "cell_type": "code",
      "source": [
        "import json\n",
        "import requests\n",
        "\n",
        "import pandas as pd\n",
        "import geopandas as gpd\n",
        "from geopandas import GeoDataFrame\n",
        "\n",
        "import matplotlib.pyplot as plt\n",
        "\n",
        "import seaborn as sns\n",
        "import folium\n",
        "\n",
        "import functions as f\n",
        "\n",
        "import config_azure as cf"
      ],
      "outputs": [],
      "execution_count": null,
      "metadata": {
        "gather": {
          "logged": 1705328628834
        }
      },
      "id": "78547941"
    },
    {
      "cell_type": "code",
      "source": [
        "os.system('sudo blobfuse /home/azureuser/cloudfiles/code/blobfuse/sidewalk --tmp-path=/mnt/resource/blobfusetmp --config-file=/home/azureuser/cloudfiles/code/blobfuse/fuse_connection_sidewalk.cfg -o attr_timeout=3600 -o entry_timeout=3600 -o negative_timeout=3600 -o allow_other -o nonempty')"
      ],
      "outputs": [],
      "execution_count": null,
      "metadata": {
        "jupyter": {
          "source_hidden": false,
          "outputs_hidden": false
        },
        "nteract": {
          "transient": {
            "deleting": false
          }
        },
        "gather": {
          "logged": 1705328631641
        }
      },
      "id": "fac76b68-648c-41b8-83ef-e2c99f0f1ffb"
    },
    {
      "cell_type": "markdown",
      "source": [
        "### Settings"
      ],
      "metadata": {},
      "id": "39b45d8d"
    },
    {
      "cell_type": "code",
      "source": [
        "CRS = 'epsg:28992'"
      ],
      "outputs": [],
      "execution_count": null,
      "metadata": {
        "gather": {
          "logged": 1705328633187
        }
      },
      "id": "69b1645b"
    },
    {
      "cell_type": "code",
      "source": [
        "# Input paths\n",
        "#https://data.amsterdam.nl/datasets/AlrMVAnBaUNb-w/verkeersborden/?term=Verkeersborden\n",
        "signs_file = '2022juni_verkeersborden_obv_beeldherkenning.csv'"
      ],
      "outputs": [],
      "execution_count": null,
      "metadata": {
        "gather": {
          "logged": 1705328634817
        }
      },
      "id": "c92d97c6"
    },
    {
      "cell_type": "markdown",
      "source": [
        "### Functions"
      ],
      "metadata": {},
      "id": "2efb0628"
    },
    {
      "cell_type": "code",
      "source": [
        "def subset_data(df, df_loc):\n",
        "    df_sub = gpd.sjoin(df, df_loc.set_geometry('buffer'), how='inner').reset_index()\n",
        "    df_sub = df_sub.rename(columns = {'geometry_left': 'geometry'})\n",
        "    df_sub = df_sub.set_geometry('geometry')\n",
        "    return df_sub"
      ],
      "outputs": [],
      "execution_count": null,
      "metadata": {
        "gather": {
          "logged": 1705328636775
        }
      },
      "id": "16a47c6f"
    },
    {
      "cell_type": "markdown",
      "source": [
        "## 1. Get traffic sign data"
      ],
      "metadata": {},
      "id": "1c896507"
    },
    {
      "cell_type": "code",
      "source": [
        "df_signs_all = pd.read_csv(signs_file)\n",
        "df_signs_all = GeoDataFrame(df_signs_all, geometry=gpd.points_from_xy(df_signs_all['x-coordinaat'], \n",
        "                                                                      df_signs_all['y-coordinaat']), crs=CRS)\n",
        "df_signs_all = df_signs_all.drop(['x-coordinaat', 'y-coordinaat'], axis=1)"
      ],
      "outputs": [],
      "execution_count": null,
      "metadata": {
        "gather": {
          "logged": 1705328639154
        }
      },
      "id": "bd3c5710"
    },
    {
      "cell_type": "markdown",
      "source": [
        "### Select crosswalk traffic signs"
      ],
      "metadata": {},
      "id": "a38c74cf"
    },
    {
      "cell_type": "code",
      "source": [
        "#L02(F): Voetgangers oversteekplaats / zebrapad (blauw)\n",
        "#J22(F): Voetgangersoversteekplaats met een zebrapad (vooraanduiding)  (rood)\n",
        "#J23(F): U nadert een niet gemarkeerde voetgangers oversteekplaats\n",
        "\n",
        "df_signs = df_signs_all[df_signs_all['rvv-modelnummer'].isin(['J22', 'J22F',\n",
        "                                                              'L02', 'L02F', 'L02OB15F'])].reset_index(drop=True)\n",
        "df_signs = df_signs.dropna(axis=1, how='all')  # remove columns without values"
      ],
      "outputs": [],
      "execution_count": null,
      "metadata": {
        "gather": {
          "logged": 1705328642718
        }
      },
      "id": "bf353169"
    },
    {
      "cell_type": "markdown",
      "source": [
        "### Get mask of area"
      ],
      "metadata": {},
      "id": "d6dfb28a-6e13-4fbd-85a3-c6dc555ec0b4"
    },
    {
      "cell_type": "code",
      "source": [
        "# Import areas\n",
        "df_areas = gpd.read_file(cf.output_pilot_area)\n",
        "polygon = df_areas.to_crs(crs=CRS).unary_union"
      ],
      "outputs": [],
      "execution_count": null,
      "metadata": {
        "gather": {
          "logged": 1705328644726
        }
      },
      "id": "49755f32-a8f8-4a2d-97c0-97b766db0c95"
    },
    {
      "cell_type": "markdown",
      "source": [
        "### Extract traffic sign information in polygon of area"
      ],
      "metadata": {},
      "id": "fe9ee2e9-03bc-4076-88d3-c8fd21c0913f"
    },
    {
      "cell_type": "code",
      "source": [
        "tl_data_in_area_mask = polygon.contains(df_signs['geometry'])\n",
        "tl_data_in_area = df_signs.loc[tl_data_in_area_mask]\n",
        "tl_data_in_area = tl_data_in_area.to_crs(\"EPSG:4326\")"
      ],
      "outputs": [],
      "execution_count": null,
      "metadata": {
        "gather": {
          "logged": 1705328648226
        }
      },
      "id": "02365d27-284d-4d1b-ba70-533f79ff256a"
    },
    {
      "cell_type": "markdown",
      "source": [
        "### Inspect data"
      ],
      "metadata": {},
      "id": "3715c106-5948-4028-8f82-653dcc3b2325"
    },
    {
      "cell_type": "code",
      "source": [
        "if tl_data_in_area.empty:\n",
        "    print('No sidewalk data available in area')\n",
        "\n",
        "tl_data_in_area"
      ],
      "outputs": [],
      "execution_count": null,
      "metadata": {
        "gather": {
          "logged": 1705328651255
        }
      },
      "id": "82b4ab6c-e5bd-4307-bee2-ab7e038b1784"
    },
    {
      "cell_type": "markdown",
      "source": [
        "## 2. Check traffic signs data"
      ],
      "metadata": {},
      "id": "231966eb"
    },
    {
      "cell_type": "markdown",
      "source": [
        "### Plot traffic signs data on html map "
      ],
      "metadata": {},
      "id": "c0b62814-64fa-4cf0-aed5-3172f03ca340"
    },
    {
      "cell_type": "code",
      "source": [
        "# Create tooltip for feature representation on map\n",
        "def gen_tooltip(fields, aliases):\n",
        "\n",
        "    tooltip = folium.GeoJsonTooltip(\n",
        "        fields=fields,\n",
        "        aliases=aliases,\n",
        "        localize=True,\n",
        "        sticky=False,\n",
        "        labels=True,\n",
        "        style=\"\"\"\n",
        "            background-color: #F0EFEF;\n",
        "            border: 2px solid black;\n",
        "            border-radius: 3px;\n",
        "            box-shadow: 3px;\n",
        "        \"\"\",\n",
        "        max_width=800,\n",
        "    )\n",
        "    return tooltip\n",
        "\n",
        "# set True for satelite background, False for regular background\n",
        "satelite = False\n",
        "\n",
        "# Set folium map background\n",
        "if satelite == True:\n",
        "    network_color = 'white'\n",
        "    tile = folium.TileLayer(\n",
        "                tiles = 'https://server.arcgisonline.com/ArcGIS/rest/services/World_Imagery/MapServer/tile/{z}/{y}/{x}',\n",
        "                attr = 'Esri',\n",
        "                name = 'Esri Satellite',\n",
        "                overlay = False,\n",
        "                control = True)\n",
        "else:\n",
        "    tile = 'openstreetmap'\n",
        "    network_color = 'black'\n",
        "\n",
        "# Create Folium map\n",
        "map = folium.Map(\n",
        "    location=[52.389164, 4.908453], tiles=tile,\n",
        "    min_zoom=10, max_zoom=25, zoom_start=15,\n",
        "    zoom_control=True, control_scale=True, control=False\n",
        "    )\n",
        "\n",
        "# Add traffic sign features\n",
        "feature_names = tl_data_in_area.columns.tolist()\n",
        "feature_names.remove('geometry')\n",
        "tooltip = gen_tooltip(feature_names, feature_names)\n",
        "geo_j = folium.GeoJson(tl_data_in_area, tooltip=tooltip, style_function=lambda x: {\"color\": \"orange\", \"weight\": 10}).add_to(map)\n",
        "\n",
        "map"
      ],
      "outputs": [],
      "execution_count": null,
      "metadata": {
        "gather": {
          "logged": 1705328681954
        }
      },
      "id": "659cc982-2681-4e72-b49b-327accb44e15"
    },
    {
      "cell_type": "markdown",
      "source": [
        "### Save features as csv and html map"
      ],
      "metadata": {},
      "id": "70e723e1-6687-4a3c-b46c-c7ff6cef3ccf"
    },
    {
      "cell_type": "code",
      "source": [
        "# Save traffic sign crossing features as csv\n",
        "tl_data_in_area.to_csv(cf.out_folder + '/crossing_features/traffic_sign/crossing_features_traffic_sign.csv')\n",
        "\n",
        "# Save network with traffic sign crossing features as html map\n",
        "if satelite == True:\n",
        "    map.save(cf.out_folder + '/crossing_features/traffic_sign/crossing_features_traffic_sign_satelite.html')\n",
        "else:\n",
        "    map.save(cf.out_folder + '/crossing_features/traffic_sign/crossing_features_traffic_sign.html')"
      ],
      "outputs": [],
      "execution_count": null,
      "metadata": {
        "gather": {
          "logged": 1702911220355
        }
      },
      "id": "634cc47e-437c-43e4-8723-c9aff618a3ca"
    }
  ],
  "metadata": {
    "kernelspec": {
      "name": "pc_curb_analysis",
      "language": "python",
      "display_name": "pc_curb_analysis"
    },
    "language_info": {
      "name": "python",
      "version": "3.8.0",
      "mimetype": "text/x-python",
      "codemirror_mode": {
        "name": "ipython",
        "version": 3
      },
      "pygments_lexer": "ipython3",
      "nbconvert_exporter": "python",
      "file_extension": ".py"
    },
    "microsoft": {
      "ms_spell_check": {
        "ms_spell_check_language": "en"
      },
      "host": {
        "AzureML": {
          "notebookHasBeenCompleted": true
        }
      }
    },
    "nteract": {
      "version": "nteract-front-end@1.0.0"
    },
    "kernel_info": {
      "name": "pc_curb_analysis"
    }
  },
  "nbformat": 4,
  "nbformat_minor": 5
}