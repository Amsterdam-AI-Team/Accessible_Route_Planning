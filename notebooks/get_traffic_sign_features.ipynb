{
  "cells": [
    {
      "cell_type": "markdown",
      "id": "7c5326ee",
      "metadata": {},
      "source": [
        "# Get traffic sign features"
      ]
    },
    {
      "cell_type": "code",
      "execution_count": null,
      "id": "20a2671b-d438-42f3-b2a7-7e8953581aa4",
      "metadata": {
        "gather": {
          "logged": 1705500505413
        },
        "jupyter": {
          "outputs_hidden": false,
          "source_hidden": false
        },
        "nteract": {
          "transient": {
            "deleting": false
          }
        }
      },
      "outputs": [],
      "source": [
        "# Select where to run notebook: \"azure\" or \"local\"\n",
        "my_run = \"azure\""
      ]
    },
    {
      "cell_type": "code",
      "execution_count": null,
      "id": "78547941",
      "metadata": {
        "gather": {
          "logged": 1705500519458
        }
      },
      "outputs": [],
      "source": [
        "import set_path\n",
        "\n",
        "import json\n",
        "import requests\n",
        "\n",
        "import pandas as pd\n",
        "import geopandas as gpd\n",
        "from geopandas import GeoDataFrame\n",
        "\n",
        "import folium\n",
        "\n",
        "import plot_utils\n",
        "\n",
        "import settings as st\n",
        "\n",
        "if my_run == \"azure\":\n",
        "    import config_azure as cf\n",
        "elif my_run == \"local\":\n",
        "    import config as cf"
      ]
    },
    {
      "cell_type": "code",
      "execution_count": null,
      "id": "fac76b68-648c-41b8-83ef-e2c99f0f1ffb",
      "metadata": {
        "gather": {
          "logged": 1705500521376
        },
        "jupyter": {
          "outputs_hidden": false,
          "source_hidden": false
        },
        "nteract": {
          "transient": {
            "deleting": false
          }
        }
      },
      "outputs": [],
      "source": [
        "os.system('sudo blobfuse /home/azureuser/cloudfiles/code/blobfuse/sidewalk --tmp-path=/mnt/resource/blobfusetmp --config-file=/home/azureuser/cloudfiles/code/blobfuse/fuse_connection_sidewalk.cfg -o attr_timeout=3600 -o entry_timeout=3600 -o negative_timeout=3600 -o allow_other -o nonempty')"
      ]
    },
    {
      "cell_type": "markdown",
      "id": "39b45d8d",
      "metadata": {},
      "source": [
        "### Settings"
      ]
    },
    {
      "cell_type": "code",
      "execution_count": null,
      "id": "69b1645b",
      "metadata": {
        "gather": {
          "logged": 1705500522757
        }
      },
      "outputs": [],
      "source": [
        "CRS = st.CRS"
      ]
    },
    {
      "cell_type": "code",
      "execution_count": null,
      "id": "c92d97c6",
      "metadata": {
        "gather": {
          "logged": 1705500526624
        }
      },
      "outputs": [],
      "source": [
        "# Input paths\n",
        "# https://data.amsterdam.nl/datasets/AlrMVAnBaUNb-w/verkeersborden/?term=Verkeersborden\n",
        "signs_file = '2022juni_verkeersborden_obv_beeldherkenning.csv'"
      ]
    },
    {
      "cell_type": "markdown",
      "id": "2efb0628",
      "metadata": {},
      "source": [
        "### Functions"
      ]
    },
    {
      "cell_type": "code",
      "execution_count": null,
      "id": "16a47c6f",
      "metadata": {
        "gather": {
          "logged": 1705500528336
        }
      },
      "outputs": [],
      "source": [
        "def subset_data(df, df_loc):\n",
        "    df_sub = gpd.sjoin(df, df_loc.set_geometry('buffer'), how='inner').reset_index()\n",
        "    df_sub = df_sub.rename(columns = {'geometry_left': 'geometry'})\n",
        "    df_sub = df_sub.set_geometry('geometry')\n",
        "    return df_sub"
      ]
    },
    {
      "cell_type": "markdown",
      "id": "1c896507",
      "metadata": {},
      "source": [
        "## 1. Get traffic sign data"
      ]
    },
    {
      "cell_type": "code",
      "execution_count": null,
      "id": "bd3c5710",
      "metadata": {
        "gather": {
          "logged": 1705500530343
        }
      },
      "outputs": [],
      "source": [
        "df_signs_all = pd.read_csv(signs_file)\n",
        "df_signs_all = GeoDataFrame(df_signs_all, geometry=gpd.points_from_xy(df_signs_all['x-coordinaat'], \n",
        "                                                                      df_signs_all['y-coordinaat']), crs=CRS)\n",
        "df_signs_all = df_signs_all.drop(['x-coordinaat', 'y-coordinaat'], axis=1)"
      ]
    },
    {
      "cell_type": "markdown",
      "id": "a38c74cf",
      "metadata": {},
      "source": [
        "### Select crosswalk traffic signs"
      ]
    },
    {
      "cell_type": "code",
      "execution_count": null,
      "id": "bf353169",
      "metadata": {
        "gather": {
          "logged": 1705500534937
        }
      },
      "outputs": [],
      "source": [
        "#L02(F): Voetgangers oversteekplaats / zebrapad (blauw)\n",
        "#J22(F): Voetgangersoversteekplaats met een zebrapad (vooraanduiding)  (rood)\n",
        "#J23(F): U nadert een niet gemarkeerde voetgangers oversteekplaats\n",
        "\n",
        "df_signs = df_signs_all[df_signs_all['rvv-modelnummer'].isin(['J22', 'J22F',\n",
        "                                                              'L02', 'L02F', 'L02OB15F'])].reset_index(drop=True)\n",
        "df_signs = df_signs.dropna(axis=1, how='all')  # remove columns without values"
      ]
    },
    {
      "cell_type": "markdown",
      "id": "d6dfb28a-6e13-4fbd-85a3-c6dc555ec0b4",
      "metadata": {},
      "source": [
        "### Get mask of area"
      ]
    },
    {
      "cell_type": "code",
      "execution_count": null,
      "id": "49755f32-a8f8-4a2d-97c0-97b766db0c95",
      "metadata": {
        "gather": {
          "logged": 1705500537655
        }
      },
      "outputs": [],
      "source": [
        "# Import areas\n",
        "df_areas = gpd.read_file(cf.output_pilot_area)\n",
        "polygon = df_areas.to_crs(crs=CRS).unary_union"
      ]
    },
    {
      "cell_type": "markdown",
      "id": "fe9ee2e9-03bc-4076-88d3-c8fd21c0913f",
      "metadata": {},
      "source": [
        "### Extract traffic sign information in polygon of area"
      ]
    },
    {
      "cell_type": "code",
      "execution_count": null,
      "id": "02365d27-284d-4d1b-ba70-533f79ff256a",
      "metadata": {
        "gather": {
          "logged": 1705500539830
        }
      },
      "outputs": [],
      "source": [
        "tl_data_in_area_mask = polygon.contains(df_signs['geometry'])\n",
        "tl_data_in_area = df_signs.loc[tl_data_in_area_mask]"
      ]
    },
    {
      "cell_type": "markdown",
      "id": "3715c106-5948-4028-8f82-653dcc3b2325",
      "metadata": {},
      "source": [
        "### Inspect data"
      ]
    },
    {
      "cell_type": "code",
      "execution_count": null,
      "id": "82b4ab6c-e5bd-4307-bee2-ab7e038b1784",
      "metadata": {
        "gather": {
          "logged": 1705500541393
        }
      },
      "outputs": [],
      "source": [
        "if tl_data_in_area.empty:\n",
        "    print('No sidewalk data available in area')\n",
        "\n",
        "tl_data_in_area"
      ]
    },
    {
      "cell_type": "markdown",
      "id": "231966eb",
      "metadata": {},
      "source": [
        "## 2. Check traffic signs data"
      ]
    },
    {
      "cell_type": "markdown",
      "id": "c0b62814-64fa-4cf0-aed5-3172f03ca340",
      "metadata": {},
      "source": [
        "### Plot traffic signs data on html map "
      ]
    },
    {
      "cell_type": "code",
      "execution_count": null,
      "id": "659cc982-2681-4e72-b49b-327accb44e15",
      "metadata": {
        "gather": {
          "logged": 1705500549427
        }
      },
      "outputs": [],
      "source": [
        "# set True for satelite background, False for regular background\n",
        "satelite = False\n",
        "\n",
        "# Create Folium map\n",
        "map = folium.Map(\n",
        "    location=[52.389164, 4.908453], tiles=plot_utils.generate_map_params(satelite=satelite),\n",
        "    min_zoom=10, max_zoom=25, zoom_start=15,\n",
        "    zoom_control=True, control_scale=True, control=False\n",
        "    )\n",
        "\n",
        "# Add traffic sign features\n",
        "feature_names = tl_data_in_area.columns.tolist()\n",
        "feature_names.remove('geometry')\n",
        "tooltip = plot_utils.gen_tooltip(feature_names, feature_names)\n",
        "geo_j = folium.GeoJson(tl_data_in_area, tooltip=tooltip, style_function=lambda x: {\"color\": \"orange\", \"weight\": 10}).add_to(map)\n",
        "\n",
        "map"
      ]
    },
    {
      "cell_type": "markdown",
      "id": "70e723e1-6687-4a3c-b46c-c7ff6cef3ccf",
      "metadata": {},
      "source": [
        "### Save features as csv and html map"
      ]
    },
    {
      "cell_type": "code",
      "execution_count": null,
      "id": "634cc47e-437c-43e4-8723-c9aff618a3ca",
      "metadata": {
        "gather": {
          "logged": 1705500558611
        }
      },
      "outputs": [],
      "source": [
        "# Save traffic sign crossing features as csv\n",
        "tl_data_in_area.to_csv(cf.output_traffic_sign_crossing_features)"
      ]
    }
  ],
  "metadata": {
    "kernel_info": {
      "name": "pc_curb_analysis"
    },
    "kernelspec": {
      "display_name": "pc_curb_analysis",
      "language": "python",
      "name": "pc_curb_analysis"
    },
    "language_info": {
      "codemirror_mode": {
        "name": "ipython",
        "version": 3
      },
      "file_extension": ".py",
      "mimetype": "text/x-python",
      "name": "python",
      "nbconvert_exporter": "python",
      "pygments_lexer": "ipython3",
      "version": "3.8.0"
    },
    "microsoft": {
      "host": {
        "AzureML": {
          "notebookHasBeenCompleted": true
        }
      },
      "ms_spell_check": {
        "ms_spell_check_language": "en"
      }
    },
    "nteract": {
      "version": "nteract-front-end@1.0.0"
    }
  },
  "nbformat": 4,
  "nbformat_minor": 5
}
