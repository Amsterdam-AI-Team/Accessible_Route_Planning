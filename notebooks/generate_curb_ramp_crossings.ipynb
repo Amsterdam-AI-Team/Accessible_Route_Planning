{
  "cells": [
    {
      "cell_type": "markdown",
      "id": "5f034096",
      "metadata": {},
      "source": [
        "# Add crossings"
      ]
    },
    {
      "cell_type": "code",
      "execution_count": null,
      "id": "99175144-9be5-4aaa-93ff-cbaafda2181d",
      "metadata": {
        "gather": {
          "logged": 1705419522054
        },
        "jupyter": {
          "outputs_hidden": false,
          "source_hidden": false
        },
        "nteract": {
          "transient": {
            "deleting": false
          }
        }
      },
      "outputs": [],
      "source": [
        "# Select where to run notebook: \"azure\" or \"local\"\n",
        "my_run = \"azure\""
      ]
    },
    {
      "cell_type": "code",
      "execution_count": null,
      "id": "071158b6",
      "metadata": {
        "gather": {
          "logged": 1705419524646
        }
      },
      "outputs": [],
      "source": [
        "import set_path\n",
        "\n",
        "import numpy as np\n",
        "import pandas as pd\n",
        "pd.options.mode.chained_assignment = None\n",
        "\n",
        "import shapely.geometry as sg\n",
        "import geopandas as gpd\n",
        "from shapely import wkt\n",
        "import momepy\n",
        "import networkx as nx\n",
        "from branca.element import Template, MacroElement\n",
        "from tqdm.notebook import tqdm\n",
        "import branca.colormap as cm\n",
        "\n",
        "import folium\n",
        "\n",
        "import crossing_utils\n",
        "import plot_utils\n",
        "\n",
        "import settings as st\n",
        "\n",
        "if my_run == \"azure\":\n",
        "    import config_azure as cf\n",
        "elif my_run == \"local\":\n",
        "    import config as cf"
      ]
    },
    {
      "cell_type": "code",
      "execution_count": null,
      "id": "7483f8f4-1714-49c4-a509-6a4784e49dfa",
      "metadata": {
        "gather": {
          "logged": 1705419566765
        },
        "jupyter": {
          "outputs_hidden": false,
          "source_hidden": false
        },
        "nteract": {
          "transient": {
            "deleting": false
          }
        }
      },
      "outputs": [],
      "source": [
        "os.system('sudo blobfuse /home/azureuser/cloudfiles/code/blobfuse/sidewalk --tmp-path=/mnt/resource/blobfusetmp --config-file=/home/azureuser/cloudfiles/code/blobfuse/fuse_connection_sidewalk.cfg -o attr_timeout=3600 -o entry_timeout=3600 -o negative_timeout=3600 -o allow_other -o nonempty')"
      ]
    },
    {
      "cell_type": "markdown",
      "id": "50c6b9b1",
      "metadata": {},
      "source": [
        "### Import walking and road network \n",
        "\n",
        "### NOTE: If the cf.output_road_network file does not exist yet, run the create_road_network.ipynb notebook before running this notebook"
      ]
    },
    {
      "cell_type": "code",
      "execution_count": null,
      "id": "b4a3ab12-418d-4c39-8d47-51946b25f288",
      "metadata": {
        "gather": {
          "logged": 1705419591089
        }
      },
      "outputs": [],
      "source": [
        "# Get basic pedestrian network with widths\n",
        "CRS = st.CRS\n",
        "\n",
        "gdf_network = gpd.read_file(cf.output_file_widths).to_crs(crs=CRS)\n",
        "graph_network = momepy.gdf_to_nx(gdf_network, approach='primal')\n",
        "cc_list = [x for y in zip(gdf_network['sidewalk_id'], gdf_network['sidewalk_id']) for x in y]\n",
        "gdf_network_nodes = gpd.GeoDataFrame(geometry = gdf_network.boundary.explode(index_parts=True), crs=CRS)\n",
        "gdf_network_nodes['x'], gdf_network_nodes['y'] = gdf_network_nodes.geometry.x, gdf_network_nodes.geometry.y\n",
        "gdf_network_nodes['cc'] = cc_list\n",
        "\n",
        "gdf_road_network = gpd.read_file(cf.output_road_network).to_crs(crs=CRS)"
      ]
    },
    {
      "cell_type": "markdown",
      "id": "b119fa36-97db-4304-98f3-9f2419d955c9",
      "metadata": {},
      "source": [
        "# 1. Create crossings with curb heights"
      ]
    },
    {
      "cell_type": "markdown",
      "id": "0305933d-ee94-4680-b9a6-9b3e17ea125d",
      "metadata": {},
      "source": [
        "### Import curb segments"
      ]
    },
    {
      "cell_type": "code",
      "execution_count": null,
      "id": "0d67ccd2-f06b-408a-bb19-535fba848a6c",
      "metadata": {
        "gather": {
          "logged": 1705419622023
        },
        "jupyter": {
          "outputs_hidden": false,
          "source_hidden": false
        },
        "nteract": {
          "transient": {
            "deleting": false
          }
        }
      },
      "outputs": [],
      "source": [
        "# Import curb heights\n",
        "ch_crossing_features = cf.output_curb_heigts\n",
        "df_ch = pd.read_csv(ch_crossing_features)\n",
        "df_ch['geometry'] = df_ch['line_segm'].apply(wkt.loads)\n",
        "gdf_ch = gpd.GeoDataFrame(df_ch, crs=CRS)\n",
        "graph_ch = momepy.gdf_to_nx(gdf_ch, approach='primal')"
      ]
    },
    {
      "cell_type": "markdown",
      "id": "8096e21a-ff68-4c06-aac5-3cf1c854e26d",
      "metadata": {
        "nteract": {
          "transient": {
            "deleting": false
          }
        }
      },
      "source": [
        "### Select curb segments to keep\n"
      ]
    },
    {
      "cell_type": "code",
      "execution_count": null,
      "id": "32ea3892-d7d9-4bb9-adfb-631e6ddf7331",
      "metadata": {
        "gather": {
          "logged": 1705419648371
        },
        "jupyter": {
          "outputs_hidden": false,
          "source_hidden": false
        },
        "nteract": {
          "transient": {
            "deleting": false
          }
        }
      },
      "outputs": [],
      "source": [
        "# Create network and crossing feature dataframes\n",
        "\n",
        "# TODO \n",
        "# Enable setting max_height >= 10cm (e.g., by generating compute with more RAM or compute crossings in smaller areas)\n",
        "\n",
        "# SET THIS VALUE\n",
        "max_height = 0.04 # in meter\n",
        "\n",
        "gdf_ch.dropna(subset=['curb_height'])\n",
        "gdf_ch = gdf_ch.loc[(gdf_ch['curb_height'] <= max_height)]\n",
        "gdf_ch['centroid'] = gdf_ch['geometry'].centroid\n",
        "gdf_ch.reset_index(drop=True, inplace=True)"
      ]
    },
    {
      "cell_type": "markdown",
      "id": "07544d50-e416-4a2b-869b-2b6d2658449a",
      "metadata": {},
      "source": [
        "### Determine connected components of curb edges \n",
        "#### These are used as a restrictive rule when creating possible crossing edges (i.e., crosing edges should connect different curbs)"
      ]
    },
    {
      "cell_type": "code",
      "execution_count": null,
      "id": "15c14ddb-b714-4980-91c6-aeac56477808",
      "metadata": {
        "gather": {
          "logged": 1705419675423
        },
        "jupyter": {
          "outputs_hidden": false,
          "source_hidden": false
        },
        "nteract": {
          "transient": {
            "deleting": false
          }
        }
      },
      "outputs": [],
      "source": [
        "# Calculate connected components for each edge\n",
        "# Option 1: From curb height edges\n",
        "# Option 2: From sidewalk edges\n",
        "# Option 1 results in more connected components since the curb height edges are more fragmentated (i.e., not all parts of sidewalk egde have height information)\n",
        "\n",
        "# Calculate using the connected components retrieved from the curb height edges\n",
        "cc_sidewalks = list(nx.connected_components(graph_ch))\n",
        "nodes_in_edge = [line.coords[0] for line in gdf_ch['geometry'].to_list()]\n",
        "cc_ids = [i for node in nodes_in_edge for i in range(len(cc_sidewalks)) if node in cc_sidewalks[i]]\n",
        "gdf_ch['cc_from_curb_edges'] = cc_ids\n",
        "\n",
        "# Calculate using the connected components retrieved from sidewalk edges from bgt (from road_curb_segments.ipynb notebook)\n",
        "gdf_ch['cc_from_sidewalk_edges'] = gdf_ch.groupby('overarching_line_segm').ngroup()"
      ]
    },
    {
      "cell_type": "markdown",
      "id": "d3171ef4-cc72-4189-9e98-1d9c9f19c523",
      "metadata": {
        "nteract": {
          "transient": {
            "deleting": false
          }
        }
      },
      "source": [
        "### Calculate curb ramp crosswalks "
      ]
    },
    {
      "cell_type": "code",
      "execution_count": null,
      "id": "c0fa3061-4d1b-407a-a544-e259e3b81d07",
      "metadata": {
        "gather": {
          "logged": 1705419981244
        },
        "jupyter": {
          "outputs_hidden": false,
          "source_hidden": false
        },
        "nteract": {
          "transient": {
            "deleting": false
          }
        }
      },
      "outputs": [],
      "source": [
        "# TODO\n",
        "# Include angle of intersection between crosswalk edge and road centerline as critera\n",
        "\n",
        "# Get coordinates of crossing feature nodes\n",
        "gdf_ch['geometry'] = gdf_ch['centroid']\n",
        "gdf_ch['x'], gdf_ch['y'] = gdf_ch.geometry.x, gdf_ch.geometry.y\n",
        "\n",
        "# Connect curb height nodes to curb height nodes\n",
        "min_dist = 0\n",
        "max_dist = 11\n",
        "max_connections = 1\n",
        "gdf_curb_edges = crossing_utils.get_crossing_edges_from_curb_heights(gdf_ch, gdf_ch, gdf_road_network, \n",
        "                    min_dist=min_dist, max_dist=max_dist, max_connections=max_connections, cc_column='cc_from_sidewalk_edges', crs=CRS)\n",
        "print('Number of new edges from curb node to curb node:', len(gdf_curb_edges))"
      ]
    },
    {
      "cell_type": "markdown",
      "id": "e175ddeb-0b1d-4b47-83f8-b46438ad31fd",
      "metadata": {
        "nteract": {
          "transient": {
            "deleting": false
          }
        }
      },
      "source": [
        "### Connect curb ramp crossings to walking network"
      ]
    },
    {
      "cell_type": "code",
      "execution_count": null,
      "id": "251c6633-b159-43ae-8ef8-fed3d6c568a8",
      "metadata": {
        "gather": {
          "logged": 1705420414540
        },
        "jupyter": {
          "outputs_hidden": false,
          "source_hidden": false
        },
        "nteract": {
          "transient": {
            "deleting": false
          }
        }
      },
      "outputs": [],
      "source": [
        "# Current heuristic: Connect outer points of crossing edge to closest network nodes within max_dis.\n",
        "# Network nodes cannot be part of the same sidewalk\n",
        "# TODO make this neater\n",
        "\n",
        "# Get outer nodes of crossing edges and connect to network\n",
        "gdf_curb_edge_nodes = gpd.GeoDataFrame(geometry=gdf_curb_edges['geometry'].boundary.explode(index_parts=True), crs=CRS).reset_index()\n",
        "gdf_curb_edge_nodes['x'], gdf_curb_edge_nodes['y'] = gdf_curb_edge_nodes.geometry.x, gdf_curb_edge_nodes.geometry.y\n",
        "groups = gdf_curb_edge_nodes.groupby(np.arange(len(gdf_curb_edge_nodes.index))//2)\n",
        "\n",
        "# Loop over possible crossing edges seperately and connect to walking network\n",
        "gdf_crossings = gpd.GeoDataFrame()\n",
        "network_to_network = True # Set False if you wish to connect network to curb instead of network to network \n",
        "\n",
        "for (idx, frame) in tqdm(groups):\n",
        "    sub_gdf = crossing_utils.connect_curb_crossing_edge(frame, gdf_network_nodes, graph_network, max_dist=4, max_connections=1, crs=CRS, network_to_network=network_to_network)\n",
        "    gdf_crossings = pd.concat([gdf_crossings, sub_gdf])\n",
        "\n",
        "print('Connected valid crossings')"
      ]
    },
    {
      "cell_type": "markdown",
      "id": "4b040a19-bee5-434e-9672-2c4b9081692b",
      "metadata": {
        "nteract": {
          "transient": {
            "deleting": false
          }
        }
      },
      "source": [
        "### create map and visualize crossings on map"
      ]
    },
    {
      "cell_type": "code",
      "execution_count": null,
      "id": "5c507598-d05e-4a26-920c-05d6dd01f3cd",
      "metadata": {
        "gather": {
          "logged": 1705420486939
        },
        "jupyter": {
          "outputs_hidden": false,
          "source_hidden": false
        },
        "nteract": {
          "transient": {
            "deleting": false
          }
        }
      },
      "outputs": [],
      "source": [
        "# set True for satelite background, False for regular background\n",
        "satelite = False\n",
        "\n",
        "# Create Folium map\n",
        "map = folium.Map(\n",
        "    location=[52.389164, 4.908453], tiles=plot_utils.generate_map_params(satelite=satelite),\n",
        "    min_zoom=10, max_zoom=25, zoom_start=15,\n",
        "    zoom_control=True, control_scale=True, control=False\n",
        "    )\n",
        "\n",
        "# Add colormap\n",
        "cmp = cm.linear.RdYlGn_11.colors\n",
        "cmp = list(reversed(cmp))\n",
        "colormap = cm.LinearColormap(colors=cmp, vmin=0, vmax=0.2, caption='Curb height (m)')\n",
        "colormap.add_to(map)\n",
        "\n",
        "# Add network and new edges\n",
        "geo_j = folium.GeoJson(gdf_network, style_function=lambda x: {\"color\": \"black\", \"weight\": 2}).add_to(map)\n",
        "geo_j = folium.GeoJson(gdf_crossings, style_function=lambda x: {\"color\": \"red\", \"weight\": 4}).add_to(map)\n",
        "\n",
        "# Plot map\n",
        "template = plot_utils.gen_template_curbs()\n",
        "macro = MacroElement()\n",
        "macro._template = Template(template)\n",
        "map.get_root().add_child(macro)\n",
        "map"
      ]
    },
    {
      "cell_type": "markdown",
      "id": "38e2325a-b4b1-4a98-ad35-2cbddd2f991d",
      "metadata": {
        "nteract": {
          "transient": {
            "deleting": false
          }
        }
      },
      "source": [
        "### Save new edges"
      ]
    },
    {
      "cell_type": "code",
      "execution_count": null,
      "id": "ad69e0bc-db97-4815-b0d8-bace2a6e795c",
      "metadata": {
        "gather": {
          "logged": 1705420620554
        },
        "jupyter": {
          "outputs_hidden": false,
          "source_hidden": false
        },
        "nteract": {
          "transient": {
            "deleting": false
          }
        }
      },
      "outputs": [],
      "source": [
        "gdf_crossings.to_file(cf.output_curb_crossings_base + '_max_height_{}.gpkg'.format(max_height), driver='GPKG')"
      ]
    }
  ],
  "metadata": {
    "kernel_info": {
      "name": "crosswalk_extraction"
    },
    "kernelspec": {
      "display_name": "add_crossings",
      "language": "python",
      "name": "add_crossings"
    },
    "language_info": {
      "codemirror_mode": {
        "name": "ipython",
        "version": 3
      },
      "file_extension": ".py",
      "mimetype": "text/x-python",
      "name": "python",
      "nbconvert_exporter": "python",
      "pygments_lexer": "ipython3",
      "version": "3.8.0"
    },
    "microsoft": {
      "host": {
        "AzureML": {
          "notebookHasBeenCompleted": true
        }
      },
      "ms_spell_check": {
        "ms_spell_check_language": "en"
      }
    },
    "nteract": {
      "version": "nteract-front-end@1.0.0"
    }
  },
  "nbformat": 4,
  "nbformat_minor": 5
}
