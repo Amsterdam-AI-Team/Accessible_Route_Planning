{
  "cells": [
    {
      "cell_type": "markdown",
      "id": "5f034096",
      "metadata": {},
      "source": [
        "# Create centerline road network \n",
        "Based on BGT data"
      ]
    },
    {
      "cell_type": "code",
      "execution_count": null,
      "id": "99175144-9be5-4aaa-93ff-cbaafda2181d",
      "metadata": {
        "gather": {
          "logged": 1705496852585
        },
        "jupyter": {
          "outputs_hidden": false,
          "source_hidden": false
        },
        "nteract": {
          "transient": {
            "deleting": false
          }
        }
      },
      "outputs": [],
      "source": [
        "# Select where to run notebook: \"azure\" or \"local\"\n",
        "my_run = \"azure\""
      ]
    },
    {
      "cell_type": "code",
      "execution_count": null,
      "id": "071158b6",
      "metadata": {
        "gather": {
          "logged": 1705496860092
        }
      },
      "outputs": [],
      "source": [
        "import set_path\n",
        "\n",
        "import numpy as np\n",
        "import pandas as pd\n",
        "\n",
        "import shapely\n",
        "import shapely.ops as so\n",
        "import geopandas as gpd\n",
        "from geopandas import GeoDataFrame\n",
        "from centerline.geometry import Centerline\n",
        "from tqdm.notebook import tqdm\n",
        "tqdm.pandas()\n",
        "\n",
        "import bgt_utils\n",
        "import plot_utils\n",
        "\n",
        "import folium\n",
        "\n",
        "import settings as st\n",
        "import functions as f\n",
        "\n",
        "if my_run == \"azure\":\n",
        "    import config_azure as cf\n",
        "elif my_run == \"local\":\n",
        "    import config as cf"
      ]
    },
    {
      "cell_type": "code",
      "execution_count": null,
      "id": "7483f8f4-1714-49c4-a509-6a4784e49dfa",
      "metadata": {
        "gather": {
          "logged": 1705496863175
        },
        "jupyter": {
          "outputs_hidden": false,
          "source_hidden": false
        },
        "nteract": {
          "transient": {
            "deleting": false
          }
        }
      },
      "outputs": [],
      "source": [
        "os.system('sudo blobfuse /home/azureuser/cloudfiles/code/blobfuse/sidewalk --tmp-path=/mnt/resource/blobfusetmp --config-file=/home/azureuser/cloudfiles/code/blobfuse/fuse_connection_sidewalk.cfg -o attr_timeout=3600 -o entry_timeout=3600 -o negative_timeout=3600 -o allow_other -o nonempty')"
      ]
    },
    {
      "cell_type": "markdown",
      "id": "50c6b9b1",
      "metadata": {},
      "source": [
        "## Import BGT data"
      ]
    },
    {
      "cell_type": "code",
      "execution_count": null,
      "id": "0d67ccd2-f06b-408a-bb19-535fba848a6c",
      "metadata": {
        "gather": {
          "logged": 1705496904944
        },
        "jupyter": {
          "outputs_hidden": false,
          "source_hidden": false
        },
        "nteract": {
          "transient": {
            "deleting": false
          }
        }
      },
      "outputs": [],
      "source": [
        "# Get BGT data\n",
        "print('Pulling BGT data...')\n",
        "df_bgt_full = bgt_utils.get_bgt_data_for_bbox(st.bbox, st.bgt_road_layers)\n",
        "df_bgt_full['naam'].value_counts()\n",
        "print('Pulled BGT data.')"
      ]
    },
    {
      "cell_type": "markdown",
      "id": "8096e21a-ff68-4c06-aac5-3cf1c854e26d",
      "metadata": {
        "nteract": {
          "transient": {
            "deleting": false
          }
        }
      },
      "source": [
        "## Select pilot areas"
      ]
    },
    {
      "cell_type": "code",
      "execution_count": null,
      "id": "32ea3892-d7d9-4bb9-adfb-631e6ddf7331",
      "metadata": {
        "gather": {
          "logged": 1705496911022
        },
        "jupyter": {
          "outputs_hidden": false,
          "source_hidden": false
        },
        "nteract": {
          "transient": {
            "deleting": false
          }
        }
      },
      "outputs": [],
      "source": [
        "# Import areas\n",
        "df_areas = gpd.read_file(cf.output_pilot_area)"
      ]
    },
    {
      "cell_type": "code",
      "execution_count": null,
      "id": "410c68a5-d781-4185-b61b-ca21cf041e81",
      "metadata": {
        "gather": {
          "logged": 1705497101232
        },
        "jupyter": {
          "outputs_hidden": false,
          "source_hidden": false
        },
        "nteract": {
          "transient": {
            "deleting": false
          }
        }
      },
      "outputs": [],
      "source": [
        "# Only keep BGT data within pilot areas\n",
        "df_bgt = df_bgt_full.sjoin(df_areas, how='inner', predicate='intersects')  # note: only road polygons fully inside area are included\n",
        "df_bgt['naam_left'].value_counts()"
      ]
    },
    {
      "cell_type": "markdown",
      "id": "4b040a19-bee5-434e-9672-2c4b9081692b",
      "metadata": {
        "nteract": {
          "transient": {
            "deleting": false
          }
        }
      },
      "source": [
        "## Pre-process BGT data"
      ]
    },
    {
      "cell_type": "code",
      "execution_count": null,
      "id": "5c507598-d05e-4a26-920c-05d6dd01f3cd",
      "metadata": {
        "gather": {
          "logged": 1705497103860
        },
        "jupyter": {
          "outputs_hidden": false,
          "source_hidden": false
        },
        "nteract": {
          "transient": {
            "deleting": false
          }
        }
      },
      "outputs": [],
      "source": [
        "# Merge road polygons\n",
        "df_bgt = GeoDataFrame(geometry=gpd.GeoSeries(df_bgt['geometry'].unary_union))\n",
        "df_bgt = gpd.GeoDataFrame(df_bgt.geometry.explode(index_parts=True))"
      ]
    },
    {
      "cell_type": "markdown",
      "id": "e0e9203a-5397-4e3d-96e2-d62b98ff84f4",
      "metadata": {
        "nteract": {
          "transient": {
            "deleting": false
          }
        }
      },
      "source": [
        "## Create centerlines"
      ]
    },
    {
      "cell_type": "code",
      "execution_count": null,
      "id": "adc8a0fd-29da-4db0-b40d-67a035f2e15c",
      "metadata": {
        "gather": {
          "logged": 1705497111370
        },
        "jupyter": {
          "outputs_hidden": false,
          "source_hidden": false
        },
        "nteract": {
          "transient": {
            "deleting": false
          }
        }
      },
      "outputs": [],
      "source": [
        "# Calculate centerlines\n",
        "df_bgt['centerlines'] = df_bgt.progress_apply(\n",
        "   lambda row: Centerline(row.geometry, interpolation_distance=0.5), axis=1)\n",
        "\n",
        "df_bgt['geometry'] = df_bgt['centerlines']\n",
        "df_bgt = df_bgt.drop(columns=['centerlines'])"
      ]
    },
    {
      "cell_type": "code",
      "execution_count": null,
      "id": "4ca6a2f3-73ce-4b10-b7fb-a32db5f4d773",
      "metadata": {
        "gather": {
          "logged": 1705497087625
        },
        "jupyter": {
          "outputs_hidden": false,
          "source_hidden": false
        },
        "nteract": {
          "transient": {
            "deleting": false
          }
        }
      },
      "outputs": [],
      "source": [
        "# Merge lines\n",
        "idxs = df_bgt.index[df_bgt.geom_type != 'LineString'].tolist()\n",
        "df_bgt.loc[idxs, 'geometry'] = df_bgt.loc[idxs, 'geometry'].progress_apply(so.linemerge)\n",
        "\n",
        "# Get each centerline in separate row\n",
        "df_bgt_exp = df_bgt.explode(ignore_index=True)\n",
        "df_bgt_exp.reset_index()\n",
        "df_bgt_exp['road_part_id'] = df_bgt_exp.index\n",
        "df_bgt_exp = df_bgt_exp.set_crs(crs=st.CRS)"
      ]
    },
    {
      "cell_type": "markdown",
      "id": "10991d1e",
      "metadata": {},
      "source": [
        "## Store final output"
      ]
    },
    {
      "cell_type": "code",
      "execution_count": null,
      "id": "a2d416f4",
      "metadata": {
        "gather": {
          "logged": 1705493273555
        }
      },
      "outputs": [],
      "source": [
        "# Write road network to file\n",
        "df_bgt_exp.to_file(cf.output_road_network, driver='GPKG')"
      ]
    },
    {
      "cell_type": "markdown",
      "id": "bff0944b",
      "metadata": {},
      "source": [
        "### Visualize"
      ]
    },
    {
      "cell_type": "code",
      "execution_count": null,
      "id": "df5f63ae-d6a5-4ea0-8b5d-215569553abe",
      "metadata": {
        "gather": {
          "logged": 1705493526784
        },
        "jupyter": {
          "outputs_hidden": false,
          "source_hidden": false
        },
        "nteract": {
          "transient": {
            "deleting": false
          }
        }
      },
      "outputs": [],
      "source": [
        "# set True for satelite background, False for regular background\n",
        "satelite = False\n",
        "\n",
        "# Create Folium map\n",
        "map = folium.Map(\n",
        "    location=[52.389164, 4.908453], tiles=plot_utils.generate_map_params(satelite=satelite),\n",
        "    min_zoom=10, max_zoom=25, zoom_start=15,\n",
        "    zoom_control=True, control_scale=True, control=False\n",
        "    )\n",
        "\n",
        "# Add network and new edges\n",
        "geo_j = folium.GeoJson(df_bgt_exp, style_function=lambda x: {\"color\": \"black\", \"weight\": 2}).add_to(map)"
      ]
    },
    {
      "cell_type": "code",
      "execution_count": null,
      "id": "bb1e9c78-946f-42ea-bffb-b8cc589fb839",
      "metadata": {
        "gather": {
          "logged": 1705493526895
        },
        "jupyter": {
          "outputs_hidden": false,
          "source_hidden": false
        },
        "nteract": {
          "transient": {
            "deleting": false
          }
        }
      },
      "outputs": [],
      "source": [
        "# Add title\n",
        "loc = 'Road network'\n",
        "title_html = '''\n",
        "             <h3 align=\"center\" style=\"font-size:16px\"><b>{}</b></h3>\n",
        "             '''.format(loc)\n",
        "\n",
        "map.get_root().html.add_child(folium.Element(title_html))"
      ]
    },
    {
      "cell_type": "code",
      "execution_count": null,
      "id": "e5329c7f-19c7-4cea-9395-700f99464ada",
      "metadata": {
        "gather": {
          "logged": 1705493527020
        },
        "jupyter": {
          "outputs_hidden": false,
          "source_hidden": false
        },
        "nteract": {
          "transient": {
            "deleting": false
          }
        }
      },
      "outputs": [],
      "source": [
        "map"
      ]
    }
  ],
  "metadata": {
    "kernel_info": {
      "name": "curb_exploration"
    },
    "kernelspec": {
      "display_name": "add_crossings",
      "language": "python",
      "name": "add_crossings"
    },
    "microsoft": {
      "host": {
        "AzureML": {
          "notebookHasBeenCompleted": true
        }
      },
      "ms_spell_check": {
        "ms_spell_check_language": "en"
      }
    },
    "nteract": {
      "version": "nteract-front-end@1.0.0"
    }
  },
  "nbformat": 4,
  "nbformat_minor": 5
}
