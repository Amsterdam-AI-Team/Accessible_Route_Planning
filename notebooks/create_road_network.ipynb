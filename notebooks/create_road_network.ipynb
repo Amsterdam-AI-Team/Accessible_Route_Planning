{
  "cells": [
    {
      "cell_type": "markdown",
      "source": [
        "# Create centerline road network \n",
        "Based on BGT data"
      ],
      "metadata": {},
      "id": "5f034096"
    },
    {
      "cell_type": "code",
      "source": [
        "# Select where to run notebook: \"azure\" or \"local\"\n",
        "my_run = \"azure\""
      ],
      "outputs": [],
      "execution_count": null,
      "metadata": {
        "jupyter": {
          "source_hidden": false,
          "outputs_hidden": false
        },
        "nteract": {
          "transient": {
            "deleting": false
          }
        },
        "gather": {
          "logged": 1701779708364
        }
      },
      "id": "99175144-9be5-4aaa-93ff-cbaafda2181d"
    },
    {
      "cell_type": "code",
      "source": [
        "import set_path\n",
        "\n",
        "import numpy as np\n",
        "import pandas as pd\n",
        "\n",
        "import shapely\n",
        "import shapely.ops as so\n",
        "import geopandas as gpd\n",
        "from geopandas import GeoDataFrame\n",
        "from centerline.geometry import Centerline\n",
        "\n",
        "import bgt_utils\n",
        "\n",
        "import folium\n",
        "\n",
        "import settings as st\n",
        "if my_run == \"azure\":\n",
        "    import config_azure as cf\n",
        "elif my_run == \"local\":\n",
        "    import config as cf"
      ],
      "outputs": [],
      "execution_count": null,
      "metadata": {
        "gather": {
          "logged": 1701779709982
        }
      },
      "id": "071158b6"
    },
    {
      "cell_type": "code",
      "source": [
        "os.system('sudo blobfuse /home/azureuser/cloudfiles/code/blobfuse/sidewalk --tmp-path=/mnt/resource/blobfusetmp --config-file=/home/azureuser/cloudfiles/code/blobfuse/fuse_connection_sidewalk.cfg -o attr_timeout=3600 -o entry_timeout=3600 -o negative_timeout=3600 -o allow_other -o nonempty')"
      ],
      "outputs": [],
      "execution_count": null,
      "metadata": {
        "jupyter": {
          "source_hidden": false,
          "outputs_hidden": false
        },
        "nteract": {
          "transient": {
            "deleting": false
          }
        },
        "gather": {
          "logged": 1701779710189
        }
      },
      "id": "7483f8f4-1714-49c4-a509-6a4784e49dfa"
    },
    {
      "cell_type": "markdown",
      "source": [
        "## Import BGT data"
      ],
      "metadata": {},
      "id": "50c6b9b1"
    },
    {
      "cell_type": "code",
      "source": [
        "# Get BGT data\n",
        "print('Pulling BGT data...')\n",
        "df_bgt_full = bgt_utils.get_bgt_data_for_bbox(st.bbox, st.bgt_road_layers)\n",
        "df_bgt_full['naam'].value_counts()\n",
        "print('Pulled BGT data.')"
      ],
      "outputs": [],
      "execution_count": null,
      "metadata": {
        "jupyter": {
          "source_hidden": false,
          "outputs_hidden": false
        },
        "nteract": {
          "transient": {
            "deleting": false
          }
        },
        "gather": {
          "logged": 1701779912509
        }
      },
      "id": "0d67ccd2-f06b-408a-bb19-535fba848a6c"
    },
    {
      "cell_type": "markdown",
      "source": [
        "## Select pilot areas"
      ],
      "metadata": {
        "nteract": {
          "transient": {
            "deleting": false
          }
        }
      },
      "id": "8096e21a-ff68-4c06-aac5-3cf1c854e26d"
    },
    {
      "cell_type": "code",
      "source": [
        "# Import areas\n",
        "df_areas = gpd.read_file(cf.output_pilot_area)"
      ],
      "outputs": [],
      "execution_count": null,
      "metadata": {
        "jupyter": {
          "source_hidden": false,
          "outputs_hidden": false
        },
        "nteract": {
          "transient": {
            "deleting": false
          }
        },
        "gather": {
          "logged": 1701779912862
        }
      },
      "id": "32ea3892-d7d9-4bb9-adfb-631e6ddf7331"
    },
    {
      "cell_type": "code",
      "source": [
        "# Only keep BGT data within pilot areas\n",
        "df_bgt = df_bgt_full.sjoin(df_areas, how='inner', predicate='intersects')  # note: only road polygons fully inside area are included\n",
        "df_bgt['naam_left'].value_counts()"
      ],
      "outputs": [],
      "execution_count": null,
      "metadata": {
        "jupyter": {
          "source_hidden": false,
          "outputs_hidden": false
        },
        "nteract": {
          "transient": {
            "deleting": false
          }
        },
        "gather": {
          "logged": 1701779912998
        }
      },
      "id": "410c68a5-d781-4185-b61b-ca21cf041e81"
    },
    {
      "cell_type": "markdown",
      "source": [
        "## Pre-process BGT data"
      ],
      "metadata": {
        "nteract": {
          "transient": {
            "deleting": false
          }
        }
      },
      "id": "4b040a19-bee5-434e-9672-2c4b9081692b"
    },
    {
      "cell_type": "code",
      "source": [
        "# Merge road polygons\n",
        "df_bgt = GeoDataFrame(geometry=gpd.GeoSeries(df_bgt['geometry'].unary_union))\n",
        "df_bgt = gpd.GeoDataFrame(df_bgt.geometry.explode(index_parts=True))"
      ],
      "outputs": [],
      "execution_count": null,
      "metadata": {
        "jupyter": {
          "source_hidden": false,
          "outputs_hidden": false
        },
        "nteract": {
          "transient": {
            "deleting": false
          }
        },
        "gather": {
          "logged": 1701779913156
        }
      },
      "id": "5c507598-d05e-4a26-920c-05d6dd01f3cd"
    },
    {
      "cell_type": "markdown",
      "source": [
        "## Create centerlines"
      ],
      "metadata": {
        "nteract": {
          "transient": {
            "deleting": false
          }
        }
      },
      "id": "e0e9203a-5397-4e3d-96e2-d62b98ff84f4"
    },
    {
      "cell_type": "code",
      "source": [
        "# Function to calculate centerlines\n",
        "def construct_centerline(input_geometry, interpolation_distance=0.25):\n",
        "   #find the voronoi verticies (equivalent to Centerline._get_voronoi_vertices_and_ridges())\n",
        "   borders = input_geometry.segmentize(interpolation_distance) #To have smaler verticies (equivalent to Centerline._get_densified_borders())\n",
        "   voronoied = shapely.voronoi_polygons(borders,only_edges=True) #equivalent to the scipy.spatial.Voronoi\n",
        "   \n",
        "   #to select only the linestring within the input geometry (equivalent to Centerline._linestring_is_within_input_geometry)\n",
        "   centerlines = gpd.GeoDataFrame(geometry=gpd.GeoSeries(voronoied.geoms)).sjoin(gpd.GeoDataFrame(geometry=gpd.GeoSeries(input_geometry)),predicate=\"within\")\n",
        "   return centerlines.unary_union"
      ],
      "outputs": [],
      "execution_count": null,
      "metadata": {
        "jupyter": {
          "source_hidden": false,
          "outputs_hidden": false
        },
        "nteract": {
          "transient": {
            "deleting": false
          }
        },
        "gather": {
          "logged": 1701779913258
        }
      },
      "id": "890d49e5-03be-4cf6-a5c3-0ef2df7379ba"
    },
    {
      "cell_type": "code",
      "source": [
        "# Calculate centerlines\n",
        "df_bgt['centerlines'] = df_bgt.progress_apply(\n",
        "   lambda row: construct_centerline(row.geometry, interpolation_distance=0.25), axis=1)\n",
        "df_bgt['geometry'] = df_bgt['centerlines']\n",
        "df_bgt = df_bgt.drop(columns=['centerlines'])"
      ],
      "outputs": [],
      "execution_count": null,
      "metadata": {
        "jupyter": {
          "source_hidden": false,
          "outputs_hidden": false
        },
        "nteract": {
          "transient": {
            "deleting": false
          }
        },
        "gather": {
          "logged": 1701780025869
        }
      },
      "id": "adc8a0fd-29da-4db0-b40d-67a035f2e15c"
    },
    {
      "cell_type": "code",
      "source": [
        "# Merge lines\n",
        "idxs = df_bgt.index[df_bgt.geom_type != 'LineString'].tolist()\n",
        "df_bgt.loc[idxs, 'geometry'] = df_bgt.loc[idxs, 'geometry'].progress_apply(so.linemerge)\n",
        "\n",
        "# Get each centerline in separate row\n",
        "df_bgt_exp = df_bgt.explode(ignore_index=True)\n",
        "df_bgt_exp.reset_index()\n",
        "df_bgt_exp['road_part_id'] = df_bgt_exp.index\n",
        "df_bgt_exp = df_bgt_exp.set_crs(crs=st.CRS)\n",
        "df_bgt_exp"
      ],
      "outputs": [],
      "execution_count": null,
      "metadata": {
        "jupyter": {
          "source_hidden": false,
          "outputs_hidden": false
        },
        "nteract": {
          "transient": {
            "deleting": false
          }
        },
        "gather": {
          "logged": 1701780028742
        }
      },
      "id": "4ca6a2f3-73ce-4b10-b7fb-a32db5f4d773"
    },
    {
      "cell_type": "markdown",
      "source": [
        "## Store final output"
      ],
      "metadata": {},
      "id": "10991d1e"
    },
    {
      "cell_type": "code",
      "source": [
        "# Write road network to file\n",
        "df_bgt_exp.to_file(cf.output_road_network, driver='GPKG')"
      ],
      "outputs": [],
      "execution_count": null,
      "metadata": {
        "gather": {
          "logged": 1701780135320
        }
      },
      "id": "a2d416f4"
    },
    {
      "cell_type": "markdown",
      "source": [
        "### Visualize"
      ],
      "metadata": {},
      "id": "bff0944b"
    },
    {
      "cell_type": "code",
      "source": [
        "# set True for satelite background, False for regular background\n",
        "satelite = False\n",
        "\n",
        "# Set folium map background\n",
        "if satelite == True:\n",
        "    network_color = 'white'\n",
        "    tile = folium.TileLayer(\n",
        "                tiles = 'https://server.arcgisonline.com/ArcGIS/rest/services/World_Imagery/MapServer/tile/{z}/{y}/{x}',\n",
        "                attr = 'Esri',\n",
        "                name = 'Esri Satellite',\n",
        "                overlay = False,\n",
        "                control = True)\n",
        "else:\n",
        "    tile = 'openstreetmap'\n",
        "    network_color = 'black'\n",
        "\n",
        "# Create Folium map\n",
        "map = folium.Map(\n",
        "    location=[52.389164, 4.908453], tiles=tile,\n",
        "    min_zoom=10, max_zoom=25, zoom_start=15,\n",
        "    zoom_control=True, control_scale=True, control=False\n",
        "    )\n",
        "\n",
        "# Add network and new edges\n",
        "geo_j = folium.GeoJson(df_bgt_exp, style_function=lambda x: {\"color\": \"black\", \"weight\": 2}).add_to(map)"
      ],
      "outputs": [],
      "execution_count": null,
      "metadata": {
        "jupyter": {
          "source_hidden": false,
          "outputs_hidden": false
        },
        "nteract": {
          "transient": {
            "deleting": false
          }
        },
        "gather": {
          "logged": 1701780031866
        }
      },
      "id": "df5f63ae-d6a5-4ea0-8b5d-215569553abe"
    },
    {
      "cell_type": "code",
      "source": [
        "# Add title\n",
        "loc = 'Road network'\n",
        "title_html = '''\n",
        "             <h3 align=\"center\" style=\"font-size:16px\"><b>{}</b></h3>\n",
        "             '''.format(loc)\n",
        "\n",
        "map.get_root().html.add_child(folium.Element(title_html))"
      ],
      "outputs": [],
      "execution_count": null,
      "metadata": {
        "jupyter": {
          "source_hidden": false,
          "outputs_hidden": false
        },
        "nteract": {
          "transient": {
            "deleting": false
          }
        },
        "gather": {
          "logged": 1701780032008
        }
      },
      "id": "bb1e9c78-946f-42ea-bffb-b8cc589fb839"
    },
    {
      "cell_type": "code",
      "source": [
        "map"
      ],
      "outputs": [],
      "execution_count": null,
      "metadata": {
        "jupyter": {
          "source_hidden": false,
          "outputs_hidden": false
        },
        "nteract": {
          "transient": {
            "deleting": false
          }
        },
        "gather": {
          "logged": 1701780038774
        }
      },
      "id": "e5329c7f-19c7-4cea-9395-700f99464ada"
    }
  ],
  "metadata": {
    "kernelspec": {
      "name": "curb_exploration",
      "language": "python",
      "display_name": "curb_exploration"
    },
    "language_info": {
      "name": "python",
      "version": "3.8.0",
      "mimetype": "text/x-python",
      "codemirror_mode": {
        "name": "ipython",
        "version": 3
      },
      "pygments_lexer": "ipython3",
      "nbconvert_exporter": "python",
      "file_extension": ".py"
    },
    "microsoft": {
      "ms_spell_check": {
        "ms_spell_check_language": "en"
      },
      "host": {
        "AzureML": {
          "notebookHasBeenCompleted": true
        }
      }
    },
    "kernel_info": {
      "name": "curb_exploration"
    },
    "nteract": {
      "version": "nteract-front-end@1.0.0"
    }
  },
  "nbformat": 4,
  "nbformat_minor": 5
}