{
  "cells": [
    {
      "cell_type": "markdown",
      "id": "7c5326ee",
      "metadata": {},
      "source": [
        "# Project Sidewalk - get crossing features"
      ]
    },
    {
      "cell_type": "code",
      "execution_count": null,
      "id": "78547941",
      "metadata": {
        "gather": {
          "logged": 1705499452818
        }
      },
      "outputs": [],
      "source": [
        "# Standard library and path imports\n",
        "import set_path\n",
        "import json\n",
        "import requests\n",
        "\n",
        "# Third-party library imports\n",
        "import geopandas as gpd\n",
        "import folium\n",
        "\n",
        "# Local or project-specific imports\n",
        "import plot_utils\n",
        "import settings as st\n",
        "\n",
        "if st.my_run == \"azure\":\n",
        "    import config_azure as cf\n",
        "elif st.my_run == \"local\":\n",
        "    import config as cf"
      ]
    },
    {
      "cell_type": "code",
      "execution_count": null,
      "id": "e169d77f-d723-4e98-9bf9-871f5e93b39b",
      "metadata": {
        "gather": {
          "logged": 1705499454717
        },
        "jupyter": {
          "outputs_hidden": false,
          "source_hidden": false
        },
        "nteract": {
          "transient": {
            "deleting": false
          }
        }
      },
      "outputs": [],
      "source": [
        "if st.my_run == \"azure\":\n",
        "    os.system('sudo blobfuse /home/azureuser/cloudfiles/code/blobfuse/sidewalk --tmp-path=/mnt/resource/blobfusetmp --config-file=/home/azureuser/cloudfiles/code/blobfuse/fuse_connection_sidewalk.cfg -o attr_timeout=3600 -o entry_timeout=3600 -o negative_timeout=3600 -o allow_other -o nonempty')"
      ]
    },
    {
      "cell_type": "markdown",
      "id": "6e81e822",
      "metadata": {},
      "source": [
        "## 1. Get project sidewalk data"
      ]
    },
    {
      "cell_type": "markdown",
      "id": "7077c387",
      "metadata": {},
      "source": [
        "### Get the correct url for a small test neighborhood or the whole city"
      ]
    },
    {
      "cell_type": "code",
      "execution_count": null,
      "id": "782c3134",
      "metadata": {
        "gather": {
          "logged": 1705499458291
        }
      },
      "outputs": [],
      "source": [
        "base_url = \"https://sidewalk-amsterdam.cs.washington.edu/v2/access/attributesWithLabels?lat1={}&lng1={}&lat2={}&lng2={}\" \n",
        "amsterdam_bbox_coords = (52.265, 4.76, 52.435, 5.07)\n",
        "url = base_url.format(*amsterdam_bbox_coords)"
      ]
    },
    {
      "cell_type": "markdown",
      "id": "5b8822a8",
      "metadata": {},
      "source": [
        "### Try to read the data from local dump if available else go to the Project Sidewalk API"
      ]
    },
    {
      "cell_type": "code",
      "execution_count": null,
      "id": "28bf7d4b",
      "metadata": {
        "gather": {
          "logged": 1705499459528
        }
      },
      "outputs": [],
      "source": [
        "local_dump = cf.out_folder + url.replace('/', '|')\n",
        "\n",
        "try:\n",
        "    project_sidewalk_labels = json.load(open(local_dump, 'r'))\n",
        "except Exception:\n",
        "    print(\"Couldn't load local dump\")\n",
        "    project_sidewalk_labels = requests.get(url.format(*amsterdam_bbox_coords)).json()\n",
        "    json.dump(project_sidewalk_labels, open(local_dump, 'w'))"
      ]
    },
    {
      "cell_type": "markdown",
      "id": "7936041d",
      "metadata": {},
      "source": [
        "### Create sidewalk data geodataframe"
      ]
    },
    {
      "cell_type": "code",
      "execution_count": null,
      "id": "2fd2398e",
      "metadata": {
        "gather": {
          "logged": 1705499461520
        }
      },
      "outputs": [],
      "source": [
        "p_sw_gdf = gpd.GeoDataFrame.from_features(project_sidewalk_labels['features'], crs=st.CRS_map)\n",
        "p_sw_gdf = p_sw_gdf.to_crs(st.CRS)"
      ]
    },
    {
      "cell_type": "markdown",
      "id": "da95144e-f6b5-4f06-8904-2c480e47e075",
      "metadata": {},
      "source": [
        "### Get mask of area"
      ]
    },
    {
      "cell_type": "code",
      "execution_count": null,
      "id": "30740862-ba60-4cc2-9e76-b0c0f1956fb8",
      "metadata": {
        "gather": {
          "logged": 1705499464385
        }
      },
      "outputs": [],
      "source": [
        "# Import areas\n",
        "df_areas = gpd.read_file(cf.output_pilot_area)\n",
        "polygon = df_areas.to_crs(crs=st.CRS).unary_union"
      ]
    },
    {
      "cell_type": "markdown",
      "id": "147e575d-8575-4d65-9f03-02666abdb294",
      "metadata": {},
      "source": [
        "### Extract sidewalk data in polygon of area"
      ]
    },
    {
      "cell_type": "code",
      "execution_count": null,
      "id": "67304b4e-bb2b-4c4e-9c77-f280215d952f",
      "metadata": {
        "gather": {
          "logged": 1705499465779
        }
      },
      "outputs": [],
      "source": [
        "sw_data_in_area_mask = p_sw_gdf['geometry'].apply(lambda geom: polygon.contains(geom))\n",
        "p_sw_area_gdf = p_sw_gdf.loc[sw_data_in_area_mask]"
      ]
    },
    {
      "cell_type": "markdown",
      "id": "df1c3a52",
      "metadata": {},
      "source": [
        "### Inspect data"
      ]
    },
    {
      "cell_type": "code",
      "execution_count": null,
      "id": "6d6a9f15",
      "metadata": {
        "gather": {
          "logged": 1705499596438
        }
      },
      "outputs": [],
      "source": [
        "if p_sw_area_gdf.empty:\n",
        "    print('No sidewalk data available in area')\n",
        "\n",
        "p_sw_area_gdf['label_tags'] = str(p_sw_area_gdf['label_tags'])\n",
        "p_sw_area_gdf"
      ]
    },
    {
      "cell_type": "code",
      "execution_count": null,
      "id": "69dc88ba",
      "metadata": {
        "gather": {
          "logged": 1705499736290
        }
      },
      "outputs": [],
      "source": [
        "# set True for satellite background, False for regular background\n",
        "satellite = False\n",
        "\n",
        "# Create Folium map\n",
        "map = folium.Map(\n",
        "    location=[52.350547922223434, 4.794019242371844], tiles=plot_utils.generate_map_params(satellite=satellite),\n",
        "    min_zoom=10, max_zoom=25, zoom_start=17,\n",
        "    zoom_control=True, control_scale=True, control=False\n",
        "    )\n",
        "\n",
        "# Add traffic sign features\n",
        "feature_names = p_sw_area_gdf.columns.tolist()\n",
        "feature_names.remove('geometry')\n",
        "tooltip = plot_utils.gen_tooltip(feature_names, feature_names)\n",
        "geo_j = folium.GeoJson(p_sw_area_gdf, tooltip=tooltip, style_function=lambda x: {\"color\": \"orange\", \"weight\": 10}).add_to(map)\n",
        "\n",
        "map"
      ]
    },
    {
      "cell_type": "markdown",
      "id": "acb72868-c042-407d-af85-6a8d57833c2a",
      "metadata": {},
      "source": [
        "### Save project sidewalk data in selected area as csv"
      ]
    },
    {
      "cell_type": "code",
      "execution_count": null,
      "id": "ec3e3409-8717-4c25-8164-4aabb4d782fe",
      "metadata": {
        "gather": {
          "logged": 1705329073603
        }
      },
      "outputs": [],
      "source": [
        "# Save project sidewalk crossing features as geopackage\n",
        "p_sw_area_gdf.to_file(cf.output_project_sidewalk_crossing_features, driver='GPKG')"
      ]
    }
  ],
  "metadata": {
    "kernelspec": {
      "display_name": "add_crossings",
      "language": "python",
      "name": "python3"
    },
    "language_info": {
      "codemirror_mode": {
        "name": "ipython",
        "version": 3
      },
      "file_extension": ".py",
      "mimetype": "text/x-python",
      "name": "python",
      "nbconvert_exporter": "python",
      "pygments_lexer": "ipython3",
      "version": "3.8.0"
    },
    "microsoft": {
      "host": {
        "AzureML": {
          "notebookHasBeenCompleted": true
        }
      },
      "ms_spell_check": {
        "ms_spell_check_language": "en"
      }
    },
    "nteract": {
      "version": "nteract-front-end@1.0.0"
    }
  },
  "nbformat": 4,
  "nbformat_minor": 5
}
