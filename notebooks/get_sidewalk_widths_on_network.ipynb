{
  "cells": [
    {
      "cell_type": "markdown",
      "source": [
        "# Add sidewalk widths to basic pedestrian network"
      ],
      "metadata": {},
      "id": "5f034096"
    },
    {
      "cell_type": "code",
      "source": [
        "# Select where to run notebook: \"azure\" or \"local\"\n",
        "my_run = \"azure\""
      ],
      "outputs": [],
      "execution_count": null,
      "metadata": {
        "gather": {
          "logged": 1709045694119
        },
        "jupyter": {
          "outputs_hidden": false,
          "source_hidden": false
        },
        "nteract": {
          "transient": {
            "deleting": false
          }
        }
      },
      "id": "99175144-9be5-4aaa-93ff-cbaafda2181d"
    },
    {
      "cell_type": "code",
      "source": [
        "import set_path\n",
        "\n",
        "import math\n",
        "\n",
        "import numpy as np\n",
        "import pandas as pd\n",
        "\n",
        "import shapely.ops as so\n",
        "import shapely.geometry as sg\n",
        "import geopandas as gpd\n",
        "from geopandas import GeoDataFrame\n",
        "from centerline.geometry import Centerline\n",
        "\n",
        "import networkx as nx\n",
        "import momepy\n",
        "\n",
        "from tqdm.notebook import tqdm_notebook\n",
        "tqdm_notebook.pandas()\n",
        "\n",
        "import poly_utils\n",
        "import bgt_utils\n",
        "\n",
        "import matplotlib.pyplot as plt\n",
        "import folium\n",
        "\n",
        "import settings as st\n",
        "if my_run == \"azure\":\n",
        "    import config_azure as cf\n",
        "elif my_run == \"local\":\n",
        "    import config as cf"
      ],
      "outputs": [],
      "execution_count": null,
      "metadata": {
        "gather": {
          "logged": 1709045863973
        }
      },
      "id": "071158b6"
    },
    {
      "cell_type": "code",
      "source": [
        "os.system('sudo blobfuse /home/azureuser/cloudfiles/code/blobfuse/sidewalk --tmp-path=/mnt/resource/blobfusetmp --config-file=/home/azureuser/cloudfiles/code/blobfuse/fuse_connection_sidewalk.cfg -o attr_timeout=3600 -o entry_timeout=3600 -o negative_timeout=3600 -o allow_other -o nonempty')"
      ],
      "outputs": [],
      "execution_count": null,
      "metadata": {
        "jupyter": {
          "source_hidden": false,
          "outputs_hidden": false
        },
        "nteract": {
          "transient": {
            "deleting": false
          }
        },
        "gather": {
          "logged": 1709046659718
        }
      },
      "id": "37b8a84d-29f4-46bf-ac21-d07c3b496c36"
    },
    {
      "cell_type": "markdown",
      "source": [
        "## Import basic network data"
      ],
      "metadata": {
        "nteract": {
          "transient": {
            "deleting": false
          }
        }
      },
      "id": "1a9eb9f4-b48c-4fdf-844d-c351d80edd4c"
    },
    {
      "cell_type": "code",
      "source": [
        "# Get basic pedestrian network and sidewalks\n",
        "df_bgt_nw = gpd.read_file(cf.output_basic_network)\n",
        "df_bgt_sw = gpd.read_file(cf.output_sidewalks_basic_network)"
      ],
      "outputs": [],
      "execution_count": null,
      "metadata": {
        "gather": {
          "logged": 1709046672339
        },
        "jupyter": {
          "outputs_hidden": false,
          "source_hidden": false
        },
        "nteract": {
          "transient": {
            "deleting": false
          }
        }
      },
      "id": "a1cf3786-59f2-4b44-bd1f-7ac104ed0c4e"
    },
    {
      "cell_type": "code",
      "source": [
        "df_bgt_nw.rename(columns={'geometry': 'centerlines'}, inplace=True)\n",
        "df_bgt_exp = pd.merge(df_bgt_nw, df_bgt_sw, on='sidewalk_id', how='left')\n",
        "df_bgt_exp = df_bgt_exp.set_geometry('centerlines')\n",
        "df_bgt_exp.head(3)"
      ],
      "outputs": [],
      "execution_count": null,
      "metadata": {
        "gather": {
          "logged": 1709046744238
        },
        "jupyter": {
          "outputs_hidden": false,
          "source_hidden": false
        },
        "nteract": {
          "transient": {
            "deleting": false
          }
        }
      },
      "id": "e7e22d70-d922-474e-a33b-6bbb423a78ef"
    },
    {
      "cell_type": "markdown",
      "source": [
        "## Create relevant variable - full width"
      ],
      "metadata": {},
      "id": "65658aaf"
    },
    {
      "cell_type": "markdown",
      "source": [
        "### Get width and color"
      ],
      "metadata": {},
      "id": "70725eb3"
    },
    {
      "cell_type": "code",
      "source": [
        "df_bgt_exp[['avg_width', 'min_width']] = df_bgt_exp.progress_apply(\n",
        "    lambda row: poly_utils.get_avg_width_cl(row.geometry, row.centerlines, \n",
        "                                            st.width_resolution, st.width_precision), axis=1)"
      ],
      "outputs": [],
      "execution_count": null,
      "metadata": {
        "gather": {
          "logged": 1709046826481
        }
      },
      "id": "4fdea8e0"
    },
    {
      "cell_type": "code",
      "source": [
        "conditions = [\n",
        "    (df_bgt_exp['min_width'] < st.width_1),\n",
        "    (df_bgt_exp['min_width'] >= st.width_1) & (df_bgt_exp['min_width'] < st.width_2),\n",
        "    (df_bgt_exp['min_width'] >= st.width_2) & (df_bgt_exp['min_width'] < st.width_3),\n",
        "    (df_bgt_exp['min_width'] >= st.width_3) & (df_bgt_exp['min_width'] < st.width_4),\n",
        "    (df_bgt_exp['min_width'] >= st.width_4) & (df_bgt_exp['min_width'] < st.width_5),\n",
        "    (df_bgt_exp['min_width'] >= st.width_5) & (df_bgt_exp['min_width'] < st.width_6),\n",
        "    (df_bgt_exp['min_width'] >= st.width_6)\n",
        "]\n",
        "\n",
        "values_float = [st.min_path_width, st.width_1, st.width_2, st.width_3, st.width_4, st.width_5, st.width_6]\n",
        "values_indication = ['<' + str(st.width_1) + 'm', \n",
        "                     str(st.width_1) + '-' + str(st.width_2) + 'm', \n",
        "                     str(st.width_2) + '-' + str(st.width_3) + 'm', \n",
        "                     str(st.width_3) + '-' + str(st.width_5) + 'm', \n",
        "                     str(st.width_4) + '-' + str(st.width_5) + 'm', \n",
        "                     str(st.width_5) + '-' + str(st.width_6) + 'm', \n",
        "                     '>' + str(st.width_6) + 'm']"
      ],
      "outputs": [],
      "execution_count": null,
      "metadata": {
        "gather": {
          "logged": 1709046827109
        }
      },
      "id": "0ae7a34a"
    },
    {
      "cell_type": "code",
      "source": [
        "df_bgt_exp['full_width_float'] = np.select(conditions, values_float)\n",
        "df_bgt_exp['full_width'] = np.select(conditions, values_indication)\n",
        "df_bgt_exp['full_width'].value_counts()"
      ],
      "outputs": [],
      "execution_count": null,
      "metadata": {
        "gather": {
          "logged": 1709046827838
        }
      },
      "id": "b148d1fb"
    },
    {
      "cell_type": "markdown",
      "source": [
        "### Remove too narrow paths and short-ends"
      ],
      "metadata": {},
      "id": "3f55cc94"
    },
    {
      "cell_type": "code",
      "source": [
        "# Apply minimal path width on BGT centerlines\n",
        "print(df_bgt_exp.shape)\n",
        "df_bgt_exp = df_bgt_exp[df_bgt_exp['min_width'] > st.min_path_width].reset_index(drop=True)\n",
        "print(df_bgt_exp.shape)"
      ],
      "outputs": [],
      "execution_count": null,
      "metadata": {
        "gather": {
          "logged": 1709046828462
        }
      },
      "id": "761ed7e8"
    },
    {
      "cell_type": "code",
      "source": [
        "# Remove short lines\n",
        "df_bgt_exp = df_bgt_exp.rename(columns={'geometry':'geometry_sidewalks', 'centerlines':'geometry'}) \n",
        "mls_per_id = poly_utils.create_mls_per_sidewalk(df_bgt_exp, crs=st.CRS)\n",
        "mls_per_id['geometry'] = mls_per_id['geometry'].progress_apply(\n",
        "    lambda x: poly_utils.remove_short_lines(x, st.min_se_length_fw))"
      ],
      "outputs": [],
      "execution_count": null,
      "metadata": {
        "gather": {
          "logged": 1709048129231
        }
      },
      "id": "a0f232f8"
    },
    {
      "cell_type": "code",
      "source": [
        "# Apply selection of longer lines to original dataframe\n",
        "long_segments_df = gpd.GeoDataFrame(mls_per_id.geometry.explode())\n",
        "df_bgt_exp = df_bgt_exp.merge(long_segments_df, how='inner')\n",
        "df_bgt_exp.shape"
      ],
      "outputs": [],
      "execution_count": null,
      "metadata": {
        "gather": {
          "logged": 1709048130176
        }
      },
      "id": "bd88bd59"
    },
    {
      "cell_type": "code",
      "source": [
        "df_bgt_exp.head()"
      ],
      "outputs": [],
      "execution_count": null,
      "metadata": {
        "jupyter": {
          "source_hidden": false,
          "outputs_hidden": false
        },
        "nteract": {
          "transient": {
            "deleting": false
          }
        },
        "gather": {
          "logged": 1709048142904
        }
      },
      "id": "d2cd42e0-9be3-477f-8953-b329a76a3135"
    },
    {
      "cell_type": "markdown",
      "source": [
        "## Import segments data"
      ],
      "metadata": {},
      "id": "9a555a6e"
    },
    {
      "cell_type": "code",
      "source": [
        "# Read lines with widths (calculated in notebook 5 of https://github.com/Amsterdam-AI-Team/Urban_PointCloud_Sidewalk_Width)\n",
        "df_segments_full = gpd.read_file(cf.segments_file, crs=st.CRS)"
      ],
      "outputs": [],
      "execution_count": null,
      "metadata": {
        "gather": {
          "logged": 1709048775985
        }
      },
      "id": "2a69b43f"
    },
    {
      "cell_type": "markdown",
      "source": [
        "### Selection of segments within pilot area"
      ],
      "metadata": {
        "nteract": {
          "transient": {
            "deleting": false
          }
        }
      },
      "id": "38f75bda-2d1f-44ea-97d6-f13388a0a5b3"
    },
    {
      "cell_type": "code",
      "source": [
        "# Import areas\n",
        "df_areas = gpd.read_file(cf.output_pilot_area)\n",
        "\n",
        "# Only keep BGT data within pilot areas\n",
        "df_segments = df_segments_full.sjoin(df_areas, how='inner', predicate='within')  # note: only sidewalk polygons fully inside area are included\n",
        "\n",
        "del df_segments_full"
      ],
      "outputs": [],
      "execution_count": null,
      "metadata": {
        "gather": {
          "logged": 1709048779215
        },
        "jupyter": {
          "outputs_hidden": false,
          "source_hidden": false
        },
        "nteract": {
          "transient": {
            "deleting": false
          }
        }
      },
      "id": "4d89cf85-2592-40c5-9115-3611a98b7349"
    },
    {
      "cell_type": "markdown",
      "source": [
        "## Create relevant variable - obstacle-free width"
      ],
      "metadata": {},
      "id": "1a75dd16"
    },
    {
      "cell_type": "markdown",
      "source": [
        "### Remove too narrow paths and short-ends"
      ],
      "metadata": {},
      "id": "339d6256"
    },
    {
      "cell_type": "code",
      "source": [
        "# Apply minimal path width\n",
        "df_segments_wide = df_segments[df_segments['min_width'] > st.min_path_width].reset_index(drop=True)\n",
        "print(df_segments.shape)\n",
        "print(df_segments_wide.shape)"
      ],
      "outputs": [],
      "execution_count": null,
      "metadata": {
        "gather": {
          "logged": 1709048780168
        }
      },
      "id": "efd9d0b7"
    },
    {
      "cell_type": "code",
      "source": [
        "# Remove short lines (this takes a while)\n",
        "mls_per_id = poly_utils.create_mls_per_sidewalk(df_segments_wide, crs=st.CRS)\n",
        "mls_per_id['geometry'] = mls_per_id['geometry'].progress_apply(poly_utils.remove_short_lines)"
      ],
      "outputs": [],
      "execution_count": null,
      "metadata": {
        "collapsed": false,
        "gather": {
          "logged": 1709052416032
        }
      },
      "id": "206c47a6"
    },
    {
      "cell_type": "code",
      "source": [
        "# Apply selection of longer lines to original dataframe\n",
        "long_segments_df = gpd.GeoDataFrame(mls_per_id.geometry.explode())\n",
        "df_segments_wide = df_segments_wide.merge(long_segments_df, how='inner')\n",
        "df_segments_wide.shape"
      ],
      "outputs": [],
      "execution_count": null,
      "metadata": {
        "gather": {
          "logged": 1709052416598
        }
      },
      "id": "f00d2b0e"
    },
    {
      "cell_type": "markdown",
      "source": [
        "### Apply width factor"
      ],
      "metadata": {},
      "id": "2c9faf42"
    },
    {
      "cell_type": "code",
      "source": [
        "# Add width factor, for calculating the weights of the paths later\n",
        "conditions = [\n",
        "    (df_segments_wide['min_width'] < st.width_1),\n",
        "    (df_segments_wide['min_width'] >= st.width_1) & (df_segments_wide['min_width'] < st.width_2),\n",
        "    (df_segments_wide['min_width'] >= st.width_2) & (df_segments_wide['min_width'] < st.width_3),\n",
        "    (df_segments_wide['min_width'] >= st.width_3) & (df_segments_wide['min_width'] < st.width_4),\n",
        "    (df_segments_wide['min_width'] >= st.width_4) & (df_segments_wide['min_width'] < st.width_5),\n",
        "    (df_segments_wide['min_width'] >= st.width_5) & (df_segments_wide['min_width'] < st.width_6),\n",
        "    (df_segments_wide['min_width'] >= st.width_6)\n",
        "]\n",
        "values_factor = [1000000000000, 10000000000, 100000000, 1000000, 10000, 100, 1]\n",
        "df_segments_wide['min_width_factor'] = np.select(conditions, values_factor).astype('int64')"
      ],
      "outputs": [],
      "execution_count": null,
      "metadata": {
        "gather": {
          "logged": 1709052417267
        }
      },
      "id": "c493347c"
    },
    {
      "cell_type": "markdown",
      "source": [
        "### Take point cloud coverage into account"
      ],
      "metadata": {},
      "id": "4c484f08"
    },
    {
      "cell_type": "code",
      "source": [
        "df_segments_wide['min_width_factor'][df_segments_wide['pc_coverage'] == False] = 100000000000001"
      ],
      "outputs": [],
      "execution_count": null,
      "metadata": {
        "gather": {
          "logged": 1709052417750
        }
      },
      "id": "1490e750"
    },
    {
      "cell_type": "code",
      "source": [
        "df_segments_wide['min_width_factor'].value_counts()"
      ],
      "outputs": [],
      "execution_count": null,
      "metadata": {
        "gather": {
          "logged": 1709052418147
        }
      },
      "id": "1007b745"
    },
    {
      "cell_type": "markdown",
      "source": [
        "### Do network calculation"
      ],
      "metadata": {},
      "id": "ea288a1f"
    },
    {
      "cell_type": "code",
      "source": [
        "df_bgt_exp['route_weight'] = np.nan\n",
        "print('start doing network calculation on ' + str(len(df_bgt_sw['sidewalk_id'])) + ' rows')"
      ],
      "outputs": [],
      "execution_count": null,
      "metadata": {
        "gather": {
          "logged": 1709052418619
        }
      },
      "id": "35b2a910"
    },
    {
      "cell_type": "code",
      "source": [
        "# Create final dataframe   # TODO .loc[j, 'route_weight'] = ... everywhere\n",
        "final_df = pd.DataFrame()\n",
        "\n",
        "for i in range(len(df_bgt_sw['sidewalk_id'])):\n",
        "    print(i)\n",
        "      \n",
        "    # Get sidewalk polygon for this centerline \n",
        "    my_sidewalk = df_bgt_sw['geometry'].values[i]   \n",
        "    \n",
        "    # Create graph for all paths withing this sidewalk polygon\n",
        "    df_sidewalk = df_segments_wide[df_segments_wide['geometry'].within(my_sidewalk)].reset_index(drop=True)\n",
        "    G = momepy.gdf_to_nx(df_sidewalk, approach=\"primal\", multigraph=True)\n",
        "    \n",
        "    # Create dataframe with linestrings of centerline\n",
        "    centerline_df = df_bgt_exp[df_bgt_exp['sidewalk_id'] == i].reset_index(drop=True)\n",
        "    \n",
        "    for j in range(len(centerline_df['geometry'])):  \n",
        "        \n",
        "        # Get line\n",
        "        my_line = centerline_df.iloc[[j]]['geometry'].values[0]\n",
        "        \n",
        "        if len(list(G.nodes)) > 0:\n",
        "            # Check if my_line has start and end (not a ring)\n",
        "            if len(my_line.boundary) == 0:\n",
        "                print('no route calculated for line (j)', j, 'in sidewalk (i)', i, '(ring)')\n",
        "                centerline_df['route_weight'][j] = 0\n",
        "            else:\n",
        "                # Get origin and destination location\n",
        "                origin_point, dest_point = my_line.boundary\n",
        "                origin_node_loc = so.nearest_points(origin_point, sg.MultiPoint(list(G.nodes)))[1]\n",
        "                dest_node_loc = so.nearest_points(dest_point, sg.MultiPoint(list(G.nodes)))[1]\n",
        "\n",
        "                # Get origin and destination node\n",
        "                origin_node = (origin_node_loc.x, origin_node_loc.y)\n",
        "                dest_node = (dest_node_loc.x, dest_node_loc.y)   \n",
        "\n",
        "                # Get weight of optimal route in graph\n",
        "                try:\n",
        "                    route_weight = nx.shortest_path_length(G, origin_node, dest_node,\n",
        "                                                           weight='min_width_factor')\n",
        "                    if (origin_point.distance(origin_node_loc) < st.max_dist) and (dest_point.distance(dest_node_loc) < st.max_dist):\n",
        "                        centerline_df['route_weight'][j] = route_weight\n",
        "                    else:\n",
        "                        print('origin and/or destination node too far from line start/end for line (j)', j, 'in sidewalk (i)', i) \n",
        "                        centerline_df['route_weight'][j] = np.nan\n",
        "                except nx.NetworkXNoPath:\n",
        "                    print('no route found for line (j)', j, 'in sidewalk (i)', i)\n",
        "                    centerline_df['route_weight'][j] = 100000000000000\n",
        "        else:\n",
        "            print('network has zero nodes')\n",
        "\n",
        "    # Append data to final dataframe\n",
        "    final_df = pd.concat([final_df, centerline_df])\n",
        "final_df = final_df.reset_index()"
      ],
      "outputs": [],
      "execution_count": null,
      "metadata": {
        "gather": {
          "logged": 1709052419372
        }
      },
      "id": "f26bd1a9"
    },
    {
      "cell_type": "code",
      "source": [
        "#del df_bgt_exp"
      ],
      "outputs": [],
      "execution_count": null,
      "metadata": {
        "gather": {
          "logged": 1709052420084
        }
      },
      "id": "e46a40c2"
    },
    {
      "cell_type": "code",
      "source": [
        "# Get final width of the routes\n",
        "final_df['obstacle_free_width_float'] = final_df.progress_apply(    \n",
        "    lambda row: poly_utils.get_route_width(row.route_weight), axis=1)"
      ],
      "outputs": [],
      "execution_count": null,
      "metadata": {
        "gather": {
          "logged": 1709052420130
        }
      },
      "id": "82a25585"
    },
    {
      "cell_type": "markdown",
      "source": [
        "## Post-process "
      ],
      "metadata": {},
      "id": "31919f60"
    },
    {
      "cell_type": "code",
      "source": [
        "final_df = final_df.set_geometry('geometry')"
      ],
      "outputs": [],
      "execution_count": null,
      "metadata": {
        "gather": {
          "logged": 1709052420181
        }
      },
      "id": "a13648a3"
    },
    {
      "cell_type": "code",
      "source": [
        "final_df['obstacle_free_width_float'].value_counts(dropna=False)"
      ],
      "outputs": [],
      "execution_count": null,
      "metadata": {
        "jupyter": {
          "source_hidden": false,
          "outputs_hidden": false
        },
        "nteract": {
          "transient": {
            "deleting": false
          }
        },
        "gather": {
          "logged": 1709052420220
        }
      },
      "id": "bdb19792-4290-4792-aaa1-88739faf2683"
    },
    {
      "cell_type": "markdown",
      "source": [
        "### Fix incorrect labeling of obstacle-free width (> full width)"
      ],
      "metadata": {
        "nteract": {
          "transient": {
            "deleting": false
          }
        }
      },
      "id": "73b01e52-f6cc-4a93-87b1-a5a71c2b3c14"
    },
    {
      "cell_type": "code",
      "source": [
        "# Start a column to track any adjustments we make to the obstacle-free width\n",
        "final_df['width_fill'] = np.where(final_df['obstacle_free_width_float'] > final_df['full_width_float'], 1, 0)\n",
        "\n",
        "# If obstacle free width float is bigger than full width, set obstacle free width float to full width\n",
        "final_df['obstacle_free_width_float'] = np.where(final_df['obstacle_free_width_float'] > final_df['full_width_float'], final_df['full_width_float'], final_df['obstacle_free_width_float'])"
      ],
      "outputs": [],
      "execution_count": null,
      "metadata": {
        "gather": {
          "logged": 1709052420261
        }
      },
      "id": "cdcb0e6c"
    },
    {
      "cell_type": "markdown",
      "source": [
        "### Fix widths of 'inritten' \n",
        "These are not properly accounted for, as they were not included in the previous steps of the widths pipeline. \n",
        "Here, we assume that there are no obstacles on 'inritten'. Therefore, we can set the obstacle-free widths of these to the full widths.  \n",
        "This doesn't resolve the issue for 'voetgangersgebied' & 'woonerf', but here the above assumption would be too much of a stretch. (luckily there are only 2 'voetgangersgebieden' and 0 'woonerven' in our pilot area. "
      ],
      "metadata": {
        "nteract": {
          "transient": {
            "deleting": false
          }
        }
      },
      "id": "c08075d4-78d1-4029-88fb-c61b1359c45e"
    },
    {
      "cell_type": "code",
      "source": [
        "# Get geometries of 'inritten'\n",
        "df_bgt_inrit_full = bgt_utils.get_bgt_data_for_bbox(st.bbox, ['BGT_WGL_inrit'])\n",
        "df_areas = gpd.read_file(cf.output_pilot_area)\n",
        "df_bgt_inrit = df_bgt_inrit_full.sjoin(df_areas, how='inner', predicate='within')[['geometry']]"
      ],
      "outputs": [],
      "execution_count": null,
      "metadata": {
        "jupyter": {
          "source_hidden": false,
          "outputs_hidden": false
        },
        "nteract": {
          "transient": {
            "deleting": false
          }
        },
        "gather": {
          "logged": 1709052420307
        }
      },
      "id": "5b683953-5e1c-480a-bf86-57a6e61daa59"
    },
    {
      "cell_type": "code",
      "source": [
        "# Set width to full width if edge is (partly) within 'inrit' polygon\n",
        "final_df['width_fill'] = np.where(final_df['geometry'].intersects(df_bgt_inrit.unary_union), 9, final_df['width_fill'])\n",
        "final_df['obstacle_free_width_float'] = np.where(final_df['geometry'].intersects(df_bgt_inrit.unary_union), final_df['full_width_float'], final_df['obstacle_free_width_float'])\n",
        "final_df['obstacle_free_width_float'].value_counts(dropna=False)"
      ],
      "outputs": [],
      "execution_count": null,
      "metadata": {
        "jupyter": {
          "source_hidden": false,
          "outputs_hidden": false
        },
        "nteract": {
          "transient": {
            "deleting": false
          }
        }
      },
      "id": "50c13e3b-383b-4efc-b382-74f68fa8ff96"
    },
    {
      "cell_type": "markdown",
      "source": [
        "### Fix unknown widths"
      ],
      "metadata": {
        "nteract": {
          "transient": {
            "deleting": false
          }
        }
      },
      "id": "d4291543-bae7-4bd7-8bec-c3adadef297c"
    },
    {
      "cell_type": "code",
      "source": [
        "# Fill unknown widths with minimum width of neighbors\n",
        "for i, row in final_df.iterrows():\n",
        "    if math.isnan(row['obstacle_free_width_float']):\n",
        "        my_edge = row['geometry']\n",
        "        my_dist = final_df['geometry'].distance(my_edge)\n",
        "        my_nb_ids = my_dist.loc[my_dist == 0].index.tolist()\n",
        "        new_width = min(final_df['obstacle_free_width_float'].iloc[my_nb_ids])\n",
        "        if math.isnan(new_width):\n",
        "            # If no neighbors with known width are found, fill with lowest width category\n",
        "            final_df.loc[i, 'obstacle_free_width_float'] = st.min_path_width\n",
        "            final_df.loc[i, 'width_fill'] = 3\n",
        "        else:\n",
        "            final_df.loc[i, 'obstacle_free_width_float'] = new_width\n",
        "            final_df.loc[i, 'width_fill'] = 2\n"
      ],
      "outputs": [],
      "execution_count": null,
      "metadata": {
        "jupyter": {
          "source_hidden": false,
          "outputs_hidden": false
        },
        "nteract": {
          "transient": {
            "deleting": false
          }
        },
        "gather": {
          "logged": 1705497263833
        }
      },
      "id": "3fa6b03a-0e33-4723-9ab3-f15676eae8e7"
    },
    {
      "cell_type": "code",
      "source": [
        "final_df['obstacle_free_width_float'].value_counts(dropna=False)"
      ],
      "outputs": [],
      "execution_count": null,
      "metadata": {
        "jupyter": {
          "source_hidden": false,
          "outputs_hidden": false
        },
        "nteract": {
          "transient": {
            "deleting": false
          }
        },
        "gather": {
          "logged": 1705498421755
        }
      },
      "id": "c365a5dd-d850-4e7b-b55c-11a452c3529f"
    },
    {
      "cell_type": "code",
      "source": [
        "final_df['width_fill'].value_counts(dropna=False)"
      ],
      "outputs": [],
      "execution_count": null,
      "metadata": {
        "jupyter": {
          "source_hidden": false,
          "outputs_hidden": false
        },
        "nteract": {
          "transient": {
            "deleting": false
          }
        },
        "gather": {
          "logged": 1705497264220
        }
      },
      "id": "a1ca621e-a8f9-45fc-ad7e-44968af8d969"
    },
    {
      "cell_type": "markdown",
      "source": [
        "### Set final indication"
      ],
      "metadata": {},
      "id": "ffd88a06"
    },
    {
      "cell_type": "code",
      "source": [
        "# Get dataframe with only valid lines\n",
        "final_df_select = final_df[final_df['obstacle_free_width_float'] != 0]\n",
        "final_df_select = final_df_select.reset_index(drop=True)"
      ],
      "outputs": [],
      "execution_count": null,
      "metadata": {
        "gather": {
          "logged": 1705497322190
        }
      },
      "id": "907bb619"
    },
    {
      "cell_type": "code",
      "source": [
        "# Add meter indication\n",
        "conditions = [\n",
        "    (final_df_select['obstacle_free_width_float'] == st.min_path_width),\n",
        "    (final_df_select['obstacle_free_width_float'] == st.width_1),   \n",
        "    (final_df_select['obstacle_free_width_float'] == st.width_2),\n",
        "    (final_df_select['obstacle_free_width_float'] == st.width_3),\n",
        "    (final_df_select['obstacle_free_width_float'] == st.width_4),\n",
        "    (final_df_select['obstacle_free_width_float'] == st.width_5),  \n",
        "    (final_df_select['obstacle_free_width_float'] == st.width_6),  \n",
        "    (final_df_select['obstacle_free_width_float'] == np.nan)\n",
        "]\n",
        "values_indication = ['<' + str(st.width_1) + 'm', \n",
        "                     str(st.width_1) + '-' + str(st.width_2) + 'm', \n",
        "                     str(st.width_2) + '-' + str(st.width_3) + 'm', \n",
        "                     str(st.width_3) + '-' + str(st.width_4) + 'm', \n",
        "                     str(st.width_4) + '-' + str(st.width_5) + 'm', \n",
        "                     str(st.width_5) + '-' + str(st.width_6) + 'm', \n",
        "                     '>' + str(st.width_6) + 'm',\n",
        "                    'unknown']\n",
        "final_df_select['obstacle_free_width'] = np.select(conditions, values_indication)"
      ],
      "outputs": [],
      "execution_count": null,
      "metadata": {
        "gather": {
          "logged": 1705497364058
        }
      },
      "id": "e24e0623"
    },
    {
      "cell_type": "markdown",
      "source": [
        "### Adjust crs"
      ],
      "metadata": {},
      "id": "b5ba9b38"
    },
    {
      "cell_type": "code",
      "source": [
        "final_df_select = final_df_select.set_crs(st.CRS)  # TODO might be removed?\n",
        "print('finished post-processing')"
      ],
      "outputs": [],
      "execution_count": null,
      "metadata": {
        "gather": {
          "logged": 1699628657686
        }
      },
      "id": "65af7db5"
    },
    {
      "cell_type": "markdown",
      "source": [
        "## Merge with basic network"
      ],
      "metadata": {
        "nteract": {
          "transient": {
            "deleting": false
          }
        }
      },
      "id": "01e3fb84-6bff-4536-bf47-433864a3e2e8"
    },
    {
      "cell_type": "code",
      "source": [
        "# Select relevant columns for merging\n",
        "final_df_select = final_df_select[['geometry', 'obstacle_free_width', 'obstacle_free_width_float', 'width_fill', \n",
        "                                   'full_width', 'full_width_float']]"
      ],
      "outputs": [],
      "execution_count": null,
      "metadata": {
        "gather": {
          "logged": 1705497404920
        }
      },
      "id": "32851d3f"
    },
    {
      "cell_type": "code",
      "source": [
        "# Do inner join with original network\n",
        "df_combined = pd.merge(df_bgt_nw, final_df_select, how='inner', left_on='centerlines', right_on='geometry')"
      ],
      "outputs": [],
      "execution_count": null,
      "metadata": {
        "gather": {
          "logged": 1705497481900
        },
        "jupyter": {
          "outputs_hidden": false,
          "source_hidden": false
        },
        "nteract": {
          "transient": {
            "deleting": false
          }
        }
      },
      "id": "fb654d39-336e-420e-86aa-5be255d2353d"
    },
    {
      "cell_type": "markdown",
      "source": [
        "## Store final output"
      ],
      "metadata": {},
      "id": "10991d1e"
    },
    {
      "cell_type": "code",
      "source": [
        "df_store = df_combined[['cl_id', 'centerlines', 'length', 'sidewalk_id', 'obstacle_free_width', 'obstacle_free_width_float', 'width_fill']]\n",
        "df_store = df_store.set_geometry('centerlines').set_crs(st.CRS)\n",
        "df_store.head()"
      ],
      "outputs": [],
      "execution_count": null,
      "metadata": {
        "gather": {
          "logged": 1705497519407
        },
        "jupyter": {
          "outputs_hidden": false,
          "source_hidden": false
        },
        "nteract": {
          "transient": {
            "deleting": false
          }
        }
      },
      "id": "37b29819-5145-4915-85c9-b50eaf9daaba"
    },
    {
      "cell_type": "code",
      "source": [
        "df_store.to_file(cf.output_file_widths, driver='GPKG') \n",
        "print('stored final data')"
      ],
      "outputs": [],
      "execution_count": null,
      "metadata": {
        "gather": {
          "logged": 1705497548799
        },
        "jupyter": {
          "outputs_hidden": false,
          "source_hidden": false
        },
        "nteract": {
          "transient": {
            "deleting": false
          }
        }
      },
      "id": "cf49eb75-7a2e-478f-9e1a-0dc7f2dc688c"
    },
    {
      "cell_type": "markdown",
      "source": [
        "## Visualize"
      ],
      "metadata": {
        "nteract": {
          "transient": {
            "deleting": false
          }
        }
      },
      "id": "5fdb9076-36f4-4c8d-8e5d-0109bb80d185"
    },
    {
      "cell_type": "code",
      "source": [
        "# df_store = gpd.read_file(cf.output_file_widths)"
      ],
      "outputs": [],
      "execution_count": null,
      "metadata": {
        "gather": {
          "logged": 1700643313852
        },
        "jupyter": {
          "outputs_hidden": false,
          "source_hidden": false
        },
        "nteract": {
          "transient": {
            "deleting": false
          }
        }
      },
      "id": "a5bdf213-e27e-4e3f-8913-3a0e1d8a5d5f"
    },
    {
      "cell_type": "code",
      "source": [
        "# Set center of map\n",
        "area_coords = [52.375664816888225, 4.8632280955697995]\n",
        "\n",
        "# Set to map coordinate reference system\n",
        "df_store_show = df_store.to_crs(\"EPSG:4326\")\n",
        "\n",
        "# Create basic map\n",
        "my_map = folium.Map(\n",
        "    location=area_coords,\n",
        "    tiles='cartodbpositron',\n",
        "    min_zoom=10, max_zoom=20, zoom_start=13,\n",
        "    zoom_control=True, control_scale=True, control=False\n",
        "    )\n",
        "\n",
        "# Add network with widths\n",
        "folium.GeoJson(data=df_store_show[df_store_show['obstacle_free_width_float'] == st.min_path_width], style_function=lambda x: {\"color\": \"darkred\"}).add_to(my_map)\n",
        "folium.GeoJson(data=df_store_show[df_store_show['obstacle_free_width_float'] == st.width_1], style_function=lambda x: {\"color\": \"red\"}).add_to(my_map)\n",
        "folium.GeoJson(data=df_store_show[df_store_show['obstacle_free_width_float'] == st.width_2], style_function=lambda x: {\"color\": \"orange\"}).add_to(my_map)\n",
        "folium.GeoJson(data=df_store_show[df_store_show['obstacle_free_width_float'] == st.width_3], style_function=lambda x: {\"color\": \"yellow\"}).add_to(my_map)\n",
        "folium.GeoJson(data=df_store_show[df_store_show['obstacle_free_width_float'] == st.width_4], style_function=lambda x: {\"color\": \"greenyellow\"}).add_to(my_map)\n",
        "folium.GeoJson(data=df_store_show[df_store_show['obstacle_free_width_float'] == st.width_5], style_function=lambda x: {\"color\": \"limegreen\"}).add_to(my_map)\n",
        "folium.GeoJson(data=df_store_show[df_store_show['obstacle_free_width_float'] == st.width_6], style_function=lambda x: {\"color\": \"green\"}).add_to(my_map)\n",
        "\n",
        "my_map "
      ],
      "outputs": [],
      "execution_count": null,
      "metadata": {
        "gather": {
          "logged": 1705498505068
        },
        "jupyter": {
          "outputs_hidden": false,
          "source_hidden": false
        },
        "nteract": {
          "transient": {
            "deleting": false
          }
        }
      },
      "id": "6c784b8e-25d6-4faf-9e15-371494935575"
    },
    {
      "cell_type": "code",
      "source": [
        "# Store map\n",
        "my_map.save(cf.network_map_widths)"
      ],
      "outputs": [],
      "execution_count": null,
      "metadata": {
        "jupyter": {
          "outputs_hidden": false,
          "source_hidden": false
        },
        "nteract": {
          "transient": {
            "deleting": false
          }
        },
        "gather": {
          "logged": 1705498628168
        }
      },
      "id": "3d2b3107-3f3a-46c7-942e-6938a350f109"
    }
  ],
  "metadata": {
    "kernel_info": {
      "name": "venv_rp2"
    },
    "kernelspec": {
      "name": "venv_rp2",
      "language": "python",
      "display_name": "venv_rp2"
    },
    "language_info": {
      "name": "python",
      "version": "3.8.5",
      "mimetype": "text/x-python",
      "codemirror_mode": {
        "name": "ipython",
        "version": 3
      },
      "pygments_lexer": "ipython3",
      "nbconvert_exporter": "python",
      "file_extension": ".py"
    },
    "microsoft": {
      "host": {
        "AzureML": {
          "notebookHasBeenCompleted": true
        }
      },
      "ms_spell_check": {
        "ms_spell_check_language": "en"
      }
    },
    "nteract": {
      "version": "nteract-front-end@1.0.0"
    }
  },
  "nbformat": 4,
  "nbformat_minor": 5
}