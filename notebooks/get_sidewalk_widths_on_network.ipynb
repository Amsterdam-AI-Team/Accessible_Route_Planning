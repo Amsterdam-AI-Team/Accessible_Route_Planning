{
  "cells": [
    {
      "cell_type": "markdown",
      "source": [
        "# Add sidewalk widths to basic pedestrian network"
      ],
      "metadata": {},
      "id": "5f034096"
    },
    {
      "cell_type": "code",
      "source": [
        "# Select where to run notebook: \"azure\" or \"local\"\n",
        "my_run = \"azure\""
      ],
      "outputs": [],
      "execution_count": null,
      "metadata": {
        "gather": {
          "logged": 1700643283239
        },
        "jupyter": {
          "outputs_hidden": false,
          "source_hidden": false
        },
        "nteract": {
          "transient": {
            "deleting": false
          }
        }
      },
      "id": "99175144-9be5-4aaa-93ff-cbaafda2181d"
    },
    {
      "cell_type": "code",
      "source": [
        "import set_path\n",
        "\n",
        "import numpy as np\n",
        "import pandas as pd\n",
        "\n",
        "import shapely.ops as so\n",
        "import shapely.geometry as sg\n",
        "import geopandas as gpd\n",
        "from geopandas import GeoDataFrame\n",
        "from centerline.geometry import Centerline\n",
        "\n",
        "import networkx as nx\n",
        "import momepy\n",
        "\n",
        "from tqdm.notebook import tqdm_notebook\n",
        "tqdm_notebook.pandas()\n",
        "\n",
        "import poly_utils\n",
        "import bgt_utils\n",
        "\n",
        "import matplotlib.pyplot as plt\n",
        "import folium\n",
        "\n",
        "import settings as st\n",
        "if my_run == \"azure\":\n",
        "    import config_azure as cf\n",
        "elif my_run == \"local\":\n",
        "    import config as cf"
      ],
      "outputs": [],
      "execution_count": null,
      "metadata": {
        "gather": {
          "logged": 1700643284599
        }
      },
      "id": "071158b6"
    },
    {
      "cell_type": "markdown",
      "source": [
        "## Import basic network data"
      ],
      "metadata": {
        "nteract": {
          "transient": {
            "deleting": false
          }
        }
      },
      "id": "1a9eb9f4-b48c-4fdf-844d-c351d80edd4c"
    },
    {
      "cell_type": "code",
      "source": [
        "# Get basic pedestrian network and sidewalks\n",
        "df_bgt_nw = gpd.read_file(cf.output_basic_network)\n",
        "df_bgt_sw = gpd.read_file(cf.output_sidewalks_basic_network)"
      ],
      "outputs": [],
      "execution_count": null,
      "metadata": {
        "gather": {
          "logged": 1699620367293
        },
        "jupyter": {
          "outputs_hidden": false,
          "source_hidden": false
        },
        "nteract": {
          "transient": {
            "deleting": false
          }
        }
      },
      "id": "a1cf3786-59f2-4b44-bd1f-7ac104ed0c4e"
    },
    {
      "cell_type": "code",
      "source": [
        "df_bgt_nw.rename(columns={'geometry': 'centerlines'}, inplace=True)\n",
        "df_bgt_exp = pd.merge(df_bgt_nw, df_bgt_sw, on='sidewalk_id', how='left')\n",
        "df_bgt_exp = df_bgt_exp.set_geometry('centerlines')\n",
        "df_bgt_exp.head(3)"
      ],
      "outputs": [],
      "execution_count": null,
      "metadata": {
        "gather": {
          "logged": 1699620367593
        },
        "jupyter": {
          "outputs_hidden": false,
          "source_hidden": false
        },
        "nteract": {
          "transient": {
            "deleting": false
          }
        }
      },
      "id": "e7e22d70-d922-474e-a33b-6bbb423a78ef"
    },
    {
      "cell_type": "markdown",
      "source": [
        "## Create relevant variable - full width"
      ],
      "metadata": {},
      "id": "65658aaf"
    },
    {
      "cell_type": "markdown",
      "source": [
        "### Get width and color"
      ],
      "metadata": {},
      "id": "70725eb3"
    },
    {
      "cell_type": "code",
      "source": [
        "df_bgt_exp[['avg_width', 'min_width']] = df_bgt_exp.progress_apply(\n",
        "    lambda row: poly_utils.get_avg_width_cl(row.geometry, row.centerlines, \n",
        "                                            st.width_resolution, st.width_precision), axis=1)"
      ],
      "outputs": [],
      "execution_count": null,
      "metadata": {
        "gather": {
          "logged": 1699620418240
        }
      },
      "id": "4fdea8e0"
    },
    {
      "cell_type": "code",
      "source": [
        "conditions = [\n",
        "    (df_bgt_exp['min_width'] < st.width_1),\n",
        "    (df_bgt_exp['min_width'] >= st.width_1) & (df_bgt_exp['min_width'] < st.width_2),\n",
        "    (df_bgt_exp['min_width'] >= st.width_2) & (df_bgt_exp['min_width'] < st.width_3),\n",
        "    (df_bgt_exp['min_width'] >= st.width_3) & (df_bgt_exp['min_width'] < st.width_4),\n",
        "    (df_bgt_exp['min_width'] >= st.width_4) & (df_bgt_exp['min_width'] < st.width_5),\n",
        "    (df_bgt_exp['min_width'] >= st.width_5) & (df_bgt_exp['min_width'] < st.width_6),\n",
        "    (df_bgt_exp['min_width'] >= st.width_6)\n",
        "]\n",
        "\n",
        "values_color = ['darkred', 'red', 'orange', 'yellow', 'greenyellow', 'limegreen', 'green']\n",
        "values_indication = ['<' + str(st.width_1) + 'm', \n",
        "                     str(st.width_1) + '-' + str(st.width_2) + 'm', \n",
        "                     str(st.width_2) + '-' + str(st.width_3) + 'm', \n",
        "                     str(st.width_3) + '-' + str(st.width_5) + 'm', \n",
        "                     str(st.width_4) + '-' + str(st.width_5) + 'm', \n",
        "                     str(st.width_5) + '-' + str(st.width_6) + 'm', \n",
        "                     '>' + str(st.width_6) + 'm']"
      ],
      "outputs": [],
      "execution_count": null,
      "metadata": {
        "gather": {
          "logged": 1699620418540
        }
      },
      "id": "0ae7a34a"
    },
    {
      "cell_type": "code",
      "source": [
        "df_bgt_exp['full_width_color'] = np.select(conditions, values_color)\n",
        "df_bgt_exp['full_width'] = np.select(conditions, values_indication)\n",
        "df_bgt_exp['full_width'].value_counts()"
      ],
      "outputs": [],
      "execution_count": null,
      "metadata": {
        "gather": {
          "logged": 1699620418899
        }
      },
      "id": "b148d1fb"
    },
    {
      "cell_type": "markdown",
      "source": [
        "### Remove too narrow paths and short-ends"
      ],
      "metadata": {},
      "id": "3f55cc94"
    },
    {
      "cell_type": "code",
      "source": [
        "# Apply minimal path width on BGT centerlines\n",
        "print(df_bgt_exp.shape)\n",
        "df_bgt_exp = df_bgt_exp[df_bgt_exp['min_width'] > st.min_path_width].reset_index(drop=True)\n",
        "print(df_bgt_exp.shape)"
      ],
      "outputs": [],
      "execution_count": null,
      "metadata": {
        "gather": {
          "logged": 1699620419238
        }
      },
      "id": "761ed7e8"
    },
    {
      "cell_type": "code",
      "source": [
        "# Remove short lines\n",
        "df_bgt_exp = df_bgt_exp.rename(columns={'geometry':'geometry_sidewalks', 'centerlines':'geometry'}) \n",
        "mls_per_id = poly_utils.create_mls_per_sidewalk(df_bgt_exp, crs=st.CRS)\n",
        "mls_per_id['geometry'] = mls_per_id['geometry'].progress_apply(\n",
        "    lambda x: poly_utils.remove_short_lines(x, st.min_se_length_fw))"
      ],
      "outputs": [],
      "execution_count": null,
      "metadata": {
        "gather": {
          "logged": 1699621767447
        }
      },
      "id": "a0f232f8"
    },
    {
      "cell_type": "code",
      "source": [
        "# Apply selection of longer lines to original dataframe\n",
        "long_segments_df = gpd.GeoDataFrame(mls_per_id.geometry.explode())\n",
        "df_bgt_exp = df_bgt_exp.merge(long_segments_df, how='inner')\n",
        "df_bgt_exp.shape"
      ],
      "outputs": [],
      "execution_count": null,
      "metadata": {
        "gather": {
          "logged": 1699621769014
        }
      },
      "id": "bd88bd59"
    },
    {
      "cell_type": "markdown",
      "source": [
        "## Import segments data"
      ],
      "metadata": {},
      "id": "9a555a6e"
    },
    {
      "cell_type": "code",
      "source": [
        "# Read lines with widths (calculated in notebook 5 of https://github.com/Amsterdam-AI-Team/Urban_PointCloud_Sidewalk_Width)\n",
        "df_segments_full = gpd.read_file(cf.segments_file, crs=st.CRS)"
      ],
      "outputs": [],
      "execution_count": null,
      "metadata": {
        "gather": {
          "logged": 1699622794903
        }
      },
      "id": "2a69b43f"
    },
    {
      "cell_type": "markdown",
      "source": [
        "### Selection of segments within pilot area"
      ],
      "metadata": {
        "nteract": {
          "transient": {
            "deleting": false
          }
        }
      },
      "id": "38f75bda-2d1f-44ea-97d6-f13388a0a5b3"
    },
    {
      "cell_type": "code",
      "source": [
        "# Import areas\n",
        "df_areas = gpd.read_file(cf.output_pilot_area)\n",
        "\n",
        "# Only keep BGT data within pilot areas\n",
        "df_segments = df_segments_full.sjoin(df_areas, how='inner', predicate='within')  # note: only sidewalk polygons fully inside area are included\n",
        "\n",
        "#del df_segments_full"
      ],
      "outputs": [],
      "execution_count": null,
      "metadata": {
        "gather": {
          "logged": 1699622820415
        },
        "jupyter": {
          "outputs_hidden": false,
          "source_hidden": false
        },
        "nteract": {
          "transient": {
            "deleting": false
          }
        }
      },
      "id": "4d89cf85-2592-40c5-9115-3611a98b7349"
    },
    {
      "cell_type": "markdown",
      "source": [
        "## Create relevant variable - obstacle-free width"
      ],
      "metadata": {},
      "id": "1a75dd16"
    },
    {
      "cell_type": "markdown",
      "source": [
        "### Remove too narrow paths and short-ends"
      ],
      "metadata": {},
      "id": "339d6256"
    },
    {
      "cell_type": "code",
      "source": [
        "# Apply minimal path width\n",
        "df_segments_wide = df_segments[df_segments['min_width'] > st.min_path_width].reset_index(drop=True)\n",
        "print(df_segments.shape)\n",
        "print(df_segments_wide.shape)"
      ],
      "outputs": [],
      "execution_count": null,
      "metadata": {
        "gather": {
          "logged": 1699622964176
        }
      },
      "id": "efd9d0b7"
    },
    {
      "cell_type": "code",
      "source": [
        "# Remove short lines (this takes a while)\n",
        "mls_per_id = poly_utils.create_mls_per_sidewalk(df_segments_wide, crs=st.CRS)\n",
        "mls_per_id['geometry'] = mls_per_id['geometry'].progress_apply(poly_utils.remove_short_lines)"
      ],
      "outputs": [],
      "execution_count": null,
      "metadata": {
        "collapsed": false,
        "gather": {
          "logged": 1699626528778
        }
      },
      "id": "206c47a6"
    },
    {
      "cell_type": "code",
      "source": [
        "# Apply selection of longer lines to original dataframe\n",
        "long_segments_df = gpd.GeoDataFrame(mls_per_id.geometry.explode())\n",
        "df_segments_wide = df_segments_wide.merge(long_segments_df, how='inner')\n",
        "df_segments_wide.shape"
      ],
      "outputs": [],
      "execution_count": null,
      "metadata": {
        "gather": {
          "logged": 1699626530345
        }
      },
      "id": "f00d2b0e"
    },
    {
      "cell_type": "markdown",
      "source": [
        "### Use color codes"
      ],
      "metadata": {},
      "id": "2c9faf42"
    },
    {
      "cell_type": "code",
      "source": [
        "conditions = [\n",
        "    (df_segments_wide['min_width'] < st.width_1),\n",
        "    (df_segments_wide['min_width'] >= st.width_1) & (df_segments_wide['min_width'] < st.width_2),\n",
        "    (df_segments_wide['min_width'] >= st.width_2) & (df_segments_wide['min_width'] < st.width_3),\n",
        "    (df_segments_wide['min_width'] >= st.width_3) & (df_segments_wide['min_width'] < st.width_4),\n",
        "    (df_segments_wide['min_width'] >= st.width_4) & (df_segments_wide['min_width'] < st.width_5),\n",
        "    (df_segments_wide['min_width'] >= st.width_5) & (df_segments_wide['min_width'] < st.width_6),\n",
        "    (df_segments_wide['min_width'] >= st.width_6)\n",
        "]\n",
        "\n",
        "values = ['darkred', 'red', 'orange', 'yellow', 'greenyellow', 'limegreen', 'green']"
      ],
      "outputs": [],
      "execution_count": null,
      "metadata": {
        "gather": {
          "logged": 1699626530654
        }
      },
      "id": "8fb0a379"
    },
    {
      "cell_type": "code",
      "source": [
        "df_segments_wide['min_width_color'] = np.select(conditions, values)\n",
        "df_segments_wide['min_width_color'].value_counts()"
      ],
      "outputs": [],
      "execution_count": null,
      "metadata": {
        "gather": {
          "logged": 1699626531003
        }
      },
      "id": "dc8429fa"
    },
    {
      "cell_type": "code",
      "source": [
        "# Add width factor, for calculating the weights of the paths later\n",
        "values = [1000000000000, 10000000000, 100000000, 1000000, 10000, 100, 1]\n",
        "df_segments_wide['min_width_factor'] = np.select(conditions, values).astype('int64')"
      ],
      "outputs": [],
      "execution_count": null,
      "metadata": {
        "gather": {
          "logged": 1699626531360
        }
      },
      "id": "c493347c"
    },
    {
      "cell_type": "markdown",
      "source": [
        "### Take point cloud coverage into account"
      ],
      "metadata": {},
      "id": "4c484f08"
    },
    {
      "cell_type": "code",
      "source": [
        "df_segments_wide['min_width_factor'][df_segments_wide['pc_coverage'] == False] = 100000000000001"
      ],
      "outputs": [],
      "execution_count": null,
      "metadata": {
        "gather": {
          "logged": 1699626531660
        }
      },
      "id": "1490e750"
    },
    {
      "cell_type": "code",
      "source": [
        "df_segments_wide['min_width_factor'].value_counts()"
      ],
      "outputs": [],
      "execution_count": null,
      "metadata": {
        "gather": {
          "logged": 1699626531975
        }
      },
      "id": "1007b745"
    },
    {
      "cell_type": "markdown",
      "source": [
        "### Do network calculation"
      ],
      "metadata": {},
      "id": "ea288a1f"
    },
    {
      "cell_type": "code",
      "source": [
        "df_bgt_exp['route_weight'] = np.nan\n",
        "print('start doing network calculation on ' + str(len(df_bgt_sw['sidewalk_id'])) + ' rows')"
      ],
      "outputs": [],
      "execution_count": null,
      "metadata": {
        "gather": {
          "logged": 1699626748511
        }
      },
      "id": "35b2a910"
    },
    {
      "cell_type": "code",
      "source": [
        "# Create final dataframe\n",
        "final_df = pd.DataFrame()\n",
        "\n",
        "for i in range(len(df_bgt_sw['sidewalk_id'])):\n",
        "    print(i)\n",
        "      \n",
        "    # Get sidewalk polygon for this centerline \n",
        "    my_sidewalk = df_bgt_sw['geometry'].values[i]   \n",
        "    \n",
        "    # Create graph for all paths withing this sidewalk polygon\n",
        "    df_sidewalk = df_segments_wide[df_segments_wide['geometry'].within(my_sidewalk)].reset_index(drop=True)\n",
        "    G = momepy.gdf_to_nx(df_sidewalk, approach=\"primal\", multigraph=True)\n",
        "    \n",
        "    # Create dataframe with linestrings of centerline\n",
        "    centerline_df = df_bgt_exp[df_bgt_exp['sidewalk_id'] == i].reset_index(drop=True)\n",
        "    \n",
        "    for j in range(len(centerline_df['geometry'])):  \n",
        "        \n",
        "        # Get line\n",
        "        my_line = centerline_df.iloc[[j]]['geometry'].values[0]\n",
        "        \n",
        "        if len(list(G.nodes)) > 0:\n",
        "            # Check if my_line has start and end (not a ring)\n",
        "            if len(my_line.boundary) == 0:\n",
        "                print('no route calculated for line (j)', j, 'in sidewalk (i)', i, '(ring)')\n",
        "                centerline_df['route_weight'][j] = 0\n",
        "            else:\n",
        "                # Get origin and destination location\n",
        "                origin_point, dest_point = my_line.boundary\n",
        "                origin_node_loc = so.nearest_points(origin_point, sg.MultiPoint(list(G.nodes)))[1]\n",
        "                dest_node_loc = so.nearest_points(dest_point, sg.MultiPoint(list(G.nodes)))[1]\n",
        "\n",
        "                # Get origin and destination node\n",
        "                origin_node = (origin_node_loc.x, origin_node_loc.y)\n",
        "                dest_node = (dest_node_loc.x, dest_node_loc.y)   \n",
        "\n",
        "                # Get weight of optimal route in graph\n",
        "                try:\n",
        "                    route_weight = nx.shortest_path_length(G, origin_node, dest_node,\n",
        "                                                           weight='min_width_factor')\n",
        "                    if (origin_point.distance(origin_node_loc) < st.max_dist) and (dest_point.distance(dest_node_loc) < st.max_dist):\n",
        "                        centerline_df['route_weight'][j] = route_weight\n",
        "                    else:\n",
        "                        print('origin and/or destination node too far from line start/end for line (j)', j, 'in sidewalk (i)', i) \n",
        "                        centerline_df['route_weight'][j] = np.nan\n",
        "                except nx.NetworkXNoPath:\n",
        "                    print('no route found for line (j)', j, 'in sidewalk (i)', i)\n",
        "                    centerline_df['route_weight'][j] = 100000000000000\n",
        "        else:\n",
        "            print('network has zero nodes')\n",
        "\n",
        "    # Append data to final dataframe\n",
        "    final_df = pd.concat([final_df, centerline_df])\n",
        "final_df = final_df.reset_index()"
      ],
      "outputs": [],
      "execution_count": null,
      "metadata": {
        "gather": {
          "logged": 1699627942762
        }
      },
      "id": "f26bd1a9"
    },
    {
      "cell_type": "code",
      "source": [
        "#del df_bgt_exp"
      ],
      "outputs": [],
      "execution_count": null,
      "metadata": {
        "gather": {
          "logged": 1692712271570
        }
      },
      "id": "e46a40c2"
    },
    {
      "cell_type": "code",
      "source": [
        "# Get final color of the routes\n",
        "final_df['final_color'] = final_df.progress_apply(\n",
        "    lambda row: poly_utils.get_route_color(row.route_weight), axis=1)"
      ],
      "outputs": [],
      "execution_count": null,
      "metadata": {
        "gather": {
          "logged": 1699628618225
        }
      },
      "id": "82a25585"
    },
    {
      "cell_type": "markdown",
      "source": [
        "## Post-process "
      ],
      "metadata": {},
      "id": "31919f60"
    },
    {
      "cell_type": "code",
      "source": [
        "final_df = final_df.set_geometry('geometry')"
      ],
      "outputs": [],
      "execution_count": null,
      "metadata": {
        "gather": {
          "logged": 1699628636385
        }
      },
      "id": "a13648a3"
    },
    {
      "cell_type": "markdown",
      "source": [
        "### Set final color and indication"
      ],
      "metadata": {},
      "id": "ffd88a06"
    },
    {
      "cell_type": "code",
      "source": [
        "# Get dataframe with only valid lines  # TODO now first color, then widths and then delete color --> just use with in the first place\n",
        "final_df_select = final_df[final_df['final_color'].isin(['green', 'limegreen', 'greenyellow', \n",
        "                                                         'yellow', 'orange', 'red',\n",
        "                                                         'darkred', 'purple', 'black', 'grey'])]\n",
        "\n",
        "final_df_select = final_df_select.reset_index(drop=True)"
      ],
      "outputs": [],
      "execution_count": null,
      "metadata": {
        "gather": {
          "logged": 1699628639848
        }
      },
      "id": "907bb619"
    },
    {
      "cell_type": "code",
      "source": [
        "# Recolor paths with unknown widths\n",
        "final_df_select['final_color'] = final_df_select['final_color'].replace(['black', 'purple'], 'grey')"
      ],
      "outputs": [],
      "execution_count": null,
      "metadata": {
        "gather": {
          "logged": 1699628641488
        }
      },
      "id": "35d4495c"
    },
    {
      "cell_type": "code",
      "source": [
        "# Add meter indication\n",
        "conditions = [\n",
        "    (final_df_select['final_color'] == 'darkred'),\n",
        "    (final_df_select['final_color'] == 'red'),   \n",
        "    (final_df_select['final_color'] == 'orange'),\n",
        "    (final_df_select['final_color'] == 'yellow'),\n",
        "    (final_df_select['final_color'] == 'greenyellow'),\n",
        "    (final_df_select['final_color'] == 'limegreen'),  \n",
        "    (final_df_select['final_color'] == 'green'),  \n",
        "    (final_df_select['final_color'] == 'grey')\n",
        "]\n",
        "values_indication = ['<' + str(st.width_1) + 'm', \n",
        "                     str(st.width_1) + '-' + str(st.width_2) + 'm', \n",
        "                     str(st.width_2) + '-' + str(st.width_3) + 'm', \n",
        "                     str(st.width_3) + '-' + str(st.width_4) + 'm', \n",
        "                     str(st.width_4) + '-' + str(st.width_5) + 'm', \n",
        "                     str(st.width_5) + '-' + str(st.width_6) + 'm', \n",
        "                     '>' + str(st.width_6) + 'm',\n",
        "                    'unknown']\n",
        "final_df_select['obstacle_free_width'] = np.select(conditions, values_indication)"
      ],
      "outputs": [],
      "execution_count": null,
      "metadata": {
        "gather": {
          "logged": 1699628643193
        }
      },
      "id": "e24e0623"
    },
    {
      "cell_type": "markdown",
      "source": [
        "### Get correct columns"
      ],
      "metadata": {},
      "id": "3c190fc9"
    },
    {
      "cell_type": "code",
      "source": [
        "# Select only relevant columns\n",
        "final_df_select = final_df_select[['geometry', 'final_color', 'obstacle_free_width', \n",
        "                                   'full_width', 'full_width_color']]"
      ],
      "outputs": [],
      "execution_count": null,
      "metadata": {
        "gather": {
          "logged": 1699628646439
        }
      },
      "id": "32851d3f"
    },
    {
      "cell_type": "markdown",
      "source": [
        "### Fix incorrect labeling of obstacle-free width (> full width)"
      ],
      "metadata": {},
      "id": "4c9bd80b"
    },
    {
      "cell_type": "code",
      "source": [
        "final_df_select['obstacle_free_width'][(final_df_select['obstacle_free_width'].isin(['0.9-1.5m', '1.5-2.0m', '2.0-2.2m', '2.2-2.9m', '2.9-3.6m', '>3.6m'])) & \n",
        "                                       (final_df_select['full_width'] == '<0.9m')] = '<0.9m'\n",
        "final_df_select['obstacle_free_width'][(final_df_select['obstacle_free_width'].isin(['1.5-2.0m', '2.0-2.2m', '2.2-2.9m', '2.9-3.6m', '>3.6m'])) & \n",
        "                                       (final_df_select['full_width'] == '0.9-1.5m')] = '0.9-1.5m'\n",
        "final_df_select['obstacle_free_width'][(final_df_select['obstacle_free_width'].isin(['2.0-2.2m', '2.2-2.9m', '2.9-3.6m', '>3.6m'])) & \n",
        "                                       (final_df_select['full_width'] == '1.5-2.0m')] = '1.5-2.0m'\n",
        "final_df_select['obstacle_free_width'][(final_df_select['obstacle_free_width'].isin(['2.2-2.9m', '2.9-3.6m', '>3.6m'])) & \n",
        "                                       (final_df_select['full_width'] == '2.0-2.2m')] = '2.0-2.2m'\n",
        "final_df_select['obstacle_free_width'][(final_df_select['obstacle_free_width'].isin(['2.9-3.6m', '>3.6m'])) & \n",
        "                                       (final_df_select['full_width'] == '2.2-2.9m')] = '2.2-2.9m'\n",
        "final_df_select['obstacle_free_width'][(final_df_select['obstacle_free_width'] == '>3.6m') & \n",
        "                                       (final_df_select['full_width'] == '2.9-3.6m')] = '2.9-3.6m'"
      ],
      "outputs": [],
      "execution_count": null,
      "metadata": {
        "gather": {
          "logged": 1699628651843
        }
      },
      "id": "cdcb0e6c"
    },
    {
      "cell_type": "markdown",
      "source": [
        "### Adjust crs"
      ],
      "metadata": {},
      "id": "b5ba9b38"
    },
    {
      "cell_type": "code",
      "source": [
        "final_df_select = final_df_select.set_crs(st.CRS)  # TODO might be removed?\n",
        "print('finished post-processing')"
      ],
      "outputs": [],
      "execution_count": null,
      "metadata": {
        "gather": {
          "logged": 1699628657686
        }
      },
      "id": "65af7db5"
    },
    {
      "cell_type": "markdown",
      "source": [
        "## Merge with basic network"
      ],
      "metadata": {
        "nteract": {
          "transient": {
            "deleting": false
          }
        }
      },
      "id": "01e3fb84-6bff-4536-bf47-433864a3e2e8"
    },
    {
      "cell_type": "code",
      "source": [
        "df_combined = pd.merge(df_bgt_nw, final_df_select, how='left', left_on='centerlines', right_on='geometry')"
      ],
      "outputs": [],
      "execution_count": null,
      "metadata": {
        "gather": {
          "logged": 1699628954730
        },
        "jupyter": {
          "outputs_hidden": false,
          "source_hidden": false
        },
        "nteract": {
          "transient": {
            "deleting": false
          }
        }
      },
      "id": "fb654d39-336e-420e-86aa-5be255d2353d"
    },
    {
      "cell_type": "markdown",
      "source": [
        "## Store final output"
      ],
      "metadata": {},
      "id": "10991d1e"
    },
    {
      "cell_type": "code",
      "source": [
        "df_store = df_combined[['cl_id', 'centerlines', 'length', 'sidewalk_id', 'obstacle_free_width']]\n",
        "df_store = df_store.set_geometry('centerlines').set_crs(st.CRS)\n",
        "df_store.head()"
      ],
      "outputs": [],
      "execution_count": null,
      "metadata": {
        "gather": {
          "logged": 1699629340933
        },
        "jupyter": {
          "outputs_hidden": false,
          "source_hidden": false
        },
        "nteract": {
          "transient": {
            "deleting": false
          }
        }
      },
      "id": "37b29819-5145-4915-85c9-b50eaf9daaba"
    },
    {
      "cell_type": "code",
      "source": [
        "df_store.to_file(cf.output_file_widths, driver='GPKG') \n",
        "print('stored final data')"
      ],
      "outputs": [],
      "execution_count": null,
      "metadata": {
        "gather": {
          "logged": 1699629244780
        },
        "jupyter": {
          "outputs_hidden": false,
          "source_hidden": false
        },
        "nteract": {
          "transient": {
            "deleting": false
          }
        }
      },
      "id": "cf49eb75-7a2e-478f-9e1a-0dc7f2dc688c"
    },
    {
      "cell_type": "markdown",
      "source": [
        "## Visualize"
      ],
      "metadata": {
        "nteract": {
          "transient": {
            "deleting": false
          }
        }
      },
      "id": "5fdb9076-36f4-4c8d-8e5d-0109bb80d185"
    },
    {
      "cell_type": "code",
      "source": [
        "df_store = gpd.read_file(cf.output_file_widths)"
      ],
      "outputs": [],
      "execution_count": null,
      "metadata": {
        "gather": {
          "logged": 1700643313852
        },
        "jupyter": {
          "outputs_hidden": false,
          "source_hidden": false
        },
        "nteract": {
          "transient": {
            "deleting": false
          }
        }
      },
      "id": "a5bdf213-e27e-4e3f-8913-3a0e1d8a5d5f"
    },
    {
      "cell_type": "code",
      "source": [
        "# Set center of map\n",
        "area_coords = [52.375664816888225, 4.8632280955697995]\n",
        "\n",
        "# Set to map coordinate reference system\n",
        "df_store_show = df_store.to_crs(\"EPSG:4326\")\n",
        "\n",
        "# Create basic map\n",
        "my_map = folium.Map(\n",
        "    location=area_coords,\n",
        "    tiles='cartodbpositron',\n",
        "    min_zoom=10, max_zoom=20, zoom_start=13,\n",
        "    zoom_control=True, control_scale=True, control=False\n",
        "    )\n",
        "\n",
        "for _, r in df_store_show[df_store_show['obstacle_free_width'] == '<0.9m'].iterrows():\n",
        "    sim_geo = gpd.GeoSeries(r[\"geometry\"]).simplify(tolerance=0.001)\n",
        "    geo_j = sim_geo.to_json()\n",
        "    geo_j = folium.GeoJson(data=geo_j, style_function=lambda x: {\"color\": \"darkred\"})\n",
        "    geo_j.add_to(my_map)\n",
        "\n",
        "for _, r in df_store_show[df_store_show['obstacle_free_width'] == '0.9-1.5m'].iterrows():\n",
        "    sim_geo = gpd.GeoSeries(r[\"geometry\"]).simplify(tolerance=0.001)\n",
        "    geo_j = sim_geo.to_json()\n",
        "    geo_j = folium.GeoJson(data=geo_j, style_function=lambda x: {\"color\": \"red\"})\n",
        "    geo_j.add_to(my_map)\n",
        "\n",
        "for _, r in df_store_show[df_store_show['obstacle_free_width'] == '1.5-2.0m'].iterrows():\n",
        "    sim_geo = gpd.GeoSeries(r[\"geometry\"]).simplify(tolerance=0.001)\n",
        "    geo_j = sim_geo.to_json()\n",
        "    geo_j = folium.GeoJson(data=geo_j, style_function=lambda x: {\"color\": \"orange\"})\n",
        "    geo_j.add_to(my_map)\n",
        "\n",
        "for _, r in df_store_show[df_store_show['obstacle_free_width'] == '2.0-2.2m'].iterrows():\n",
        "    sim_geo = gpd.GeoSeries(r[\"geometry\"]).simplify(tolerance=0.001)\n",
        "    geo_j = sim_geo.to_json()\n",
        "    geo_j = folium.GeoJson(data=geo_j, style_function=lambda x: {\"color\": \"yellow\"})\n",
        "    geo_j.add_to(my_map)\n",
        "\n",
        "for _, r in df_store_show[df_store_show['obstacle_free_width'] == '2.2-2.9m'].iterrows():\n",
        "    sim_geo = gpd.GeoSeries(r[\"geometry\"]).simplify(tolerance=0.001)\n",
        "    geo_j = sim_geo.to_json()\n",
        "    geo_j = folium.GeoJson(data=geo_j, style_function=lambda x: {\"color\": \"greenyellow\"})\n",
        "    geo_j.add_to(my_map)\n",
        "\n",
        "for _, r in df_store_show[df_store_show['obstacle_free_width'] == '2.9-3.6m'].iterrows():\n",
        "    sim_geo = gpd.GeoSeries(r[\"geometry\"]).simplify(tolerance=0.001)\n",
        "    geo_j = sim_geo.to_json()\n",
        "    geo_j = folium.GeoJson(data=geo_j, style_function=lambda x: {\"color\": \"limegreen\"})\n",
        "    geo_j.add_to(my_map)\n",
        "\n",
        "for _, r in df_store_show[df_store_show['obstacle_free_width'] == '>3.6m'].iterrows():\n",
        "    sim_geo = gpd.GeoSeries(r[\"geometry\"]).simplify(tolerance=0.001)\n",
        "    geo_j = sim_geo.to_json()\n",
        "    geo_j = folium.GeoJson(data=geo_j, style_function=lambda x: {\"color\": \"green\"})\n",
        "    geo_j.add_to(my_map)\n",
        "\n",
        "for _, r in df_store_show[df_store_show['obstacle_free_width'].isin(['unknown'])].iterrows():\n",
        "    sim_geo = gpd.GeoSeries(r[\"geometry\"]).simplify(tolerance=0.001)\n",
        "    geo_j = sim_geo.to_json()\n",
        "    geo_j = folium.GeoJson(data=geo_j, style_function=lambda x: {\"color\": \"grey\"})\n",
        "    geo_j.add_to(my_map)\n",
        "\n",
        "for _, r in df_store_show[df_store_show['obstacle_free_width'].isin([None])].iterrows():\n",
        "    sim_geo = gpd.GeoSeries(r[\"geometry\"]).simplify(tolerance=0.001)\n",
        "    geo_j = sim_geo.to_json()\n",
        "    geo_j = folium.GeoJson(data=geo_j, style_function=lambda x: {\"color\": \"lightgrey\"})\n",
        "    geo_j.add_to(my_map)    "
      ],
      "outputs": [],
      "execution_count": null,
      "metadata": {
        "gather": {
          "logged": 1700644044659
        },
        "jupyter": {
          "outputs_hidden": false,
          "source_hidden": false
        },
        "nteract": {
          "transient": {
            "deleting": false
          }
        }
      },
      "id": "6c784b8e-25d6-4faf-9e15-371494935575"
    },
    {
      "cell_type": "code",
      "source": [
        "# Store map\n",
        "my_map.save(cf.network_map_widths)"
      ],
      "outputs": [],
      "execution_count": null,
      "metadata": {
        "jupyter": {
          "outputs_hidden": false,
          "source_hidden": false
        },
        "nteract": {
          "transient": {
            "deleting": false
          }
        },
        "gather": {
          "logged": 1700644170912
        }
      },
      "id": "3d2b3107-3f3a-46c7-942e-6938a350f109"
    }
  ],
  "metadata": {
    "kernel_info": {
      "name": "venv_rp"
    },
    "kernelspec": {
      "name": "venv_rp",
      "language": "python",
      "display_name": "venv_rp"
    },
    "language_info": {
      "name": "python",
      "version": "3.8.10",
      "mimetype": "text/x-python",
      "codemirror_mode": {
        "name": "ipython",
        "version": 3
      },
      "pygments_lexer": "ipython3",
      "nbconvert_exporter": "python",
      "file_extension": ".py"
    },
    "microsoft": {
      "host": {
        "AzureML": {
          "notebookHasBeenCompleted": true
        }
      },
      "ms_spell_check": {
        "ms_spell_check_language": "en"
      }
    },
    "nteract": {
      "version": "nteract-front-end@1.0.0"
    }
  },
  "nbformat": 4,
  "nbformat_minor": 5
}