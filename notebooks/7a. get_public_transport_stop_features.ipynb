{
 "cells": [
  {
   "cell_type": "markdown",
   "metadata": {},
   "source": [
    "# 7a. Get publlic transport features from NDOV Loket and OpenStreetMap"
   ]
  },
  {
   "cell_type": "code",
   "execution_count": null,
   "metadata": {},
   "outputs": [],
   "source": [
    "# Standard library and path imports\n",
    "import set_path\n",
    "\n",
    "# Third-party library imports\n",
    "import pandas as pd\n",
    "import xmltodict\n",
    "import pyproj\n",
    "import folium\n",
    "import geopandas as gpd\n",
    "import osmnx as ox\n",
    "from tqdm.notebook import tqdm_notebook\n",
    "tqdm_notebook.pandas()\n",
    "\n",
    "# Local or project-specific imports\n",
    "import plot_utils\n",
    "import poly_utils\n",
    "import settings as st\n",
    "\n",
    "if st.my_run == \"azure\":\n",
    "    import config_azure as cf\n",
    "elif st.my_run == \"local\":\n",
    "    import config as cf"
   ]
  },
  {
   "cell_type": "markdown",
   "metadata": {},
   "source": [
    "## Get mask of area"
   ]
  },
  {
   "cell_type": "code",
   "execution_count": null,
   "metadata": {},
   "outputs": [],
   "source": [
    "df_areas = gpd.read_file(cf.output_pilot_area)\n",
    "polygon = df_areas.to_crs(crs=st.CRS).unary_union"
   ]
  },
  {
   "cell_type": "markdown",
   "metadata": {},
   "source": [
    "## Obtain tram, bus and ferry stops including accessability information from NDOV Loket\n",
    "source: https://data.ndovloket.nl/haltes/ \\\n",
    "download the \"ExportCHB20240228013154.xml.gz\" file and upload to '../data/input/' folder \\\n",
    "(make sure you pull the latest version and adjust the ndov_file variable in the subsequent cell accordingly) "
   ]
  },
  {
   "cell_type": "markdown",
   "metadata": {},
   "source": [
    "### Create geodataframe containing bus, tram and ferry stops"
   ]
  },
  {
   "cell_type": "code",
   "execution_count": null,
   "metadata": {},
   "outputs": [],
   "source": [
    "# Load xml with stop data\n",
    "with open(cf.ndov_public_transport_stops) as xml_file:\n",
    "    ndov_data = xmltodict.parse(xml_file.read(), process_namespaces=True, namespaces={\"ns1\":None, \"http://bison.connekt.nl/tmi8/chb/msg\": None})"
   ]
  },
  {
   "cell_type": "code",
   "execution_count": null,
   "metadata": {},
   "outputs": [],
   "source": [
    "# Only keep stops in Amsterdam\n",
    "adam_stops = [thing for thing in ndov_data[\"export\"][\"stopplaces\"][\"stopplace\"] if thing[\"stopplacename\"][\"town\"] == \"Amsterdam\"]"
   ]
  },
  {
   "cell_type": "code",
   "execution_count": null,
   "metadata": {},
   "outputs": [],
   "source": [
    "# Configure xml stop data as dataframe\n",
    "transformer = pyproj.Transformer.from_crs(st.CRS, st.CRS_map)\n",
    "\n",
    "quay_df = pd.DataFrame()\n",
    "\n",
    "for stop in adam_stops:\n",
    "    if stop[\"quays\"] is None:\n",
    "        continue\n",
    "    quays = stop[\"quays\"][\"quay\"] \\\n",
    "            if isinstance(stop[\"quays\"][\"quay\"], list) \\\n",
    "            else [stop[\"quays\"][\"quay\"]]\n",
    "\n",
    "    for quay in quays:\n",
    "        \n",
    "        lat, lon = transformer.transform(float(quay[\"quaylocationdata\"][\"rd-x\"]), float(quay[\"quaylocationdata\"][\"rd-y\"]))\n",
    "        quay_dict = {\n",
    "            \"stop_code\": stop[\"stopplacecode\"],\n",
    "            \"stop_type\": stop[\"stopplacetype\"],\n",
    "            \"stop_name\": stop[\"stopplacename\"][\"publicname\"],\n",
    "            \"stop_info_display\": stop[\"stopplacefacilities\"][\"passengerinformationdisplay\"],\n",
    "            \"type\": quay[\"quaytypedata\"][\"quaytype\"],\n",
    "            \"transportmodes\": quay[\"quaytransportmodes\"][\"transportmodedata\"][\"transportmode\"],\n",
    "            \"rd-x\": quay[\"quaylocationdata\"][\"rd-x\"],\n",
    "            \"rd-y\": quay[\"quaylocationdata\"][\"rd-y\"],\n",
    "            \"lat\": lat,\n",
    "            \"lon\": lon,\n",
    "            \"level\": quay[\"quaylocationdata\"][\"level\"],\n",
    "            \"bearing_compass_direction\": quay[\"quaybearing\"][\"compassdirection\"],\n",
    "            \"visually_accessible\": quay[\"quayvisuallyaccessible\"][\"visuallyaccessible\"],\n",
    "            \"visually_impaired_access\": quay[\"quayvisuallyaccessible\"][\"visuallyImpairedAccess\"],\n",
    "            \"disabled_access_mode\": quay[\"quaydisabledaccessible\"][\"transportmode\"],\n",
    "            \"disabled_access\": quay[\"quaydisabledaccessible\"][\"disabledaccessible\"],\n",
    "            \"disabled_access_step_free\": quay[\"quaydisabledaccessible\"][\"stepFreeAccess\"],\n",
    "            \"disabled_access_wheelchair\": quay[\"quaydisabledaccessible\"][\"wheelchairAccess\"],\n",
    "            \"remarks\": quay[\"quayremarks\"][\"remarks\"],\n",
    "            \n",
    "        }\n",
    "        adaptions = quay.get(\"quayaccessibilityadaptions\", {})\n",
    "        adaptions.pop(\"validfrom\", None)\n",
    "        quay_dict.update({f\"adapt-{key}\": val for key, val in adaptions.items()})\n",
    "\n",
    "        facilities = quay.get(\"quayfacilities\", {})\n",
    "        facilities.pop(\"validfrom\", None)\n",
    "        quay_dict.update({f\"facil-{key}\": val for key, val in facilities.items()})\n",
    "\n",
    "        extras = quay.get(\"quayextraattributes\", {})\n",
    "        extras.pop(\"validfrom\", None)\n",
    "        quay_dict.update({f\"facil-{key}\": val for key, val in extras.items()})\n",
    "\n",
    "        quay_df = pd.concat([quay_df, pd.DataFrame([quay_dict])], ignore_index=True)"
   ]
  },
  {
   "cell_type": "code",
   "execution_count": null,
   "metadata": {},
   "outputs": [],
   "source": [
    "# Create geodataframe from stop information dataframe\n",
    "quay_gdf = gpd.GeoDataFrame(\n",
    "    quay_df, geometry=gpd.points_from_xy(quay_df.lon, quay_df.lat), crs=st.CRS_map).to_crs(st.CRS)"
   ]
  },
  {
   "cell_type": "code",
   "execution_count": null,
   "metadata": {},
   "outputs": [],
   "source": [
    "# Only keep stops within pilot area\n",
    "rename_dict = {'disabled_access': 'wheelchair_accessible', \n",
    "                'type': 'stop_placement_type', \n",
    "                'adapt-narrowestpassagewidth': \n",
    "                'obstacle_free_width_float'}\n",
    "\n",
    "# quay_gdf_mask = polygon.contains(quay_gdf['geometry'])\n",
    "quay_gdf_mask = quay_gdf['geometry'].apply(lambda geom: polygon.contains(geom))\n",
    "all_features = quay_gdf.loc[quay_gdf_mask]\n",
    "all_features = all_features.rename(columns=rename_dict)\n",
    "all_features['obstacle_free_width_float'] = all_features['obstacle_free_width_float'].astype(float)"
   ]
  },
  {
   "cell_type": "code",
   "execution_count": null,
   "metadata": {},
   "outputs": [],
   "source": [
    "# Rename columns and change variable names\n",
    "all_features['wheelchair_accessible'] = all_features['wheelchair_accessible'].str.replace('Y', 'Yes')\n",
    "all_features['wheelchair_accessible'] = all_features['wheelchair_accessible'].str.replace('N', 'No')\n",
    "all_features['wheelchair_accessible'] = all_features['wheelchair_accessible'].str.replace('U', 'Unknown')"
   ]
  },
  {
   "cell_type": "code",
   "execution_count": null,
   "metadata": {},
   "outputs": [],
   "source": [
    "# Get features seperately\n",
    "feat_list = ['onstreetBus', 'onstreetTram', 'ferryPort', 'combiTramBus', 'metroStation']\n",
    "bus_features = all_features.loc[all_features['stop_type'] == 'onstreetBus']\n",
    "tram_features = all_features.loc[all_features['stop_type'] == 'onstreetTram']\n",
    "ferry_features = all_features.loc[all_features['stop_type'] == 'ferryPort']\n",
    "bus_tram_features = all_features.loc[all_features['stop_type'] == 'combiTramBus']\n",
    "metro_features_osm = all_features.loc[all_features['stop_type'] == 'metroStation']\n",
    "other_features = all_features.loc[~all_features['stop_type'].isin(feat_list)]"
   ]
  },
  {
   "cell_type": "markdown",
   "metadata": {},
   "source": [
    "## Obtain metro stops from OpenStreetMap\n"
   ]
  },
  {
   "cell_type": "code",
   "execution_count": null,
   "metadata": {},
   "outputs": [],
   "source": [
    "# Retrieve crossing attributes\n",
    "rename_dict = {'name': 'stop_name', 'layer': 'level', 'wheelchair': 'wheelchair_accessible'}\n",
    "polygon_metro = df_areas.to_crs(crs=st.CRS_map).unary_union\n",
    "tags = {\"railway\": 'subway_entrance'}\n",
    "metro_features = ox.geometries_from_polygon(polygon_metro, tags)\n",
    "\n",
    "if not metro_features.empty:\n",
    "    metro_features = metro_features.to_crs(crs=st.CRS)\n",
    "    metro_features = metro_features.rename(columns=rename_dict)\n",
    "    metro_features['stop_type'] = 'metroStation'\n",
    "    metro_features['stop_placement_type'] = 'regular'\n",
    "\n",
    "    # Fill wheelchair accessibility info\n",
    "    metro_features['wheelchair_accessible'].fillna('Unkown', inplace=True)\n",
    "    metro_features['wheelchair_accessible'] = metro_features['wheelchair_accessible'].str.capitalize()\n",
    "\n",
    "    # Impute missing stop_name values\n",
    "    metro_features = poly_utils.infer_column_by_distance(metro_features, metro_features_osm, 'stop_name')\n",
    "    metro_features = metro_features.loc[~metro_features.level.isin(['-1', '-2', '-3'])]\n",
    "    open_idxs = [i for i, row in metro_features.iterrows() if not 'closed' in str(row['stop_name']).lower()]\n",
    "    metro_features = metro_features.loc[open_idxs]"
   ]
  },
  {
   "cell_type": "markdown",
   "metadata": {},
   "source": [
    "## Store"
   ]
  },
  {
   "cell_type": "code",
   "execution_count": null,
   "metadata": {},
   "outputs": [],
   "source": [
    "dfs = [bus_features, tram_features, bus_tram_features, ferry_features, metro_features]\n",
    "non_empty_dfs = [df for df in dfs if not df.empty]\n",
    "public_transport_features = pd.concat(non_empty_dfs)\n",
    "public_transport_features.reset_index(drop=True, inplace=True)\n",
    "keep_cols = ['geometry', 'stop_type', 'stop_name', 'wheelchair_accessible', 'stop_placement_type', 'obstacle_free_width_float']\n",
    "drop_cols = public_transport_features.columns.difference(keep_cols)\n",
    "public_transport_features = public_transport_features.drop(columns=drop_cols)\n",
    "public_transport_features.to_file(cf.output_public_transport_features, driver='GPKG')"
   ]
  },
  {
   "cell_type": "markdown",
   "metadata": {
    "nteract": {
     "transient": {
      "deleting": false
     }
    }
   },
   "source": [
    "## Visualize stops"
   ]
  },
  {
   "cell_type": "code",
   "execution_count": null,
   "metadata": {
    "gather": {
     "logged": 1700580614706
    },
    "jupyter": {
     "outputs_hidden": false,
     "source_hidden": false
    },
    "nteract": {
     "transient": {
      "deleting": false
     }
    }
   },
   "outputs": [],
   "source": [
    "# set True for satellite background, False for standard background\n",
    "satellite = False\n",
    "\n",
    "# Create Folium map\n",
    "map = folium.Map(\n",
    "    location=[52.350547922223434, 4.7940192423718443], tiles=plot_utils.generate_map_params(satellite=satellite),\n",
    "    min_zoom=10, max_zoom=25, zoom_start=17,\n",
    "    zoom_control=True, control_scale=True, control=False\n",
    "    )\n",
    "\n",
    "# Add transport features\n",
    "feature_names = all_features.columns.tolist()\n",
    "feature_names.remove('geometry')\n",
    "color_column = 'wheelchair_accessible'\n",
    "\n",
    "if not bus_features.empty:\n",
    "    geo_j = folium.GeoJson(bus_features, tooltip=plot_utils.gen_tooltip(feature_names, feature_names), \n",
    "                                        marker=folium.Marker(icon=folium.Icon(icon='solid fa-bus', prefix='fa')), \n",
    "                                        style_function =lambda feature: {\"markerColor\": 'green' if feature[\"properties\"][color_column] == 'Yes' else\n",
    "                                        'red' if feature[\"properties\"][color_column] == 'No' else \n",
    "                                        'orange'}).add_to(map)\n",
    "if not tram_features.empty:\n",
    "    geo_j = folium.GeoJson(tram_features, tooltip=plot_utils.gen_tooltip(feature_names, feature_names), \n",
    "                                        marker=folium.Marker(icon=folium.Icon(icon='solid fa-train-tram', prefix='fa')), \n",
    "                                        style_function =lambda feature: {\"markerColor\": 'green' if feature[\"properties\"][color_column] == 'Yes' else \n",
    "                                        'red' if feature[\"properties\"][color_column] == 'No' else\n",
    "                                        'orange'}).add_to(map)\n",
    "\n",
    "if not bus_tram_features.empty:\n",
    "    geo_j = folium.GeoJson(bus_tram_features, tooltip=plot_utils.gen_tooltip(feature_names, feature_names), \n",
    "                                        marker=folium.Marker(icon=folium.Icon(icon='solid fa-2', prefix='fa')), \n",
    "                                        style_function =lambda feature: {\"markerColor\": 'green' if feature[\"properties\"][color_column] == 'Yes' else \n",
    "                                        'red' if feature[\"properties\"][color_column] == 'No' else\n",
    "                                        'orange'}).add_to(map)\n",
    "\n",
    "if not ferry_features.empty:\n",
    "    geo_j = folium.GeoJson(ferry_features, tooltip=plot_utils.gen_tooltip(feature_names, feature_names), \n",
    "                                        marker=folium.Marker(icon=folium.Icon(icon='solid fa-ferry', prefix='fa')), \n",
    "                                        style_function =lambda feature: {\"markerColor\": 'green' if feature[\"properties\"][color_column] == 'Yes' else \n",
    "                                        'red' if feature[\"properties\"][color_column] == 'No' else\n",
    "                                        'orange'}).add_to(map)\n",
    "\n",
    "if not metro_features.empty:\n",
    "    feature_names = metro_features.columns.tolist()\n",
    "    feature_names.remove('geometry')\n",
    "    tooltip = plot_utils.gen_tooltip(feature_names, feature_names) \n",
    "    geo_j = folium.GeoJson(metro_features, tooltip=plot_utils.gen_tooltip(feature_names, feature_names), \n",
    "                                        marker=folium.Marker(icon=folium.Icon(icon='solid fa-train', prefix='fa')), \n",
    "                                        style_function =lambda feature: {\"markerColor\": 'green' if feature[\"properties\"][color_column] == 'Yes' else \n",
    "                                        'red' if feature[\"properties\"][color_column] == 'No' else\n",
    "                                        'orange'}).add_to(map)\n",
    "                                   \n",
    "map"
   ]
  }
 ],
 "metadata": {
  "kernel_info": {
   "name": "soc-mob-py39"
  },
  "kernelspec": {
   "display_name": "Python 3 (ipykernel)",
   "language": "python",
   "name": "python3"
  },
  "language_info": {
   "codemirror_mode": {
    "name": "ipython",
    "version": 3
   },
   "file_extension": ".py",
   "mimetype": "text/x-python",
   "name": "python",
   "nbconvert_exporter": "python",
   "pygments_lexer": "ipython3",
   "version": "3.8.0"
  },
  "microsoft": {
   "host": {
    "AzureML": {
     "notebookHasBeenCompleted": true
    }
   },
   "ms_spell_check": {
    "ms_spell_check_language": "en"
   }
  },
  "nteract": {
   "version": "nteract-front-end@1.0.0"
  }
 },
 "nbformat": 4,
 "nbformat_minor": 2
}
