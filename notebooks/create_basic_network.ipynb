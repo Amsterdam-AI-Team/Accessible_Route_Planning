{
  "cells": [
    {
      "cell_type": "markdown",
      "source": [
        "# Create basic network\n",
        "Based on BGT data"
      ],
      "metadata": {},
      "id": "5f034096"
    },
    {
      "cell_type": "code",
      "source": [
        "# Select where to run notebook: \"azure\" or \"local\"\n",
        "my_run = \"azure\""
      ],
      "outputs": [],
      "execution_count": null,
      "metadata": {
        "jupyter": {
          "source_hidden": false,
          "outputs_hidden": false
        },
        "nteract": {
          "transient": {
            "deleting": false
          }
        },
        "gather": {
          "logged": 1699456374610
        }
      },
      "id": "99175144-9be5-4aaa-93ff-cbaafda2181d"
    },
    {
      "cell_type": "code",
      "source": [
        "import set_path\n",
        "\n",
        "import numpy as np\n",
        "import pandas as pd\n",
        "\n",
        "import shapely.ops as so\n",
        "import geopandas as gpd\n",
        "from geopandas import GeoDataFrame\n",
        "from centerline.geometry import Centerline\n",
        "\n",
        "from tqdm.notebook import tqdm_notebook\n",
        "tqdm_notebook.pandas()\n",
        "\n",
        "import poly_utils\n",
        "import bgt_utils\n",
        "\n",
        "import matplotlib.pyplot as plt\n",
        "import folium\n",
        "\n",
        "import settings as st\n",
        "if my_run == \"azure\":\n",
        "    import config_azure as cf\n",
        "elif my_run == \"local\":\n",
        "    import config as cf"
      ],
      "outputs": [],
      "execution_count": null,
      "metadata": {
        "gather": {
          "logged": 1699456375316
        }
      },
      "id": "071158b6"
    },
    {
      "cell_type": "code",
      "source": [
        "#os.system('sudo blobfuse /home/azureuser/cloudfiles/code/blobfuse/sidewalk --tmp-path=/mnt/resource/blobfusetmp --config-file=/home/azureuser/cloudfiles/code/blobfuse/fuse_connection_sidewalk.cfg -o attr_timeout=3600 -o entry_timeout=3600 -o negative_timeout=3600 -o allow_other -o nonempty')"
      ],
      "outputs": [],
      "execution_count": null,
      "metadata": {
        "jupyter": {
          "source_hidden": false,
          "outputs_hidden": false
        },
        "nteract": {
          "transient": {
            "deleting": false
          }
        },
        "gather": {
          "logged": 1699456381406
        }
      },
      "id": "7483f8f4-1714-49c4-a509-6a4784e49dfa"
    },
    {
      "cell_type": "markdown",
      "source": [
        "## Import BGT data"
      ],
      "metadata": {},
      "id": "50c6b9b1"
    },
    {
      "cell_type": "code",
      "source": [
        "# TODO move to settings\n",
        "# Select layers (https://www.amsterdam.nl/stelselpedia/bgt-index/producten-bgt/prodspec-bgt-dgn-imgeo)\n",
        "#bgt_layers = ['BGT_WDL_waterloop', 'BGT_WDL_watervlakte']   \n",
        "bgt_layers = ['BGT_WGL_voetpad']\n",
        "\n",
        "# Select location\n",
        "bbox = None  # Get all data, entire Amsterdam\n",
        "#bbox = ((122000, 485550), (122300, 485250))"
      ],
      "outputs": [],
      "execution_count": null,
      "metadata": {
        "jupyter": {
          "source_hidden": false,
          "outputs_hidden": false
        },
        "nteract": {
          "transient": {
            "deleting": false
          }
        },
        "gather": {
          "logged": 1699452670217
        }
      },
      "id": "792c3819-ec4c-4d16-9af0-0734447f00af"
    },
    {
      "cell_type": "code",
      "source": [
        "# Get BGT data\n",
        "df_bgt_full = bgt_utils.get_bgt_data_for_bbox(bbox, bgt_layers)"
      ],
      "outputs": [],
      "execution_count": null,
      "metadata": {
        "jupyter": {
          "source_hidden": false,
          "outputs_hidden": false
        },
        "nteract": {
          "transient": {
            "deleting": false
          }
        },
        "gather": {
          "logged": 1699452732216
        }
      },
      "id": "0d67ccd2-f06b-408a-bb19-535fba848a6c"
    },
    {
      "cell_type": "markdown",
      "source": [
        "## Select pilot areas"
      ],
      "metadata": {
        "nteract": {
          "transient": {
            "deleting": false
          }
        }
      },
      "id": "8096e21a-ff68-4c06-aac5-3cf1c854e26d"
    },
    {
      "cell_type": "code",
      "source": [
        "# Import areas\n",
        "df_areas = gpd.read_file(cf.output_pilot_area)"
      ],
      "outputs": [],
      "execution_count": null,
      "metadata": {
        "jupyter": {
          "source_hidden": false,
          "outputs_hidden": false
        },
        "nteract": {
          "transient": {
            "deleting": false
          }
        },
        "gather": {
          "logged": 1699452733272
        }
      },
      "id": "32ea3892-d7d9-4bb9-adfb-631e6ddf7331"
    },
    {
      "cell_type": "code",
      "source": [
        "# Only keep BGT data within pilot areas\n",
        "df_bgt = df_bgt_full.sjoin(df_areas, how='inner', predicate='within')   # TODO what happens to polygons at the border? https://shapely.readthedocs.io/en/latest/manual.html#binary-predicates"
      ],
      "outputs": [],
      "execution_count": null,
      "metadata": {
        "jupyter": {
          "source_hidden": false,
          "outputs_hidden": false
        },
        "nteract": {
          "transient": {
            "deleting": false
          }
        },
        "gather": {
          "logged": 1699452733524
        }
      },
      "id": "410c68a5-d781-4185-b61b-ca21cf041e81"
    },
    {
      "cell_type": "code",
      "source": [
        "fig, ax = plt.subplots(figsize=(10,10))\n",
        "\n",
        "df_areas[df_areas['naam'] == 'Nieuwmarkt/Lastage'].plot(ax=ax, color='lightgrey')\n",
        "df_bgt[df_bgt['naam_right'] == 'Nieuwmarkt/Lastage'].plot(ax=ax, color='red')\n",
        "\n",
        "ax.axis('off')\n",
        "plt.show()\n"
      ],
      "outputs": [],
      "execution_count": null,
      "metadata": {
        "jupyter": {
          "source_hidden": false,
          "outputs_hidden": false
        },
        "nteract": {
          "transient": {
            "deleting": false
          }
        },
        "gather": {
          "logged": 1699453123788
        }
      },
      "id": "eadb0bc0-2465-4674-85ec-bc2a362478dd"
    },
    {
      "cell_type": "code",
      "source": [
        "fig, ax = plt.subplots(figsize=(10,10))\n",
        "\n",
        "df_areas[df_areas['naam'] == 'Osdorp-Midden'].plot(ax=ax, color='lightgrey')\n",
        "df_bgt[df_bgt['naam_right'] == 'Osdorp-Midden'].plot(ax=ax, color='red')\n",
        "\n",
        "ax.axis('off')\n",
        "plt.show()"
      ],
      "outputs": [],
      "execution_count": null,
      "metadata": {
        "jupyter": {
          "source_hidden": false,
          "outputs_hidden": false
        },
        "nteract": {
          "transient": {
            "deleting": false
          }
        },
        "gather": {
          "logged": 1699453134375
        }
      },
      "id": "2541b34a-50bf-4d80-b87e-c6a553dc140f"
    },
    {
      "cell_type": "markdown",
      "source": [
        "## Pre-process BGT data"
      ],
      "metadata": {
        "nteract": {
          "transient": {
            "deleting": false
          }
        }
      },
      "id": "4b040a19-bee5-434e-9672-2c4b9081692b"
    },
    {
      "cell_type": "code",
      "source": [
        "## Remove obstacles (small interiors)\n",
        "df_bgt['geometry_no_holes'] = df_bgt.progress_apply(  \n",
        "   lambda row: poly_utils.remove_interiors(row.geometry, st.min_interior_size), axis=1)\n",
        "df_bgt = df_bgt.set_geometry('geometry_no_holes')\n",
        "\n",
        "# Merge sidewalk polygons\n",
        "df_bgt = GeoDataFrame(geometry=gpd.GeoSeries(df_bgt['geometry_no_holes'].unary_union))\n",
        "df_bgt = gpd.GeoDataFrame(df_bgt.geometry.explode()) \n",
        "\n",
        "# Ignore sidewalk polygons that are too small\n",
        "df_bgt['area'] = df_bgt['geometry'].area\n",
        "df_bgt = df_bgt[df_bgt.area > st.min_area_size]  ## TODO decide on this parameter, might need to make it smaller"
      ],
      "outputs": [],
      "execution_count": null,
      "metadata": {
        "jupyter": {
          "source_hidden": false,
          "outputs_hidden": false
        },
        "nteract": {
          "transient": {
            "deleting": false
          }
        },
        "gather": {
          "logged": 1699450206313
        }
      },
      "id": "5c507598-d05e-4a26-920c-05d6dd01f3cd"
    },
    {
      "cell_type": "markdown",
      "source": [
        "## Create centerlines"
      ],
      "metadata": {
        "nteract": {
          "transient": {
            "deleting": false
          }
        }
      },
      "id": "e0e9203a-5397-4e3d-96e2-d62b98ff84f4"
    },
    {
      "cell_type": "code",
      "source": [
        "# Calculate centerlines\n",
        "df_bgt['centerlines'] = df_bgt.progress_apply(\n",
        "   lambda row: Centerline(row.geometry, interpolation_distance=0.5), axis=1)\n",
        "df_bgt = df_bgt.set_geometry('centerlines')"
      ],
      "outputs": [],
      "execution_count": null,
      "metadata": {
        "jupyter": {
          "source_hidden": false,
          "outputs_hidden": false
        },
        "nteract": {
          "transient": {
            "deleting": false
          }
        },
        "gather": {
          "logged": 1699450509211
        }
      },
      "id": "adc8a0fd-29da-4db0-b40d-67a035f2e15c"
    },
    {
      "cell_type": "code",
      "source": [
        "df_bgt['centerlines'] = df_bgt['centerlines'].progress_apply(so.linemerge)\n",
        "#df_bgt['centerlines'] = df_bgt['centerlines'].progress_apply(poly_utils.remove_short_lines)"
      ],
      "outputs": [],
      "execution_count": null,
      "metadata": {
        "jupyter": {
          "source_hidden": false,
          "outputs_hidden": false
        },
        "nteract": {
          "transient": {
            "deleting": false
          }
        },
        "gather": {
          "logged": 1699450586575
        }
      },
      "id": "4ca6a2f3-73ce-4b10-b7fb-a32db5f4d773"
    },
    {
      "cell_type": "code",
      "source": [
        "# Add sidewalk ID\n",
        "df_bgt['sidewalk_id'] = range(0, len(df_bgt))"
      ],
      "outputs": [],
      "execution_count": null,
      "metadata": {
        "gather": {
          "logged": 1699450592637
        }
      },
      "id": "821a1c16"
    },
    {
      "cell_type": "code",
      "source": [
        "# Get each centerline in separate row\n",
        "df_bgt_exp = df_bgt.explode(ignore_index=True)\n",
        "df_bgt_exp.reset_index(inplace=True, names='cl_id')"
      ],
      "outputs": [],
      "execution_count": null,
      "metadata": {
        "gather": {
          "logged": 1699451688347
        }
      },
      "id": "21b19cf9"
    },
    {
      "cell_type": "markdown",
      "source": [
        "## Cut lines that are too long"
      ],
      "metadata": {},
      "id": "6e464e84"
    },
    {
      "cell_type": "code",
      "source": [
        "# Remove geometry column and add length column\n",
        "df_bgt_cut = df_bgt_exp.drop('geometry', axis=1)\n",
        "df_bgt_cut['length'] = df_bgt_cut['centerlines'].length"
      ],
      "outputs": [],
      "execution_count": null,
      "metadata": {
        "gather": {
          "logged": 1699451699676
        }
      },
      "id": "1fce6de3"
    },
    {
      "cell_type": "code",
      "source": [
        "import importlib\n",
        "importlib.reload(poly_utils)"
      ],
      "outputs": [],
      "execution_count": null,
      "metadata": {
        "jupyter": {
          "source_hidden": false,
          "outputs_hidden": false
        },
        "nteract": {
          "transient": {
            "deleting": false
          }
        },
        "gather": {
          "logged": 1699451752268
        }
      },
      "id": "54966d47-1bc9-44f1-941d-85302d2e8995"
    },
    {
      "cell_type": "code",
      "source": [
        "# Cut linestrings longer than a max length (this takes a while)\n",
        "df_bgt_cut = poly_utils.shorten_linestrings(df_bgt_cut, st.max_ls_length)  # TODO think about making this smaller or not"
      ],
      "outputs": [],
      "execution_count": null,
      "metadata": {
        "gather": {
          "logged": 1699451799406
        }
      },
      "id": "8f704b19"
    },
    {
      "cell_type": "code",
      "source": [
        "# Add shortened linestrings to previous dataframe\n",
        "df_bgt_exp = pd.merge(df_bgt_exp.drop(['centerlines'], axis=1), df_bgt_cut.drop(['area', 'sidewalk_id'], axis=1), \n",
        "                                                            how = 'outer', on = 'cl_id')"
      ],
      "outputs": [],
      "execution_count": null,
      "metadata": {
        "gather": {
          "logged": 1699451809487
        }
      },
      "id": "17c542c3"
    },
    {
      "cell_type": "code",
      "source": [
        "#del df_bgt_cut"
      ],
      "outputs": [],
      "execution_count": null,
      "metadata": {
        "gather": {
          "logged": 1692709942305
        }
      },
      "id": "7c23acab"
    },
    {
      "cell_type": "markdown",
      "source": [
        "## Store final output"
      ],
      "metadata": {},
      "id": "10991d1e"
    },
    {
      "cell_type": "code",
      "source": [
        "# Finalize dataframe\n",
        "df_bgt_exp = df_bgt_exp[['centerlines', 'length', 'cl_id', 'sidewalk_id', 'area']]\n",
        "df_bgt_exp = df_bgt_exp.set_crs(st.CRS)"
      ],
      "outputs": [],
      "execution_count": null,
      "metadata": {
        "jupyter": {
          "source_hidden": false,
          "outputs_hidden": false
        },
        "nteract": {
          "transient": {
            "deleting": false
          }
        },
        "gather": {
          "logged": 1699451812641
        }
      },
      "id": "228c5bf9-1d9a-4f6f-9b1b-2da65632a71e"
    },
    {
      "cell_type": "code",
      "source": [
        "# Write basic network to file\n",
        "df_bgt_exp.to_file(cf.output_basic_network, driver='GPKG')"
      ],
      "outputs": [],
      "execution_count": null,
      "metadata": {
        "gather": {
          "logged": 1699451893189
        }
      },
      "id": "a2d416f4"
    },
    {
      "cell_type": "markdown",
      "source": [
        "## Visualizations"
      ],
      "metadata": {},
      "id": "bff0944b"
    },
    {
      "cell_type": "code",
      "source": [
        "df_bgt_exp = gpd.read_file(cf.output_basic_network)"
      ],
      "outputs": [],
      "execution_count": null,
      "metadata": {
        "jupyter": {
          "source_hidden": false,
          "outputs_hidden": false
        },
        "nteract": {
          "transient": {
            "deleting": false
          }
        },
        "gather": {
          "logged": 1699456393208
        }
      },
      "id": "95919f48-4586-469a-a0cb-9ed976f467a6"
    },
    {
      "cell_type": "code",
      "source": [
        "# Set center of map\n",
        "area_coords = [52.375664816888225, 4.8632280955697995]\n",
        "\n",
        "# Set to map coordinate reference system\n",
        "df = df_bgt_exp.to_crs(\"EPSG:4326\")\n",
        "df_areas = df_areas.to_crs(\"EPSG:4326\")\n",
        "df_bgt = df_bgt.to_crs(\"EPSG:4326\")"
      ],
      "outputs": [],
      "execution_count": null,
      "metadata": {
        "jupyter": {
          "source_hidden": false,
          "outputs_hidden": false
        },
        "nteract": {
          "transient": {
            "deleting": false
          }
        },
        "gather": {
          "logged": 1699456893134
        }
      },
      "id": "df5f63ae-d6a5-4ea0-8b5d-215569553abe"
    },
    {
      "cell_type": "code",
      "source": [
        "my_map = folium.Map(\n",
        "    location=area_coords,\n",
        "    tiles='cartodbpositron',\n",
        "    min_zoom=10, max_zoom=20, zoom_start=13,\n",
        "    zoom_control=True, control_scale=True, control=False\n",
        "    )"
      ],
      "outputs": [],
      "execution_count": null,
      "metadata": {
        "jupyter": {
          "source_hidden": false,
          "outputs_hidden": false
        },
        "nteract": {
          "transient": {
            "deleting": false
          }
        },
        "gather": {
          "logged": 1699456894402
        }
      },
      "id": "672d55f8-93ee-49b5-9993-06b7faaa5aef"
    },
    {
      "cell_type": "code",
      "source": [
        "# Add wijken\n",
        "for _, r in df_areas.iterrows():\n",
        "    sim_geo = gpd.GeoSeries(r[\"geometry\"]) #.simplify(tolerance=0.0001)\n",
        "    geo_j = sim_geo.to_json()\n",
        "    geo_j = folium.GeoJson(data=geo_j, style_function=lambda x: {\"fillColor\": \"orange\"})\n",
        "    geo_j.add_to(my_map)\n",
        "\n",
        "# Add sidewalks\n",
        "for _, r in df_bgt.iterrows():\n",
        "    sim_geo = gpd.GeoSeries(r[\"geometry\"]) #.simplify(tolerance=0.0001)\n",
        "    geo_j = sim_geo.to_json()\n",
        "    geo_j = folium.GeoJson(data=geo_j, style_function=lambda x: {\"fillColor\": \"grey\"})\n",
        "    geo_j.add_to(my_map)\n",
        "\n",
        "# Add basic network\n",
        "for _, r in df.iterrows():\n",
        "    sim_geo = gpd.GeoSeries(r[\"geometry\"])#.simplify(tolerance=0.001)\n",
        "    geo_j = sim_geo.to_json()\n",
        "    geo_j = folium.GeoJson(data=geo_j, style_function=lambda x: {\"color\": \"black\"})   # TODO random colors\n",
        "    geo_j.add_to(my_map)"
      ],
      "outputs": [],
      "execution_count": null,
      "metadata": {
        "jupyter": {
          "source_hidden": false,
          "outputs_hidden": false
        },
        "nteract": {
          "transient": {
            "deleting": false
          }
        },
        "gather": {
          "logged": 1699456950165
        }
      },
      "id": "81ef3035-4fed-4568-90c1-6d0014084991"
    },
    {
      "cell_type": "code",
      "source": [
        "my_map"
      ],
      "outputs": [],
      "execution_count": null,
      "metadata": {
        "jupyter": {
          "source_hidden": false,
          "outputs_hidden": false
        },
        "nteract": {
          "transient": {
            "deleting": false
          }
        },
        "gather": {
          "logged": 1699457004799
        }
      },
      "id": "d61813cb-8f09-48be-8f9e-655384ff3e19"
    },
    {
      "cell_type": "code",
      "source": [
        "## Add title\n",
        "#loc = 'Basic network'\n",
        "#title_html = '''\n",
        "#             <h3 align=\"center\" style=\"font-size:16px\"><b>{}</b></h3>\n",
        "#             '''.format(loc)\n",
        "#\n",
        "#my_map.get_root().html.add_child(folium.Element(title_html))"
      ],
      "outputs": [],
      "execution_count": null,
      "metadata": {
        "jupyter": {
          "source_hidden": false,
          "outputs_hidden": false
        },
        "nteract": {
          "transient": {
            "deleting": false
          }
        },
        "gather": {
          "logged": 1699455906047
        }
      },
      "id": "bb1e9c78-946f-42ea-bffb-b8cc589fb839"
    },
    {
      "cell_type": "code",
      "source": [
        "# Store map\n",
        "my_map.save('../data/basic_network_map_v5.html')    # TODO move to config"
      ],
      "outputs": [],
      "execution_count": null,
      "metadata": {
        "jupyter": {
          "source_hidden": false,
          "outputs_hidden": false
        },
        "nteract": {
          "transient": {
            "deleting": false
          }
        },
        "gather": {
          "logged": 1699457173215
        }
      },
      "id": "e5329c7f-19c7-4cea-9395-700f99464ada"
    },
    {
      "cell_type": "code",
      "source": [
        "## TODO:\n",
        "# different BGT types\n",
        "# change settigns (max length etc.)"
      ],
      "outputs": [],
      "execution_count": null,
      "metadata": {
        "jupyter": {
          "source_hidden": false,
          "outputs_hidden": false
        },
        "nteract": {
          "transient": {
            "deleting": false
          }
        },
        "gather": {
          "logged": 1699452951520
        }
      },
      "id": "4a980281-c0f9-44d5-8354-7a419235e676"
    }
  ],
  "metadata": {
    "kernelspec": {
      "name": "venv_rp",
      "language": "python",
      "display_name": "venv_rp"
    },
    "language_info": {
      "name": "python",
      "version": "3.8.10",
      "mimetype": "text/x-python",
      "codemirror_mode": {
        "name": "ipython",
        "version": 3
      },
      "pygments_lexer": "ipython3",
      "nbconvert_exporter": "python",
      "file_extension": ".py"
    },
    "microsoft": {
      "ms_spell_check": {
        "ms_spell_check_language": "en"
      },
      "host": {
        "AzureML": {
          "notebookHasBeenCompleted": true
        }
      }
    },
    "kernel_info": {
      "name": "venv_rp"
    },
    "nteract": {
      "version": "nteract-front-end@1.0.0"
    }
  },
  "nbformat": 4,
  "nbformat_minor": 5
}