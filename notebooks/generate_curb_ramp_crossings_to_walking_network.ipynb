{
  "cells": [
    {
      "cell_type": "markdown",
      "source": [
        "# Add crossings"
      ],
      "metadata": {},
      "id": "5f034096"
    },
    {
      "cell_type": "code",
      "source": [
        "# Select where to run notebook: \"azure\" or \"local\"\n",
        "my_run = \"azure\""
      ],
      "outputs": [],
      "execution_count": null,
      "metadata": {
        "gather": {
          "logged": 1705419522054
        },
        "jupyter": {
          "outputs_hidden": false,
          "source_hidden": false
        },
        "nteract": {
          "transient": {
            "deleting": false
          }
        }
      },
      "id": "99175144-9be5-4aaa-93ff-cbaafda2181d"
    },
    {
      "cell_type": "code",
      "source": [
        "import set_path\n",
        "\n",
        "import numpy as np\n",
        "import pandas as pd\n",
        "pd.options.mode.chained_assignment = None\n",
        "\n",
        "import shapely.geometry as sg\n",
        "import geopandas as gpd\n",
        "from geopandas import GeoDataFrame\n",
        "from shapely import wkt\n",
        "import momepy\n",
        "import networkx as nx\n",
        "from scipy.spatial.distance import cdist\n",
        "from branca.element import Template, MacroElement\n",
        "from tqdm.notebook import tqdm\n",
        "import branca.colormap as cm\n",
        "\n",
        "import folium\n",
        "\n",
        "if my_run == \"azure\":\n",
        "    import config_azure as cf\n",
        "elif my_run == \"local\":\n",
        "    import config as cf"
      ],
      "outputs": [],
      "execution_count": null,
      "metadata": {
        "gather": {
          "logged": 1705419524646
        }
      },
      "id": "071158b6"
    },
    {
      "cell_type": "code",
      "source": [
        "os.system('sudo blobfuse /home/azureuser/cloudfiles/code/blobfuse/sidewalk --tmp-path=/mnt/resource/blobfusetmp --config-file=/home/azureuser/cloudfiles/code/blobfuse/fuse_connection_sidewalk.cfg -o attr_timeout=3600 -o entry_timeout=3600 -o negative_timeout=3600 -o allow_other -o nonempty')"
      ],
      "outputs": [],
      "execution_count": null,
      "metadata": {
        "gather": {
          "logged": 1705419566765
        },
        "jupyter": {
          "outputs_hidden": false,
          "source_hidden": false
        },
        "nteract": {
          "transient": {
            "deleting": false
          }
        }
      },
      "id": "7483f8f4-1714-49c4-a509-6a4784e49dfa"
    },
    {
      "cell_type": "markdown",
      "source": [
        "### Import walking and road network \n",
        "\n",
        "### NOTE: If the cf.output_road_network file does not exist yet, run the create_road_network.ipynb notebook before running this notebook"
      ],
      "metadata": {},
      "id": "50c6b9b1"
    },
    {
      "cell_type": "code",
      "source": [
        "# Get basic pedestrian network with widths\n",
        "CRS = 'EPSG:28992'\n",
        "\n",
        "gdf_network = gpd.read_file(cf.output_file_widths).to_crs(crs=CRS)\n",
        "graph_network = momepy.gdf_to_nx(gdf_network, approach='primal')\n",
        "cc_list = [x for y in zip(gdf_network['sidewalk_id'], gdf_network['sidewalk_id']) for x in y]\n",
        "gdf_network_nodes = gpd.GeoDataFrame(geometry = gdf_network.boundary.explode(index_parts=True), crs=CRS)\n",
        "gdf_network_nodes['x'], gdf_network_nodes['y'] = gdf_network_nodes.geometry.x, gdf_network_nodes.geometry.y\n",
        "gdf_network_nodes['cc'] = cc_list\n",
        "\n",
        "gdf_road_network = gpd.read_file(cf.output_road_network).to_crs(crs=CRS)"
      ],
      "outputs": [],
      "execution_count": null,
      "metadata": {
        "gather": {
          "logged": 1705419591089
        }
      },
      "id": "b4a3ab12-418d-4c39-8d47-51946b25f288"
    },
    {
      "cell_type": "markdown",
      "source": [
        "# 1. Create crossings with curb heights"
      ],
      "metadata": {},
      "id": "b119fa36-97db-4304-98f3-9f2419d955c9"
    },
    {
      "cell_type": "markdown",
      "source": [
        "### Import curb segments"
      ],
      "metadata": {},
      "id": "0305933d-ee94-4680-b9a6-9b3e17ea125d"
    },
    {
      "cell_type": "code",
      "source": [
        "# Import curb heights\n",
        "base_folder = cf.in_folder + 'route_planning/curb_heights/'\n",
        "ch_crossing_features = cf.in_folder + 'route_planning/curb_heights/curbs_and_heights.csv'\n",
        "df_ch = pd.read_csv(ch_crossing_features)\n",
        "df_ch['geometry'] = df_ch['line_segm'].apply(wkt.loads)\n",
        "gdf_ch = gpd.GeoDataFrame(df_ch, crs=CRS)\n",
        "graph_ch = momepy.gdf_to_nx(gdf_ch, approach='primal')"
      ],
      "outputs": [],
      "execution_count": null,
      "metadata": {
        "gather": {
          "logged": 1705419622023
        },
        "jupyter": {
          "outputs_hidden": false,
          "source_hidden": false
        },
        "nteract": {
          "transient": {
            "deleting": false
          }
        }
      },
      "id": "0d67ccd2-f06b-408a-bb19-535fba848a6c"
    },
    {
      "cell_type": "markdown",
      "source": [
        "### Select curb segments to keep\n"
      ],
      "metadata": {
        "nteract": {
          "transient": {
            "deleting": false
          }
        }
      },
      "id": "8096e21a-ff68-4c06-aac5-3cf1c854e26d"
    },
    {
      "cell_type": "code",
      "source": [
        "# Create network and crossing feature dataframes\n",
        "\n",
        "# TODO \n",
        "# Enable setting max_height >= 10cm (e.g., by generating compute with more RAM or compute crossings in smaller areas)\n",
        "\n",
        "# SET THIS VALUE\n",
        "max_height = 0.04 # in meter\n",
        "\n",
        "gdf_ch.dropna(subset=['curb_height'])\n",
        "gdf_ch = gdf_ch.loc[(gdf_ch['curb_height'] <= max_height)]\n",
        "gdf_ch['centroid'] = gdf_ch['geometry'].centroid\n",
        "gdf_ch.reset_index(drop=True, inplace=True)"
      ],
      "outputs": [],
      "execution_count": null,
      "metadata": {
        "gather": {
          "logged": 1705419648371
        },
        "jupyter": {
          "outputs_hidden": false,
          "source_hidden": false
        },
        "nteract": {
          "transient": {
            "deleting": false
          }
        }
      },
      "id": "32ea3892-d7d9-4bb9-adfb-631e6ddf7331"
    },
    {
      "cell_type": "markdown",
      "source": [
        "### Determine connected components of curb edges \n",
        "#### These are used as a restrictive rule when creating possible crossing edges (i.e., crosing edges should connect different curbs)"
      ],
      "metadata": {},
      "id": "07544d50-e416-4a2b-869b-2b6d2658449a"
    },
    {
      "cell_type": "code",
      "source": [
        "# Calculate connected components for each edge\n",
        "# Option 1: From curb height edges\n",
        "# Option 2: From sidewalk edges\n",
        "# Option 1 results in more connected components since the curb height edges are more fragmentated (i.e., not all parts of sidewalk egde have height information)\n",
        "\n",
        "# Calculate using the connected components retrieved from the curb height edges\n",
        "cc_sidewalks = list(nx.connected_components(graph_ch))\n",
        "nodes_in_edge = [line.coords[0] for line in gdf_ch['geometry'].to_list()]\n",
        "cc_ids = [i for node in nodes_in_edge for i in range(len(cc_sidewalks)) if node in cc_sidewalks[i]]\n",
        "gdf_ch['cc_from_curb_edges'] = cc_ids\n",
        "\n",
        "# Calculate using the connected components retrieved from sidewalk edges from bgt (from road_curb_segments.ipynb notebook)\n",
        "gdf_ch['cc_from_sidewalk_edges'] = gdf_ch.groupby('overarching_line_segm').ngroup()"
      ],
      "outputs": [],
      "execution_count": null,
      "metadata": {
        "gather": {
          "logged": 1705419675423
        },
        "jupyter": {
          "outputs_hidden": false,
          "source_hidden": false
        },
        "nteract": {
          "transient": {
            "deleting": false
          }
        }
      },
      "id": "15c14ddb-b714-4980-91c6-aeac56477808"
    },
    {
      "cell_type": "markdown",
      "source": [
        "### Initiate function to connect nodes in the network"
      ],
      "metadata": {},
      "id": "a32fbb87-84b8-4442-8ebb-39e98e82ac28"
    },
    {
      "cell_type": "code",
      "source": [
        "# Function to find closest target nodes from source nodes and subsequently create edge between tese nodes.\n",
        "# Edge is a connection between a source and a target node.\n",
        "# max_dist: maximmum distance between source and target node is max_dist.\n",
        "# max_connections: maximum number of new edges from source node.\n",
        "def get_crossing_edges_from_curb_heights(gdf_source_nodes, gdf_target_nodes, gdf_roads, min_dist=10, max_dist=20, max_connections=3, CRS='EPSG:28992'):\n",
        "\n",
        "    # Get distance matrices\n",
        "    print('Determining target nodes within distance {}m-{}m from source node...'.format(min_dist, max_dist))\n",
        "    dist_matrix = cdist(gdf_source_nodes[['x', 'y']].values, gdf_target_nodes[['x', 'y']].values, metric='euclidean')\n",
        "    np.fill_diagonal(dist_matrix, 10**6)\n",
        "    dist_sort = np.sort(dist_matrix, axis=1)\n",
        "    dist_argsort = np.argsort(dist_matrix, axis=1)\n",
        "    idxs = np.where((dist_sort > min_dist) & (dist_sort < max_dist), True, False)\n",
        "    nodes_to_connect = [list(row[row_idxs]) for row, row_idxs in zip(dist_argsort, idxs)]\n",
        "    edges, edges_dict = [], {}\n",
        "    print('Possible target nodes determined.')\n",
        "\n",
        "    # Calculate possible crossing edges\n",
        "    print('Determining possible edges from source nodes to target nodes...')\n",
        "    edges, edges_dict = [], {}\n",
        "    for source_node in tqdm(range(len(dist_sort))):\n",
        "        source_cc = gdf_source_nodes.loc[source_node, 'cc_from_sidewalk_edges']\n",
        "        restricted_cc, connections_count = [source_cc], 0\n",
        "        if source_cc not in edges_dict.keys():\n",
        "            edges_dict[source_cc] = {}\n",
        "\n",
        "        # Loop over possible target nodes for source node\n",
        "        for target_node in nodes_to_connect[source_node]:\n",
        "            target_cc = gdf_target_nodes.loc[target_node, 'cc_from_sidewalk_edges']\n",
        "\n",
        "            # Check if target node is not part of restricted connected component\n",
        "            if target_cc not in restricted_cc and connections_count < max_connections:\n",
        "                \n",
        "                pos_edge = sg.LineString([gdf_source_nodes.iloc[source_node]['centroid'], gdf_target_nodes.iloc[target_node]['centroid']])\n",
        "                pos_length = pos_edge.length\n",
        "\n",
        "                # Add crossing edge if distance between source connected component and target node is the shortest known route\n",
        "                if target_node in edges_dict[source_cc].keys():\n",
        "                    if edges_dict[source_cc][target_node]['length'] > pos_length:\n",
        "                        edges_dict[source_cc][target_node]['edge'] = pos_edge\n",
        "                        edges_dict[source_cc][target_node]['length'] = pos_length\n",
        "                        connections_count += 1\n",
        "                        restricted_cc.append(target_cc)\n",
        "                else:\n",
        "                    edges_dict[source_cc][target_node] = {}\n",
        "                    edges_dict[source_cc][target_node]['edge'] = pos_edge\n",
        "                    edges_dict[source_cc][target_node]['length'] = pos_length\n",
        "\n",
        "                    connections_count += 1\n",
        "                    restricted_cc.append(target_cc)\n",
        "\n",
        "    print('Determined possible edges from source nodes to target nodes.')\n",
        "\n",
        "    print('Removing edges that do not cross the street or bikepath...')\n",
        "    edges_geometries = [edges_dict[source_cc][target_node].get('edge') for source_cc in edges_dict.keys() for target_node in edges_dict[source_cc].keys()]\n",
        "    edges_geometries_final = [edge for edge in edges_geometries if gdf_roads.intersects(edge).nunique() > 1]\n",
        "    print('Removed edges that do not cross the street or bikepath.')\n",
        "\n",
        "    gdf_edges = gpd.GeoDataFrame(geometry=edges_geometries_final, crs=CRS)\n",
        "    return gdf_edges"
      ],
      "outputs": [],
      "execution_count": null,
      "metadata": {
        "gather": {
          "logged": 1705419677542
        }
      },
      "id": "c59c7dd9-ad72-45cf-9134-fbe0c8a7a7b0"
    },
    {
      "cell_type": "markdown",
      "source": [
        "### Calculate curb ramp crosswalks "
      ],
      "metadata": {
        "nteract": {
          "transient": {
            "deleting": false
          }
        }
      },
      "id": "d3171ef4-cc72-4189-9e98-1d9c9f19c523"
    },
    {
      "cell_type": "code",
      "source": [
        "# TODO\n",
        "# Include angle of intersection between crosswalk edge and road centerline as critera\n",
        "\n",
        "# Get coordinates of crossing feature nodes\n",
        "gdf_ch['geometry'] = gdf_ch['centroid']\n",
        "gdf_ch['x'], gdf_ch['y'] = gdf_ch.geometry.x, gdf_ch.geometry.y\n",
        "\n",
        "# Connect curb height nodes to curb height nodes\n",
        "min_dist = 0\n",
        "max_dist = 11\n",
        "max_connections = 1\n",
        "gdf_curb_edges = get_crossing_edges_from_curb_heights(gdf_ch, gdf_ch, gdf_road_network, \n",
        "                    min_dist=min_dist, max_dist=max_dist, max_connections=max_connections)\n",
        "print('Number of new edges from curb node to curb node:', len(gdf_curb_edges))"
      ],
      "outputs": [],
      "execution_count": null,
      "metadata": {
        "gather": {
          "logged": 1705419981244
        },
        "jupyter": {
          "outputs_hidden": false,
          "source_hidden": false
        },
        "nteract": {
          "transient": {
            "deleting": false
          }
        }
      },
      "id": "c0fa3061-4d1b-407a-a544-e259e3b81d07"
    },
    {
      "cell_type": "markdown",
      "source": [
        "### Connect curb ramp crossings to walking network"
      ],
      "metadata": {
        "nteract": {
          "transient": {
            "deleting": false
          }
        }
      },
      "id": "e175ddeb-0b1d-4b47-83f8-b46438ad31fd"
    },
    {
      "cell_type": "code",
      "source": [
        "# TODO remove the connected component stuff (because not needed)\n",
        "\n",
        "def connect_crossing_edge(gdf_source_nodes, gdf_target_nodes, walking_graph, max_dist=20, max_connections=3, CRS='EPSG:28992', network_to_network=False):\n",
        "\n",
        "    # Get distance matrices\n",
        "    dist_matrix = cdist(gdf_source_nodes[['x', 'y']].values, gdf_target_nodes[['x', 'y']].values, metric='euclidean')\n",
        "    np.fill_diagonal(dist_matrix, 10**6)\n",
        "    dist_sort = np.sort(dist_matrix, axis=1)\n",
        "    dist_argsort = np.argsort(dist_matrix, axis=1)\n",
        "\n",
        "    # Calculate new edges\n",
        "    idxs = np.where(dist_sort < max_dist, True, False)\n",
        "    nodes_to_connect = [list(row[row_idxs]) for row, row_idxs in zip(dist_argsort, idxs)]\n",
        "    edges = [[i, nodes_to_connect[i][j]] for i in range(len(dist_sort)) for j in range(len(nodes_to_connect[i])) if j < max_connections]\n",
        "    if len(edges) == 2:\n",
        "\n",
        "        # Only return connecting edges if crossing edge is connected to different sidewalks\n",
        "        target_cc = [gdf_target_nodes.iloc[edge[1]]['cc'] for edge in edges]\n",
        "\n",
        "        # check length between network target nodes\n",
        "        try:\n",
        "            point_1_network = gdf_target_nodes.iloc[edges[0][1]]['geometry']\n",
        "            point_2_network = gdf_target_nodes.iloc[edges[1][1]]['geometry']\n",
        "            node_1_network = (point_1_network.x, point_1_network.y)\n",
        "            node_2_network = (point_2_network.x, point_2_network.y)\n",
        "            sp_length = nx.shortest_path_length(walking_graph, node_1_network, node_2_network)\n",
        "        except:\n",
        "            sp_length = 1000\n",
        "\n",
        "        if len(set(target_cc)) == 2 or (len(set(target_cc)) == 1 and sp_length > 20):\n",
        "            if network_to_network:\n",
        "                edges_geometries = [sg.LineString([gdf_target_nodes.iloc[edges[0][1]]['geometry'], gdf_target_nodes.iloc[edges[1][1]]['geometry']])]\n",
        "            else:\n",
        "                edges_geometries = [sg.LineString([gdf_source_nodes.iloc[edge[0]]['geometry'], gdf_target_nodes.iloc[edge[1]]['geometry']]) for edge in edges]\n",
        "                edges_geometries.append(sg.LineString([gdf_source_nodes.iloc[0]['geometry'], gdf_source_nodes.iloc[1]['geometry']]))\n",
        "            gdf_edges = gpd.GeoDataFrame(geometry=edges_geometries, crs=CRS)\n",
        "            return gdf_edges\n",
        "        else:\n",
        "            return gpd.GeoDataFrame()"
      ],
      "outputs": [],
      "execution_count": null,
      "metadata": {
        "gather": {
          "logged": 1705420077822
        },
        "jupyter": {
          "outputs_hidden": false,
          "source_hidden": false
        },
        "nteract": {
          "transient": {
            "deleting": false
          }
        }
      },
      "id": "7a93c930-b4a0-46d5-bb73-27ef7080526a"
    },
    {
      "cell_type": "code",
      "source": [
        "# Current heuristic: Connect outer points of crossing edge to closest network nodes within max_dis.\n",
        "# Network nodes cannot be part of the same sidewalk\n",
        "# TODO make this neater\n",
        "\n",
        "# Get outer nodes of crossing edges and connect to network\n",
        "gdf_curb_edge_nodes = gpd.GeoDataFrame(geometry=gdf_curb_edges['geometry'].boundary.explode(index_parts=True), crs=CRS).reset_index()\n",
        "gdf_curb_edge_nodes['x'], gdf_curb_edge_nodes['y'] = gdf_curb_edge_nodes.geometry.x, gdf_curb_edge_nodes.geometry.y\n",
        "groups = gdf_curb_edge_nodes.groupby(np.arange(len(gdf_curb_edge_nodes.index))//2)\n",
        "\n",
        "# Loop over possible crossing edges seperately and connect to walking network\n",
        "gdf_crossings = gpd.GeoDataFrame()\n",
        "network_to_network = True # Set False if you wish to connect network to curb instead of network to network \n",
        "\n",
        "for (idx, frame) in tqdm(groups):\n",
        "    sub_gdf = connect_crossing_edge(frame, gdf_network_nodes, graph_network, max_dist=4, max_connections=1, network_to_network=network_to_network)\n",
        "    gdf_crossings = pd.concat([gdf_crossings, sub_gdf])\n",
        "\n",
        "print('Connected valid crossings')"
      ],
      "outputs": [],
      "execution_count": null,
      "metadata": {
        "gather": {
          "logged": 1705420414540
        },
        "jupyter": {
          "outputs_hidden": false,
          "source_hidden": false
        },
        "nteract": {
          "transient": {
            "deleting": false
          }
        }
      },
      "id": "251c6633-b159-43ae-8ef8-fed3d6c568a8"
    },
    {
      "cell_type": "markdown",
      "source": [
        "### create map and visualize crossings on map"
      ],
      "metadata": {
        "nteract": {
          "transient": {
            "deleting": false
          }
        }
      },
      "id": "4b040a19-bee5-434e-9672-2c4b9081692b"
    },
    {
      "cell_type": "code",
      "source": [
        "# Initialize legend\n",
        "template = \"\"\"\n",
        "{% macro html(this, kwargs) %}\n",
        "\n",
        "<!doctype html>\n",
        "<html lang=\"en\">\n",
        "<head>\n",
        "  <meta charset=\"utf-8\">\n",
        "  <meta name=\"viewport\" content=\"width=device-width, initial-scale=1\">\n",
        "  <title>jQuery UI Draggable - Default functionality</title>\n",
        "  <link rel=\"stylesheet\" href=\"//code.jquery.com/ui/1.12.1/themes/base/jquery-ui.css\">\n",
        "\n",
        "  <script src=\"https://code.jquery.com/jquery-1.12.4.js\"></script>\n",
        "  <script src=\"https://code.jquery.com/ui/1.12.1/jquery-ui.js\"></script>\n",
        "  \n",
        "  <script>\n",
        "  $( function() {\n",
        "    $( \"#maplegend\" ).draggable({\n",
        "                    start: function (event, ui) {\n",
        "                        $(this).css({\n",
        "                            right: \"auto\",\n",
        "                            top: \"auto\",\n",
        "                            bottom: \"auto\"\n",
        "                        });\n",
        "                    }\n",
        "                });\n",
        "});\n",
        "\n",
        "  </script>\n",
        "</head>\n",
        "<body>\n",
        "\n",
        " \n",
        "<div id='maplegend' class='maplegend' \n",
        "    style='position: absolute; z-index:9999; border:2px solid grey; background-color:rgba(255, 255, 255, 0.8);\n",
        "     border-radius:6px; padding: 10px; font-size:14px; right: 20px; bottom: 20px;'>\n",
        "     \n",
        "<div class='legend-title'>Legend</div>\n",
        "<div class='legend-scale'>\n",
        "  <ul class='legend-labels'>\n",
        "    <li><span style='background:black;opacity:0.7;'></span>Network Edge </li>\n",
        "    <li><span style='background:red;opacity:0.7;'></span>Crossing Edge</li>\n",
        "  </ul>\n",
        "</div>\n",
        "</div>\n",
        " \n",
        "</body>\n",
        "</html>\n",
        "\n",
        "<style type='text/css'>\n",
        "  .maplegend .legend-title {\n",
        "    text-align: left;\n",
        "    margin-bottom: 5px;\n",
        "    font-weight: bold;\n",
        "    font-size: 90%;\n",
        "    }\n",
        "  .maplegend .legend-scale ul {\n",
        "    margin: 0;\n",
        "    margin-bottom: 5px;\n",
        "    padding: 0;\n",
        "    float: left;\n",
        "    list-style: none;\n",
        "    }\n",
        "  .maplegend .legend-scale ul li {\n",
        "    font-size: 80%;\n",
        "    list-style: none;\n",
        "    margin-left: 0;\n",
        "    line-height: 18px;\n",
        "    margin-bottom: 2px;\n",
        "    }\n",
        "  .maplegend ul.legend-labels li span {\n",
        "    display: block;\n",
        "    float: left;\n",
        "    height: 16px;\n",
        "    width: 30px;\n",
        "    margin-right: 5px;\n",
        "    margin-left: 0;\n",
        "    border: 1px solid #999;\n",
        "    }\n",
        "  .maplegend .legend-source {\n",
        "    font-size: 80%;\n",
        "    color: #777;\n",
        "    clear: both;\n",
        "    }\n",
        "  .maplegend a {\n",
        "    color: #777;\n",
        "    }\n",
        "</style>\n",
        "{% endmacro %}\"\"\"\n",
        "\n",
        "macro = MacroElement()\n",
        "macro._template = Template(template)"
      ],
      "outputs": [],
      "execution_count": null,
      "metadata": {
        "gather": {
          "logged": 1705420452859
        },
        "jupyter": {
          "outputs_hidden": false,
          "source_hidden": false
        },
        "nteract": {
          "transient": {
            "deleting": false
          }
        }
      },
      "id": "b18a8bf9-cf5a-4ce4-806e-8164dff17d7f"
    },
    {
      "cell_type": "code",
      "source": [
        "# Create tooltip for feature representation on map\n",
        "def gen_tooltip(fields, aliases):\n",
        "\n",
        "    tooltip = folium.GeoJsonTooltip(\n",
        "        fields=fields,\n",
        "        aliases=aliases,\n",
        "        localize=True,\n",
        "        sticky=False,\n",
        "        labels=True,\n",
        "        style=\"\"\"\n",
        "            background-color: #F0EFEF;\n",
        "            border: 2px solid black;\n",
        "            border-radius: 3px;\n",
        "            box-shadow: 3px;\n",
        "        \"\"\",\n",
        "        max_width=800,\n",
        "    )\n",
        "    return tooltip"
      ],
      "outputs": [],
      "execution_count": null,
      "metadata": {
        "gather": {
          "logged": 1705420458620
        },
        "jupyter": {
          "outputs_hidden": false,
          "source_hidden": false
        },
        "nteract": {
          "transient": {
            "deleting": false
          }
        }
      },
      "id": "78086753-488b-4c8e-a6a1-754f93373b2f"
    },
    {
      "cell_type": "code",
      "source": [
        "# set True for satelite background, False for regular background\n",
        "satelite = False\n",
        "\n",
        "# Set folium map background\n",
        "if satelite == True:\n",
        "    network_color = 'white'\n",
        "    tile = folium.TileLayer(\n",
        "                tiles = 'https://server.arcgisonline.com/ArcGIS/rest/services/World_Imagery/MapServer/tile/{z}/{y}/{x}',\n",
        "                attr = 'Esri',\n",
        "                name = 'Esri Satellite',\n",
        "                overlay = False,\n",
        "                control = True)\n",
        "else:\n",
        "    tile = 'openstreetmap'\n",
        "    network_color = 'black'\n",
        "\n",
        "# Create Folium map\n",
        "map = folium.Map(\n",
        "    location=[52.389164, 4.908453], tiles=tile,\n",
        "    min_zoom=10, max_zoom=25, zoom_start=15,\n",
        "    zoom_control=True, control_scale=True, control=False\n",
        "    )\n",
        "\n",
        "# Add colormap\n",
        "cmp = cm.linear.RdYlGn_11.colors\n",
        "cmp = list(reversed(cmp))\n",
        "colormap = cm.LinearColormap(colors=cmp, vmin=0, vmax=0.2, caption='Curb height (m)')\n",
        "colormap.add_to(map)\n",
        "\n",
        "# Add network and new edges\n",
        "geo_j = folium.GeoJson(gdf_network, style_function=lambda x: {\"color\": \"black\", \"weight\": 2}).add_to(map)\n",
        "geo_j = folium.GeoJson(gdf_crossings, style_function=lambda x: {\"color\": \"red\", \"weight\": 4}).add_to(map)\n",
        "\n",
        "\n",
        "# # Add curb heights\n",
        "# gdf_ch['geometry'] = gdf_ch['line_segm'].astype(str).apply(wkt.loads)\n",
        "# gdf_ch = gdf_ch.drop(columns=['line_segm', 'centroid', 'line_segm_polygon', 'overarching_line_segm'])\n",
        "# json = gdf_ch.to_crs(crs='EPSG:4326').to_json()\n",
        "# folium.GeoJson(json, style_function=lambda feature: {\"color\": colormap(feature[\"properties\"]['curb_height']) if feature['properties']['curb_height'] != 0 else 'black', \n",
        "#             \"weight\": 4 if feature[\"properties\"]['curb_height'] != 0 else 2}).add_to(map)\n",
        "\n",
        "# Save map\n",
        "map.get_root().add_child(macro)\n",
        "map.save(cf.out_folder + 'extracted_crossings/curb_crossings_max_height_{}_min_dist_{}_max_dist_{}_max_conn_{}.html'.format(max_height, min_dist, max_dist, max_connections))"
      ],
      "outputs": [],
      "execution_count": null,
      "metadata": {
        "gather": {
          "logged": 1705420486939
        },
        "jupyter": {
          "outputs_hidden": false,
          "source_hidden": false
        },
        "nteract": {
          "transient": {
            "deleting": false
          }
        }
      },
      "id": "5c507598-d05e-4a26-920c-05d6dd01f3cd"
    },
    {
      "cell_type": "markdown",
      "source": [
        "### Save new edges"
      ],
      "metadata": {
        "nteract": {
          "transient": {
            "deleting": false
          }
        }
      },
      "id": "38e2325a-b4b1-4a98-ad35-2cbddd2f991d"
    },
    {
      "cell_type": "code",
      "source": [
        "gdf_crossings.to_file(cf.output_curb_crossings_base + '_max_height_{}.gpkg'.format(max_height), driver='GPKG')"
      ],
      "outputs": [],
      "execution_count": null,
      "metadata": {
        "gather": {
          "logged": 1705420620554
        },
        "jupyter": {
          "outputs_hidden": false,
          "source_hidden": false
        },
        "nteract": {
          "transient": {
            "deleting": false
          }
        }
      },
      "id": "ad69e0bc-db97-4815-b0d8-bace2a6e795c"
    }
  ],
  "metadata": {
    "kernel_info": {
      "name": "crosswalk_extraction"
    },
    "kernelspec": {
      "name": "crosswalk_extraction",
      "language": "python",
      "display_name": "crosswalk_extraction"
    },
    "language_info": {
      "name": "python",
      "version": "3.8.0",
      "mimetype": "text/x-python",
      "codemirror_mode": {
        "name": "ipython",
        "version": 3
      },
      "pygments_lexer": "ipython3",
      "nbconvert_exporter": "python",
      "file_extension": ".py"
    },
    "microsoft": {
      "host": {
        "AzureML": {
          "notebookHasBeenCompleted": true
        }
      },
      "ms_spell_check": {
        "ms_spell_check_language": "en"
      }
    },
    "nteract": {
      "version": "nteract-front-end@1.0.0"
    }
  },
  "nbformat": 4,
  "nbformat_minor": 5
}