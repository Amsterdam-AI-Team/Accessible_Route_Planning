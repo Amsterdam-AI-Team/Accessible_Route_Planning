{
  "cells": [
    {
      "cell_type": "markdown",
      "source": [
        "# Create bike network"
      ],
      "metadata": {},
      "id": "5f034096"
    },
    {
      "cell_type": "code",
      "source": [
        "# Select where to run notebook: \"azure\" or \"local\"\n",
        "my_run = \"azure\""
      ],
      "outputs": [],
      "execution_count": null,
      "metadata": {
        "gather": {
          "logged": 1707925808372
        },
        "jupyter": {
          "outputs_hidden": false,
          "source_hidden": false
        },
        "nteract": {
          "transient": {
            "deleting": false
          }
        }
      },
      "id": "99175144-9be5-4aaa-93ff-cbaafda2181d"
    },
    {
      "cell_type": "code",
      "source": [
        "import set_path\n",
        "\n",
        "import numpy as np\n",
        "import pandas as pd\n",
        "import geopandas as gpd\n",
        "\n",
        "import shapely\n",
        "import shapely.geometry as sg\n",
        "import shapely.ops as so\n",
        "\n",
        "import bgt_utils\n",
        "import poly_utils\n",
        "\n",
        "from tqdm.notebook import tqdm_notebook\n",
        "tqdm_notebook.pandas()\n",
        "\n",
        "import osmnx as ox\n",
        "import momepy\n",
        "\n",
        "import folium\n",
        "\n",
        "import settings as st\n",
        "if my_run == \"azure\":\n",
        "    import config_azure as cf\n",
        "elif my_run == \"local\":\n",
        "    import config as cf"
      ],
      "outputs": [],
      "execution_count": null,
      "metadata": {
        "gather": {
          "logged": 1707925894666
        }
      },
      "id": "071158b6"
    },
    {
      "cell_type": "code",
      "source": [
        "os.system('sudo blobfuse /home/azureuser/cloudfiles/code/blobfuse/sidewalk --tmp-path=/mnt/resource/blobfusetmp --config-file=/home/azureuser/cloudfiles/code/blobfuse/fuse_connection_sidewalk.cfg -o attr_timeout=3600 -o entry_timeout=3600 -o negative_timeout=3600 -o allow_other -o nonempty')"
      ],
      "outputs": [],
      "execution_count": null,
      "metadata": {
        "gather": {
          "logged": 1707925895020
        },
        "jupyter": {
          "outputs_hidden": false,
          "source_hidden": false
        },
        "nteract": {
          "transient": {
            "deleting": false
          }
        }
      },
      "id": "7483f8f4-1714-49c4-a509-6a4784e49dfa"
    },
    {
      "cell_type": "markdown",
      "source": [
        "## Import BGT data"
      ],
      "metadata": {},
      "id": "50c6b9b1"
    },
    {
      "cell_type": "code",
      "source": [
        "# Get BGT data\n",
        "df_bgt_full = bgt_utils.get_bgt_data_for_bbox(st.bbox, st.bgt_layers + st.bgt_road_layers)\n",
        "df_bgt_full['naam'].value_counts()"
      ],
      "outputs": [],
      "execution_count": null,
      "metadata": {
        "gather": {
          "logged": 1707926020826
        },
        "jupyter": {
          "outputs_hidden": false,
          "source_hidden": false
        },
        "nteract": {
          "transient": {
            "deleting": false
          }
        }
      },
      "id": "0d67ccd2-f06b-408a-bb19-535fba848a6c"
    },
    {
      "cell_type": "markdown",
      "source": [
        "## Select pilot areas"
      ],
      "metadata": {
        "nteract": {
          "transient": {
            "deleting": false
          }
        }
      },
      "id": "8096e21a-ff68-4c06-aac5-3cf1c854e26d"
    },
    {
      "cell_type": "code",
      "source": [
        "# Import areas\n",
        "df_areas = gpd.read_file(cf.output_pilot_area)"
      ],
      "outputs": [],
      "execution_count": null,
      "metadata": {
        "gather": {
          "logged": 1707926024218
        },
        "jupyter": {
          "outputs_hidden": false,
          "source_hidden": false
        },
        "nteract": {
          "transient": {
            "deleting": false
          }
        }
      },
      "id": "32ea3892-d7d9-4bb9-adfb-631e6ddf7331"
    },
    {
      "cell_type": "code",
      "source": [
        "# Only keep BGT data within pilot areas\n",
        "df_bgt = df_bgt_full.sjoin(df_areas, how='inner', predicate='within')  # note: only polygons fully inside area are included\n",
        "df_bgt['naam_left'].value_counts()"
      ],
      "outputs": [],
      "execution_count": null,
      "metadata": {
        "gather": {
          "logged": 1707926024666
        },
        "jupyter": {
          "outputs_hidden": false,
          "source_hidden": false
        },
        "nteract": {
          "transient": {
            "deleting": false
          }
        }
      },
      "id": "410c68a5-d781-4185-b61b-ca21cf041e81"
    },
    {
      "cell_type": "markdown",
      "source": [
        "## Import bike data from OSM"
      ],
      "metadata": {
        "nteract": {
          "transient": {
            "deleting": false
          }
        }
      },
      "id": "14ac1f5d-58ce-419d-b088-38fe96d131d2"
    },
    {
      "cell_type": "code",
      "source": [
        "# Put buffer around areas to include more lines from OSM\n",
        "df_areas['buffer'] = df_areas.buffer(100)\n",
        "\n",
        "# Retrieve the street network from selected area\n",
        "polygon = df_areas.set_geometry('buffer').to_crs(st.CRS_map).unary_union\n",
        "cycling_graph = ox.graph_from_polygon(polygon=polygon, network_type='bike', retain_all=True)"
      ],
      "outputs": [],
      "execution_count": null,
      "metadata": {
        "jupyter": {
          "source_hidden": false,
          "outputs_hidden": false
        },
        "nteract": {
          "transient": {
            "deleting": false
          }
        },
        "gather": {
          "logged": 1707926028999
        }
      },
      "id": "46a1dcdb-3d37-4445-a259-c9bc0a3f6f46"
    },
    {
      "cell_type": "code",
      "source": [
        "# Fetch nodes and edges of cycling networks\n",
        "gdf_nodes_cycling, gdf_edges_cycling = ox.graph_to_gdfs(\n",
        "        cycling_graph,\n",
        "        nodes=True, edges=True,\n",
        "        node_geometry=True,\n",
        "        fill_edge_geometry=True)\n",
        "#gdf_edges_cycling.head()"
      ],
      "outputs": [],
      "execution_count": null,
      "metadata": {
        "jupyter": {
          "source_hidden": false,
          "outputs_hidden": false
        },
        "nteract": {
          "transient": {
            "deleting": false
          }
        },
        "gather": {
          "logged": 1707926029219
        }
      },
      "id": "24d54e00-7a7a-480d-8e97-60dc121f8ec1"
    },
    {
      "cell_type": "markdown",
      "source": [
        "## Select which cycling edges to include"
      ],
      "metadata": {
        "nteract": {
          "transient": {
            "deleting": false
          }
        }
      },
      "id": "290957c2-4dd4-4448-99ce-ca0f3b7d8438"
    },
    {
      "cell_type": "code",
      "source": [
        "# Select bike polygons\n",
        "df_bgt_bike_map = df_bgt[df_bgt['naam_left'] == 'fietspad'].to_crs(st.CRS_map).drop('index_right', axis=1)"
      ],
      "outputs": [],
      "execution_count": null,
      "metadata": {
        "jupyter": {
          "source_hidden": false,
          "outputs_hidden": false
        },
        "nteract": {
          "transient": {
            "deleting": false
          }
        },
        "gather": {
          "logged": 1707926029402
        }
      },
      "id": "3eb609e5-5f01-41c6-b5f2-5bb4e7d9a7b1"
    },
    {
      "cell_type": "code",
      "source": [
        "# Select correct bike edges\n",
        "gdf_edges_cycling_sel = gdf_edges_cycling[gdf_edges_cycling['highway'].isin(['cycleway', ['cycleway', 'unclassified'],  ['unclassified', 'cycleway'], \n",
        "                                                                           ['cycleway', 'service'], ['residential', 'cycleway']])]\n",
        "gdf_edges_cycling_sel.shape"
      ],
      "outputs": [],
      "execution_count": null,
      "metadata": {
        "jupyter": {
          "source_hidden": false,
          "outputs_hidden": false
        },
        "nteract": {
          "transient": {
            "deleting": false
          }
        },
        "gather": {
          "logged": 1707926029602
        }
      },
      "id": "3af004fb-1dfe-41c2-a2b8-42d3ed05e397"
    },
    {
      "cell_type": "code",
      "source": [
        "# Buffer BGT bike polygons\n",
        "df_bgt_bike_map_buffer = df_bgt_bike_map.copy()\n",
        "df_bgt_bike_map_buffer['geometry'] = df_bgt_bike_map_buffer.buffer(0.0001, single_sided=True)\n",
        "\n",
        "# Select edges within buffered polygons\n",
        "gdf_edges_cycling_sel['unique_id'] = range(0, len(gdf_edges_cycling_sel))\n",
        "gdf_edges_cycling_is = gdf_edges_cycling_sel.sjoin(df_bgt_bike_map_buffer, predicate='intersects', how='inner')\n",
        "gdf_edges_cycling_is = gdf_edges_cycling_is.drop_duplicates('unique_id')  # drop duplicates/in multiple polygons\n",
        "gdf_edges_cycling_is.shape"
      ],
      "outputs": [],
      "execution_count": null,
      "metadata": {
        "jupyter": {
          "source_hidden": false,
          "outputs_hidden": false
        },
        "nteract": {
          "transient": {
            "deleting": false
          }
        },
        "gather": {
          "logged": 1707926054420
        }
      },
      "id": "9ef93e81-0897-4436-8228-a00fe587ae2e"
    },
    {
      "cell_type": "markdown",
      "source": [
        "## Add crossing column"
      ],
      "metadata": {
        "nteract": {
          "transient": {
            "deleting": false
          }
        }
      },
      "id": "b8c11387-e0e9-4214-8afe-fb0914300af1"
    },
    {
      "cell_type": "code",
      "source": [
        "# Select road polygons\n",
        "road_names = ['rijbaan lokale weg', 'rijbaan regionale weg', 'rijbaan autoweg', 'rijbaan autosnelweg', 'OV-baan']\n",
        "df_bgt_road_map = df_bgt[df_bgt['naam_left'].isin(road_names)].to_crs(st.CRS_map).drop('index_right', axis=1)\n",
        "\n",
        "# Create multipolygon of all roads\n",
        "road_mpg = gpd.GeoDataFrame(geometry=gpd.GeoSeries(df_bgt_road_map['geometry'].unary_union))['geometry'].iloc[0]"
      ],
      "outputs": [],
      "execution_count": null,
      "metadata": {
        "jupyter": {
          "source_hidden": false,
          "outputs_hidden": false
        },
        "nteract": {
          "transient": {
            "deleting": false
          }
        },
        "gather": {
          "logged": 1707926054643
        }
      },
      "id": "7b8d6ec4-85f3-4ebb-84ba-2ad613e17031"
    },
    {
      "cell_type": "code",
      "source": [
        "# Cut bike network lines by road polygons\n",
        "gdf_edges_cycling_is['geometry_split'] = gdf_edges_cycling_is['geometry'].apply(lambda x: so.split(x, road_mpg)) \n",
        "\n",
        "# Explode cutted bike linestrings\n",
        "gdf_edges_cycling_is_ex = gpd.GeoDataFrame(gdf_edges_cycling_is['geometry_split'].explode(index_parts=True), geometry='geometry_split', crs=st.CRS_map)\n",
        "gdf_edges_cycling_is_ex.rename(columns={'geometry_split': 'geometry'}, inplace=True)\n",
        "gdf_edges_cycling_is_ex = gdf_edges_cycling_is_ex.set_geometry('geometry')\n",
        "\n",
        "# Check if (cutted) lines are within the road multipolygon\n",
        "road_mpg_buffered = road_mpg.buffer(1e-10)\n",
        "gdf_edges_cycling_is_ex['within_polygon'] = gdf_edges_cycling_is_ex.within(road_mpg_buffered)"
      ],
      "outputs": [],
      "execution_count": null,
      "metadata": {
        "jupyter": {
          "source_hidden": false,
          "outputs_hidden": false
        },
        "nteract": {
          "transient": {
            "deleting": false
          }
        },
        "gather": {
          "logged": 1707926066132
        }
      },
      "id": "a8a52f29-b4c7-46e2-a02a-66102c6bf8df"
    },
    {
      "cell_type": "code",
      "source": [
        "# Create crossing columns\n",
        "gdf_edges_cycling_is_ex['crossing'] = np.where(gdf_edges_cycling_is_ex['within_polygon'] == True, 'Yes', 'No')\n",
        "gdf_edges_cycling_is_ex['bike_crossing_type'] = np.where(gdf_edges_cycling_is_ex['crossing'] == 'Yes', 'osm', np.nan)"
      ],
      "outputs": [],
      "execution_count": null,
      "metadata": {
        "jupyter": {
          "source_hidden": false,
          "outputs_hidden": false
        },
        "nteract": {
          "transient": {
            "deleting": false
          }
        },
        "gather": {
          "logged": 1707926066308
        }
      },
      "id": "0bb075fd-4c6c-4074-9c64-59061a37f4a6"
    },
    {
      "cell_type": "markdown",
      "source": [
        "## Create missing crossings"
      ],
      "metadata": {
        "nteract": {
          "transient": {
            "deleting": false
          }
        }
      },
      "id": "991b4dbc-6caf-4666-bea8-ef5769e256c2"
    },
    {
      "cell_type": "code",
      "source": [
        "# Get all nodes\n",
        "G = momepy.gdf_to_nx(gdf_edges_cycling_is_ex.to_crs(st.CRS), approach=\"primal\", multigraph=False)\n",
        "all_nodes = momepy.nx_to_gdf(G, points=True, lines=False)\n",
        "\n",
        "# Get end nodes\n",
        "G1 = G.copy()\n",
        "G1.remove_nodes_from((n for n,d in G.degree() if d!=1))\n",
        "end_nodes = momepy.nx_to_gdf(G1, points=True, lines=False)"
      ],
      "outputs": [],
      "execution_count": null,
      "metadata": {
        "jupyter": {
          "source_hidden": false,
          "outputs_hidden": false
        },
        "nteract": {
          "transient": {
            "deleting": false
          }
        },
        "gather": {
          "logged": 1707926066522
        }
      },
      "id": "3a6d1f1b-15f7-4f08-b110-2040c6ce207f"
    },
    {
      "cell_type": "code",
      "source": [
        "# Select bike polygons\n",
        "df_bgt_bike = df_bgt[df_bgt['naam_left'] == 'fietspad']\n",
        "\n",
        "# Merge bike polygons\n",
        "df_polygons = gpd.GeoDataFrame(geometry=gpd.GeoSeries(df_bgt_bike['geometry'].unary_union))\n",
        "df_polygons = gpd.GeoDataFrame(df_polygons.geometry.explode(index_parts=True)).set_crs(st.CRS)\n",
        "\n",
        "# Ignore polygons that are too small\n",
        "df_polygons['area'] = df_polygons['geometry'].area\n",
        "df_polygons = df_polygons[df_polygons.area > st.min_area_size].reset_index()\n",
        "\n",
        "# Ignore polygons without nodes\n",
        "polygons_with_nodes = df_polygons.sjoin(all_nodes)['level_1'].unique()\n",
        "df_polygons = df_polygons[df_polygons['level_1'].isin(polygons_with_nodes)] "
      ],
      "outputs": [],
      "execution_count": null,
      "metadata": {
        "jupyter": {
          "source_hidden": false,
          "outputs_hidden": false
        },
        "nteract": {
          "transient": {
            "deleting": false
          }
        },
        "gather": {
          "logged": 1707926066709
        }
      },
      "id": "e4e53a9d-de0a-46a1-9544-397d572ae621"
    },
    {
      "cell_type": "code",
      "source": [
        "H = G.copy()\n",
        "\n",
        "for i in range(len(end_nodes)):\n",
        "    #print(i)\n",
        "    # Get location single new node (of curb ramp)\n",
        "    end_node_loc = end_nodes['geometry'].values[i] \n",
        "    \n",
        "    # Find nearest sidewalk (max n meter away)\n",
        "    my_distances = df_polygons['geometry'].distance(end_node_loc)\n",
        "    my_distances = my_distances[my_distances > 3]\n",
        "    smallest_distance = my_distances.sort_values().iloc[[0]]\n",
        "\n",
        "    if smallest_distance.iloc[0] < 16:\n",
        "        print('found nearby polygon')  \n",
        "        df_sidewalk_nb = df_polygons[df_polygons.index.isin(smallest_distance.index)][['geometry']]\n",
        "        nearby_polygon = df_sidewalk_nb['geometry'].values[0]\n",
        "\n",
        "        # Get nodes on nearest bike path polygon\n",
        "        df_nearby_polygon_nodes = all_nodes[all_nodes.within(nearby_polygon)]\n",
        "        nearby_polygon_nodes = sg.MultiPoint(df_nearby_polygon_nodes['geometry'].values)\n",
        "\n",
        "        # Find nearest existing node on nearest bike path polygon\n",
        "        nearby_points = so.nearest_points(end_node_loc, nearby_polygon_nodes)\n",
        "        end_node = (nearby_points[0].x, nearby_points[0].y)\n",
        "        connect_node = (nearby_points[1].x, nearby_points[1].y)\n",
        "\n",
        "        # Add edge between new and existing node\n",
        "        node_dist = nearby_points[0].distance(nearby_points[1])\n",
        "        if node_dist < 20:\n",
        "            print('add egde!')\n",
        "            H.add_edge(end_node, connect_node, geometry=sg.LineString([end_node, connect_node]), new='Yes')\n",
        "\n",
        "# Create dataframe with existing and new edges/lines\n",
        "df_H = momepy.nx_to_gdf(H, points=False, lines=True)\n",
        "df_H_new = df_H[df_H['crossing'].isna()]"
      ],
      "outputs": [],
      "execution_count": null,
      "metadata": {
        "jupyter": {
          "source_hidden": false,
          "outputs_hidden": false
        },
        "nteract": {
          "transient": {
            "deleting": false
          }
        },
        "gather": {
          "logged": 1707926067076
        }
      },
      "id": "90f1f638-d41b-40f2-85f8-2de01def6240"
    },
    {
      "cell_type": "code",
      "source": [
        "# Reverse lines, to have both directions\n",
        "df_H_new_reverse = gpd.GeoDataFrame(shapely.reverse(df_H_new['geometry']), crs=st.CRS)\n",
        "df_H_new = pd.concat([df_H_new, df_H_new_reverse])"
      ],
      "outputs": [],
      "execution_count": null,
      "metadata": {
        "jupyter": {
          "source_hidden": false,
          "outputs_hidden": false
        },
        "nteract": {
          "transient": {
            "deleting": false
          }
        },
        "gather": {
          "logged": 1707926067297
        }
      },
      "id": "9125ec65-3f50-442a-a9fd-126dcac4415d"
    },
    {
      "cell_type": "code",
      "source": [
        "# Fill in crossings columns of new lines\n",
        "df_H_new['crossing'] = 'Yes'\n",
        "df_H_new['bike_crossing_type'] = 'created'\n",
        "\n",
        "# Add new lines to existing dataframe\n",
        "gdf_edges_cycling_is_ex = pd.concat([gdf_edges_cycling_is_ex, df_H_new.to_crs(st.CRS_map)])"
      ],
      "outputs": [],
      "execution_count": null,
      "metadata": {
        "jupyter": {
          "source_hidden": false,
          "outputs_hidden": false
        },
        "nteract": {
          "transient": {
            "deleting": false
          }
        },
        "gather": {
          "logged": 1707926067487
        }
      },
      "id": "acfa54c5-e854-49eb-be97-cb15bf2d5958"
    },
    {
      "cell_type": "markdown",
      "source": [
        "## Validate"
      ],
      "metadata": {
        "nteract": {
          "transient": {
            "deleting": false
          }
        }
      },
      "id": "5463f15d-75fb-4dd0-925a-9a103f00a18f"
    },
    {
      "cell_type": "code",
      "source": [
        "# create buffer for validation direction (left-handed)\n",
        "gdf_edges_cycling_is['buffer'] = gdf_edges_cycling_is.buffer(0.0001, single_sided=True)"
      ],
      "outputs": [],
      "execution_count": null,
      "metadata": {
        "jupyter": {
          "source_hidden": false,
          "outputs_hidden": false
        },
        "nteract": {
          "transient": {
            "deleting": false
          }
        },
        "gather": {
          "logged": 1707926258459
        }
      },
      "id": "9ea8c2cc-dba8-4a70-89f7-f272e1532f10"
    },
    {
      "cell_type": "code",
      "source": [
        "# Set center of map\n",
        "area_coords = [52.375664816888225, 4.8632280955697995]\n",
        "\n",
        "# Set to map coordinate reference system\n",
        "df_bgt_show = df_bgt.to_crs(st.CRS_map)\n",
        "\n",
        "# Create basic map\n",
        "my_map = folium.Map(\n",
        "    location=area_coords,\n",
        "    tiles='openstreetmap',\n",
        "    min_zoom=10, max_zoom=20, zoom_start=13,\n",
        "    zoom_control=True, control_scale=True, control=False\n",
        "    )\n",
        "\n",
        "# Add bike paths\n",
        "folium.GeoJson(df_bgt_show[df_bgt_show['naam_left'] == 'fietspad'], style_function=lambda x: {\"fillColor\": \"red\"}).add_to(my_map)\n",
        "\n",
        "# Add sidewalks  \n",
        "folium.GeoJson(df_bgt_show[df_bgt_show['naam_left'].isin(['voetpad', 'inrit', 'voetgangersgebied'])], style_function=lambda x: {\"fillColor\": \"blue\"}).add_to(my_map)\n",
        "\n",
        "# Add roads\n",
        "folium.GeoJson(df_bgt_road_map, style_function=lambda x: {\"fillColor\": \"grey\"}).add_to(my_map)\n",
        "\n",
        "# Add all cycling edges\n",
        "folium.GeoJson(gdf_edges_cycling['geometry'], style_function=lambda x: {\"color\": 'pink', \"weight\": 1}).add_to(my_map)\n",
        "\n",
        "# Add buffer of selected cycling edges (to validate directions)\n",
        "folium.GeoJson(gdf_edges_cycling_is['buffer'], style_function=lambda x: {\"color\": 'orange', \"weight\": 1}).add_to(my_map)\n",
        "\n",
        "# Add selected cycling edges\n",
        "folium.GeoJson(gdf_edges_cycling_is_ex['geometry'], style_function=lambda x: {\"color\": 'red', \"weight\": 2}).add_to(my_map)\n",
        "\n",
        "# Add cycling crossings\n",
        "folium.GeoJson(gdf_edges_cycling_is_ex[gdf_edges_cycling_is_ex['bike_crossing_type']=='created'], style_function=lambda x: {\"color\": 'purple', \"weight\": 4}).add_to(my_map)\n",
        "folium.GeoJson(gdf_edges_cycling_is_ex[gdf_edges_cycling_is_ex['bike_crossing_type']=='osm'], style_function=lambda x: {\"color\": 'darkred', \"weight\": 4}).add_to(my_map)\n",
        "\n",
        "# Add nodes\n",
        "#folium.GeoJson(all_nodes['geometry'], style_function=lambda x: {\"color\": 'green', \"weight\": 12}).add_to(my_map)\n",
        "#folium.GeoJson(end_nodes['geometry'], style_function=lambda x: {\"color\": 'green', \"weight\": 12}).add_to(my_map)\n",
        "\n",
        "my_map"
      ],
      "outputs": [],
      "execution_count": null,
      "metadata": {
        "jupyter": {
          "source_hidden": false,
          "outputs_hidden": false
        },
        "nteract": {
          "transient": {
            "deleting": false
          }
        },
        "gather": {
          "logged": 1707926264426
        }
      },
      "id": "c9a25e6b-411f-4d48-bfd8-3e08fc52868c"
    },
    {
      "cell_type": "code",
      "source": [
        "# Store map\n",
        "my_map.save(cf.bike_network_map)"
      ],
      "outputs": [],
      "execution_count": null,
      "metadata": {
        "jupyter": {
          "source_hidden": false,
          "outputs_hidden": false
        },
        "nteract": {
          "transient": {
            "deleting": false
          }
        },
        "gather": {
          "logged": 1707926312476
        }
      },
      "id": "f75fc301-6cd7-4111-a6fe-f0a20a4bce82"
    },
    {
      "cell_type": "markdown",
      "source": [
        "## Store"
      ],
      "metadata": {
        "nteract": {
          "transient": {
            "deleting": false
          }
        }
      },
      "id": "1b8d709d-6847-45f7-8ca2-b6b6158261a2"
    },
    {
      "cell_type": "code",
      "source": [
        "# Prepare final bike network dataframe\n",
        "gdf_final = gdf_edges_cycling_is_ex.reset_index(drop=True)\n",
        "gdf_final['bikepath_id'] = range(0, len(gdf_final))\n",
        "gdf_final = gdf_final.to_crs(st.CRS)\n",
        "gdf_final['length'] = gdf_final.length\n",
        "gdf_final = gdf_final[['bikepath_id', 'geometry', 'length', 'crossing', 'bike_crossing_type']]\n",
        "gdf_final.tail(3)"
      ],
      "outputs": [],
      "execution_count": null,
      "metadata": {
        "jupyter": {
          "source_hidden": false,
          "outputs_hidden": false
        },
        "nteract": {
          "transient": {
            "deleting": false
          }
        },
        "gather": {
          "logged": 1707926316520
        }
      },
      "id": "d3cc759d-9e10-484b-8b99-861ccb6aa31f"
    },
    {
      "cell_type": "code",
      "source": [
        "# Write bike network to file\n",
        "gdf_final.reset_index().to_file(cf.output_bike_network, driver='GPKG')"
      ],
      "outputs": [],
      "execution_count": null,
      "metadata": {
        "jupyter": {
          "source_hidden": false,
          "outputs_hidden": false
        },
        "nteract": {
          "transient": {
            "deleting": false
          }
        },
        "gather": {
          "logged": 1707926332172
        }
      },
      "id": "6b26f407-acf7-46ca-8dc9-f59cb72a3932"
    },
    {
      "cell_type": "code",
      "source": [
        "# Prepare bike path polygon dataframe\n",
        "gdf_bikepaths = df_bgt_bike_map[['geometry']].reset_index(drop=True)\n",
        "gdf_bikepaths = gdf_bikepaths.to_crs(st.CRS)\n",
        "gdf_bikepaths.head(3)"
      ],
      "outputs": [],
      "execution_count": null,
      "metadata": {
        "jupyter": {
          "source_hidden": false,
          "outputs_hidden": false
        },
        "nteract": {
          "transient": {
            "deleting": false
          }
        },
        "gather": {
          "logged": 1707926333290
        }
      },
      "id": "14a8b2c6-c030-4f03-a0d8-6e26a7515877"
    },
    {
      "cell_type": "code",
      "source": [
        "# Write bike path polygons related to bike network to file\n",
        "gdf_bikepaths.to_file(cf.output_bikepaths_bike_network, driver='GPKG')"
      ],
      "outputs": [],
      "execution_count": null,
      "metadata": {
        "jupyter": {
          "source_hidden": false,
          "outputs_hidden": false
        },
        "nteract": {
          "transient": {
            "deleting": false
          }
        },
        "gather": {
          "logged": 1702039211111
        }
      },
      "id": "a8076af8-a730-4bf7-aa16-5868066b0fad"
    }
  ],
  "metadata": {
    "kernel_info": {
      "name": "venv_rp"
    },
    "kernelspec": {
      "name": "venv_rp",
      "language": "python",
      "display_name": "venv_rp"
    },
    "language_info": {
      "name": "python",
      "version": "3.8.10",
      "mimetype": "text/x-python",
      "codemirror_mode": {
        "name": "ipython",
        "version": 3
      },
      "pygments_lexer": "ipython3",
      "nbconvert_exporter": "python",
      "file_extension": ".py"
    },
    "microsoft": {
      "host": {
        "AzureML": {
          "notebookHasBeenCompleted": true
        }
      },
      "ms_spell_check": {
        "ms_spell_check_language": "en"
      }
    },
    "nteract": {
      "version": "nteract-front-end@1.0.0"
    }
  },
  "nbformat": 4,
  "nbformat_minor": 5
}