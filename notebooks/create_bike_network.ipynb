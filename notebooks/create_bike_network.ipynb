{
  "cells": [
    {
      "cell_type": "markdown",
      "source": [
        "# Create bike network"
      ],
      "metadata": {},
      "id": "5f034096"
    },
    {
      "cell_type": "code",
      "source": [
        "# Select where to run notebook: \"azure\" or \"local\"\n",
        "my_run = \"azure\""
      ],
      "outputs": [],
      "execution_count": null,
      "metadata": {
        "gather": {
          "logged": 1702038337527
        },
        "jupyter": {
          "outputs_hidden": false,
          "source_hidden": false
        },
        "nteract": {
          "transient": {
            "deleting": false
          }
        }
      },
      "id": "99175144-9be5-4aaa-93ff-cbaafda2181d"
    },
    {
      "cell_type": "code",
      "source": [
        "import set_path\n",
        "\n",
        "import numpy as np\n",
        "import pandas as pd\n",
        "import geopandas as gpd\n",
        "\n",
        "import shapely.geometry as sg\n",
        "import shapely.ops as so\n",
        "\n",
        "import bgt_utils\n",
        "import poly_utils\n",
        "\n",
        "from tqdm.notebook import tqdm_notebook\n",
        "tqdm_notebook.pandas()\n",
        "\n",
        "import osmnx as ox\n",
        "\n",
        "import folium\n",
        "\n",
        "import settings as st\n",
        "if my_run == \"azure\":\n",
        "    import config_azure as cf\n",
        "elif my_run == \"local\":\n",
        "    import config as cf"
      ],
      "outputs": [],
      "execution_count": null,
      "metadata": {
        "gather": {
          "logged": 1702038402337
        }
      },
      "id": "071158b6"
    },
    {
      "cell_type": "code",
      "source": [
        "os.system('sudo blobfuse /home/azureuser/cloudfiles/code/blobfuse/sidewalk --tmp-path=/mnt/resource/blobfusetmp --config-file=/home/azureuser/cloudfiles/code/blobfuse/fuse_connection_sidewalk.cfg -o attr_timeout=3600 -o entry_timeout=3600 -o negative_timeout=3600 -o allow_other -o nonempty')"
      ],
      "outputs": [],
      "execution_count": null,
      "metadata": {
        "gather": {
          "logged": 1702038402626
        },
        "jupyter": {
          "outputs_hidden": false,
          "source_hidden": false
        },
        "nteract": {
          "transient": {
            "deleting": false
          }
        }
      },
      "id": "7483f8f4-1714-49c4-a509-6a4784e49dfa"
    },
    {
      "cell_type": "markdown",
      "source": [
        "## Import BGT data"
      ],
      "metadata": {},
      "id": "50c6b9b1"
    },
    {
      "cell_type": "code",
      "source": [
        "# Get BGT data\n",
        "df_bgt_full = bgt_utils.get_bgt_data_for_bbox(st.bbox, st.bgt_layers + st.bgt_layers_bike)\n",
        "df_bgt_full['naam'].value_counts()"
      ],
      "outputs": [],
      "execution_count": null,
      "metadata": {
        "gather": {
          "logged": 1702038491291
        },
        "jupyter": {
          "outputs_hidden": false,
          "source_hidden": false
        },
        "nteract": {
          "transient": {
            "deleting": false
          }
        }
      },
      "id": "0d67ccd2-f06b-408a-bb19-535fba848a6c"
    },
    {
      "cell_type": "markdown",
      "source": [
        "## Select pilot areas"
      ],
      "metadata": {
        "nteract": {
          "transient": {
            "deleting": false
          }
        }
      },
      "id": "8096e21a-ff68-4c06-aac5-3cf1c854e26d"
    },
    {
      "cell_type": "code",
      "source": [
        "# Import areas\n",
        "df_areas = gpd.read_file(cf.output_pilot_area)"
      ],
      "outputs": [],
      "execution_count": null,
      "metadata": {
        "gather": {
          "logged": 1702038492354
        },
        "jupyter": {
          "outputs_hidden": false,
          "source_hidden": false
        },
        "nteract": {
          "transient": {
            "deleting": false
          }
        }
      },
      "id": "32ea3892-d7d9-4bb9-adfb-631e6ddf7331"
    },
    {
      "cell_type": "code",
      "source": [
        "# Only keep BGT data within pilot areas\n",
        "df_bgt = df_bgt_full.sjoin(df_areas, how='inner', predicate='within')  # note: only polygons fully inside area are included\n",
        "df_bgt['naam_left'].value_counts()"
      ],
      "outputs": [],
      "execution_count": null,
      "metadata": {
        "gather": {
          "logged": 1702038492825
        },
        "jupyter": {
          "outputs_hidden": false,
          "source_hidden": false
        },
        "nteract": {
          "transient": {
            "deleting": false
          }
        }
      },
      "id": "410c68a5-d781-4185-b61b-ca21cf041e81"
    },
    {
      "cell_type": "markdown",
      "source": [
        "## Import bike data from OSM"
      ],
      "metadata": {
        "nteract": {
          "transient": {
            "deleting": false
          }
        }
      },
      "id": "14ac1f5d-58ce-419d-b088-38fe96d131d2"
    },
    {
      "cell_type": "code",
      "source": [
        "# Put buffer around areas to include more lines from OSM\n",
        "df_areas['buffer'] = df_areas.buffer(100)\n",
        "\n",
        "# Retrieve the street network from selected area\n",
        "polygon = df_areas.set_geometry('buffer').to_crs('EPSG:4326').unary_union\n",
        "cycling_graph = ox.graph_from_polygon(polygon=polygon, network_type='bike', retain_all=True)"
      ],
      "outputs": [],
      "execution_count": null,
      "metadata": {
        "jupyter": {
          "source_hidden": false,
          "outputs_hidden": false
        },
        "nteract": {
          "transient": {
            "deleting": false
          }
        },
        "gather": {
          "logged": 1702038497110
        }
      },
      "id": "46a1dcdb-3d37-4445-a259-c9bc0a3f6f46"
    },
    {
      "cell_type": "code",
      "source": [
        "# Fetch nodes and edges of cycling networks\n",
        "gdf_nodes_cycling, gdf_edges_cycling = ox.graph_to_gdfs(\n",
        "        cycling_graph,\n",
        "        nodes=True, edges=True,\n",
        "        node_geometry=True,\n",
        "        fill_edge_geometry=True)\n",
        "#gdf_edges_cycling.head()"
      ],
      "outputs": [],
      "execution_count": null,
      "metadata": {
        "jupyter": {
          "source_hidden": false,
          "outputs_hidden": false
        },
        "nteract": {
          "transient": {
            "deleting": false
          }
        },
        "gather": {
          "logged": 1702038497283
        }
      },
      "id": "24d54e00-7a7a-480d-8e97-60dc121f8ec1"
    },
    {
      "cell_type": "markdown",
      "source": [
        "## Select which cycling edges to include"
      ],
      "metadata": {
        "nteract": {
          "transient": {
            "deleting": false
          }
        }
      },
      "id": "290957c2-4dd4-4448-99ce-ca0f3b7d8438"
    },
    {
      "cell_type": "code",
      "source": [
        "# Select bike polygons\n",
        "df_bgt_bike_map = df_bgt[df_bgt['naam_left'] == 'fietspad'].to_crs(\"EPSG:4326\").drop('index_right', axis=1)\n",
        "df_bgt_bike_map['bikepath_id'] = range(0,len(df_bgt_bike_map))\n",
        "df_bgt_bike_map.head(2)"
      ],
      "outputs": [],
      "execution_count": null,
      "metadata": {
        "jupyter": {
          "source_hidden": false,
          "outputs_hidden": false
        },
        "nteract": {
          "transient": {
            "deleting": false
          }
        },
        "gather": {
          "logged": 1702038497524
        }
      },
      "id": "3eb609e5-5f01-41c6-b5f2-5bb4e7d9a7b1"
    },
    {
      "cell_type": "code",
      "source": [
        "#gdf_edges_cycling[['highway']].reset_index(drop=True).drop_duplicates()"
      ],
      "outputs": [],
      "execution_count": null,
      "metadata": {
        "jupyter": {
          "source_hidden": false,
          "outputs_hidden": false
        },
        "nteract": {
          "transient": {
            "deleting": false
          }
        },
        "gather": {
          "logged": 1702038497720
        }
      },
      "id": "63e53a5e-0e8f-43ca-b03f-24f387c9eef7"
    },
    {
      "cell_type": "code",
      "source": [
        "# Select correct bike edges\n",
        "gdf_edges_cycling_sel = gdf_edges_cycling[gdf_edges_cycling['highway'].isin(['cycleway', ['cycleway', 'unclassified'],  ['unclassified', 'cycleway'], \n",
        "                                                                            ['cycleway', 'service'], ['residential', 'cycleway']])]  # TODO decide on selection\n",
        "gdf_edges_cycling_sel.shape"
      ],
      "outputs": [],
      "execution_count": null,
      "metadata": {
        "jupyter": {
          "source_hidden": false,
          "outputs_hidden": false
        },
        "nteract": {
          "transient": {
            "deleting": false
          }
        },
        "gather": {
          "logged": 1702038497920
        }
      },
      "id": "3af004fb-1dfe-41c2-a2b8-42d3ed05e397"
    },
    {
      "cell_type": "code",
      "source": [
        "# Select edges within polygons\n",
        "gdf_edges_cycling_sel['unique_id'] = range(0, len(gdf_edges_cycling_sel))\n",
        "gdf_edges_cycling_is = gdf_edges_cycling_sel.sjoin(df_bgt_bike_map, predicate='intersects', how='inner')\n",
        "gdf_edges_cycling_is = gdf_edges_cycling_is.drop_duplicates('unique_id')  # drop duplicates/in multiple polygons\n",
        "gdf_edges_cycling_is.shape"
      ],
      "outputs": [],
      "execution_count": null,
      "metadata": {
        "jupyter": {
          "source_hidden": false,
          "outputs_hidden": false
        },
        "nteract": {
          "transient": {
            "deleting": false
          }
        },
        "gather": {
          "logged": 1702038498213
        }
      },
      "id": "9ef93e81-0897-4436-8228-a00fe587ae2e"
    },
    {
      "cell_type": "markdown",
      "source": [
        "## Validate"
      ],
      "metadata": {
        "nteract": {
          "transient": {
            "deleting": false
          }
        }
      },
      "id": "5463f15d-75fb-4dd0-925a-9a103f00a18f"
    },
    {
      "cell_type": "code",
      "source": [
        "# create buffer for validation direction (left-handed)\n",
        "gdf_edges_cycling_is['buffer'] = gdf_edges_cycling_is.buffer(0.0001, single_sided=True)"
      ],
      "outputs": [],
      "execution_count": null,
      "metadata": {
        "jupyter": {
          "source_hidden": false,
          "outputs_hidden": false
        },
        "nteract": {
          "transient": {
            "deleting": false
          }
        },
        "gather": {
          "logged": 1702038519657
        }
      },
      "id": "9ea8c2cc-dba8-4a70-89f7-f272e1532f10"
    },
    {
      "cell_type": "code",
      "source": [
        "# Set center of map\n",
        "area_coords = [52.375664816888225, 4.8632280955697995]\n",
        "\n",
        "# Set to map coordinate reference system\n",
        "df_bgt_show = df_bgt.to_crs(\"EPSG:4326\")\n",
        "\n",
        "# Create basic map\n",
        "my_map = folium.Map(\n",
        "    location=area_coords,\n",
        "    tiles='cartodbpositron',\n",
        "    min_zoom=10, max_zoom=20, zoom_start=13,\n",
        "    zoom_control=True, control_scale=True, control=False\n",
        "    )\n",
        "\n",
        "# Add sidewalks  \n",
        "#geo_j = folium.GeoJson(df_bgt_show[df_bgt_show['naam_left'].isin(['voetpad', 'inrit', 'voetgangersgebied'])], style_function=lambda x: {\"fillColor\": \"blue\"}).add_to(my_map)\n",
        "\n",
        "# Add bike paths\n",
        "geo_j = folium.GeoJson(df_bgt_show[df_bgt_show['naam_left'] == 'fietspad'], style_function=lambda x: {\"fillColor\": \"red\"}).add_to(my_map)\n",
        "\n",
        "# Add all cycling edges\n",
        "geo_j = folium.GeoJson(gdf_edges_cycling['geometry'], style_function=lambda x: {\"color\": 'pink', \"weight\": 1}).add_to(my_map)\n",
        "\n",
        "# Add buffer of cycling edges\n",
        "geo_j = folium.GeoJson(gdf_edges_cycling_is['buffer'], style_function=lambda x: {\"color\": 'orange', \"weight\": 1}).add_to(my_map)\n",
        "\n",
        "# Add selected cycling edges\n",
        "geo_j = folium.GeoJson(gdf_edges_cycling_is['geometry'], style_function=lambda x: {\"color\": 'red', \"weight\": 2}).add_to(my_map)\n",
        "\n",
        "my_map"
      ],
      "outputs": [],
      "execution_count": null,
      "metadata": {
        "jupyter": {
          "source_hidden": false,
          "outputs_hidden": false
        },
        "nteract": {
          "transient": {
            "deleting": false
          }
        },
        "gather": {
          "logged": 1702039264222
        }
      },
      "id": "27b50d98-1033-4bd9-a6f9-19c765df9cfb"
    },
    {
      "cell_type": "code",
      "source": [
        "# Store map\n",
        "my_map.save(cf.bike_network_map)"
      ],
      "outputs": [],
      "execution_count": null,
      "metadata": {
        "jupyter": {
          "source_hidden": false,
          "outputs_hidden": false
        },
        "nteract": {
          "transient": {
            "deleting": false
          }
        },
        "gather": {
          "logged": 1702039277117
        }
      },
      "id": "f75fc301-6cd7-4111-a6fe-f0a20a4bce82"
    },
    {
      "cell_type": "markdown",
      "source": [
        "## Store"
      ],
      "metadata": {
        "nteract": {
          "transient": {
            "deleting": false
          }
        }
      },
      "id": "1b8d709d-6847-45f7-8ca2-b6b6158261a2"
    },
    {
      "cell_type": "code",
      "source": [
        "# Prepare final bike network dataframe\n",
        "gdf_edges_cycling_is['bl_id'] = range(0, len(gdf_edges_cycling_is))\n",
        "gdf_final = gdf_edges_cycling_is[['bl_id', 'geometry', 'length', 'bikepath_id']].reset_index()\n",
        "gdf_final = gdf_final.to_crs(st.CRS)\n",
        "gdf_final.head(3)"
      ],
      "outputs": [],
      "execution_count": null,
      "metadata": {
        "jupyter": {
          "source_hidden": false,
          "outputs_hidden": false
        },
        "nteract": {
          "transient": {
            "deleting": false
          }
        },
        "gather": {
          "logged": 1702039174286
        }
      },
      "id": "d3cc759d-9e10-484b-8b99-861ccb6aa31f"
    },
    {
      "cell_type": "code",
      "source": [
        "# Write bike network to file\n",
        "gdf_final.reset_index().to_file(cf.output_bike_network, driver='GPKG')"
      ],
      "outputs": [],
      "execution_count": null,
      "metadata": {
        "jupyter": {
          "source_hidden": false,
          "outputs_hidden": false
        },
        "nteract": {
          "transient": {
            "deleting": false
          }
        },
        "gather": {
          "logged": 1702039188636
        }
      },
      "id": "6b26f407-acf7-46ca-8dc9-f59cb72a3932"
    },
    {
      "cell_type": "code",
      "source": [
        "# Prepare bike path polygon dataframe\n",
        "gdf_bikepaths = df_bgt_bike_map[['geometry', 'bikepath_id']].reset_index(drop=True)\n",
        "gdf_bikepaths = gdf_bikepaths.to_crs(st.CRS)\n",
        "gdf_bikepaths.head(3)"
      ],
      "outputs": [],
      "execution_count": null,
      "metadata": {
        "jupyter": {
          "source_hidden": false,
          "outputs_hidden": false
        },
        "nteract": {
          "transient": {
            "deleting": false
          }
        },
        "gather": {
          "logged": 1702039198005
        }
      },
      "id": "14a8b2c6-c030-4f03-a0d8-6e26a7515877"
    },
    {
      "cell_type": "code",
      "source": [
        "# Write bike path polygons related to bike network to file\n",
        "gdf_bikepaths.to_file(cf.output_bikepaths_bike_network, driver='GPKG')"
      ],
      "outputs": [],
      "execution_count": null,
      "metadata": {
        "jupyter": {
          "source_hidden": false,
          "outputs_hidden": false
        },
        "nteract": {
          "transient": {
            "deleting": false
          }
        },
        "gather": {
          "logged": 1702039211111
        }
      },
      "id": "a8076af8-a730-4bf7-aa16-5868066b0fad"
    }
  ],
  "metadata": {
    "kernel_info": {
      "name": "venv_rp"
    },
    "kernelspec": {
      "name": "venv_rp",
      "language": "python",
      "display_name": "venv_rp"
    },
    "language_info": {
      "name": "python",
      "version": "3.8.10",
      "mimetype": "text/x-python",
      "codemirror_mode": {
        "name": "ipython",
        "version": 3
      },
      "pygments_lexer": "ipython3",
      "nbconvert_exporter": "python",
      "file_extension": ".py"
    },
    "microsoft": {
      "host": {
        "AzureML": {
          "notebookHasBeenCompleted": true
        }
      },
      "ms_spell_check": {
        "ms_spell_check_language": "en"
      }
    },
    "nteract": {
      "version": "nteract-front-end@1.0.0"
    }
  },
  "nbformat": 4,
  "nbformat_minor": 5
}