{
  "cells": [
    {
      "cell_type": "markdown",
      "id": "ac4c2e62",
      "metadata": {},
      "source": [
        "# Get curb heights from point clouds"
      ]
    },
    {
      "cell_type": "code",
      "execution_count": null,
      "id": "6537bc29",
      "metadata": {
        "gather": {
          "logged": 1705404506977
        }
      },
      "outputs": [],
      "source": [
        "# Standard library and path imports\n",
        "import set_path\n",
        "import os\n",
        "import warnings\n",
        "\n",
        "# Third-party library imports\n",
        "import upcp.utils.las_utils as las_utils\n",
        "import upcp.utils.bgt_utils as bgt_utils\n",
        "import numpy as np\n",
        "import pandas as pd\n",
        "import seaborn as sns\n",
        "import matplotlib.pyplot as plt\n",
        "from shapely.ops import unary_union\n",
        "from shapely.wkt import dumps\n",
        "import geopandas as gpd\n",
        "import folium\n",
        "import branca.colormap as cm\n",
        "from tqdm.notebook import tqdm_notebook\n",
        "tqdm_notebook.pandas()\n",
        "\n",
        "# Local or project-specific imports\n",
        "import curb_utils\n",
        "import poly_utils\n",
        "import plot_utils\n",
        "import las_utils as las_utils_extra\n",
        "import settings as st\n",
        "\n",
        "if st.my_run == \"azure\":\n",
        "    import config_azure as cf\n",
        "elif st.my_run == \"local\":\n",
        "    import config as cf\n",
        "\n",
        "from shapely.errors import ShapelyDeprecationWarning\n",
        "warnings.filterwarnings(\"ignore\", category=ShapelyDeprecationWarning)"
      ]
    },
    {
      "cell_type": "markdown",
      "id": "6825a95b",
      "metadata": {},
      "source": [
        "# 0. Prepare"
      ]
    },
    {
      "cell_type": "code",
      "execution_count": null,
      "id": "57784d1c-e46a-4f4a-9296-d0134cc0ed95",
      "metadata": {
        "gather": {
          "logged": 1705404507483
        },
        "jupyter": {
          "outputs_hidden": false,
          "source_hidden": false
        },
        "nteract": {
          "transient": {
            "deleting": false
          }
        }
      },
      "outputs": [],
      "source": [
        "if st.my_run == \"azure\":\n",
        "    os.system('sudo blobfuse /home/azureuser/cloudfiles/code/blobfuse/sidewalk --tmp-path=/mnt/resource/blobfusetmp --config-file=/home/azureuser/cloudfiles/code/blobfuse/fuse_connection_sidewalk.cfg -o attr_timeout=3600 -o entry_timeout=3600 -o negative_timeout=3600 -o allow_other -o nonempty')"
      ]
    },
    {
      "cell_type": "code",
      "execution_count": null,
      "id": "ad7001bb",
      "metadata": {},
      "outputs": [],
      "source": [
        "# Import areas\n",
        "df_areas = gpd.read_file(cf.output_pilot_area)\n",
        "polygon = df_areas.to_crs(crs=st.CRS).unary_union"
      ]
    },
    {
      "cell_type": "markdown",
      "id": "cde11bac",
      "metadata": {},
      "source": [
        "## Select possible tiles"
      ]
    },
    {
      "cell_type": "code",
      "execution_count": null,
      "id": "f72318bc-4a1d-4def-aa7d-df1f1d95b88b",
      "metadata": {
        "gather": {
          "logged": 1705404507566
        },
        "jupyter": {
          "outputs_hidden": false,
          "source_hidden": false
        },
        "nteract": {
          "transient": {
            "deleting": false
          }
        }
      },
      "outputs": [],
      "source": [
        "# Mount ovl container to access point clouds and set folders\n",
        "if st.my_run == \"azure\":\n",
        "    os.system('sudo blobfuse /home/azureuser/cloudfiles/code/blobfuse/ovl --tmp-path=/mnt/resource/blobfusetmp --config-file=/home/azureuser/cloudfiles/code/blobfuse/fuse_connection_ovl.cfg -o attr_timeout=3600 -o entry_timeout=3600 -o negative_timeout=3600 -o allow_other -o nonempty')"
      ]
    },
    {
      "cell_type": "code",
      "execution_count": null,
      "id": "e7c0a24c",
      "metadata": {
        "gather": {
          "logged": 1705404507973
        }
      },
      "outputs": [],
      "source": [
        "# Collect all tiles in polygon area\n",
        "all_pc_filenames = []\n",
        "base_folder_bgt = cf.bgt_folder\n",
        "in_folder_point_clouds = cf.out_folder_point_clouds\n",
        "\n",
        "for path, subdirs, files in os.walk(in_folder_point_clouds):\n",
        "    for name in files:\n",
        "            if '.laz' in name:\n",
        "                all_pc_filenames.append(os.path.join(path, name))\n",
        "all_pc_filenames = np.array(all_pc_filenames)\n",
        "all_pc_tilecodes = np.array([las_utils.get_tilecode_from_filename(filename) for filename in all_pc_filenames])\n",
        "all_pc_bboxes = np.array([las_utils.get_bbox_from_tile_code(tilecode) for tilecode in all_pc_tilecodes])\n",
        "\n",
        "all_pc_polygons = [las_utils.get_polygon_from_tile_code(tilecode) for tilecode in all_pc_tilecodes]\n",
        "gdf_pc_polygons = gpd.GeoDataFrame(geometry=all_pc_polygons)\n",
        "\n",
        "gdf = gdf_pc_polygons.intersection(polygon)\n",
        "pc_idxs_in_area_polygon = gdf[~gdf.is_empty].index.to_list()\n",
        "\n",
        "# filenames, tilecodes and bounding boxes of point clouds in selected area\n",
        "pc_filenames = all_pc_filenames[pc_idxs_in_area_polygon]\n",
        "pc_tilecodes = all_pc_tilecodes[pc_idxs_in_area_polygon]\n",
        "pc_bboxes = all_pc_bboxes[pc_idxs_in_area_polygon]\n",
        "\n",
        "sns.set()\n",
        "ax = gdf_pc_polygons.iloc[pc_idxs_in_area_polygon].boundary.plot()\n",
        "ax = df_areas.boundary.plot(ax=ax)\n",
        "plt.title('Point clouds in selected area')\n",
        "plt.show()"
      ]
    },
    {
      "cell_type": "markdown",
      "id": "78416a5f",
      "metadata": {},
      "source": [
        "## Generate dictionary with point cloud tile information\n",
        "This contains:\n",
        "tilecode, filename, point cloud tile polygon, sidewalk polygons, parkeervlak polygons"
      ]
    },
    {
      "cell_type": "code",
      "execution_count": null,
      "id": "7d99564c",
      "metadata": {
        "gather": {
          "logged": 1705404516096
        }
      },
      "outputs": [],
      "source": [
        "tiles_bgt_dict = {}\n",
        "for tilecode, filename, bbox in zip(pc_tilecodes, pc_filenames, pc_bboxes):\n",
        "    bgt_data_file = base_folder_bgt + '{}.csv'.format(tilecode)\n",
        "\n",
        "    ((x_min, y_max), (x_max, y_min)) = bbox\n",
        "\n",
        "    # Create reader for BGT sidewalk part polygons.\n",
        "    bgt_sidewalk_reader = bgt_utils.BGTPolyReader(bgt_file=bgt_data_file)\n",
        "\n",
        "    sidewalk_polygons = bgt_sidewalk_reader.filter_tile(\n",
        "                                tilecode,\n",
        "                                padding=0, offset=0,\n",
        "                                merge=False)\n",
        "\n",
        "    parkeervlak_polygons = bgt_sidewalk_reader.filter_tile(\n",
        "                                tilecode,\n",
        "                                padding=0, offset=0,\n",
        "                                bgt_types=['parkeervlak',],\n",
        "                                merge=False)\n",
        "\n",
        "    tiles_bgt_dict[tilecode] = {'filename': filename, \n",
        "                                'bbox': bbox, \n",
        "                                'tile_polygon': poly_utils.bbox_to_polygon(bbox),\n",
        "                                'sw_polygons': sidewalk_polygons, \n",
        "                                'pkv_polygons': parkeervlak_polygons,\n",
        "                                'lines_in_tile': None,\n",
        "                                'potential_crossing_lines': None}"
      ]
    },
    {
      "cell_type": "markdown",
      "id": "b4299b88",
      "metadata": {},
      "source": [
        "## Add all lines and potential crossing lines to point cloud information dictionary\n",
        "We split line between sidewalk and road in segments. Next, we create overlapping polygons of these line segments with given buffer along the line."
      ]
    },
    {
      "cell_type": "code",
      "execution_count": null,
      "id": "d2a394dc",
      "metadata": {
        "gather": {
          "logged": 1705404517361
        }
      },
      "outputs": [],
      "source": [
        "# Loop over point cloud and generate curb height images\n",
        "for tilecode, values in tiles_bgt_dict.items():\n",
        "    sidewalk_polygons = tiles_bgt_dict[tilecode]['sw_polygons']\n",
        "    parkeervlak_polygons = tiles_bgt_dict[tilecode]['pkv_polygons']\n",
        "\n",
        "    # Check if point cloud tile holds sidewalk polygons\n",
        "    if sidewalk_polygons:\n",
        "        tile_polygon = tiles_bgt_dict[tilecode]['tile_polygon']\n",
        "        sidewalks_merged = unary_union(sidewalk_polygons)\n",
        "        road_in_tile = sidewalks_merged.intersection(tile_polygon)\n",
        "        \n",
        "        boundary = road_in_tile.boundary\n",
        "        lines_in_tile = boundary.intersection(tile_polygon.buffer(-0.5))\n",
        "\n",
        "        # Remove curbs next to parking, these are not accessible\n",
        "        potential_crossing_lines = lines_in_tile\n",
        "        for parkeer in parkeervlak_polygons:\n",
        "            potential_crossing_lines = potential_crossing_lines.difference(parkeer)\n",
        "\n",
        "        # Add lines to dictionary\n",
        "        tiles_bgt_dict[tilecode]['lines_in_tile'] = lines_in_tile\n",
        "        tiles_bgt_dict[tilecode]['potential_crossing_lines'] = potential_crossing_lines"
      ]
    },
    {
      "cell_type": "markdown",
      "id": "c942530c",
      "metadata": {},
      "source": [
        "### Set parameters for curb detection"
      ]
    },
    {
      "cell_type": "code",
      "execution_count": null,
      "id": "7be42374-f295-4d94-be7c-4edf0a32b4a0",
      "metadata": {
        "gather": {
          "logged": 1705404517446
        },
        "jupyter": {
          "outputs_hidden": false,
          "source_hidden": false
        },
        "nteract": {
          "transient": {
            "deleting": false
          }
        }
      },
      "outputs": [],
      "source": [
        "## Tweak parameters\n",
        "\n",
        "# Cut offs for height categories\n",
        "min_h = 0.04 # 0.07\n",
        "\n",
        "# Width of the buffer (to both sides)\n",
        "buffer_w = 0.15 # 0.5\n",
        "\n",
        "# Minimum amount of points within polygon to continue\n",
        "min_nr_points = 200\n",
        "\n",
        "# length of polygons\n",
        "distance_delta = 1 # 2"
      ]
    },
    {
      "cell_type": "markdown",
      "id": "07eff1db",
      "metadata": {},
      "source": [
        "### Calculate curb heights"
      ]
    },
    {
      "cell_type": "code",
      "execution_count": null,
      "id": "0467794e-102f-43a9-8e85-d08de1871e6d",
      "metadata": {
        "gather": {
          "logged": 1705417266033
        },
        "jupyter": {
          "outputs_hidden": false,
          "source_hidden": false
        },
        "nteract": {
          "transient": {
            "deleting": false
          }
        }
      },
      "outputs": [],
      "source": [
        "# Load curb heights csv file\n",
        "curb_height_df = pd.DataFrame(columns=['line_segm', 'line_segm_polygon', 'overarching_line_segm','curb_height'])\n",
        "i = 0\n",
        "# Calculate curb heights and save in csv\n",
        "for tilecode, values in tqdm_notebook(tiles_bgt_dict.items()):\n",
        "    i += 1\n",
        "    potential_crossing_lines = tiles_bgt_dict[tilecode]['potential_crossing_lines']\n",
        "\n",
        "    if potential_crossing_lines:\n",
        "        lines_in_tile = tiles_bgt_dict[tilecode]['lines_in_tile']\n",
        "        potential_crossing_lines = tiles_bgt_dict[tilecode]['potential_crossing_lines']\n",
        "        filename = tiles_bgt_dict[tilecode]['filename']\n",
        "        try:\n",
        "            points, labels = las_utils_extra.read_las(filename)\n",
        "\n",
        "            if potential_crossing_lines.type == 'LineString':\n",
        "                potential_crossing_lines = [potential_crossing_lines]\n",
        "\n",
        "            for line in potential_crossing_lines:\n",
        "\n",
        "                points_on_line = curb_utils.get_points_on_line(line, distance_delta)\n",
        "                result = curb_utils.split_line_by_point(line, points_on_line)\n",
        "\n",
        "                for line_segm in result:\n",
        "                    poly = line_segm.buffer(0.5, single_sided=True)\n",
        "                    poly2 = line_segm.buffer(-0.5, single_sided=True)\n",
        "                    poly_union = unary_union([poly, poly2])\n",
        "\n",
        "                    if line_segm.length < (distance_delta/2):\n",
        "                        continue\n",
        "\n",
        "                    # calc height difference planes of sidewalk and road using point cloud\n",
        "                    if poly_union.type == 'MultiPolygon':\n",
        "                        curb_height, available_points = 0, False\n",
        "                    else:\n",
        "                        curb_height, available_points = curb_utils.calculate_curb_height(points, labels, poly_union, min_nr_points)\n",
        "                        height_color = curb_utils.get_height_color(curb_height, available_points, min_h)\n",
        "                    \n",
        "                    # add curb information to dataframe\n",
        "                    new_row = [line_segm, poly_union.wkt, line.wkt, curb_height]\n",
        "                    curb_height_df.loc[len(curb_height_df)] = new_row\n",
        "        except Exception:\n",
        "            continue"
      ]
    },
    {
      "cell_type": "markdown",
      "id": "a566abb5-d7d0-4fa2-b838-13b796dee7d9",
      "metadata": {
        "nteract": {
          "transient": {
            "deleting": false
          }
        }
      },
      "source": [
        "### export curb heights as csv and create html map"
      ]
    },
    {
      "cell_type": "code",
      "execution_count": null,
      "id": "59bf0e30-d2b0-4618-afcc-90acefe2ff7a",
      "metadata": {
        "gather": {
          "logged": 1705417278201
        },
        "jupyter": {
          "outputs_hidden": false,
          "source_hidden": false
        },
        "nteract": {
          "transient": {
            "deleting": false
          }
        }
      },
      "outputs": [],
      "source": [
        "curb_height_df['geometry'] = curb_height_df['line_segm']\n",
        "curb_height_gdf = gpd.GeoDataFrame(curb_height_df, crs=st.CRS)\n",
        "curb_height_gdf['line_segm'] = curb_height_gdf['line_segm'].astype(str)"
      ]
    },
    {
      "cell_type": "code",
      "execution_count": null,
      "id": "202ae753",
      "metadata": {},
      "outputs": [],
      "source": [
        "curb_height_gdf"
      ]
    },
    {
      "cell_type": "code",
      "execution_count": null,
      "id": "6a33e031-fb4e-498b-a18b-3f05e2d1b380",
      "metadata": {
        "gather": {
          "logged": 1705417287533
        },
        "jupyter": {
          "outputs_hidden": false,
          "source_hidden": false
        },
        "nteract": {
          "transient": {
            "deleting": false
          }
        }
      },
      "outputs": [],
      "source": [
        "# set True for satellite background, False for regular background\n",
        "satellite = False\n",
        "\n",
        "# Create Folium map\n",
        "map = folium.Map(\n",
        "    location=[52.350547922223434, 4.7940192423718443], tiles=plot_utils.generate_map_params(satellite=satellite),\n",
        "    min_zoom=10, max_zoom=25, zoom_start=17,\n",
        "    zoom_control=True, control_scale=True, control=False\n",
        "    )\n",
        "\n",
        "# Add colormap\n",
        "cmp = cm.linear.RdYlGn_11.colors\n",
        "cmp = list(reversed(cmp))\n",
        "colormap = cm.LinearColormap(colors=cmp, vmin=0, vmax=0.2, caption='Curb height (m)')\n",
        "colormap.add_to(map)\n",
        "\n",
        "# Add curb height features\n",
        "plot_gdf = curb_height_gdf.drop(columns=['line_segm', 'line_segm_polygon', 'overarching_line_segm'])\n",
        "plot_gdf['tilecode'] = np.floor(gdf.centroid.x/50).astype(int).astype(str) + '_' + np.floor(gdf.centroid.y/50).astype(int).astype(str)\n",
        "plot_gdf.fillna(100, inplace=True)\n",
        "json = plot_gdf.to_crs(crs=st.CRS_map).to_json()\n",
        "feature_names = plot_gdf.columns.tolist()\n",
        "feature_names.remove('geometry')\n",
        "tooltip = plot_utils.gen_tooltip(feature_names, feature_names)\n",
        "\n",
        "folium.GeoJson(json, style_function=lambda feature: {\"color\": colormap(feature[\"properties\"]['curb_height']) \n",
        "               if feature['properties']['curb_height'] != 100 else 'black', \n",
        "               \"weight\": 7 if feature[\"properties\"]['curb_height'] != 100 else 2}, tooltip=tooltip).add_to(map)\n",
        "\n",
        "map"
      ]
    },
    {
      "cell_type": "code",
      "execution_count": null,
      "id": "d02c58bb-5d29-4191-9883-ebeca9f6a5af",
      "metadata": {
        "gather": {
          "logged": 1705417310498
        },
        "jupyter": {
          "outputs_hidden": false,
          "source_hidden": false
        },
        "nteract": {
          "transient": {
            "deleting": false
          }
        }
      },
      "outputs": [],
      "source": [
        "# Change directory\n",
        "if st.my_run == \"azure\":\n",
        "    os.system('sudo blobfuse /home/azureuser/cloudfiles/code/blobfuse/sidewalk --tmp-path=/mnt/resource/blobfusetmp --config-file=/home/azureuser/cloudfiles/code/blobfuse/fuse_connection_sidewalk.cfg -o attr_timeout=3600 -o entry_timeout=3600 -o negative_timeout=3600 -o allow_other -o nonempty')\n",
        "\n",
        "# Save curb height data as geodataframe\n",
        "curb_height_gdf.to_file(cf.output_curb_heigts, driver='GPKG')"
      ]
    }
  ],
  "metadata": {
    "kernel_info": {
      "name": "curb_exploration"
    },
    "kernelspec": {
      "display_name": "route_planner",
      "language": "python",
      "name": "python3"
    },
    "language_info": {
      "codemirror_mode": {
        "name": "ipython",
        "version": 3
      },
      "file_extension": ".py",
      "mimetype": "text/x-python",
      "name": "python",
      "nbconvert_exporter": "python",
      "pygments_lexer": "ipython3",
      "version": "3.8.0"
    },
    "microsoft": {
      "host": {
        "AzureML": {
          "notebookHasBeenCompleted": true
        }
      },
      "ms_spell_check": {
        "ms_spell_check_language": "en"
      }
    },
    "nteract": {
      "version": "nteract-front-end@1.0.0"
    }
  },
  "nbformat": 4,
  "nbformat_minor": 5
}
