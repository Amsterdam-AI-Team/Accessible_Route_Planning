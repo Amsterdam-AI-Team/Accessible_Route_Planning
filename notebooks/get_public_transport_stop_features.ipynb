{
 "cells": [
  {
   "cell_type": "markdown",
   "metadata": {},
   "source": [
    "### Get public transport stop features"
   ]
  },
  {
   "cell_type": "markdown",
   "metadata": {},
   "source": [
    "## Get publlic transport features from NDOV Loket and OpenStreetMap"
   ]
  },
  {
   "cell_type": "code",
   "execution_count": null,
   "metadata": {},
   "outputs": [],
   "source": [
    "# Select where to run notebook: \"azure\" or \"local\"\n",
    "my_run = \"azure\""
   ]
  },
  {
   "cell_type": "code",
   "execution_count": null,
   "metadata": {},
   "outputs": [],
   "source": [
    "import set_path\n",
    "\n",
    "import pandas as pd\n",
    "import xmltodict\n",
    "import pyproj\n",
    "import folium\n",
    "\n",
    "import geopandas as gpd\n",
    "import osmnx as ox\n",
    "\n",
    "from tqdm.notebook import tqdm_notebook\n",
    "tqdm_notebook.pandas()\n",
    "\n",
    "import plot_utils\n",
    "import poly_utils\n",
    "\n",
    "import settings as st\n",
    "\n",
    "if my_run == \"azure\":\n",
    "    import config_azure as cf\n",
    "elif my_run == \"local\":\n",
    "    import config as cf"
   ]
  },
  {
   "cell_type": "code",
   "execution_count": null,
   "metadata": {},
   "outputs": [],
   "source": [
    "os.system('sudo blobfuse /home/azureuser/cloudfiles/code/blobfuse/sidewalk --tmp-path=/mnt/resource/blobfusetmp --config-file=/home/azureuser/cloudfiles/code/blobfuse/fuse_connection_sidewalk.cfg -o attr_timeout=3600 -o entry_timeout=3600 -o negative_timeout=3600 -o allow_other -o nonempty')"
   ]
  },
  {
   "cell_type": "markdown",
   "metadata": {},
   "source": [
    "#### Settings"
   ]
  },
  {
   "cell_type": "code",
   "execution_count": null,
   "metadata": {},
   "outputs": [],
   "source": [
    "CRS = st.CRS\n",
    "pd.set_option('display.max_columns', 500)"
   ]
  },
  {
   "cell_type": "markdown",
   "metadata": {},
   "source": [
    "#### Import pilot area polygon"
   ]
  },
  {
   "cell_type": "code",
   "execution_count": null,
   "metadata": {},
   "outputs": [],
   "source": [
    "df_areas = gpd.read_file(cf.output_pilot_area)\n",
    "polygon = df_areas.to_crs(crs=CRS).unary_union"
   ]
  },
  {
   "cell_type": "markdown",
   "metadata": {},
   "source": [
    "### 1. Obtain tram, bus and ferry stops including accessability information from NDOV Loket\n",
    "source: https://data.ndovloket.nl/haltes/ \\\n",
    "help Jurian: https://github.com/jurb/NDOV-CHB-to-JSON/tree/master \\\n",
    "(make sure you pull the latest version and adjust the ndov_file variable in the subsequent cell accordingly) "
   ]
  },
  {
   "cell_type": "markdown",
   "metadata": {},
   "source": [
    "#### Create geodataframe containing bus and tram stops"
   ]
  },
  {
   "cell_type": "code",
   "execution_count": null,
   "metadata": {},
   "outputs": [],
   "source": [
    "# Load xml with stop data\n",
    "ndov_file = cf.ndov_public_transport_stops\n",
    "with open(ndov_file) as xml_file:\n",
    "    ndov_data = xmltodict.parse(xml_file.read(), process_namespaces=True, namespaces={\"ns1\":None, \"http://bison.connekt.nl/tmi8/chb/msg\": None})"
   ]
  },
  {
   "cell_type": "code",
   "execution_count": null,
   "metadata": {},
   "outputs": [],
   "source": [
    "# Only keep stops in Amsterdam\n",
    "adam_stops = [thing for thing in ndov_data[\"export\"][\"stopplaces\"][\"stopplace\"] if thing[\"stopplacename\"][\"town\"] == \"Amsterdam\"]"
   ]
  },
  {
   "cell_type": "code",
   "execution_count": null,
   "metadata": {},
   "outputs": [],
   "source": [
    "# Configure xml stop data as dataframe\n",
    "transformer = pyproj.Transformer.from_crs(\"EPSG:28992\", \"EPSG:4326\")\n",
    "\n",
    "quay_df = pd.DataFrame()\n",
    "\n",
    "for stop in adam_stops:\n",
    "    if stop[\"quays\"] is None:\n",
    "        continue\n",
    "    quays = stop[\"quays\"][\"quay\"] \\\n",
    "            if isinstance(stop[\"quays\"][\"quay\"], list) \\\n",
    "            else [stop[\"quays\"][\"quay\"]]\n",
    "\n",
    "    for quay in quays:\n",
    "        \n",
    "        lat, lon = transformer.transform(float(quay[\"quaylocationdata\"][\"rd-x\"]), float(quay[\"quaylocationdata\"][\"rd-y\"]))\n",
    "        quay_dict = {\n",
    "            \"stop_code\": stop[\"stopplacecode\"],\n",
    "            \"stop_type\": stop[\"stopplacetype\"],\n",
    "            \"stop_name\": stop[\"stopplacename\"][\"publicname\"],\n",
    "            \"stop_info_display\": stop[\"stopplacefacilities\"][\"passengerinformationdisplay\"],\n",
    "            \"type\": quay[\"quaytypedata\"][\"quaytype\"],\n",
    "            \"transportmodes\": quay[\"quaytransportmodes\"][\"transportmodedata\"][\"transportmode\"],\n",
    "            \"rd-x\": quay[\"quaylocationdata\"][\"rd-x\"],\n",
    "            \"rd-y\": quay[\"quaylocationdata\"][\"rd-y\"],\n",
    "            \"lat\": lat,\n",
    "            \"lon\": lon,\n",
    "            \"level\": quay[\"quaylocationdata\"][\"level\"],\n",
    "            \"bearing_compass_direction\": quay[\"quaybearing\"][\"compassdirection\"],\n",
    "            \"visually_accessible\": quay[\"quayvisuallyaccessible\"][\"visuallyaccessible\"],\n",
    "            \"visually_impaired_access\": quay[\"quayvisuallyaccessible\"][\"visuallyImpairedAccess\"],\n",
    "            \"disabled_access_mode\": quay[\"quaydisabledaccessible\"][\"transportmode\"],\n",
    "            \"disabled_access\": quay[\"quaydisabledaccessible\"][\"disabledaccessible\"],\n",
    "            \"disabled_access_step_free\": quay[\"quaydisabledaccessible\"][\"stepFreeAccess\"],\n",
    "            \"disabled_access_wheelchair\": quay[\"quaydisabledaccessible\"][\"wheelchairAccess\"],\n",
    "            \"remarks\": quay[\"quayremarks\"][\"remarks\"],\n",
    "            \n",
    "        }\n",
    "        adaptions = quay.get(\"quayaccessibilityadaptions\", {})\n",
    "        adaptions.pop(\"validfrom\", None)\n",
    "        quay_dict.update({f\"adapt-{key}\": val for key, val in adaptions.items()})\n",
    "\n",
    "        facilities = quay.get(\"quayfacilities\", {})\n",
    "        facilities.pop(\"validfrom\", None)\n",
    "        quay_dict.update({f\"facil-{key}\": val for key, val in facilities.items()})\n",
    "\n",
    "        extras = quay.get(\"quayextraattributes\", {})\n",
    "        extras.pop(\"validfrom\", None)\n",
    "        quay_dict.update({f\"facil-{key}\": val for key, val in extras.items()})\n",
    "\n",
    "        quay_df = pd.concat([quay_df, pd.DataFrame([quay_dict])], ignore_index=True)"
   ]
  },
  {
   "cell_type": "code",
   "execution_count": null,
   "metadata": {},
   "outputs": [],
   "source": [
    "# Create geodataframe from stop information dataframe\n",
    "quay_gdf = gpd.GeoDataFrame(\n",
    "    quay_df, geometry=gpd.points_from_xy(quay_df.lon, quay_df.lat), crs=\"EPSG:4326\"\n",
    ").to_crs(st.CRS)"
   ]
  },
  {
   "cell_type": "code",
   "execution_count": null,
   "metadata": {},
   "outputs": [],
   "source": [
    "# Only keep stops within pilot area\n",
    "quay_gdf_mask = polygon.contains(quay_gdf['geometry'])\n",
    "all_features = quay_gdf.loc[quay_gdf_mask]\n",
    "all_features = all_features.rename(columns={'disabled_access': 'wheelchair_accessible', 'type': 'stop_placement_type', 'adapt-narrowestpassagewidth': 'obstacle_free_width_float'})\n",
    "all_features['obstacle_free_width_float'] = all_features['obstacle_free_width_float'].astype(float)"
   ]
  },
  {
   "cell_type": "code",
   "execution_count": null,
   "metadata": {},
   "outputs": [],
   "source": [
    "# Rename columns and change variable names\n",
    "all_features['wheelchair_accessible'] = all_features['wheelchair_accessible'].str.replace('Y', 'Yes')\n",
    "all_features['wheelchair_accessible'] = all_features['wheelchair_accessible'].str.replace('N', 'No')\n",
    "all_features['wheelchair_accessible'] = all_features['wheelchair_accessible'].str.replace('U', 'Unknown')"
   ]
  },
  {
   "cell_type": "code",
   "execution_count": null,
   "metadata": {},
   "outputs": [],
   "source": [
    "# Get features seperately\n",
    "bus_features = all_features.loc[all_features['stop_type'] == 'onstreetBus']\n",
    "tram_features = all_features.loc[all_features['stop_type'] == 'onstreetTram']\n",
    "ferry_features = all_features.loc[all_features['stop_type'] == 'ferryPort']\n",
    "bus_tram_features = all_features.loc[all_features['stop_type'] == 'combiTramBus']\n",
    "metro_features_osm = all_features.loc[all_features['stop_type'] == 'metroStation']\n",
    "other_features = all_features.loc[~all_features['stop_type'].isin(['onstreetBus', 'onstreetTram', 'ferryPort', 'combiTramBus', 'metroStation'])]"
   ]
  },
  {
   "cell_type": "markdown",
   "metadata": {},
   "source": [
    "### 2. Obtain metro stops from OpenStreetMap\n"
   ]
  },
  {
   "cell_type": "code",
   "execution_count": null,
   "metadata": {},
   "outputs": [],
   "source": [
    "# Retrieve crossing attributes\n",
    "CRS_metro = 'EPSG:4326'\n",
    "polygon_metro = df_areas.to_crs(crs=CRS_metro).unary_union\n",
    "tags = {\"railway\": 'subway_entrance'}\n",
    "metro_features = ox.features_from_polygon(polygon_metro, tags)\n",
    "metro_features = metro_features.to_crs(crs=CRS)\n",
    "metro_features = metro_features.rename(columns={'name': 'stop_name', 'layer': 'level', 'wheelchair': 'wheelchair_accessible'})\n",
    "metro_features['stop_type'] = 'metroStation'\n",
    "metro_features['stop_placement_type'] = 'regular'\n",
    "\n",
    "metro_features['wheelchair_accessible'].fillna('Unkown', inplace=True)\n",
    "metro_features['wheelchair_accessible'] = metro_features['wheelchair_accessible'].str.capitalize()\n",
    "\n",
    "# Impute missing stop_name values\n",
    "metro_features = poly_utils.infer_column_by_distance(metro_features, metro_features_osm, 'stop_name')\n",
    "metro_features = metro_features.loc[~metro_features.level.isin(['-1', '-2', '-3'])]\n",
    "open_idxs = [i for i, row in metro_features.iterrows() if not 'closed' in str(row['stop_name']).lower()]\n",
    "metro_features = metro_features.loc[open_idxs]"
   ]
  },
  {
   "cell_type": "markdown",
   "metadata": {
    "nteract": {
     "transient": {
      "deleting": false
     }
    }
   },
   "source": [
    "### 3. Visualize stops"
   ]
  },
  {
   "cell_type": "code",
   "execution_count": null,
   "metadata": {
    "gather": {
     "logged": 1700580614706
    },
    "jupyter": {
     "outputs_hidden": false,
     "source_hidden": false
    },
    "nteract": {
     "transient": {
      "deleting": false
     }
    }
   },
   "outputs": [],
   "source": [
    "# set True for satelite background, False for regular background\n",
    "satelite = False\n",
    "\n",
    "# Create Folium map\n",
    "map = folium.Map(\n",
    "    location=[52.389164, 4.908453], tiles=plot_utils.generate_map_params(satelite=satelite),\n",
    "    min_zoom=10, max_zoom=25, zoom_start=15,\n",
    "    zoom_control=True, control_scale=True, control=False\n",
    "    )\n",
    "\n",
    "# Add transport features\n",
    "feature_names = all_features.columns.tolist()\n",
    "feature_names.remove('geometry')\n",
    "color_column = 'wheelchair_accessible'\n",
    "geo_j = folium.GeoJson(bus_features, tooltip=plot_utils.gen_tooltip(feature_names, feature_names), marker=folium.Marker(icon=folium.Icon(icon='solid fa-bus', prefix='fa')), style_function =lambda feature: {\"markerColor\": 'green' if feature[\"properties\"][color_column] == 'Yes' else \n",
    "                                                                                                                                              'red' if feature[\"properties\"][color_column] == 'No' else\n",
    "                                                                                                                                              'orange'}).add_to(map)\n",
    "geo_j = folium.GeoJson(tram_features, tooltip=plot_utils.gen_tooltip(feature_names, feature_names), marker=folium.Marker(icon=folium.Icon(icon='solid fa-train-tram', prefix='fa')), style_function =lambda feature: {\"markerColor\": 'green' if feature[\"properties\"][color_column] == 'Yes' else \n",
    "                                                                                                                                              'red' if feature[\"properties\"][color_column] == 'No' else\n",
    "                                                                                                                                              'orange'}).add_to(map)\n",
    "\n",
    "geo_j = folium.GeoJson(bus_tram_features, tooltip=plot_utils.gen_tooltip(feature_names, feature_names), marker=folium.Marker(icon=folium.Icon(icon='solid fa-2', prefix='fa')), style_function =lambda feature: {\"markerColor\": 'green' if feature[\"properties\"][color_column] == 'Yes' else \n",
    "                                                                                                                                              'red' if feature[\"properties\"][color_column] == 'No' else\n",
    "                                                                                                                                              'orange'}).add_to(map)\n",
    "\n",
    "geo_j = folium.GeoJson(ferry_features, tooltip=plot_utils.gen_tooltip(feature_names, feature_names), marker=folium.Marker(icon=folium.Icon(icon='solid fa-ferry', prefix='fa')), style_function =lambda feature: {\"markerColor\": 'green' if feature[\"properties\"][color_column] == 'Yes' else \n",
    "                                                                                                                                              'red' if feature[\"properties\"][color_column] == 'No' else\n",
    "                                                                                                                                              'orange'}).add_to(map)                                                                                                                                      \n",
    "# geo_j = folium.GeoJson(other_features, tooltip=plot_utils.gen_tooltip(feature_names, feature_names), marker=folium.Marker(icon=folium.Icon(icon='solid fa-question', prefix='fa')), style_function =lambda feature: {\"markerColor\": 'green' if feature[\"properties\"][color_column] == 'Y' else \n",
    "#                                                                                                                                               'red' if feature[\"properties\"][color_column] == 'N' else\n",
    "#                                                                                                                                               'orange'}).add_to(map)\n",
    "\n",
    "feature_names = metro_features.columns.tolist()\n",
    "feature_names.remove('geometry')\n",
    "tooltip = plot_utils.gen_tooltip(feature_names, feature_names) \n",
    "geo_j = folium.GeoJson(metro_features, tooltip=plot_utils.gen_tooltip(feature_names, feature_names), marker=folium.Marker(icon=folium.Icon(icon='solid fa-train', prefix='fa')), style_function =lambda feature: {\"markerColor\": 'green' if feature[\"properties\"][color_column] == 'Yes' else \n",
    "                                                                                                                                              'red' if feature[\"properties\"][color_column] == 'No' else\n",
    "                                                                                                                                              'orange'}).add_to(map)\n",
    "                                   \n",
    "map"
   ]
  },
  {
   "cell_type": "markdown",
   "metadata": {},
   "source": [
    "### 4. Save features as geopackage"
   ]
  },
  {
   "cell_type": "code",
   "execution_count": null,
   "metadata": {},
   "outputs": [],
   "source": [
    "public_transport_features = pd.concat([bus_features, tram_features, bus_tram_features, ferry_features, metro_features])\n",
    "public_transport_features.reset_index(drop=True, inplace=True)\n",
    "public_transport_features = public_transport_features.drop(columns=public_transport_features.columns.difference(['geometry', 'stop_type', 'stop_name', 'wheelchair_accessible', 'stop_placement_type', 'obstacle_free_width_float']))\n",
    "public_transport_features.to_file(cf.output_public_transport_features, driver='GPKG')"
   ]
  }
 ],
 "metadata": {
  "kernel_info": {
   "name": "soc-mob-py39"
  },
  "kernelspec": {
   "display_name": "Python 3 (ipykernel)",
   "language": "python",
   "name": "python3"
  },
  "language_info": {
   "codemirror_mode": {
    "name": "ipython",
    "version": 3
   },
   "file_extension": ".py",
   "mimetype": "text/x-python",
   "name": "python",
   "nbconvert_exporter": "python",
   "pygments_lexer": "ipython3",
   "version": "3.8.0"
  },
  "microsoft": {
   "host": {
    "AzureML": {
     "notebookHasBeenCompleted": true
    }
   },
   "ms_spell_check": {
    "ms_spell_check_language": "en"
   }
  },
  "nteract": {
   "version": "nteract-front-end@1.0.0"
  }
 },
 "nbformat": 4,
 "nbformat_minor": 2
}
