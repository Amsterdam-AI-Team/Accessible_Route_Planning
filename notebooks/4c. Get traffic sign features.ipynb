{
  "cells": [
    {
      "cell_type": "markdown",
      "id": "7c5326ee",
      "metadata": {},
      "source": [
        "# 4c. Get traffic sign features"
      ]
    },
    {
      "cell_type": "code",
      "execution_count": null,
      "id": "78547941",
      "metadata": {
        "gather": {
          "logged": 1705500519458
        }
      },
      "outputs": [],
      "source": [
        "# Standard library and path imports\n",
        "import set_path\n",
        "import requests\n",
        "\n",
        "# Third-party library imports\n",
        "import pandas as pd\n",
        "import geopandas as gpd\n",
        "from geopandas import GeoDataFrame\n",
        "\n",
        "import folium\n",
        "\n",
        "# Local or project-specific imports\n",
        "import plot_utils\n",
        "import settings as st\n",
        "\n",
        "if st.my_run == \"azure\":\n",
        "    import config_azure as cf\n",
        "elif st.my_run == \"local\":\n",
        "    import config as cf"
      ]
    },
    {
      "cell_type": "markdown",
      "id": "1c896507",
      "metadata": {},
      "source": [
        "## Get traffic sign data"
      ]
    },
    {
      "cell_type": "code",
      "execution_count": null,
      "id": "9bd54409",
      "metadata": {},
      "outputs": [],
      "source": [
        "response = requests.get('https://api.data.amsterdam.nl/dcatd/files/e85bcf2124fb4437b1bc6eb75dfc3abf_objectstore_eu/dcatd/0ebf0327d3124d848ada6611b71c3cd0')\n",
        "if response.status_code == 200:\n",
        "    with open(cf.signs_file, 'wb') as file:\n",
        "        file.write(response.content)\n",
        "    print(f\"Downloaded traffic sign data as {cf.signs_file}\")\n",
        "else:\n",
        "    print(\"Failed to retrieve traffic sign data\")"
      ]
    },
    {
      "cell_type": "code",
      "execution_count": null,
      "id": "bd3c5710",
      "metadata": {
        "gather": {
          "logged": 1705500530343
        }
      },
      "outputs": [],
      "source": [
        "df_signs_all = pd.read_csv(cf.signs_file)\n",
        "df_signs_all = GeoDataFrame(df_signs_all, geometry=gpd.points_from_xy(df_signs_all['x-coordinaat'], \n",
        "                                                                      df_signs_all['y-coordinaat']), crs=st.CRS)\n",
        "df_signs_all = df_signs_all.drop(['x-coordinaat', 'y-coordinaat'], axis=1)"
      ]
    },
    {
      "cell_type": "markdown",
      "id": "a38c74cf",
      "metadata": {},
      "source": [
        "### Select crosswalk traffic signs"
      ]
    },
    {
      "cell_type": "code",
      "execution_count": null,
      "id": "bf353169",
      "metadata": {
        "gather": {
          "logged": 1705500534937
        }
      },
      "outputs": [],
      "source": [
        "#L02(F): Voetgangers oversteekplaats / zebrapad (blauw)\n",
        "#J22(F): Voetgangersoversteekplaats met een zebrapad (vooraanduiding)  (rood)\n",
        "#J23(F): U nadert een niet gemarkeerde voetgangers oversteekplaats\n",
        "\n",
        "df_signs = df_signs_all[df_signs_all['rvv-modelnummer'].isin(['J22', 'J22F',\n",
        "                                                              'L02', 'L02F', 'L02OB15F'])].reset_index(drop=True)\n",
        "df_signs = df_signs.dropna(axis=1, how='all')  # remove columns without values"
      ]
    },
    {
      "cell_type": "markdown",
      "id": "d6dfb28a-6e13-4fbd-85a3-c6dc555ec0b4",
      "metadata": {},
      "source": [
        "## Get mask of area"
      ]
    },
    {
      "cell_type": "code",
      "execution_count": null,
      "id": "49755f32-a8f8-4a2d-97c0-97b766db0c95",
      "metadata": {
        "gather": {
          "logged": 1705500537655
        }
      },
      "outputs": [],
      "source": [
        "# Import areas\n",
        "df_areas = gpd.read_file(cf.output_pilot_area)\n",
        "polygon = df_areas.to_crs(crs=st.CRS).unary_union"
      ]
    },
    {
      "cell_type": "markdown",
      "id": "fe9ee2e9-03bc-4076-88d3-c8fd21c0913f",
      "metadata": {},
      "source": [
        "## Extract traffic sign information in polygon of area"
      ]
    },
    {
      "cell_type": "code",
      "execution_count": null,
      "id": "02365d27-284d-4d1b-ba70-533f79ff256a",
      "metadata": {
        "gather": {
          "logged": 1705500539830
        }
      },
      "outputs": [],
      "source": [
        "tl_data_in_area_mask = df_signs['geometry'].apply(lambda geom: polygon.contains(geom))\n",
        "tl_data_in_area = df_signs.loc[tl_data_in_area_mask]"
      ]
    },
    {
      "cell_type": "markdown",
      "id": "3715c106-5948-4028-8f82-653dcc3b2325",
      "metadata": {},
      "source": [
        "## Inspect data"
      ]
    },
    {
      "cell_type": "code",
      "execution_count": null,
      "id": "82b4ab6c-e5bd-4307-bee2-ab7e038b1784",
      "metadata": {
        "gather": {
          "logged": 1705500541393
        }
      },
      "outputs": [],
      "source": [
        "if tl_data_in_area.empty:\n",
        "    print('No sidewalk data available in area')\n",
        "\n",
        "tl_data_in_area"
      ]
    },
    {
      "cell_type": "markdown",
      "id": "675a021e",
      "metadata": {},
      "source": [
        "## Store"
      ]
    },
    {
      "cell_type": "code",
      "execution_count": null,
      "id": "38f95cf7",
      "metadata": {},
      "outputs": [],
      "source": [
        "# Save traffic sign crossing features as geopackage\n",
        "tl_data_in_area.to_file(cf.output_traffic_sign_crossing_features, driver='GPKG')"
      ]
    },
    {
      "cell_type": "markdown",
      "id": "231966eb",
      "metadata": {},
      "source": [
        "## Visualize features"
      ]
    },
    {
      "cell_type": "code",
      "execution_count": null,
      "id": "659cc982-2681-4e72-b49b-327accb44e15",
      "metadata": {
        "gather": {
          "logged": 1705500549427
        }
      },
      "outputs": [],
      "source": [
        "# set True for satellite background, False for standard background\n",
        "satellite = False\n",
        "\n",
        "# Create Folium map\n",
        "map = folium.Map(\n",
        "    location=[52.350547922223434, 4.794019242371844], tiles=plot_utils.generate_map_params(satellite=satellite),\n",
        "    min_zoom=10, max_zoom=25, zoom_start=17,\n",
        "    zoom_control=True, control_scale=True, control=False\n",
        "    )\n",
        "\n",
        "# Add traffic sign features\n",
        "feature_names = tl_data_in_area.columns.tolist()\n",
        "feature_names.remove('geometry')\n",
        "tooltip = plot_utils.gen_tooltip(feature_names, feature_names)\n",
        "geo_j = folium.GeoJson(tl_data_in_area, tooltip=tooltip, style_function=lambda x: {\"color\": \"orange\", \"weight\": 10}).add_to(map)\n",
        "\n",
        "map"
      ]
    }
  ],
  "metadata": {
    "kernel_info": {
      "name": "pc_curb_analysis"
    },
    "kernelspec": {
      "display_name": "add_crossings",
      "language": "python",
      "name": "python3"
    },
    "language_info": {
      "codemirror_mode": {
        "name": "ipython",
        "version": 3
      },
      "file_extension": ".py",
      "mimetype": "text/x-python",
      "name": "python",
      "nbconvert_exporter": "python",
      "pygments_lexer": "ipython3",
      "version": "3.8.0"
    },
    "microsoft": {
      "host": {
        "AzureML": {
          "notebookHasBeenCompleted": true
        }
      },
      "ms_spell_check": {
        "ms_spell_check_language": "en"
      }
    },
    "nteract": {
      "version": "nteract-front-end@1.0.0"
    }
  },
  "nbformat": 4,
  "nbformat_minor": 5
}
