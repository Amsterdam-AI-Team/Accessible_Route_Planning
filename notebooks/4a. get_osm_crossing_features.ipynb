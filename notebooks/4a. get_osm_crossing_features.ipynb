{
  "cells": [
    {
      "cell_type": "markdown",
      "id": "8a4c3ed3-645d-48bd-916e-6528df567d3d",
      "metadata": {
        "nteract": {
          "transient": {
            "deleting": false
          }
        }
      },
      "source": [
        "# 4a. Get OpenStreetMap crossing features"
      ]
    },
    {
      "cell_type": "code",
      "execution_count": null,
      "id": "757d1d0d-dacf-463b-a3a1-0363cc85fd52",
      "metadata": {
        "gather": {
          "logged": 1705498882371
        }
      },
      "outputs": [],
      "source": [
        "# Standard library and path imports\n",
        "import set_path\n",
        "\n",
        "# Third-party library imports\n",
        "import osmnx as ox\n",
        "import folium\n",
        "import geopandas as gpd\n",
        "\n",
        "# Local or project-specific imports\n",
        "import plot_utils\n",
        "import settings as st\n",
        "\n",
        "if st.my_run == \"azure\":\n",
        "    import config_azure as cf\n",
        "elif st.my_run == \"local\":\n",
        "    import config as cf"
      ]
    },
    {
      "cell_type": "markdown",
      "id": "821e50dd-36f5-416d-bc5d-c34ee71134af",
      "metadata": {
        "nteract": {
          "transient": {
            "deleting": false
          }
        }
      },
      "source": [
        "## Get mask of area"
      ]
    },
    {
      "cell_type": "code",
      "execution_count": null,
      "id": "e7cd484e-9759-49b9-963f-5ff8f87dfc57",
      "metadata": {
        "gather": {
          "logged": 1705498885404
        }
      },
      "outputs": [],
      "source": [
        "# Import areas\n",
        "df_areas = gpd.read_file(cf.output_pilot_area)\n",
        "polygon = df_areas.to_crs(crs=st.CRS_map).unary_union"
      ]
    },
    {
      "cell_type": "markdown",
      "id": "fdbbb352-7578-40ac-a201-79fb54f783ac",
      "metadata": {
        "nteract": {
          "transient": {
            "deleting": false
          }
        }
      },
      "source": [
        "## Retrieve crossing features"
      ]
    },
    {
      "cell_type": "code",
      "execution_count": null,
      "id": "67212946-157a-4bb8-a66b-338ff72615be",
      "metadata": {
        "gather": {
          "logged": 1705498887247
        }
      },
      "outputs": [],
      "source": [
        "# Retrieve crossing attributes\n",
        "tags = {\"crossing\": True, \"footway\": 'crossing', \"kerb\": True, 'railway': ['crossing', 'tram_crossing']}\n",
        "crossing_features = ox.geometries_from_polygon(polygon, tags)"
      ]
    },
    {
      "cell_type": "markdown",
      "id": "91dcfc3c",
      "metadata": {},
      "source": [
        "## Store"
      ]
    },
    {
      "cell_type": "code",
      "execution_count": null,
      "id": "0a5a3cfb",
      "metadata": {},
      "outputs": [],
      "source": [
        "# Save crossing features as geopackage\n",
        "crossing_features.to_file(cf.output_osm_crossing_features, driver='GPKG')"
      ]
    },
    {
      "cell_type": "markdown",
      "id": "01f19503-5958-4abf-b4a4-7b825cec436f",
      "metadata": {
        "nteract": {
          "transient": {
            "deleting": false
          }
        }
      },
      "source": [
        "## Visualize crossing features"
      ]
    },
    {
      "cell_type": "code",
      "execution_count": null,
      "id": "1b0359da-0397-4ca0-8013-8946c1a68a62",
      "metadata": {
        "gather": {
          "logged": 1705498891176
        },
        "jupyter": {
          "outputs_hidden": false,
          "source_hidden": false
        },
        "nteract": {
          "transient": {
            "deleting": false
          }
        }
      },
      "outputs": [],
      "source": [
        "# set True for satellite background, False for standard background\n",
        "satellite = False\n",
        "\n",
        "# Create Folium map\n",
        "map = folium.Map(\n",
        "    location=[52.350547922223434, 4.794019242371844], tiles=plot_utils.generate_map_params(satellite=satellite),\n",
        "    min_zoom=10, max_zoom=25, zoom_start=17,\n",
        "    zoom_control=True, control_scale=True, control=False\n",
        "    )\n",
        "\n",
        "# Add crossing features\n",
        "feature_names = crossing_features.columns.tolist()\n",
        "feature_names.remove('geometry')\n",
        "tooltip = plot_utils.gen_tooltip(feature_names, feature_names)\n",
        "geo_j = folium.GeoJson(crossing_features, tooltip=tooltip, style_function=lambda x: {\"color\": \"orange\", \"weight\": 10}).add_to(map)\n",
        "\n",
        "map"
      ]
    }
  ],
  "metadata": {
    "kernel_info": {
      "name": "osmx-examples"
    },
    "kernelspec": {
      "display_name": "add_crossings",
      "language": "python",
      "name": "python3"
    },
    "language_info": {
      "codemirror_mode": {
        "name": "ipython",
        "version": 3
      },
      "file_extension": ".py",
      "mimetype": "text/x-python",
      "name": "python",
      "nbconvert_exporter": "python",
      "pygments_lexer": "ipython3",
      "version": "3.8.0"
    },
    "microsoft": {
      "host": {
        "AzureML": {
          "notebookHasBeenCompleted": true
        }
      },
      "ms_spell_check": {
        "ms_spell_check_language": "en"
      }
    },
    "nteract": {
      "version": "nteract-front-end@1.0.0"
    }
  },
  "nbformat": 4,
  "nbformat_minor": 5
}
