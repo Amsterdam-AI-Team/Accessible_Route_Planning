{
  "cells": [
    {
      "cell_type": "markdown",
      "id": "8a4c3ed3-645d-48bd-916e-6528df567d3d",
      "metadata": {
        "nteract": {
          "transient": {
            "deleting": false
          }
        }
      },
      "source": [
        "# OpenStreetMap - get crossing features"
      ]
    },
    {
      "cell_type": "code",
      "execution_count": null,
      "id": "757d1d0d-dacf-463b-a3a1-0363cc85fd52",
      "metadata": {
        "gather": {
          "logged": 1705498882371
        }
      },
      "outputs": [],
      "source": [
        "# Standard library and path imports\n",
        "import set_path\n",
        "\n",
        "# Third-party library imports\n",
        "import osmnx as ox\n",
        "import folium\n",
        "import geopandas as gpd\n",
        "\n",
        "# Local or project-specific imports\n",
        "import plot_utils\n",
        "import settings as st\n",
        "\n",
        "if st.my_run == \"azure\":\n",
        "    import config_azure as cf\n",
        "elif st.my_run == \"local\":\n",
        "    import config as cf"
      ]
    },
    {
      "cell_type": "code",
      "execution_count": null,
      "id": "c7bba4bc-55e6-4a17-9e77-1e1b89ba577b",
      "metadata": {
        "gather": {
          "logged": 1705498884101
        },
        "jupyter": {
          "outputs_hidden": false,
          "source_hidden": false
        },
        "nteract": {
          "transient": {
            "deleting": false
          }
        }
      },
      "outputs": [],
      "source": [
        "if st.my_run == \"azure\":\n",
        "    os.system('sudo blobfuse /home/azureuser/cloudfiles/code/blobfuse/sidewalk --tmp-path=/mnt/resource/blobfusetmp --config-file=/home/azureuser/cloudfiles/code/blobfuse/fuse_connection_sidewalk.cfg -o attr_timeout=3600 -o entry_timeout=3600 -o negative_timeout=3600 -o allow_other -o nonempty')"
      ]
    },
    {
      "cell_type": "markdown",
      "id": "821e50dd-36f5-416d-bc5d-c34ee71134af",
      "metadata": {
        "nteract": {
          "transient": {
            "deleting": false
          }
        }
      },
      "source": [
        "### Get mask of area"
      ]
    },
    {
      "cell_type": "code",
      "execution_count": null,
      "id": "e7cd484e-9759-49b9-963f-5ff8f87dfc57",
      "metadata": {
        "gather": {
          "logged": 1705498885404
        }
      },
      "outputs": [],
      "source": [
        "# Import areas\n",
        "df_areas = gpd.read_file(cf.output_pilot_area)\n",
        "polygon = df_areas.to_crs(crs=st.CRS_map).unary_union"
      ]
    },
    {
      "cell_type": "markdown",
      "id": "fdbbb352-7578-40ac-a201-79fb54f783ac",
      "metadata": {
        "nteract": {
          "transient": {
            "deleting": false
          }
        }
      },
      "source": [
        "### Retrieve crossing features"
      ]
    },
    {
      "cell_type": "code",
      "execution_count": null,
      "id": "67212946-157a-4bb8-a66b-338ff72615be",
      "metadata": {
        "gather": {
          "logged": 1705498887247
        }
      },
      "outputs": [],
      "source": [
        "# Retrieve crossing attributes\n",
        "tags = {\"crossing\": True, \"footway\": 'crossing', \"kerb\": True, 'railway': ['crossing', 'tram_crossing']}\n",
        "crossing_features = ox.geometries_from_polygon(polygon, tags)"
      ]
    },
    {
      "cell_type": "markdown",
      "id": "01f19503-5958-4abf-b4a4-7b825cec436f",
      "metadata": {
        "nteract": {
          "transient": {
            "deleting": false
          }
        }
      },
      "source": [
        "### Generate map and export crossing features"
      ]
    },
    {
      "cell_type": "code",
      "execution_count": null,
      "id": "1b0359da-0397-4ca0-8013-8946c1a68a62",
      "metadata": {
        "gather": {
          "logged": 1705498891176
        },
        "jupyter": {
          "outputs_hidden": false,
          "source_hidden": false
        },
        "nteract": {
          "transient": {
            "deleting": false
          }
        }
      },
      "outputs": [],
      "source": [
        "# set True for satellite background, False for regular background\n",
        "satellite = False\n",
        "\n",
        "# Create Folium map\n",
        "map = folium.Map(\n",
        "    location=[52.350547922223434, 4.794019242371844], tiles=plot_utils.generate_map_params(satellite=satellite),\n",
        "    min_zoom=10, max_zoom=25, zoom_start=17,\n",
        "    zoom_control=True, control_scale=True, control=False\n",
        "    )\n",
        "\n",
        "# Add crossing features\n",
        "feature_names = crossing_features.columns.tolist()\n",
        "feature_names.remove('geometry')\n",
        "tooltip = plot_utils.gen_tooltip(feature_names, feature_names)\n",
        "geo_j = folium.GeoJson(crossing_features, tooltip=tooltip, style_function=lambda x: {\"color\": \"orange\", \"weight\": 10}).add_to(map)\n",
        "\n",
        "map"
      ]
    },
    {
      "cell_type": "code",
      "execution_count": null,
      "id": "3eb61b94-520b-4dd2-b99a-a174c94248e0",
      "metadata": {
        "gather": {
          "logged": 1705498895522
        }
      },
      "outputs": [],
      "source": [
        "# Save crossing features as geopackage\n",
        "crossing_features.to_file(cf.output_osm_crossing_features, driver='GPKG')"
      ]
    }
  ],
  "metadata": {
    "kernel_info": {
      "name": "osmx-examples"
    },
    "kernelspec": {
      "display_name": "add_crossings",
      "language": "python",
      "name": "python3"
    },
    "language_info": {
      "codemirror_mode": {
        "name": "ipython",
        "version": 3
      },
      "file_extension": ".py",
      "mimetype": "text/x-python",
      "name": "python",
      "nbconvert_exporter": "python",
      "pygments_lexer": "ipython3",
      "version": "3.8.0"
    },
    "microsoft": {
      "host": {
        "AzureML": {
          "notebookHasBeenCompleted": true
        }
      },
      "ms_spell_check": {
        "ms_spell_check_language": "en"
      }
    },
    "nteract": {
      "version": "nteract-front-end@1.0.0"
    }
  },
  "nbformat": 4,
  "nbformat_minor": 5
}
