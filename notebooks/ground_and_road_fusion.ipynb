{
  "cells": [
    {
      "cell_type": "markdown",
      "source": [
        "# Automatic labeling of ground and road using data fusion"
      ],
      "metadata": {},
      "id": "1077e83e-756f-40aa-b041-c811f0f52ae7"
    },
    {
      "cell_type": "code",
      "source": [
        "# Uncomment to load the local package rather than the pip-installed version.\n",
        "# Add project src to path.\n",
        "import set_path"
      ],
      "outputs": [],
      "execution_count": 1,
      "metadata": {
        "gather": {
          "logged": 1700583191305
        }
      },
      "id": "9b93f546-68ee-4b1d-b0eb-3f3479292aa7"
    },
    {
      "cell_type": "code",
      "source": [
        "# Import modules.\n",
        "import logging\n",
        "import os\n",
        "import requests\n",
        "\n",
        "import upcp.fusion as fusion\n",
        "from upcp.pipeline import Pipeline\n",
        "import upcp.region_growing as growing\n",
        "import upcp.utils.ahn_utils as ahn_utils\n",
        "import upcp.utils.bgt_utils as bgt_utils\n",
        "import upcp.utils.las_utils as las_utils\n",
        "import upcp.utils.log_utils as log_utils\n",
        "import upcp.utils.csv_utils as csv_utils\n",
        "from upcp.labels import Labels\n",
        "import upcp.scrapers.ams_bgt_scraper as ams_bgt_scraper\n",
        "\n",
        "import seaborn as sns\n",
        "import matplotlib.pyplot as plt\n",
        "import functions as f\n",
        "import geopandas as gpd\n",
        "import numpy as np\n",
        "from tqdm import tqdm\n",
        "\n",
        "# INFO messages will be printed to console.\n",
        "log_utils.reset_logger()\n",
        "log_utils.add_console_logger(level=logging.DEBUG)"
      ],
      "outputs": [
        {
          "output_type": "stream",
          "name": "stderr",
          "text": "QSocketNotifier: Can only be used with threads started with QThread\n/anaconda/envs/curb_exploration/lib/python3.8/site-packages/pyntcloud/utils/numba.py:5: NumbaDeprecationWarning: The 'nopython' keyword argument was not supplied to the 'numba.jit' decorator. The implicit default value for this argument is currently False, but it will be changed to True in Numba 0.59.0. See https://numba.readthedocs.io/en/stable/reference/deprecation.html#deprecation-of-object-mode-fall-back-behaviour-when-using-jit for details.\n  def groupby_count(xyz, indices, out):\n/anaconda/envs/curb_exploration/lib/python3.8/site-packages/pyntcloud/utils/numba.py:12: NumbaDeprecationWarning: The 'nopython' keyword argument was not supplied to the 'numba.jit' decorator. The implicit default value for this argument is currently False, but it will be changed to True in Numba 0.59.0. See https://numba.readthedocs.io/en/stable/reference/deprecation.html#deprecation-of-object-mode-fall-back-behaviour-when-using-jit for details.\n  def groupby_sum(xyz, indices, N, out):\n/anaconda/envs/curb_exploration/lib/python3.8/site-packages/pyntcloud/utils/numba.py:19: NumbaDeprecationWarning: The 'nopython' keyword argument was not supplied to the 'numba.jit' decorator. The implicit default value for this argument is currently False, but it will be changed to True in Numba 0.59.0. See https://numba.readthedocs.io/en/stable/reference/deprecation.html#deprecation-of-object-mode-fall-back-behaviour-when-using-jit for details.\n  def groupby_max(xyz, indices, N, out):\n"
        },
        {
          "output_type": "stream",
          "name": "stdout",
          "text": "Jupyter environment detected. Enabling Open3D WebVisualizer.\n[Open3D INFO] WebRTC GUI backend enabled.\n[Open3D INFO] WebRTCWindowSystem: HTTP handshake server disabled.\n"
        }
      ],
      "execution_count": 2,
      "metadata": {
        "gather": {
          "logged": 1700583194467
        }
      },
      "id": "c4489f95-98a5-4ed2-87e7-36a0554960a2"
    },
    {
      "cell_type": "markdown",
      "source": [
        "### Select area to label point clouds for"
      ],
      "metadata": {},
      "id": "64698ca6"
    },
    {
      "cell_type": "code",
      "source": [
        "# Pull polygon of area for which to gather \n",
        "\n",
        "# Select area granularity (buurten/wijken/ggwgebieden/stadsdelen, https://api.data.amsterdam.nl/v1/docs/datasets/gebieden.html)\n",
        "area_granularity = 'wijken'\n",
        "\n",
        "# SELECT AREA\n",
        "# district_name = 'Centrum'\n",
        "# my_area = 'Nieuwmarkt/Lastage'\n",
        "district_name = 'Nieuw-West'\n",
        "my_area = 'Osdorp-Midden'\n",
        "\n",
        "# Get area data\n",
        "area_url = \"https://api.data.amsterdam.nl/v1/gebieden/\" + area_granularity\n",
        "response_area = requests.get(url = area_url, params = {\"_pageSize\": 1000})\n",
        "raw_data_area = response_area.json()['_embedded']\n",
        "print(response_area.status_code)\n",
        "\n",
        "# Create a proper GeoDataFrame with the area data\n",
        "gdf_area = f.create_area_gdf(raw_data_area)\n",
        "# gdf_area = gdf_area.to_crs(\"EPSG:4326\")\n",
        "gdf_area_sel = gdf_area[gdf_area['naam'] == my_area]\n",
        "area_polygon = gdf_area_sel.iloc[0]['geometry']\n",
        "\n",
        "sns.set()\n",
        "ax = gdf_area.boundary.plot()\n",
        "ax = gdf_area_sel.plot(ax=ax)\n",
        "plt.title('Selected: {}'.format(my_area))\n",
        "plt.show()"
      ],
      "outputs": [],
      "execution_count": 3,
      "metadata": {
        "gather": {
          "logged": 1700583177164
        }
      },
      "id": "a576f879"
    },
    {
      "cell_type": "markdown",
      "source": [
        "### Collect point clouds in area"
      ],
      "metadata": {},
      "id": "8c90e862"
    },
    {
      "cell_type": "code",
      "source": [
        "# Mount Azure base folder to access point cloud and ahn data\n",
        "os.system('sudo blobfuse /home/azureuser/cloudfiles/code/blobfuse/ovl --tmp-path=/mnt/resource/blobfusetmp --config-file=/home/azureuser/cloudfiles/code/blobfuse/fuse_connection_ovl.cfg -o attr_timeout=3600 -o entry_timeout=3600 -o negative_timeout=3600 -o allow_other -o nonempty')\n",
        "base_folder = \"/home/azureuser/cloudfiles/code/blobfuse/ovl/\"\n",
        "\n",
        "# Select district\n",
        "code_to_name_dict = {\n",
        "    'Oost': 'nl-amsv-201001-7415-laz',\n",
        "    'Westpoort': 'nl-amsd-200823-7415-laz',\n",
        "    'West': 'nl-amsd-200824-7415-laz',\n",
        "    'Zuid': 'nl-amsd-200903-7415-laz',\n",
        "    'Ring': 'nl-amsd-200904-7415-laz',\n",
        "    'Noord': 'nl-amsd-200918-7415-laz',\n",
        "    'Nieuw-West': 'nl-amsd-200920-7415-laz',\n",
        "    'Centrum': 'nl-amsd-200921-7415-laz',\n",
        "    'Zuidoost': 'nl-amsd-200923-7415-laz',\n",
        "    'Oost': 'nl-amsv-201001-7415-laz'\n",
        "}\n",
        "\n",
        "# Data folder and file for the fusers.\n",
        "district_code = code_to_name_dict[district_name]\n",
        "\n",
        "ahn_in_folder = base_folder + 'ahn/Amsterdam/ahn4_npz/'\n",
        "bgt_in_folder = base_folder + 'bgt/bgt_roads/{}/'.format(my_area.replace('/', '-'))\n",
        "in_folder_point_clouds = base_folder + \"pointcloud/Unlabeled/Amsterdam/{}/\"\"las_processor_bundled_out/\".format(district_code)\n",
        "out_folder_point_clouds = base_folder + 'pointcloud/Labeled/{}/ground_and_road/'.format(district_code)\n",
        "\n",
        "for path in [bgt_in_folder, out_folder_point_clouds]:\n",
        "    if not os.path.isdir(path):\n",
        "        os.makedirs(path)"
      ],
      "outputs": [],
      "execution_count": null,
      "metadata": {
        "gather": {
          "logged": 1699629771168
        }
      },
      "id": "2697344e"
    },
    {
      "cell_type": "code",
      "source": [
        "# Collect all tiles in polygon area\n",
        "all_pc_filenames = np.array([in_folder_point_clouds + i for i in os.listdir(in_folder_point_clouds) if '.laz' in i])\n",
        "all_pc_tilecodes = np.array([las_utils.get_tilecode_from_filename(filename) for filename in all_pc_filenames])\n",
        "all_pc_bboxes = np.array([las_utils.get_bbox_from_tile_code(tilecode) for tilecode in all_pc_tilecodes])\n",
        "\n",
        "all_pc_polygons = [las_utils.get_polygon_from_tile_code(tilecode) for tilecode in all_pc_tilecodes]\n",
        "gdf_pc_polygons = gpd.GeoDataFrame(geometry=all_pc_polygons)\n",
        "\n",
        "gdf = gdf_pc_polygons.intersection(area_polygon)\n",
        "pc_idxs_in_area_polygon = gdf[~gdf.is_empty].index.to_list()\n",
        "\n",
        "# filenames, tilecodes and bounding boxes of point clouds in selected area\n",
        "pc_filenames = all_pc_filenames[pc_idxs_in_area_polygon]\n",
        "pc_tilecodes = all_pc_tilecodes[pc_idxs_in_area_polygon]\n",
        "pc_bboxes = all_pc_bboxes[pc_idxs_in_area_polygon]\n",
        "\n",
        "sns.set()\n",
        "ax = gdf_pc_polygons.boundary.plot()\n",
        "ax = gdf_area_sel.boundary.plot(ax=ax, color='black')\n",
        "plt.title('Point clouds in selected area')\n",
        "plt.show()"
      ],
      "outputs": [],
      "execution_count": null,
      "metadata": {
        "gather": {
          "logged": 1699629775078
        }
      },
      "id": "d1516c3b-e24e-4566-887b-ba814c8a9901"
    },
    {
      "cell_type": "markdown",
      "source": [
        "### Ground and building fuser using pre-processed BGT and AHN data"
      ],
      "metadata": {},
      "id": "03d5299a-1ac2-4a63-949a-ff1ce2b77eb2"
    },
    {
      "cell_type": "code",
      "source": [
        "# Write all BGT files for tiles in selected area if they do not already exist. \n",
        "#TODO this cell can error due to too many requests send to the api. Current fix: restart kernel and run all cells again to infer missing bgt files\n",
        "for pc_tilecode, pc_bbox in tqdm(zip(pc_tilecodes, pc_bboxes), total=len(pc_tilecodes)):\n",
        "\n",
        "    # Output file for the BGT fuser.\n",
        "    bgt_data_file = bgt_in_folder + '{}.csv'.format(pc_tilecode)\n",
        "    if not os.path.isfile(bgt_data_file):\n",
        "        csv_headers = ['bgt_name', 'polygon', 'x_min', 'y_max', 'x_max', 'y_min']\n",
        "            \n",
        "        # Road and parking spots layers in BGT\n",
        "        bgt_layers = ['BGT_WGL_rijbaan_lokale_weg', 'BGT_WGL_rijbaan_regionale_weg',\n",
        "                    'BGT_WGL_rijbaan_autoweg', 'BGT_WGL_rijbaan_autosnelweg',\n",
        "                    'BGT_WGL_parkeervlak', 'BGT_WGL_ov-baan', 'BGT_WGL_fietspad']\n",
        "\n",
        "        # Scrape data from the Amsterdam WFS and parse the json.\n",
        "        bgt_road_polygons_csv = []\n",
        "        for layer in bgt_layers:\n",
        "            # Scrape data from the Amsterdam WFS, this will return a json response.\n",
        "            json_content = ams_bgt_scraper.scrape_amsterdam_bgt(layer, bbox=pc_bbox)\n",
        "            \n",
        "            # Parse the downloaded json response.\n",
        "            parsed_content = ams_bgt_scraper.parse_polygons(json_content)\n",
        "            bgt_road_polygons_csv += parsed_content\n",
        "\n",
        "        # Write the csv\n",
        "        csv_utils.write_csv(bgt_data_file, bgt_road_polygons_csv, csv_headers)"
      ],
      "outputs": [],
      "execution_count": null,
      "metadata": {
        "gather": {
          "logged": 1699629778078
        }
      },
      "id": "8c17bd44"
    },
    {
      "cell_type": "code",
      "source": [
        "# Create the reader for .npz data.\n",
        "npz_reader = ahn_utils.NPZReader(ahn_in_folder)\n",
        "\n",
        "# Label point clouds\n",
        "for tilecode, filename in tqdm(zip(pc_tilecodes, pc_filenames), total=len(pc_tilecodes)):\n",
        "\n",
        "    # get file directories\n",
        "    bgt_road_file = bgt_in_folder + tilecode + '.csv'\n",
        "    pc_in_file = filename \n",
        "    pc_out_file = out_folder_point_clouds + 'road_ground_labeled_' + tilecode + '.laz'\n",
        "    if not os.path.isfile(pc_out_file):\n",
        "\n",
        "        # Create reader for BGT road part polygons.\n",
        "        bgt_road_reader = bgt_utils.BGTPolyReader(bgt_file=bgt_road_file)\n",
        "\n",
        "        # Create fusers\n",
        "        params = {'bottom': 0., 'buffer': 0.02}\n",
        "        npz_ground_fuser = fusion.AHNFuser(Labels.GROUND, ahn_reader=npz_reader,\n",
        "                                    target='ground', epsilon=0.2, params=params)\n",
        "        road_part_fuser = fusion.BGTRoadFuser(Labels.ROAD, bgt_reader=bgt_road_reader)\n",
        "\n",
        "        # Pipeline to label ground and road \n",
        "        process_sequence = (npz_ground_fuser, road_part_fuser)\n",
        "        pipeline = Pipeline(processors=process_sequence, caching=False)\n",
        "\n",
        "        # Process the file.\n",
        "        pipeline.process_file(pc_in_file, out_file=pc_out_file)"
      ],
      "outputs": [],
      "execution_count": null,
      "metadata": {
        "gather": {
          "logged": 1699629780537
        }
      },
      "id": "92102ce0-e172-4ac0-8b2d-53540df41acc"
    }
  ],
  "metadata": {
    "kernelspec": {
      "name": "curb_exploration",
      "language": "python",
      "display_name": "curb_exploration"
    },
    "language_info": {
      "name": "python",
      "version": "3.8.0",
      "mimetype": "text/x-python",
      "codemirror_mode": {
        "name": "ipython",
        "version": 3
      },
      "pygments_lexer": "ipython3",
      "nbconvert_exporter": "python",
      "file_extension": ".py"
    },
    "microsoft": {
      "host": {
        "AzureML": {
          "notebookHasBeenCompleted": true
        }
      },
      "ms_spell_check": {
        "ms_spell_check_language": "en"
      }
    },
    "nteract": {
      "version": "nteract-front-end@1.0.0"
    },
    "vscode": {
      "interpreter": {
        "hash": "e6888fd1df2ad0cf70295ff83cef12f2beafc15e4cff2fac0fbf5a36213f1b1c"
      }
    },
    "kernel_info": {
      "name": "curb_exploration"
    }
  },
  "nbformat": 4,
  "nbformat_minor": 5
}