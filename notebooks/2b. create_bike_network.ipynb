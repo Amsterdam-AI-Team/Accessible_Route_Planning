{
  "cells": [
    {
      "cell_type": "markdown",
      "id": "5f034096",
      "metadata": {},
      "source": [
        "# 2b. Create bike network"
      ]
    },
    {
      "cell_type": "code",
      "execution_count": null,
      "id": "071158b6",
      "metadata": {
        "gather": {
          "logged": 1708958346857
        }
      },
      "outputs": [],
      "source": [
        "# Standard library and path imports\n",
        "import set_path\n",
        "\n",
        "# Third-party library imports\n",
        "import numpy as np\n",
        "import pandas as pd\n",
        "import geopandas as gpd\n",
        "import shapely\n",
        "import shapely.geometry as sg\n",
        "import shapely.ops as so\n",
        "from tqdm.notebook import tqdm_notebook\n",
        "tqdm_notebook.pandas()\n",
        "import osmnx as ox\n",
        "import momepy\n",
        "import folium\n",
        "\n",
        "# Local or project-specific imports\n",
        "import plot_utils\n",
        "import bgt_utils\n",
        "import poly_utils\n",
        "import settings as st\n",
        "\n",
        "if st.my_run == \"azure\":\n",
        "    import config_azure as cf\n",
        "elif st.my_run == \"local\":\n",
        "    import config as cf"
      ]
    },
    {
      "cell_type": "markdown",
      "id": "50c6b9b1",
      "metadata": {},
      "source": [
        "## Import BGT data"
      ]
    },
    {
      "cell_type": "code",
      "execution_count": null,
      "id": "0d67ccd2-f06b-408a-bb19-535fba848a6c",
      "metadata": {
        "gather": {
          "logged": 1708958440021
        },
        "jupyter": {
          "outputs_hidden": false,
          "source_hidden": false
        },
        "nteract": {
          "transient": {
            "deleting": false
          }
        }
      },
      "outputs": [],
      "source": [
        "# Get BGT data\n",
        "df_bgt_full = bgt_utils.get_bgt_data_for_bbox(st.bbox, st.bgt_layers + st.bgt_road_layers)\n",
        "df_bgt_full['naam'].value_counts()"
      ]
    },
    {
      "cell_type": "markdown",
      "id": "8096e21a-ff68-4c06-aac5-3cf1c854e26d",
      "metadata": {
        "nteract": {
          "transient": {
            "deleting": false
          }
        }
      },
      "source": [
        "## Select pilot areas"
      ]
    },
    {
      "cell_type": "code",
      "execution_count": null,
      "id": "32ea3892-d7d9-4bb9-adfb-631e6ddf7331",
      "metadata": {
        "gather": {
          "logged": 1708958440194
        },
        "jupyter": {
          "outputs_hidden": false,
          "source_hidden": false
        },
        "nteract": {
          "transient": {
            "deleting": false
          }
        }
      },
      "outputs": [],
      "source": [
        "# Import areas\n",
        "df_areas = gpd.read_file(cf.output_pilot_area)"
      ]
    },
    {
      "cell_type": "code",
      "execution_count": null,
      "id": "410c68a5-d781-4185-b61b-ca21cf041e81",
      "metadata": {
        "gather": {
          "logged": 1708958441154
        },
        "jupyter": {
          "outputs_hidden": false,
          "source_hidden": false
        },
        "nteract": {
          "transient": {
            "deleting": false
          }
        }
      },
      "outputs": [],
      "source": [
        "# Only keep BGT data within pilot areas\n",
        "df_bgt = df_bgt_full.sjoin(df_areas, how='inner', predicate='within') # note: only sidewalk polygons fully inside area are included\n",
        "df_bgt['naam_left'].value_counts()"
      ]
    },
    {
      "cell_type": "markdown",
      "id": "14ac1f5d-58ce-419d-b088-38fe96d131d2",
      "metadata": {
        "nteract": {
          "transient": {
            "deleting": false
          }
        }
      },
      "source": [
        "## Import bike data from OSM"
      ]
    },
    {
      "cell_type": "code",
      "execution_count": null,
      "id": "46a1dcdb-3d37-4445-a259-c9bc0a3f6f46",
      "metadata": {
        "gather": {
          "logged": 1708958447145
        },
        "jupyter": {
          "outputs_hidden": false,
          "source_hidden": false
        },
        "nteract": {
          "transient": {
            "deleting": false
          }
        }
      },
      "outputs": [],
      "source": [
        "# Put buffer around areas to include more lines from OSM\n",
        "df_areas['buffer'] = df_areas.buffer(100)\n",
        "\n",
        "# Retrieve the street network from selected area\n",
        "polygon = df_areas.set_geometry('buffer').to_crs(st.CRS_map).unary_union\n",
        "cycling_graph = ox.graph_from_polygon(polygon=polygon, network_type='bike', retain_all=True)"
      ]
    },
    {
      "cell_type": "code",
      "execution_count": null,
      "id": "24d54e00-7a7a-480d-8e97-60dc121f8ec1",
      "metadata": {
        "gather": {
          "logged": 1708958447291
        },
        "jupyter": {
          "outputs_hidden": false,
          "source_hidden": false
        },
        "nteract": {
          "transient": {
            "deleting": false
          }
        }
      },
      "outputs": [],
      "source": [
        "# Fetch nodes and edges of cycling networks\n",
        "gdf_nodes_cycling, gdf_edges_cycling = ox.graph_to_gdfs(\n",
        "        cycling_graph,\n",
        "        nodes=True, edges=True,\n",
        "        node_geometry=True,\n",
        "        fill_edge_geometry=True)"
      ]
    },
    {
      "cell_type": "markdown",
      "id": "290957c2-4dd4-4448-99ce-ca0f3b7d8438",
      "metadata": {
        "nteract": {
          "transient": {
            "deleting": false
          }
        }
      },
      "source": [
        "## Select which cycling edges to include"
      ]
    },
    {
      "cell_type": "code",
      "execution_count": null,
      "id": "3eb609e5-5f01-41c6-b5f2-5bb4e7d9a7b1",
      "metadata": {
        "gather": {
          "logged": 1708958447427
        },
        "jupyter": {
          "outputs_hidden": false,
          "source_hidden": false
        },
        "nteract": {
          "transient": {
            "deleting": false
          }
        }
      },
      "outputs": [],
      "source": [
        "# Select bike polygons\n",
        "df_bgt_bike_map = df_bgt[df_bgt['naam_left'] == 'fietspad'].to_crs(st.CRS_map).drop('index_right', axis=1)"
      ]
    },
    {
      "cell_type": "code",
      "execution_count": null,
      "id": "3af004fb-1dfe-41c2-a2b8-42d3ed05e397",
      "metadata": {
        "gather": {
          "logged": 1708958447546
        },
        "jupyter": {
          "outputs_hidden": false,
          "source_hidden": false
        },
        "nteract": {
          "transient": {
            "deleting": false
          }
        }
      },
      "outputs": [],
      "source": [
        "# Select correct bike edges\n",
        "gdf_edges_cycling_sel = gdf_edges_cycling[gdf_edges_cycling['highway'].isin(['cycleway', ['cycleway', 'unclassified'],  ['unclassified', 'cycleway'], \n",
        "                                                                           ['cycleway', 'service'], ['residential', 'cycleway']])]\n",
        "gdf_edges_cycling_sel.shape"
      ]
    },
    {
      "cell_type": "code",
      "execution_count": null,
      "id": "9ef93e81-0897-4436-8228-a00fe587ae2e",
      "metadata": {
        "gather": {
          "logged": 1708958448091
        },
        "jupyter": {
          "outputs_hidden": false,
          "source_hidden": false
        },
        "nteract": {
          "transient": {
            "deleting": false
          }
        }
      },
      "outputs": [],
      "source": [
        "# Buffer BGT bike polygons\n",
        "df_bgt_bike_map_buffer = df_bgt_bike_map.copy()\n",
        "df_bgt_bike_map_buffer['geometry'] = df_bgt_bike_map_buffer.buffer(0.0001, single_sided=True)\n",
        "\n",
        "# Select edges within buffered polygons\n",
        "gdf_edges_cycling_sel['unique_id'] = range(0, len(gdf_edges_cycling_sel))\n",
        "gdf_edges_cycling_is = gdf_edges_cycling_sel.sjoin(df_bgt_bike_map_buffer, predicate='intersects', how='inner')\n",
        "gdf_edges_cycling_is = gdf_edges_cycling_is.drop_duplicates('unique_id')  # drop duplicates/in multiple polygons\n",
        "gdf_edges_cycling_is.shape"
      ]
    },
    {
      "cell_type": "markdown",
      "id": "b8c11387-e0e9-4214-8afe-fb0914300af1",
      "metadata": {
        "nteract": {
          "transient": {
            "deleting": false
          }
        }
      },
      "source": [
        "## Add crossing column"
      ]
    },
    {
      "cell_type": "code",
      "execution_count": null,
      "id": "7b8d6ec4-85f3-4ebb-84ba-2ad613e17031",
      "metadata": {
        "gather": {
          "logged": 1708958449110
        },
        "jupyter": {
          "outputs_hidden": false,
          "source_hidden": false
        },
        "nteract": {
          "transient": {
            "deleting": false
          }
        }
      },
      "outputs": [],
      "source": [
        "# Select road polygons\n",
        "road_names = ['rijbaan lokale weg', 'rijbaan regionale weg', 'rijbaan autoweg', 'rijbaan autosnelweg', 'OV-baan']\n",
        "df_bgt_road_map = df_bgt[df_bgt['naam_left'].isin(road_names)].to_crs(st.CRS_map).drop('index_right', axis=1)\n",
        "\n",
        "# Create multipolygon of all roads\n",
        "road_mpg = gpd.GeoDataFrame(geometry=gpd.GeoSeries(df_bgt_road_map['geometry'].unary_union))['geometry'].iloc[0]"
      ]
    },
    {
      "cell_type": "code",
      "execution_count": null,
      "id": "a8a52f29-b4c7-46e2-a02a-66102c6bf8df",
      "metadata": {
        "gather": {
          "logged": 1708958458312
        },
        "jupyter": {
          "outputs_hidden": false,
          "source_hidden": false
        },
        "nteract": {
          "transient": {
            "deleting": false
          }
        }
      },
      "outputs": [],
      "source": [
        "# Cut bike network lines by road polygons\n",
        "gdf_edges_cycling_is['geometry_split'] = gdf_edges_cycling_is['geometry'].apply(lambda x: so.split(x, road_mpg)) \n",
        "\n",
        "# Explode cutted bike linestrings\n",
        "gdf_edges_cycling_is_ex = gpd.GeoDataFrame(gdf_edges_cycling_is['geometry_split'].explode(index_parts=True), geometry='geometry_split', crs=st.CRS_map)\n",
        "gdf_edges_cycling_is_ex.rename(columns={'geometry_split': 'geometry'}, inplace=True)\n",
        "gdf_edges_cycling_is_ex = gdf_edges_cycling_is_ex.set_geometry('geometry')\n",
        "\n",
        "# Check if (cutted) lines are within the road multipolygon\n",
        "road_mpg_buffered = road_mpg.buffer(1e-10)\n",
        "gdf_edges_cycling_is_ex['within_polygon'] = gdf_edges_cycling_is_ex.within(road_mpg_buffered)"
      ]
    },
    {
      "cell_type": "code",
      "execution_count": null,
      "id": "0bb075fd-4c6c-4074-9c64-59061a37f4a6",
      "metadata": {
        "gather": {
          "logged": 1708958458407
        },
        "jupyter": {
          "outputs_hidden": false,
          "source_hidden": false
        },
        "nteract": {
          "transient": {
            "deleting": false
          }
        }
      },
      "outputs": [],
      "source": [
        "# Create crossing columns\n",
        "gdf_edges_cycling_is_ex['crossing'] = np.where(gdf_edges_cycling_is_ex['within_polygon'] == True, 'Yes', 'No')\n",
        "gdf_edges_cycling_is_ex['crossing_type'] = np.where(gdf_edges_cycling_is_ex['crossing'] == 'Yes', 'osm_bike', np.nan)"
      ]
    },
    {
      "cell_type": "markdown",
      "id": "991b4dbc-6caf-4666-bea8-ef5769e256c2",
      "metadata": {
        "nteract": {
          "transient": {
            "deleting": false
          }
        }
      },
      "source": [
        "## Create missing crossings"
      ]
    },
    {
      "cell_type": "code",
      "execution_count": null,
      "id": "3a6d1f1b-15f7-4f08-b110-2040c6ce207f",
      "metadata": {
        "gather": {
          "logged": 1708958458661
        },
        "jupyter": {
          "outputs_hidden": false,
          "source_hidden": false
        },
        "nteract": {
          "transient": {
            "deleting": false
          }
        }
      },
      "outputs": [],
      "source": [
        "# Get all nodes\n",
        "G = momepy.gdf_to_nx(gdf_edges_cycling_is_ex.to_crs(st.CRS), approach=\"primal\", multigraph=False)\n",
        "all_nodes = momepy.nx_to_gdf(G, points=True, lines=False)\n",
        "\n",
        "# Get end nodes\n",
        "G1 = G.copy()\n",
        "G1.remove_nodes_from((n for n,d in G.degree() if d!=1))\n",
        "end_nodes = momepy.nx_to_gdf(G1, points=True, lines=False)"
      ]
    },
    {
      "cell_type": "code",
      "execution_count": null,
      "id": "e4e53a9d-de0a-46a1-9544-397d572ae621",
      "metadata": {
        "gather": {
          "logged": 1708958458794
        },
        "jupyter": {
          "outputs_hidden": false,
          "source_hidden": false
        },
        "nteract": {
          "transient": {
            "deleting": false
          }
        }
      },
      "outputs": [],
      "source": [
        "# Select bike polygons\n",
        "df_bgt_bike = df_bgt[df_bgt['naam_left'] == 'fietspad']\n",
        "\n",
        "# Merge bike polygons\n",
        "df_polygons = gpd.GeoDataFrame(geometry=gpd.GeoSeries(df_bgt_bike['geometry'].unary_union))\n",
        "df_polygons = gpd.GeoDataFrame(df_polygons.geometry.explode(index_parts=True)).set_crs(st.CRS)\n",
        "\n",
        "# Ignore polygons that are too small\n",
        "df_polygons['area'] = df_polygons['geometry'].area\n",
        "df_polygons = df_polygons[df_polygons.area > st.min_area_size].reset_index()\n",
        "\n",
        "# Ignore polygons without nodes\n",
        "polygons_with_nodes = df_polygons.sjoin(all_nodes)['level_1'].unique()\n",
        "df_polygons = df_polygons[df_polygons['level_1'].isin(polygons_with_nodes)] "
      ]
    },
    {
      "cell_type": "code",
      "execution_count": null,
      "id": "90f1f638-d41b-40f2-85f8-2de01def6240",
      "metadata": {
        "gather": {
          "logged": 1708958459184
        },
        "jupyter": {
          "outputs_hidden": false,
          "source_hidden": false
        },
        "nteract": {
          "transient": {
            "deleting": false
          }
        }
      },
      "outputs": [],
      "source": [
        "H = G.copy()\n",
        "\n",
        "for i in range(len(end_nodes)):\n",
        "    #print(i)\n",
        "    # Get location single new node (of curb ramp)\n",
        "    end_node_loc = end_nodes['geometry'].values[i] \n",
        "    \n",
        "    # Find nearest sidewalk (max n meter away)\n",
        "    my_distances = df_polygons['geometry'].distance(end_node_loc)\n",
        "    my_distances = my_distances[my_distances > 3]\n",
        "    smallest_distance = my_distances.sort_values().iloc[[0]]\n",
        "\n",
        "    if smallest_distance.iloc[0] < 16:\n",
        "        df_sidewalk_nb = df_polygons[df_polygons.index.isin(smallest_distance.index)][['geometry']]\n",
        "        nearby_polygon = df_sidewalk_nb['geometry'].values[0]\n",
        "\n",
        "        # Get nodes on nearest bike path polygon\n",
        "        df_nearby_polygon_nodes = all_nodes[all_nodes.within(nearby_polygon)]\n",
        "        nearby_polygon_nodes = sg.MultiPoint(df_nearby_polygon_nodes['geometry'].values)\n",
        "\n",
        "        # Find nearest existing node on nearest bike path polygon\n",
        "        nearby_points = so.nearest_points(end_node_loc, nearby_polygon_nodes)\n",
        "        end_node = (nearby_points[0].x, nearby_points[0].y)\n",
        "        connect_node = (nearby_points[1].x, nearby_points[1].y)\n",
        "\n",
        "        # Add edge between new and existing node\n",
        "        node_dist = nearby_points[0].distance(nearby_points[1])\n",
        "        if node_dist < 20:\n",
        "            H.add_edge(end_node, connect_node, geometry=sg.LineString([end_node, connect_node]), new='Yes')\n",
        "\n",
        "# Create dataframe with existing and new edges/lines\n",
        "df_H = momepy.nx_to_gdf(H, points=False, lines=True)\n",
        "df_H_new = df_H[df_H['crossing'].isna()]"
      ]
    },
    {
      "cell_type": "code",
      "execution_count": null,
      "id": "9125ec65-3f50-442a-a9fd-126dcac4415d",
      "metadata": {
        "gather": {
          "logged": 1708958459340
        },
        "jupyter": {
          "outputs_hidden": false,
          "source_hidden": false
        },
        "nteract": {
          "transient": {
            "deleting": false
          }
        }
      },
      "outputs": [],
      "source": [
        "# Reverse lines, to have both directions\n",
        "df_H_new_reverse = gpd.GeoDataFrame(df_H_new['geometry'].apply(poly_utils.reverse_line))\n",
        "df_H_new = pd.concat([df_H_new, df_H_new_reverse])"
      ]
    },
    {
      "cell_type": "code",
      "execution_count": null,
      "id": "acfa54c5-e854-49eb-be97-cb15bf2d5958",
      "metadata": {
        "gather": {
          "logged": 1708958459538
        },
        "jupyter": {
          "outputs_hidden": false,
          "source_hidden": false
        },
        "nteract": {
          "transient": {
            "deleting": false
          }
        }
      },
      "outputs": [],
      "source": [
        "# Fill in crossings columns of new lines\n",
        "df_H_new['crossing'] = 'Yes'\n",
        "df_H_new['crossing_type'] = 'created_bike'\n",
        "\n",
        "# Add new lines to existing dataframe\n",
        "gdf_edges_cycling_is_ex = pd.concat([gdf_edges_cycling_is_ex, df_H_new.to_crs(st.CRS_map)])"
      ]
    },
    {
      "cell_type": "markdown",
      "id": "5463f15d-75fb-4dd0-925a-9a103f00a18f",
      "metadata": {
        "nteract": {
          "transient": {
            "deleting": false
          }
        }
      },
      "source": [
        "## Visualize bike network"
      ]
    },
    {
      "cell_type": "code",
      "execution_count": null,
      "id": "9ea8c2cc-dba8-4a70-89f7-f272e1532f10",
      "metadata": {
        "gather": {
          "logged": 1708958459548
        },
        "jupyter": {
          "outputs_hidden": false,
          "source_hidden": false
        },
        "nteract": {
          "transient": {
            "deleting": false
          }
        }
      },
      "outputs": [],
      "source": [
        "# create buffer for validation direction (left-handed)\n",
        "gdf_edges_cycling_is['buffer'] = gdf_edges_cycling_is.buffer(0.0001, single_sided=True)"
      ]
    },
    {
      "cell_type": "code",
      "execution_count": null,
      "id": "c9a25e6b-411f-4d48-bfd8-3e08fc52868c",
      "metadata": {
        "gather": {
          "logged": 1708958459556
        },
        "jupyter": {
          "outputs_hidden": false,
          "source_hidden": false
        },
        "nteract": {
          "transient": {
            "deleting": false
          }
        }
      },
      "outputs": [],
      "source": [
        "# set True for satelite background, False for standard background\n",
        "satellite = False\n",
        "\n",
        "# Create Folium map\n",
        "map = folium.Map(\n",
        "    location=[52.350547922223434, 4.794019242371844], tiles=plot_utils.generate_map_params(satellite=satellite),\n",
        "    min_zoom=10, max_zoom=25, zoom_start=17,\n",
        "    zoom_control=True, control_scale=True, control=False\n",
        "    )\n",
        "\n",
        "# Add bike paths\n",
        "folium.GeoJson(df_bgt[df_bgt['naam_left'] == 'fietspad'], style_function=lambda x: {\"fillColor\": \"red\"}).add_to(map)\n",
        "\n",
        "# Add sidewalks  \n",
        "folium.GeoJson(df_bgt[df_bgt['naam_left'].isin(['voetpad', 'inrit', 'voetgangersgebied'])], style_function=lambda x: {\"fillColor\": \"blue\"}).add_to(map)\n",
        "\n",
        "# Add roads\n",
        "folium.GeoJson(df_bgt_road_map, style_function=lambda x: {\"fillColor\": \"grey\"}).add_to(map)\n",
        "\n",
        "# Add all cycling edges\n",
        "folium.GeoJson(gdf_edges_cycling['geometry'], style_function=lambda x: {\"color\": 'pink', \"weight\": 1}).add_to(map)\n",
        "\n",
        "# Add buffer of selected cycling edges (to validate directions)\n",
        "folium.GeoJson(gdf_edges_cycling_is['buffer'], style_function=lambda x: {\"color\": 'orange', \"weight\": 1}).add_to(map)\n",
        "\n",
        "# Add selected cycling edges\n",
        "folium.GeoJson(gdf_edges_cycling_is_ex['geometry'], style_function=lambda x: {\"color\": 'red', \"weight\": 2}).add_to(map)\n",
        "\n",
        "# Add cycling crossings\n",
        "folium.GeoJson(gdf_edges_cycling_is_ex[gdf_edges_cycling_is_ex['crossing_type']=='created_bike'], style_function=lambda x: {\"color\": 'purple', \"weight\": 4}).add_to(map)\n",
        "folium.GeoJson(gdf_edges_cycling_is_ex[gdf_edges_cycling_is_ex['crossing_type']=='osm_bike'], style_function=lambda x: {\"color\": 'darkred', \"weight\": 4}).add_to(map)\n",
        "\n",
        "map"
      ]
    },
    {
      "cell_type": "code",
      "execution_count": null,
      "id": "f75fc301-6cd7-4111-a6fe-f0a20a4bce82",
      "metadata": {
        "gather": {
          "logged": 1707926312476
        },
        "jupyter": {
          "outputs_hidden": false,
          "source_hidden": false
        },
        "nteract": {
          "transient": {
            "deleting": false
          }
        }
      },
      "outputs": [],
      "source": [
        "# Store map\n",
        "map.save(cf.bike_network_map)"
      ]
    },
    {
      "cell_type": "markdown",
      "id": "1b8d709d-6847-45f7-8ca2-b6b6158261a2",
      "metadata": {
        "nteract": {
          "transient": {
            "deleting": false
          }
        }
      },
      "source": [
        "## Store"
      ]
    },
    {
      "cell_type": "code",
      "execution_count": null,
      "id": "d3cc759d-9e10-484b-8b99-861ccb6aa31f",
      "metadata": {
        "gather": {
          "logged": 1707928830767
        },
        "jupyter": {
          "outputs_hidden": false,
          "source_hidden": false
        },
        "nteract": {
          "transient": {
            "deleting": false
          }
        }
      },
      "outputs": [],
      "source": [
        "# Prepare final bike network dataframe\n",
        "gdf_final = gdf_edges_cycling_is_ex.reset_index(drop=True)\n",
        "gdf_final['bikepath_id'] = range(0, len(gdf_final))\n",
        "gdf_final = gdf_final.to_crs(st.CRS)\n",
        "gdf_final['length'] = gdf_final.length\n",
        "gdf_final = gdf_final[['bikepath_id', 'geometry', 'length', 'crossing', 'crossing_type']]\n",
        "gdf_final.tail(3)"
      ]
    },
    {
      "cell_type": "code",
      "execution_count": null,
      "id": "6b26f407-acf7-46ca-8dc9-f59cb72a3932",
      "metadata": {
        "gather": {
          "logged": 1707928832797
        },
        "jupyter": {
          "outputs_hidden": false,
          "source_hidden": false
        },
        "nteract": {
          "transient": {
            "deleting": false
          }
        }
      },
      "outputs": [],
      "source": [
        "# Write bike network to file\n",
        "gdf_final.reset_index().to_file(cf.output_bike_network, driver='GPKG')"
      ]
    },
    {
      "cell_type": "code",
      "execution_count": null,
      "id": "14a8b2c6-c030-4f03-a0d8-6e26a7515877",
      "metadata": {
        "gather": {
          "logged": 1707928835728
        },
        "jupyter": {
          "outputs_hidden": false,
          "source_hidden": false
        },
        "nteract": {
          "transient": {
            "deleting": false
          }
        }
      },
      "outputs": [],
      "source": [
        "# Prepare bike path polygon dataframe\n",
        "gdf_bikepaths = df_bgt_bike_map[['geometry']].reset_index(drop=True)\n",
        "gdf_bikepaths = gdf_bikepaths.to_crs(st.CRS)\n",
        "gdf_bikepaths.head(3)"
      ]
    },
    {
      "cell_type": "code",
      "execution_count": null,
      "id": "a8076af8-a730-4bf7-aa16-5868066b0fad",
      "metadata": {
        "gather": {
          "logged": 1707928836589
        },
        "jupyter": {
          "outputs_hidden": false,
          "source_hidden": false
        },
        "nteract": {
          "transient": {
            "deleting": false
          }
        }
      },
      "outputs": [],
      "source": [
        "# Write bike path polygons related to bike network to file\n",
        "gdf_bikepaths.to_file(cf.output_bikepaths_bike_network, driver='GPKG')"
      ]
    }
  ],
  "metadata": {
    "kernel_info": {
      "name": "venv_rp"
    },
    "kernelspec": {
      "display_name": "social_mobility_network_new",
      "language": "python",
      "name": "python3"
    },
    "language_info": {
      "codemirror_mode": {
        "name": "ipython",
        "version": 3
      },
      "file_extension": ".py",
      "mimetype": "text/x-python",
      "name": "python",
      "nbconvert_exporter": "python",
      "pygments_lexer": "ipython3",
      "version": "3.8.0"
    },
    "microsoft": {
      "host": {
        "AzureML": {
          "notebookHasBeenCompleted": true
        }
      },
      "ms_spell_check": {
        "ms_spell_check_language": "en"
      }
    },
    "nteract": {
      "version": "nteract-front-end@1.0.0"
    }
  },
  "nbformat": 4,
  "nbformat_minor": 5
}
