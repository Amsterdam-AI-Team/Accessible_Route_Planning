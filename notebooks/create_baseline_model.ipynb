{
  "cells": [
    {
      "cell_type": "markdown",
      "source": [
        "# Create baseline model\n",
        "route and origin+destination locations"
      ],
      "metadata": {
        "nteract": {
          "transient": {
            "deleting": false
          }
        }
      }
    },
    {
      "cell_type": "code",
      "source": [
        "# Select where to run notebook: \"azure\" or \"local\"\n",
        "my_run = \"azure\""
      ],
      "outputs": [],
      "execution_count": null,
      "metadata": {
        "jupyter": {
          "source_hidden": false,
          "outputs_hidden": false
        },
        "nteract": {
          "transient": {
            "deleting": false
          }
        },
        "gather": {
          "logged": 1700661137077
        }
      }
    },
    {
      "cell_type": "code",
      "source": [
        "import numpy as np\n",
        "import pandas as pd\n",
        "\n",
        "import shapely.ops as so\n",
        "import shapely.geometry as sg\n",
        "import geopandas as gpd\n",
        "\n",
        "import matplotlib.pyplot as plt\n",
        "import matplotlib.patches as mpatches\n",
        "import contextily as cx\n",
        "\n",
        "import networkx as nx\n",
        "import momepy\n",
        "\n",
        "import settings as st\n",
        "if my_run == \"azure\":\n",
        "    import config_azure as cf\n",
        "elif my_run == \"local\":\n",
        "    import config as cf"
      ],
      "outputs": [],
      "execution_count": null,
      "metadata": {
        "gather": {
          "logged": 1700661208690
        }
      }
    },
    {
      "cell_type": "markdown",
      "source": [
        "## Get network data"
      ],
      "metadata": {
        "nteract": {
          "transient": {
            "deleting": false
          }
        }
      }
    },
    {
      "cell_type": "code",
      "source": [
        "# Get basic pedestrian network with widths\n",
        "df = gpd.read_file(cf.output_file_widths)\n",
        "df.head(3)"
      ],
      "outputs": [],
      "execution_count": null,
      "metadata": {
        "jupyter": {
          "source_hidden": false,
          "outputs_hidden": false
        },
        "nteract": {
          "transient": {
            "deleting": false
          }
        },
        "gather": {
          "logged": 1700661216879
        }
      }
    },
    {
      "cell_type": "code",
      "source": [
        "# Create graph\n",
        "G = momepy.gdf_to_nx(df, approach=\"primal\", multigraph=True)"
      ],
      "outputs": [],
      "execution_count": null,
      "metadata": {
        "jupyter": {
          "source_hidden": false,
          "outputs_hidden": false
        },
        "nteract": {
          "transient": {
            "deleting": false
          }
        },
        "gather": {
          "logged": 1700661221923
        }
      }
    },
    {
      "cell_type": "markdown",
      "source": [
        "## Get start and end location"
      ],
      "metadata": {
        "nteract": {
          "transient": {
            "deleting": false
          }
        }
      }
    },
    {
      "cell_type": "code",
      "source": [
        "#df_coords = pd.DataFrame({\"coordinates\": [\"origin\", \"destination\"],\n",
        "#        \"latitude\": [52.35334092728026, 52.3530251803945],\n",
        "#        \"longitude\": [4.794123653644032, 4.795162914332731]})\n",
        "#\n",
        "#df_coords = pd.DataFrame({\"coordinates\": [\"origin\", \"destination\"],\n",
        "#        \"latitude\": [52.357453149357, 52.35728713372162],\n",
        "#        \"longitude\": [4.793142721280574, 4.793296733304029]})\n",
        "\n",
        "df_coords = pd.DataFrame({\"coordinates\": [\"origin\", \"destination\"],\n",
        "        \"latitude\": [52.358259455484855, 52.35716683958979],\n",
        "        \"longitude\": [4.791934580267541, 4.7926534122913855]})"
      ],
      "outputs": [],
      "execution_count": null,
      "metadata": {
        "jupyter": {
          "source_hidden": false,
          "outputs_hidden": false
        },
        "nteract": {
          "transient": {
            "deleting": false
          }
        },
        "gather": {
          "logged": 1700661222088
        }
      }
    },
    {
      "cell_type": "code",
      "source": [
        "gdf_coords = gpd.GeoDataFrame(\n",
        "    df_coords, geometry=gpd.points_from_xy(df_coords.longitude, df_coords.latitude), crs=\"EPSG:4326\"\n",
        ")\n",
        "gdf_coords = gdf_coords.to_crs(st.CRS)\n",
        "gdf_coords = gdf_coords[['coordinates', 'geometry']]"
      ],
      "outputs": [],
      "execution_count": null,
      "metadata": {
        "jupyter": {
          "source_hidden": false,
          "outputs_hidden": false
        },
        "nteract": {
          "transient": {
            "deleting": false
          }
        },
        "gather": {
          "logged": 1700661222250
        }
      }
    },
    {
      "cell_type": "markdown",
      "source": [
        "## Create objective"
      ],
      "metadata": {
        "nteract": {
          "transient": {
            "deleting": false
          }
        }
      }
    },
    {
      "cell_type": "code",
      "source": [
        "# Create input column for weight based on width\n",
        "min_width = 2.1  # based on user profile\n",
        "\n",
        "df['accessible_width'] = 10000\n",
        "if min_width <= 0.9:\n",
        "    df.loc[df['obstacle_free_width'].isin(['0.9-1.5m']), 'accessible_width'] = 1.5\n",
        "    df.loc[df['obstacle_free_width'].isin(['1.5-2.0m', '2.0-2.2m', '2.2-2.9m', '2.9-3.6m', '>3.6m']), 'accessible_width'] = 1\n",
        "elif (min_width > 0.9) & (min_width <= 1.5):\n",
        "    df.loc[df['obstacle_free_width'].isin(['1.5-2.0m']), 'accessible_width'] = 1.5\n",
        "    df.loc[df['obstacle_free_width'].isin(['2.0-2.2m', '2.2-2.9m', '2.9-3.6m', '>3.6m']), 'accessible_width'] = 1\n",
        "elif (min_width > 1.5) & (min_width <= 2.0):\n",
        "    df.loc[df['obstacle_free_width'].isin(['2.0-2.2m']), 'accessible_width'] = 1.5\n",
        "    df.loc[df['obstacle_free_width'].isin(['2.2-2.9m', '2.9-3.6m', '>3.6m']), 'accessible_width'] = 1\n",
        "elif (min_width > 2.0) & (min_width <= 2.2):\n",
        "    df.loc[df['obstacle_free_width'].isin(['2.2-2.9m']), 'accessible_width'] = 1.5\n",
        "    df.loc[df['obstacle_free_width'].isin(['2.9-3.6m', '>3.6m']), 'accessible_width'] = 1\n",
        "elif (min_width > 2.2) & (min_width <= 2.9):\n",
        "    df.loc[df['obstacle_free_width'].isin(['2.9-3.6m']), 'accessible_width'] = 1.5\n",
        "    df.loc[df['obstacle_free_width'].isin(['>3.6m']), 'accessible_width'] = 1\n",
        "elif (min_width > 2.9) & (min_width <= 3.6):\n",
        "    df.loc[df['obstacle_free_width'].isin(['>3.6m']), 'accessible_width'] = 1.5"
      ],
      "outputs": [],
      "execution_count": null,
      "metadata": {
        "jupyter": {
          "source_hidden": false,
          "outputs_hidden": false
        },
        "nteract": {
          "transient": {
            "deleting": false
          }
        },
        "gather": {
          "logged": 1700661222417
        }
      }
    },
    {
      "cell_type": "code",
      "source": [
        "# Define weight (combination of objectives) -- DUMMY version for now\n",
        "df['my_weight'] = df['length'] + df['accessible_width']*df['length'] "
      ],
      "outputs": [],
      "execution_count": null,
      "metadata": {
        "jupyter": {
          "source_hidden": false,
          "outputs_hidden": false
        },
        "nteract": {
          "transient": {
            "deleting": false
          }
        },
        "gather": {
          "logged": 1700661222586
        }
      }
    },
    {
      "cell_type": "markdown",
      "source": [
        "## Get route"
      ],
      "metadata": {
        "nteract": {
          "transient": {
            "deleting": false
          }
        }
      }
    },
    {
      "cell_type": "code",
      "source": [
        "# Get origin and destination location\n",
        "origin_point = gdf_coords.loc[gdf_coords['coordinates'] == 'origin', 'geometry'].values[0]\n",
        "dest_point = gdf_coords.loc[gdf_coords['coordinates'] == 'destination', 'geometry'].values[0]\n",
        "\n",
        "# Get origin and destination node location\n",
        "origin_node_loc = so.nearest_points(origin_point, sg.MultiPoint(list(G.nodes)))[1]\n",
        "dest_node_loc = so.nearest_points(dest_point, sg.MultiPoint(list(G.nodes)))[1]\n",
        "\n",
        "# Get origin and destination node\n",
        "origin_node = (origin_node_loc.x, origin_node_loc.y)\n",
        "dest_node = (dest_node_loc.x, dest_node_loc.y)   "
      ],
      "outputs": [],
      "execution_count": null,
      "metadata": {
        "jupyter": {
          "source_hidden": false,
          "outputs_hidden": false
        },
        "nteract": {
          "transient": {
            "deleting": false
          }
        },
        "gather": {
          "logged": 1700661222869
        }
      }
    },
    {
      "cell_type": "code",
      "source": [
        "# Get 'shortest' path between origin and destination, based on custom weight\n",
        "my_path = nx.shortest_path(G, origin_node, dest_node, weight='my_weight')"
      ],
      "outputs": [],
      "execution_count": null,
      "metadata": {
        "jupyter": {
          "source_hidden": false,
          "outputs_hidden": false
        },
        "nteract": {
          "transient": {
            "deleting": false
          }
        },
        "gather": {
          "logged": 1700661223036
        }
      }
    },
    {
      "cell_type": "code",
      "source": [
        "# Put 'shortest' path in a dataframe\n",
        "G_path = nx.subgraph(G, my_path)\n",
        "df_path = momepy.nx_to_gdf(G_path, lines=True, points=False)\n",
        "df_path.head(3)"
      ],
      "outputs": [],
      "execution_count": null,
      "metadata": {
        "jupyter": {
          "source_hidden": false,
          "outputs_hidden": false
        },
        "nteract": {
          "transient": {
            "deleting": false
          }
        },
        "gather": {
          "logged": 1700661229824
        }
      }
    },
    {
      "cell_type": "markdown",
      "source": [
        "## Visualize"
      ],
      "metadata": {
        "nteract": {
          "transient": {
            "deleting": false
          }
        }
      }
    },
    {
      "cell_type": "code",
      "source": [
        "# Subset network\n",
        "my_rad = 100\n",
        "gdf_coords['buffer'] = gdf_coords['geometry'].buffer(my_rad, cap_style=3)\n",
        "plot_area = gpd.GeoDataFrame(geometry=[gdf_coords['buffer'][0].union(gdf_coords['buffer'][1])], crs=st.CRS)\n",
        "df_sub = gpd.sjoin(df, plot_area, how='inner').reset_index()"
      ],
      "outputs": [],
      "execution_count": null,
      "metadata": {
        "jupyter": {
          "source_hidden": false,
          "outputs_hidden": false
        },
        "nteract": {
          "transient": {
            "deleting": false
          }
        },
        "gather": {
          "logged": 1700661236259
        }
      }
    },
    {
      "cell_type": "code",
      "source": [
        "fig, ax = plt.subplots(figsize=(10,10))\n",
        "\n",
        "# Network\n",
        "df_sub.plot(ax=ax, color='orange')\n",
        "\n",
        "# 'Shortest' path\n",
        "df_path.plot(ax=ax, color='black', linewidth=3)\n",
        "\n",
        "# Origin and destination location\n",
        "gdf_coords.plot(ax=ax, color='green', markersize=40)\n",
        "\n",
        "# Origin and destination nodes\n",
        "gpd.GeoSeries([origin_node_loc], crs=st.CRS).plot(ax=ax, color='blue', markersize=20)\n",
        "gpd.GeoSeries([dest_node_loc], crs=st.CRS).plot(ax=ax, color='blue', markersize=20)\n",
        "\n",
        "# Background\n",
        "cx.add_basemap(ax=ax, source=cx.providers.Esri.WorldImagery, crs=st.CRS)\n",
        "\n",
        "# Legend\n",
        "route = mpatches.Patch(color='black', label='Route')\n",
        "loc = mpatches.Patch(color='green', label= 'Origin & destination location')\n",
        "nodes = mpatches.Patch(color='blue', label= 'Origin & destination node')\n",
        "plt.legend(handles=[route,loc,nodes], loc='lower center')\n",
        "\n",
        "plt.axis('off')\n",
        "\n",
        "#plt.savefig(test_route.png, bbox_inches='tight')\n",
        "plt.show()"
      ],
      "outputs": [],
      "execution_count": null,
      "metadata": {
        "jupyter": {
          "source_hidden": false,
          "outputs_hidden": false
        },
        "nteract": {
          "transient": {
            "deleting": false
          }
        },
        "gather": {
          "logged": 1700661246804
        }
      }
    },
    {
      "cell_type": "markdown",
      "source": [
        "## Store data"
      ],
      "metadata": {
        "nteract": {
          "transient": {
            "deleting": false
          }
        }
      }
    },
    {
      "cell_type": "code",
      "source": [
        "#df_route['length'] = df_route['length'].round(2)\n",
        "#df_route = df_route.to_crs('epsg:4326')\n",
        "#df_route[['geometry', 'length']].to_csv('output/example_route.csv', sep=';')\n",
        "#df_route[['geometry', 'length']].to_file('output/example_route.gpkg', driver='GPKG')"
      ],
      "outputs": [],
      "execution_count": null,
      "metadata": {
        "jupyter": {
          "source_hidden": false,
          "outputs_hidden": false
        },
        "nteract": {
          "transient": {
            "deleting": false
          }
        },
        "gather": {
          "logged": 1700570667980
        }
      }
    },
    {
      "cell_type": "code",
      "source": [
        "#gdf_coords = gdf_coords.to_crs('epsg:4326')\n",
        "#gdf_coords.to_csv('output/example_locations.csv', sep=\";\")\n",
        "#gdf_coords.to_file('output/example_locations.gpkg', driver='GPKG')"
      ],
      "outputs": [],
      "execution_count": null,
      "metadata": {
        "jupyter": {
          "source_hidden": false,
          "outputs_hidden": false
        },
        "nteract": {
          "transient": {
            "deleting": false
          }
        },
        "gather": {
          "logged": 1700570668265
        }
      }
    }
  ],
  "metadata": {
    "kernelspec": {
      "name": "venv_rp",
      "language": "python",
      "display_name": "venv_rp"
    },
    "language_info": {
      "name": "python",
      "version": "3.8.10",
      "mimetype": "text/x-python",
      "codemirror_mode": {
        "name": "ipython",
        "version": 3
      },
      "pygments_lexer": "ipython3",
      "nbconvert_exporter": "python",
      "file_extension": ".py"
    },
    "microsoft": {
      "ms_spell_check": {
        "ms_spell_check_language": "en"
      },
      "host": {
        "AzureML": {
          "notebookHasBeenCompleted": true
        }
      }
    },
    "kernel_info": {
      "name": "venv_rp"
    },
    "nteract": {
      "version": "nteract-front-end@1.0.0"
    }
  },
  "nbformat": 4,
  "nbformat_minor": 2
}