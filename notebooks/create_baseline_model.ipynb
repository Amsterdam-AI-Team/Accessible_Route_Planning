{
  "cells": [
    {
      "cell_type": "markdown",
      "metadata": {
        "nteract": {
          "transient": {
            "deleting": false
          }
        }
      },
      "source": [
        "# Create accessible route"
      ]
    },
    {
      "cell_type": "code",
      "execution_count": null,
      "metadata": {
        "gather": {
          "logged": 1706862555138
        },
        "jupyter": {
          "outputs_hidden": false,
          "source_hidden": false
        },
        "nteract": {
          "transient": {
            "deleting": false
          }
        }
      },
      "outputs": [],
      "source": [
        "# Select where to run notebook: \"azure\" or \"local\"\n",
        "my_run = \"azure\""
      ]
    },
    {
      "cell_type": "code",
      "execution_count": null,
      "metadata": {
        "gather": {
          "logged": 1706862695835
        }
      },
      "outputs": [],
      "source": [
        "import set_path\n",
        "\n",
        "import numpy as np\n",
        "import pandas as pd\n",
        "\n",
        "import shapely.ops as so\n",
        "import shapely.geometry as sg\n",
        "import geopandas as gpd\n",
        "\n",
        "import matplotlib.pyplot as plt\n",
        "import matplotlib.patches as mpatches\n",
        "import contextily as cx\n",
        "import folium\n",
        "\n",
        "import networkx as nx\n",
        "import momepy\n",
        "\n",
        "import plot_utils\n",
        "import poly_utils\n",
        "\n",
        "import settings as st\n",
        "if my_run == \"azure\":\n",
        "    import config_azure as cf\n",
        "elif my_run == \"local\":\n",
        "    import config as cf"
      ]
    },
    {
      "cell_type": "markdown",
      "metadata": {
        "nteract": {
          "transient": {
            "deleting": false
          }
        }
      },
      "source": [
        "## User inputs"
      ]
    },
    {
      "cell_type": "code",
      "execution_count": null,
      "metadata": {
        "gather": {
          "logged": 1706862696209
        },
        "jupyter": {
          "outputs_hidden": false,
          "source_hidden": false
        },
        "nteract": {
          "transient": {
            "deleting": false
          }
        }
      },
      "outputs": [],
      "source": [
        "# Profile settings\n",
        "max_curb_height = 0.04  # m\n",
        "min_sidewalk_width = 0.80  # m\n",
        "walk_bike_preference = 'walk' # choose between walk and bike"
      ]
    },
    {
      "cell_type": "code",
      "execution_count": null,
      "metadata": {
        "gather": {
          "logged": 1706862696549
        },
        "jupyter": {
          "outputs_hidden": false,
          "source_hidden": false
        },
        "nteract": {
          "transient": {
            "deleting": false
          }
        }
      },
      "outputs": [],
      "source": [
        "# # Route 1 (Nieuwmarkt/Lastage)\n",
        "origin_coords = [52.36961721766481, 4.9003201135539225]  # Pentagon 43\n",
        "dest_coords = [52.372116213810244, 4.900804660058156]  # Nieuwmarkt metro stop\n",
        "\n",
        "# # Route 2 (Nieuwmarkt/Lastage)\n",
        "# origin_coords = [52.37006044454489, 4.910663945243775]  # Nieuwe Herengracht 261\n",
        "# dest_coords = [52.36789258235766, 4.905669275986852]  # Mr. Visserplein, tram stop\n",
        "\n",
        "# # Route 3 (Nieuwmarkt/Lastage)\n",
        "# origin_coords = [52.36670252662803, 4.904332947310768]  # Jonas Daniël Meijerplein 50\n",
        "# dest_coords = [52.36789258235766, 4.905669275986852]  # Waterlooplein, metro ingang (TODO: correct location of entrance in network)\n",
        "\n",
        "# Route 4 (Osdorp-Midden)\n",
        "# origin_coords = [52.36383090783878, 4.79453871695722]  # Rapenburgerplein\n",
        "# dest_coords = [52.362275420653454, 4.78770521434305]  # Baden Powellweg, busstop\n",
        "\n",
        "# # Route 5 (Osdorp-Midden)\n",
        "# origin_coords = [52.362744704886246, 4.793565374557849]  # Willemskerkestraat 7\n",
        "# dest_coords = [52.36002038891118, 4.790022542072676]  # Saaftingestraat, bus stop\n",
        "\n",
        "# # Route 6 (Osdorp-Midden)\n",
        "# origin_coords = [52.35428532356661, 4.796174777612867]  # Lederambachtstraat 260\n",
        "# dest_coords = [52.35800870737117, 4.798853466754499]  # Hoekenes, tram/busstop\n",
        "\n",
        "# # Route 7 (Osdorp-Midden)\n",
        "# origin_coords = [52.34992615251687, 4.796073119507634]  # Klaas Katerstraat 154\n",
        "# dest_coords = [52.3529798396042, 4.79968797061476]  # Koos Vorrinkweg, bus"
      ]
    },
    {
      "cell_type": "markdown",
      "metadata": {
        "nteract": {
          "transient": {
            "deleting": false
          }
        }
      },
      "source": [
        "## Get network data"
      ]
    },
    {
      "cell_type": "code",
      "execution_count": null,
      "metadata": {
        "gather": {
          "logged": 1706862696948
        },
        "jupyter": {
          "outputs_hidden": false,
          "source_hidden": false
        },
        "nteract": {
          "transient": {
            "deleting": false
          }
        }
      },
      "outputs": [],
      "source": [
        "os.system('sudo blobfuse /home/azureuser/cloudfiles/code/blobfuse/sidewalk --tmp-path=/mnt/resource/blobfusetmp --config-file=/home/azureuser/cloudfiles/code/blobfuse/fuse_connection_sidewalk.cfg -o attr_timeout=3600 -o entry_timeout=3600 -o negative_timeout=3600 -o allow_other -o nonempty')"
      ]
    },
    {
      "cell_type": "code",
      "execution_count": null,
      "metadata": {
        "gather": {
          "logged": 1706862731327
        },
        "jupyter": {
          "outputs_hidden": false,
          "source_hidden": false
        },
        "nteract": {
          "transient": {
            "deleting": false
          }
        }
      },
      "outputs": [],
      "source": [
        "# Get network with widths,crossings and public transport stops\n",
        "df_raw = gpd.read_file(cf.output_basic_network_including_crossings)"
      ]
    },
    {
      "cell_type": "code",
      "execution_count": null,
      "metadata": {
        "gather": {
          "logged": 1706862731883
        },
        "jupyter": {
          "outputs_hidden": false,
          "source_hidden": false
        },
        "nteract": {
          "transient": {
            "deleting": false
          }
        }
      },
      "outputs": [],
      "source": [
        "# Select relevant columns\n",
        "df = df_raw[['length', 'obstacle_free_width_float', 'width_fill', 'sidewalk_id', 'crossing',\n",
        "       'walk_bike_connection', 'walk_public_transport_stop_connection',\n",
        "       'public_transport_stop', 'bikepath_id',\n",
        "       'crossing_type', 'curb_height_max', 'stop_type', 'stop_name',\n",
        "       'stop_placement_type', 'wheelchair_accessible', 'geometry']]\n",
        "df = df.rename(columns={'walk_public_transport_stop_connection': 'walk_pt_connection'})\n",
        "df.head(3)"
      ]
    },
    {
      "cell_type": "code",
      "execution_count": null,
      "metadata": {
        "gather": {
          "logged": 1706862732298
        },
        "jupyter": {
          "outputs_hidden": false,
          "source_hidden": false
        },
        "nteract": {
          "transient": {
            "deleting": false
          }
        }
      },
      "outputs": [],
      "source": [
        "# Check if missings values are as expected\n",
        "print(len(df))\n",
        "df.isna().sum()"
      ]
    },
    {
      "cell_type": "markdown",
      "metadata": {
        "nteract": {
          "transient": {
            "deleting": false
          }
        }
      },
      "source": [
        "## Set hard limits"
      ]
    },
    {
      "cell_type": "code",
      "execution_count": null,
      "metadata": {
        "gather": {
          "logged": 1706862732636
        },
        "jupyter": {
          "outputs_hidden": false,
          "source_hidden": false
        },
        "nteract": {
          "transient": {
            "deleting": false
          }
        }
      },
      "outputs": [],
      "source": [
        "df['include'] = 1"
      ]
    },
    {
      "cell_type": "markdown",
      "metadata": {
        "nteract": {
          "transient": {
            "deleting": false
          }
        }
      },
      "source": [
        "### Prepare to drop crossings based max curb height"
      ]
    },
    {
      "cell_type": "code",
      "execution_count": null,
      "metadata": {
        "gather": {
          "logged": 1706862732994
        },
        "jupyter": {
          "outputs_hidden": false,
          "source_hidden": false
        },
        "nteract": {
          "transient": {
            "deleting": false
          }
        }
      },
      "outputs": [],
      "source": [
        "# Check if there are any curb height crossings without max height\n",
        "df[df['crossing_type'] == 'curb_height']['curb_height_max'].value_counts(dropna=False)"
      ]
    },
    {
      "cell_type": "code",
      "execution_count": null,
      "metadata": {
        "gather": {
          "logged": 1706862733362
        },
        "jupyter": {
          "outputs_hidden": false,
          "source_hidden": false
        },
        "nteract": {
          "transient": {
            "deleting": false
          }
        }
      },
      "outputs": [],
      "source": [
        "# Don't include crossings with curbs that are too high\n",
        "df.loc[df['curb_height_max'] > max_curb_height, 'include'] = 0"
      ]
    },
    {
      "cell_type": "code",
      "execution_count": null,
      "metadata": {
        "gather": {
          "logged": 1706862733657
        },
        "jupyter": {
          "outputs_hidden": false,
          "source_hidden": false
        },
        "nteract": {
          "transient": {
            "deleting": false
          }
        }
      },
      "outputs": [],
      "source": [
        "# Check if the right amount of paths are included\n",
        "print(df['curb_height_max'].value_counts(dropna=False))\n",
        "print(df['include'].value_counts(dropna=False))"
      ]
    },
    {
      "cell_type": "markdown",
      "metadata": {
        "nteract": {
          "transient": {
            "deleting": false
          }
        }
      },
      "source": [
        "### Prepare to drop paths based on min width"
      ]
    },
    {
      "cell_type": "code",
      "execution_count": null,
      "metadata": {
        "gather": {
          "logged": 1706862733981
        },
        "jupyter": {
          "outputs_hidden": false,
          "source_hidden": false
        },
        "nteract": {
          "transient": {
            "deleting": false
          }
        }
      },
      "outputs": [],
      "source": [
        "# TODO determine if this is final and if we want to keep it here\n",
        "# Give crossings a width\n",
        "df.loc[df['crossing'] == 'Yes', 'obstacle_free_width_float'] = st.width_6\n",
        "df.loc[df['crossing'] == 'Yes', 'width_fill'] = 4\n",
        "\n",
        "# Give bike paths a width\n",
        "df.loc[~df['bikepath_id'].isnull(), 'obstacle_free_width_float'] = st.width_5\n",
        "df.loc[~df['bikepath_id'].isnull(), 'width_fill'] = 4\n",
        "\n",
        "# Give walk bike connections a width\n",
        "df.loc[df['walk_bike_connection'] == 'Yes', 'obstacle_free_width_float'] = st.width_5\n",
        "df.loc[df['walk_bike_connection'] == 'Yes', 'width_fill'] = 4\n",
        "\n",
        "# Give walk public transport stop connections a width if unknown\n",
        "df.loc[(df['walk_pt_connection'] == 'Yes') & df['obstacle_free_width_float'].isnull(), 'width_fill'] = 4\n",
        "df.loc[(df['walk_pt_connection'] == 'Yes') & df['obstacle_free_width_float'].isnull(), 'obstacle_free_width_float'] = st.width_2"
      ]
    },
    {
      "cell_type": "code",
      "execution_count": null,
      "metadata": {
        "gather": {
          "logged": 1706862734332
        },
        "jupyter": {
          "outputs_hidden": false,
          "source_hidden": false
        },
        "nteract": {
          "transient": {
            "deleting": false
          }
        }
      },
      "outputs": [],
      "source": [
        "# Check if there are any remaining paths without width\n",
        "df.loc[(df['obstacle_free_width_float'].isnull()) & (df['public_transport_stop'] == 'No')]"
      ]
    },
    {
      "cell_type": "code",
      "execution_count": null,
      "metadata": {
        "gather": {
          "logged": 1706862734697
        },
        "jupyter": {
          "outputs_hidden": false,
          "source_hidden": false
        },
        "nteract": {
          "transient": {
            "deleting": false
          }
        }
      },
      "outputs": [],
      "source": [
        "# Don't include paths that are too narrow\n",
        "df.loc[df['obstacle_free_width_float'] < min_sidewalk_width, 'include'] = 0"
      ]
    },
    {
      "cell_type": "code",
      "execution_count": null,
      "metadata": {
        "gather": {
          "logged": 1706862735019
        },
        "jupyter": {
          "outputs_hidden": false,
          "source_hidden": false
        },
        "nteract": {
          "transient": {
            "deleting": false
          }
        }
      },
      "outputs": [],
      "source": [
        "# Check if the right amount of paths are included\n",
        "print(df['obstacle_free_width_float'].value_counts())\n",
        "print(df['include'].value_counts(dropna=False))"
      ]
    },
    {
      "cell_type": "markdown",
      "metadata": {
        "nteract": {
          "transient": {
            "deleting": false
          }
        }
      },
      "source": [
        "## Create objective"
      ]
    },
    {
      "cell_type": "code",
      "execution_count": null,
      "metadata": {
        "gather": {
          "logged": 1706862735473
        },
        "jupyter": {
          "outputs_hidden": false,
          "source_hidden": false
        },
        "nteract": {
          "transient": {
            "deleting": false
          }
        }
      },
      "outputs": [],
      "source": [
        "# Define weight (combination of objectives)\n",
        "df['my_weight'] = df['length']"
      ]
    },
    {
      "cell_type": "markdown",
      "metadata": {
        "nteract": {
          "transient": {
            "deleting": false
          }
        }
      },
      "source": [
        "### Include preference to prevent crossings"
      ]
    },
    {
      "cell_type": "code",
      "execution_count": null,
      "metadata": {
        "gather": {
          "logged": 1706862735798
        },
        "jupyter": {
          "outputs_hidden": false,
          "source_hidden": false
        },
        "nteract": {
          "transient": {
            "deleting": false
          }
        }
      },
      "outputs": [],
      "source": [
        "crossing_weight_factor = 1.4\n",
        "df.loc[df['crossing'] == 'Yes', 'my_weight'] = df['length'] * crossing_weight_factor"
      ]
    },
    {
      "cell_type": "markdown",
      "metadata": {
        "nteract": {
          "transient": {
            "deleting": false
          }
        }
      },
      "source": [
        "### Include bike/pedestrian preference"
      ]
    },
    {
      "cell_type": "code",
      "execution_count": null,
      "metadata": {
        "gather": {
          "logged": 1706862736105
        },
        "jupyter": {
          "outputs_hidden": false,
          "source_hidden": false
        },
        "nteract": {
          "transient": {
            "deleting": false
          }
        }
      },
      "outputs": [],
      "source": [
        "walk_bike_preference_weight_factor = 0.6\n",
        "\n",
        "if walk_bike_preference == 'walk':\n",
        "    df.loc[df['bikepath_id'].notna(), 'my_weight'] = df['length'] * walk_bike_preference_weight_factor\n",
        "elif walk_bike_preference == 'bike':\n",
        "    df.loc[df['sidewalk_id'].notna(), 'my_weight'] = df['length'] * walk_bike_preference_weight_factor"
      ]
    },
    {
      "cell_type": "code",
      "execution_count": null,
      "metadata": {
        "gather": {
          "logged": 1706862736630
        },
        "jupyter": {
          "outputs_hidden": false,
          "source_hidden": false
        },
        "nteract": {
          "transient": {
            "deleting": false
          }
        }
      },
      "outputs": [],
      "source": [
        "# Check weights\n",
        "df['my_weight'].plot()"
      ]
    },
    {
      "cell_type": "code",
      "execution_count": null,
      "metadata": {
        "gather": {
          "logged": 1706862736951
        }
      },
      "outputs": [],
      "source": [
        "# Normalize weights\n",
        "df['my_weight'] = df['my_weight'] /df['my_weight'].abs().max()"
      ]
    },
    {
      "cell_type": "markdown",
      "metadata": {
        "nteract": {
          "transient": {
            "deleting": false
          }
        }
      },
      "source": [
        "## Store final dataframe"
      ]
    },
    {
      "cell_type": "code",
      "execution_count": null,
      "metadata": {
        "gather": {
          "logged": 1706862796063
        },
        "jupyter": {
          "outputs_hidden": false,
          "source_hidden": false
        },
        "nteract": {
          "transient": {
            "deleting": false
          }
        }
      },
      "outputs": [],
      "source": [
        "df.to_file(cf.output_final_network, driver='GPKG')"
      ]
    },
    {
      "cell_type": "markdown",
      "metadata": {
        "nteract": {
          "transient": {
            "deleting": false
          }
        }
      },
      "source": [
        "## Create graphs"
      ]
    },
    {
      "cell_type": "code",
      "execution_count": null,
      "metadata": {
        "gather": {
          "logged": 1706861741371
        },
        "jupyter": {
          "outputs_hidden": false,
          "source_hidden": false
        },
        "nteract": {
          "transient": {
            "deleting": false
          }
        }
      },
      "outputs": [],
      "source": [
        "# Select accessible paths to include\n",
        "df_sel = df[df['include'] == 1]"
      ]
    },
    {
      "cell_type": "code",
      "execution_count": null,
      "metadata": {
        "gather": {
          "logged": 1706861741839
        },
        "jupyter": {
          "outputs_hidden": false,
          "source_hidden": false
        },
        "nteract": {
          "transient": {
            "deleting": false
          }
        }
      },
      "outputs": [],
      "source": [
        "df.shape"
      ]
    },
    {
      "cell_type": "code",
      "execution_count": null,
      "metadata": {
        "gather": {
          "logged": 1706861742586
        },
        "jupyter": {
          "outputs_hidden": false,
          "source_hidden": false
        },
        "nteract": {
          "transient": {
            "deleting": false
          }
        }
      },
      "outputs": [],
      "source": [
        "df_sel.shape"
      ]
    },
    {
      "cell_type": "code",
      "execution_count": null,
      "metadata": {
        "gather": {
          "logged": 1706861759970
        },
        "jupyter": {
          "outputs_hidden": false,
          "source_hidden": false
        },
        "nteract": {
          "transient": {
            "deleting": false
          }
        }
      },
      "outputs": [],
      "source": [
        "# Create graph based on max height and min width\n",
        "G_sel = momepy.gdf_to_nx(df_sel, approach=\"primal\", multigraph=True)\n",
        "\n",
        "# Create full graph\n",
        "G = momepy.gdf_to_nx(df, approach=\"primal\", multigraph=True)"
      ]
    },
    {
      "cell_type": "markdown",
      "metadata": {
        "nteract": {
          "transient": {
            "deleting": false
          }
        }
      },
      "source": [
        "### Take connectivity into account"
      ]
    },
    {
      "cell_type": "code",
      "execution_count": null,
      "metadata": {
        "gather": {
          "logged": 1706861760353
        },
        "jupyter": {
          "outputs_hidden": false,
          "source_hidden": false
        },
        "nteract": {
          "transient": {
            "deleting": false
          }
        }
      },
      "outputs": [],
      "source": [
        "# Check sizes of connected components for full graph\n",
        "[len(c) for c in sorted(nx.connected_components(G), key=len, reverse=True)][:20]"
      ]
    },
    {
      "cell_type": "code",
      "execution_count": null,
      "metadata": {
        "gather": {
          "logged": 1706861760810
        },
        "jupyter": {
          "outputs_hidden": false,
          "source_hidden": false
        },
        "nteract": {
          "transient": {
            "deleting": false
          }
        }
      },
      "outputs": [],
      "source": [
        "# Check sizes of connected components for graph based on max height and min width\n",
        "[len(c) for c in sorted(nx.connected_components(G_sel), key=len, reverse=True)][:20]"
      ]
    },
    {
      "cell_type": "code",
      "execution_count": null,
      "metadata": {
        "gather": {
          "logged": 1706861766277
        },
        "jupyter": {
          "outputs_hidden": false,
          "source_hidden": false
        },
        "nteract": {
          "transient": {
            "deleting": false
          }
        }
      },
      "outputs": [],
      "source": [
        "# Get subgraphs\n",
        "S = [G.subgraph(c).copy() for c in sorted(nx.connected_components(G), key=len, reverse=True)]\n",
        "S_sel = [G_sel.subgraph(c).copy() for c in sorted(nx.connected_components(G_sel), key=len, reverse=True)]"
      ]
    },
    {
      "cell_type": "code",
      "execution_count": null,
      "metadata": {
        "gather": {
          "logged": 1706861770623
        },
        "jupyter": {
          "outputs_hidden": false,
          "source_hidden": false
        },
        "nteract": {
          "transient": {
            "deleting": false
          }
        }
      },
      "outputs": [],
      "source": [
        "# Compose final graph based on largest subgraphs\n",
        "G_con = nx.compose(S[0], S[1])\n",
        "G_sel_con = nx.compose(S_sel[0], S_sel[1])\n",
        "G_sel_con = nx.compose(G_sel_con, S_sel[2])\n",
        "G_sel_con = nx.compose(G_sel_con, S_sel[3])\n",
        "G_sel_con = nx.compose(G_sel_con, S_sel[4])"
      ]
    },
    {
      "cell_type": "markdown",
      "metadata": {
        "nteract": {
          "transient": {
            "deleting": false
          }
        }
      },
      "source": [
        "## Visualize network"
      ]
    },
    {
      "cell_type": "code",
      "execution_count": null,
      "metadata": {
        "gather": {
          "logged": 1706861779682
        },
        "jupyter": {
          "outputs_hidden": false,
          "source_hidden": false
        },
        "nteract": {
          "transient": {
            "deleting": false
          }
        }
      },
      "outputs": [],
      "source": [
        "# Create dataframes with full, connected and final network\n",
        "G_df = momepy.nx_to_gdf(G, points=False, lines=True)\n",
        "G_con_df = momepy.nx_to_gdf(G_con, points=False, lines=True)\n",
        "G_sel_con_df = momepy.nx_to_gdf(G_sel_con, points=False, lines=True)"
      ]
    },
    {
      "cell_type": "code",
      "execution_count": null,
      "metadata": {
        "gather": {
          "logged": 1706861780068
        },
        "jupyter": {
          "outputs_hidden": false,
          "source_hidden": false
        },
        "nteract": {
          "transient": {
            "deleting": false
          }
        }
      },
      "outputs": [],
      "source": [
        "G_df.shape"
      ]
    },
    {
      "cell_type": "code",
      "execution_count": null,
      "metadata": {
        "gather": {
          "logged": 1706861780457
        },
        "jupyter": {
          "outputs_hidden": false,
          "source_hidden": false
        },
        "nteract": {
          "transient": {
            "deleting": false
          }
        }
      },
      "outputs": [],
      "source": [
        "G_con_df.shape"
      ]
    },
    {
      "cell_type": "code",
      "execution_count": null,
      "metadata": {
        "gather": {
          "logged": 1706861780830
        },
        "jupyter": {
          "outputs_hidden": false,
          "source_hidden": false
        },
        "nteract": {
          "transient": {
            "deleting": false
          }
        }
      },
      "outputs": [],
      "source": [
        "G_sel_con_df.shape"
      ]
    },
    {
      "cell_type": "code",
      "execution_count": null,
      "metadata": {
        "gather": {
          "logged": 1706861781250
        },
        "jupyter": {
          "outputs_hidden": false,
          "source_hidden": false
        },
        "nteract": {
          "transient": {
            "deleting": false
          }
        }
      },
      "outputs": [],
      "source": [
        "# # Set center of map\n",
        "# area_coords = [52.375664816888225, 4.8632280955697995]\n",
        "\n",
        "# # Set to map coordinate reference system\n",
        "# G_df_show = G_df.to_crs(\"EPSG:4326\")\n",
        "# G_con_df_show = G_con_df.to_crs(\"EPSG:4326\")\n",
        "# G_sel_con_df_show = G_sel_con_df.to_crs(\"EPSG:4326\")\n",
        "\n",
        "# # Create basic map\n",
        "# my_map = folium.Map(\n",
        "#     location=area_coords,\n",
        "#     tiles='cartodbpositron',\n",
        "#     min_zoom=10, max_zoom=20, zoom_start=13,\n",
        "#     zoom_control=True, control_scale=True, control=False\n",
        "#     )\n",
        "\n",
        "# # Add complete network\n",
        "# folium.GeoJson(data=G_df_show, style_function=lambda x: {\"color\": \"lightgray\"}).add_to(my_map)\n",
        "\n",
        "# # Overlay network without hard limits (but with taking connectivity into account)\n",
        "# folium.GeoJson(data=G_con_df_show[G_con_df_show['crossing'] == 'No'], style_function=lambda x: {\"color\": \"lightblue\"}).add_to(my_map)\n",
        "# folium.GeoJson(data=G_con_df_show[G_con_df_show['crossing'] == 'Yes'], style_function=lambda x: {\"color\": \"pink\"}).add_to(my_map)\n",
        "# folium.GeoJson(data=G_con_df_show[~G_con_df_show['bikepath_id'].isnull()], style_function=lambda x: {\"color\": \"lightgreen\"}).add_to(my_map)\n",
        "\n",
        "# # Overlay final network (with hard limits and taking connectivity into account)\n",
        "# folium.GeoJson(data=G_sel_con_df_show[G_sel_con_df_show['crossing'] == 'No'], style_function=lambda x: {\"color\": \"blue\"}).add_to(my_map)  \n",
        "# folium.GeoJson(data=G_sel_con_df_show[G_sel_con_df_show['crossing'] == 'Yes'], style_function=lambda x: {\"color\": \"purple\"}).add_to(my_map)\n",
        "# folium.GeoJson(data=G_sel_con_df_show[~G_sel_con_df_show['bikepath_id'].isnull()], style_function=lambda x: {\"color\": \"darkgreen\"}).add_to(my_map)\n",
        "\n",
        "# # Add public transport stop nodes icluding information to the network\n",
        "# gdf_ptf = df.loc[df['public_transport_stop'] == 'Yes']\n",
        "# feature_names = gdf_ptf.columns.tolist()\n",
        "# feature_names.remove('geometry')\n",
        "# color_column = 'wheelchair_accessible'\n",
        "# tooltip = plot_utils.gen_tooltip(feature_names, feature_names)\n",
        "# folium.GeoJson(gdf_ptf, tooltip=tooltip, marker=folium.Marker(icon=folium.Icon(icon='solid fa-code-merge', prefix='fa')), style_function=lambda feature: {\"markerColor\": 'green' if\n",
        "#                                                                                                                                             feature[\"properties\"][color_column] == 'Yes' else \n",
        "#                                                                                                                                             'red' if feature[\"properties\"][color_column] == 'No' else\n",
        "#                                                                                                                                             'orange'}).add_to(my_map)"
      ]
    },
    {
      "cell_type": "code",
      "execution_count": null,
      "metadata": {
        "gather": {
          "logged": 1706861781620
        },
        "jupyter": {
          "outputs_hidden": false,
          "source_hidden": false
        },
        "nteract": {
          "transient": {
            "deleting": false
          }
        }
      },
      "outputs": [],
      "source": [
        "# # Store map\n",
        "# my_map.save(cf.network_map_final)"
      ]
    },
    {
      "cell_type": "markdown",
      "metadata": {
        "nteract": {
          "transient": {
            "deleting": false
          }
        }
      },
      "source": [
        "## Get route"
      ]
    },
    {
      "cell_type": "code",
      "execution_count": null,
      "metadata": {
        "gather": {
          "logged": 1706861782257
        },
        "jupyter": {
          "outputs_hidden": false,
          "source_hidden": false
        },
        "nteract": {
          "transient": {
            "deleting": false
          }
        }
      },
      "outputs": [],
      "source": [
        "# Define origin and destination\n",
        "df_coords = pd.DataFrame({\"coordinates\": [\"origin\", \"destination\"],\n",
        "       \"latitude\": [origin_coords[0], dest_coords[0]],\n",
        "       \"longitude\": [origin_coords[1], dest_coords[1]]})\n",
        "\n",
        "# Create geodataframe\n",
        "gdf_coords = gpd.GeoDataFrame(\n",
        "    df_coords, geometry=gpd.points_from_xy(df_coords.longitude, df_coords.latitude), crs=\"EPSG:4326\"\n",
        ")\n",
        "gdf_coords = gdf_coords.to_crs(st.CRS)\n",
        "gdf_coords = gdf_coords[['coordinates', 'geometry']]\n",
        "\n",
        "# Get origin and destination location\n",
        "origin_point = gdf_coords.loc[gdf_coords['coordinates'] == 'origin', 'geometry'].values[0]\n",
        "dest_point = gdf_coords.loc[gdf_coords['coordinates'] == 'destination', 'geometry'].values[0]"
      ]
    },
    {
      "cell_type": "code",
      "execution_count": null,
      "metadata": {
        "gather": {
          "logged": 1706861782584
        },
        "jupyter": {
          "outputs_hidden": false,
          "source_hidden": false
        },
        "nteract": {
          "transient": {
            "deleting": false
          }
        }
      },
      "outputs": [],
      "source": [
        "# Get origin and destination node location - in full network\n",
        "origin_node_loc = so.nearest_points(origin_point, sg.MultiPoint(list(G_con.nodes)))[1]\n",
        "dest_node_loc = so.nearest_points(dest_point, sg.MultiPoint(list(G_con.nodes)))[1]\n",
        "\n",
        "# Get origin and destination node - in full network\n",
        "origin_node = (origin_node_loc.x, origin_node_loc.y)\n",
        "dest_node = (dest_node_loc.x, dest_node_loc.y)\n",
        "print(origin_node)\n",
        "print(dest_node)"
      ]
    },
    {
      "cell_type": "code",
      "execution_count": null,
      "metadata": {
        "gather": {
          "logged": 1706861782911
        },
        "jupyter": {
          "outputs_hidden": false,
          "source_hidden": false
        },
        "nteract": {
          "transient": {
            "deleting": false
          }
        }
      },
      "outputs": [],
      "source": [
        "# Get origin and destination node location - in accessible network\n",
        "origin_node_sel_loc = so.nearest_points(origin_point, sg.MultiPoint(list(G_sel_con.nodes)))[1]\n",
        "dest_node_sel_loc = so.nearest_points(dest_point, sg.MultiPoint(list(G_sel_con.nodes)))[1]\n",
        "\n",
        "# Get origin and destination node - in accessible network\n",
        "origin_node_sel = (origin_node_sel_loc.x, origin_node_sel_loc.y)\n",
        "dest_node_sel = (dest_node_sel_loc.x, dest_node_sel_loc.y)\n",
        "print(origin_node_sel)\n",
        "print(dest_node_sel)"
      ]
    },
    {
      "cell_type": "code",
      "execution_count": null,
      "metadata": {
        "gather": {
          "logged": 1706861783270
        },
        "jupyter": {
          "outputs_hidden": false,
          "source_hidden": false
        },
        "nteract": {
          "transient": {
            "deleting": false
          }
        }
      },
      "outputs": [],
      "source": [
        "heuristic = 'dijkstra'\n",
        "# heuristic = 'a_star'\n",
        "\n",
        "elif heuristic =='dijkstra':\n",
        "    # Get shortest path between origin and destination, based on length (in full network)\n",
        "    my_path_length = nx.shortest_path(G_con, origin_node, dest_node, weight='length')\n",
        "    # Get 'shortest' path between origin and destination, based on custom weight (in accessible network)\n",
        "    my_path_weight = nx.shortest_path(G_sel_con, origin_node_sel, dest_node_sel, weight='my_weight')\n",
        "\n",
        "if heuristic == 'a_star':\n",
        "    # Get shortest path between origin and destination, based on length (in full network)\n",
        "    my_path_length = nx.astar_path(G_con, origin_node, dest_node, heuristic=poly_utils.dist, weight='length')\n",
        "    # Get 'shortest' path between origin and destination, based on custom weight (in accessible network)\n",
        "    my_path_weight = nx.astar_path(G_sel_con, origin_node_sel, dest_node_sel, heuristic=poly_utils.dist, weight='my_weight')"
      ]
    },
    {
      "cell_type": "code",
      "execution_count": null,
      "metadata": {
        "gather": {
          "logged": 1706861783610
        },
        "jupyter": {
          "outputs_hidden": false,
          "source_hidden": false
        },
        "nteract": {
          "transient": {
            "deleting": false
          }
        }
      },
      "outputs": [],
      "source": [
        "# Put shortest path (based on length) in a dataframe\n",
        "G_path_length = nx.subgraph(G_con, my_path_length)\n",
        "df_path_length = momepy.nx_to_gdf(G_path_length, lines=True, points=False)"
      ]
    },
    {
      "cell_type": "code",
      "execution_count": null,
      "metadata": {
        "gather": {
          "logged": 1706861783860
        },
        "jupyter": {
          "outputs_hidden": false,
          "source_hidden": false
        },
        "nteract": {
          "transient": {
            "deleting": false
          }
        }
      },
      "outputs": [],
      "source": [
        "# Put 'shortest' path (based on accessibility weight) in a dataframe\n",
        "G_path_weight = nx.subgraph(G_sel_con, my_path_weight)\n",
        "df_path_weight = momepy.nx_to_gdf(G_path_weight, lines=True, points=False)"
      ]
    },
    {
      "cell_type": "code",
      "execution_count": null,
      "metadata": {
        "gather": {
          "logged": 1706861784177
        },
        "jupyter": {
          "outputs_hidden": false,
          "source_hidden": false
        },
        "nteract": {
          "transient": {
            "deleting": false
          }
        }
      },
      "outputs": [],
      "source": [
        "# Check lengths of routes (m)\n",
        "print(df_path_length['mm_len'].sum().round())\n",
        "print(df_path_weight['mm_len'].sum().round())"
      ]
    },
    {
      "cell_type": "markdown",
      "metadata": {
        "nteract": {
          "transient": {
            "deleting": false
          }
        }
      },
      "source": [
        "## Visualize route"
      ]
    },
    {
      "cell_type": "code",
      "execution_count": null,
      "metadata": {
        "gather": {
          "logged": 1706861784510
        },
        "jupyter": {
          "outputs_hidden": false,
          "source_hidden": false
        },
        "nteract": {
          "transient": {
            "deleting": false
          }
        }
      },
      "outputs": [],
      "source": [
        "# Subset network for plotting\n",
        "my_rad = 70\n",
        "gdf_coords['buffer'] = gdf_coords['geometry'].buffer(my_rad, cap_style=3)\n",
        "plot_area = gpd.GeoDataFrame(geometry=[gdf_coords['buffer'][0].union(gdf_coords['buffer'][1])], crs=st.CRS)\n",
        "df_sub = gpd.sjoin(df, plot_area, how='inner').reset_index()"
      ]
    },
    {
      "cell_type": "code",
      "execution_count": null,
      "metadata": {
        "gather": {
          "logged": 1706861793778
        },
        "jupyter": {
          "outputs_hidden": false,
          "source_hidden": false
        },
        "nteract": {
          "transient": {
            "deleting": false
          }
        }
      },
      "outputs": [],
      "source": [
        "df_path_weight"
      ]
    },
    {
      "cell_type": "code",
      "execution_count": null,
      "metadata": {
        "gather": {
          "logged": 1706861950059
        },
        "jupyter": {
          "outputs_hidden": false,
          "source_hidden": false
        },
        "nteract": {
          "transient": {
            "deleting": false
          }
        }
      },
      "outputs": [],
      "source": [
        "fig, ax = plt.subplots(figsize=(10,10))\n",
        "\n",
        "# Network\n",
        "df_sub.plot(ax=ax, color='lightgrey', linewidth=1)\n",
        "\n",
        "# 'Shortest' paths\n",
        "df_path_weight.plot(ax=ax, color='black', linewidth=3)\n",
        "df_path_weight[~df_path_weight['bikepath_id'].isnull()].plot(ax=ax, color='darkgreen', linewidth=3)\n",
        "df_path_length.plot(ax=ax, color='grey', linewidth=2)\n",
        "\n",
        "# Origin and destination location\n",
        "gdf_coords.head(1).plot(ax=ax, color='blue', markersize=50)\n",
        "gdf_coords.tail(1).plot(ax=ax, color='red', markersize=50)\n",
        "\n",
        "# Origin and destination nodes\n",
        "gpd.GeoSeries([origin_node_sel_loc], crs=st.CRS).plot(ax=ax, color='blue', markersize=20)\n",
        "gpd.GeoSeries([dest_node_sel_loc], crs=st.CRS).plot(ax=ax, color='red', markersize=20)\n",
        "\n",
        "# Background\n",
        "cx.add_basemap(ax=ax, source=cx.providers.CartoDB.Voyager, crs=st.CRS)\n",
        "\n",
        "# Legend\n",
        "route_acc = mpatches.Patch(color='black', label='accessible route (pedestrian)')\n",
        "route_acc_b = mpatches.Patch(color='darkgreen', label='accessible route (bike)')\n",
        "route = mpatches.Patch(color='grey', label='shortest route')\n",
        "origin = mpatches.Patch(color='blue', label= 'origin')\n",
        "dest = mpatches.Patch(color='red', label= 'destination')\n",
        "plt.legend(handles=[route_acc,route_acc_b,route,origin,dest], loc='lower center')\n",
        "# plt.legend(handles=[route_acc,origin,dest], loc='lower center')\n",
        "\n",
        "plt.axis('off')\n",
        "\n",
        "# plt.savefig('../data/accessible_route.png', bbox_inches='tight')\n",
        "plt.show()"
      ]
    },
    {
      "cell_type": "markdown",
      "metadata": {
        "nteract": {
          "transient": {
            "deleting": false
          }
        }
      },
      "source": [
        "## Store route"
      ]
    },
    {
      "cell_type": "code",
      "execution_count": null,
      "metadata": {
        "gather": {
          "logged": 1706713379293
        },
        "jupyter": {
          "outputs_hidden": false,
          "source_hidden": false
        },
        "nteract": {
          "transient": {
            "deleting": false
          }
        }
      },
      "outputs": [],
      "source": [
        "df_path_weight['length'] = df_path_weight['length'].round(2)\n",
        "df_path_weight_store = df_path_weight.to_crs('epsg:4326')\n",
        "df_path_weight_store = df_path_weight_store[['geometry', 'length']]\n",
        "df_path_points_store = df_path_weight_store['geometry'].get_coordinates()\n",
        "df_path_points_store = df_path_points_store.reset_index(names='linestring_id')\n",
        "df_path_points_store"
      ]
    },
    {
      "cell_type": "code",
      "execution_count": null,
      "metadata": {
        "gather": {
          "logged": 1706713380554
        },
        "jupyter": {
          "outputs_hidden": false,
          "source_hidden": false
        },
        "nteract": {
          "transient": {
            "deleting": false
          }
        }
      },
      "outputs": [],
      "source": [
        "gdf_coords_store = gdf_coords.to_crs('epsg:4326')\n",
        "gdf_coords_store = gdf_coords_store[['coordinates', 'geometry']]\n",
        "gdf_coords_points_store = gdf_coords_store.set_index('coordinates')['geometry'].get_coordinates()\n",
        "gdf_coords_points_store = gdf_coords_points_store.reset_index()\n",
        "gdf_coords_points_store"
      ]
    },
    {
      "cell_type": "code",
      "execution_count": null,
      "metadata": {
        "gather": {
          "logged": 1706099667404
        },
        "jupyter": {
          "outputs_hidden": false,
          "source_hidden": false
        },
        "nteract": {
          "transient": {
            "deleting": false
          }
        }
      },
      "outputs": [],
      "source": [
        "# Store the data\n",
        "# df_path_points_store.to_csv('../data/accessible_route.csv', sep=';')\n",
        "# gdf_coords_points_store.to_csv('../data/accessible_route_start_end.csv', sep=';')"
      ]
    }
  ],
  "metadata": {
    "kernel_info": {
      "name": "venv_rp2"
    },
    "kernelspec": {
      "display_name": "venv_rp2",
      "language": "python",
      "name": "venv_rp2"
    },
    "language_info": {
      "codemirror_mode": {
        "name": "ipython",
        "version": 3
      },
      "file_extension": ".py",
      "mimetype": "text/x-python",
      "name": "python",
      "nbconvert_exporter": "python",
      "pygments_lexer": "ipython3",
      "version": "3.8.5"
    },
    "microsoft": {
      "host": {
        "AzureML": {
          "notebookHasBeenCompleted": true
        }
      },
      "ms_spell_check": {
        "ms_spell_check_language": "en"
      }
    },
    "nteract": {
      "version": "nteract-front-end@1.0.0"
    }
  },
  "nbformat": 4,
  "nbformat_minor": 2
}
