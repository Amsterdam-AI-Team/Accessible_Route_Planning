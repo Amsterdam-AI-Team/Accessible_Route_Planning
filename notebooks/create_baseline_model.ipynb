{
  "cells": [
    {
      "cell_type": "markdown",
      "source": [
        "# Create accessible route"
      ],
      "metadata": {
        "nteract": {
          "transient": {
            "deleting": false
          }
        }
      }
    },
    {
      "cell_type": "code",
      "source": [
        "# Select where to run notebook: \"azure\" or \"local\"\n",
        "my_run = \"azure\""
      ],
      "outputs": [],
      "execution_count": null,
      "metadata": {
        "jupyter": {
          "source_hidden": false,
          "outputs_hidden": false
        },
        "nteract": {
          "transient": {
            "deleting": false
          }
        },
        "gather": {
          "logged": 1706007040810
        }
      }
    },
    {
      "cell_type": "code",
      "source": [
        "import numpy as np\n",
        "import pandas as pd\n",
        "\n",
        "import shapely.ops as so\n",
        "import shapely.geometry as sg\n",
        "import geopandas as gpd\n",
        "\n",
        "import matplotlib.pyplot as plt\n",
        "import matplotlib.patches as mpatches\n",
        "import contextily as cx\n",
        "import folium\n",
        "\n",
        "import networkx as nx\n",
        "import momepy\n",
        "\n",
        "import settings as st\n",
        "if my_run == \"azure\":\n",
        "    import config_azure as cf\n",
        "elif my_run == \"local\":\n",
        "    import config as cf"
      ],
      "outputs": [],
      "execution_count": null,
      "metadata": {
        "gather": {
          "logged": 1706007149169
        }
      }
    },
    {
      "cell_type": "markdown",
      "source": [
        "## User inputs"
      ],
      "metadata": {
        "nteract": {
          "transient": {
            "deleting": false
          }
        }
      }
    },
    {
      "cell_type": "code",
      "source": [
        "# Profile settings\n",
        "max_curb_height = 0.04  # m\n",
        "min_sidewalk_width = 0.7  # m\n",
        "# TODO: add bike/pedestrian preference"
      ],
      "outputs": [],
      "execution_count": null,
      "metadata": {
        "jupyter": {
          "source_hidden": false,
          "outputs_hidden": false
        },
        "nteract": {
          "transient": {
            "deleting": false
          }
        },
        "gather": {
          "logged": 1706007149621
        }
      }
    },
    {
      "cell_type": "code",
      "source": [
        "# # Initial test location\n",
        "# origin_coords = [52.35544169630071, 4.7986989333355]\n",
        "# dest_coords = [52.35646800424747, 4.7979668425731345]\n",
        "\n",
        "# Mock-up data Nieuwmarkt/Lastage\n",
        "origin_coords = [52.36993698694683, 4.9006864615441765]\n",
        "dest_coords = [52.367735879083305, 4.9067488093229725]\n",
        "\n",
        "# # Mock-up data Osdorp-Midden\n",
        "# origin_coords = [52.35775604247446, 4.793441885105594]\n",
        "# dest_coords = [52.36102160116833, 4.794255970874044]\n",
        "\n",
        "# TODO adjust to final test locations from homes to public transport stops"
      ],
      "outputs": [],
      "execution_count": null,
      "metadata": {
        "jupyter": {
          "source_hidden": false,
          "outputs_hidden": false
        },
        "nteract": {
          "transient": {
            "deleting": false
          }
        },
        "gather": {
          "logged": 1706018452931
        }
      }
    },
    {
      "cell_type": "markdown",
      "source": [
        "## Get network data"
      ],
      "metadata": {
        "nteract": {
          "transient": {
            "deleting": false
          }
        }
      }
    },
    {
      "cell_type": "code",
      "source": [
        "os.system('sudo blobfuse /home/azureuser/cloudfiles/code/blobfuse/sidewalk --tmp-path=/mnt/resource/blobfusetmp --config-file=/home/azureuser/cloudfiles/code/blobfuse/fuse_connection_sidewalk.cfg -o attr_timeout=3600 -o entry_timeout=3600 -o negative_timeout=3600 -o allow_other -o nonempty')"
      ],
      "outputs": [],
      "execution_count": null,
      "metadata": {
        "jupyter": {
          "source_hidden": false,
          "outputs_hidden": false
        },
        "nteract": {
          "transient": {
            "deleting": false
          }
        },
        "gather": {
          "logged": 1706007150473
        }
      }
    },
    {
      "cell_type": "code",
      "source": [
        "# Get basic pedestrian network with widths & crossings\n",
        "df = gpd.read_file(cf.output_file_crossings)\n",
        "df['length'] = df['geometry'].length  # TODO remove once this is added in a previous notebook\n",
        "df.tail(3)"
      ],
      "outputs": [],
      "execution_count": null,
      "metadata": {
        "jupyter": {
          "source_hidden": false,
          "outputs_hidden": false
        },
        "nteract": {
          "transient": {
            "deleting": false
          }
        },
        "gather": {
          "logged": 1706007171436
        }
      }
    },
    {
      "cell_type": "markdown",
      "source": [
        "## Set hard limits"
      ],
      "metadata": {
        "nteract": {
          "transient": {
            "deleting": false
          }
        }
      }
    },
    {
      "cell_type": "code",
      "source": [
        "df['include'] = 1"
      ],
      "outputs": [],
      "execution_count": null,
      "metadata": {
        "jupyter": {
          "source_hidden": false,
          "outputs_hidden": false
        },
        "nteract": {
          "transient": {
            "deleting": false
          }
        },
        "gather": {
          "logged": 1706007171858
        }
      }
    },
    {
      "cell_type": "markdown",
      "source": [
        "### Prepare to drop crossings based max curb height"
      ],
      "metadata": {
        "nteract": {
          "transient": {
            "deleting": false
          }
        }
      }
    },
    {
      "cell_type": "code",
      "source": [
        "# Don't include crossings with curbs that are too high\n",
        "df.loc[df['curb_height_max'] > max_curb_height, 'include'] = 0"
      ],
      "outputs": [],
      "execution_count": null,
      "metadata": {
        "jupyter": {
          "source_hidden": false,
          "outputs_hidden": false
        },
        "nteract": {
          "transient": {
            "deleting": false
          }
        },
        "gather": {
          "logged": 1706007172242
        }
      }
    },
    {
      "cell_type": "code",
      "source": [
        "df['curb_height_max'].value_counts(dropna=False)"
      ],
      "outputs": [],
      "execution_count": null,
      "metadata": {
        "jupyter": {
          "source_hidden": false,
          "outputs_hidden": false
        },
        "nteract": {
          "transient": {
            "deleting": false
          }
        },
        "gather": {
          "logged": 1706007172665
        }
      }
    },
    {
      "cell_type": "code",
      "source": [
        "df['include'].value_counts(dropna=False)"
      ],
      "outputs": [],
      "execution_count": null,
      "metadata": {
        "jupyter": {
          "source_hidden": false,
          "outputs_hidden": false
        },
        "nteract": {
          "transient": {
            "deleting": false
          }
        },
        "gather": {
          "logged": 1706007173297
        }
      }
    },
    {
      "cell_type": "markdown",
      "source": [
        "### Prepare to drop paths based on min width"
      ],
      "metadata": {
        "nteract": {
          "transient": {
            "deleting": false
          }
        }
      }
    },
    {
      "cell_type": "code",
      "source": [
        " # TODO determine if this is final and if we want to keep it here\n",
        "# Give crossings a width\n",
        "df.loc[df['crossing'] == 'Yes', 'obstacle_free_width_float'] = st.width_6\n",
        "df.loc[df['crossing'] == 'Yes', 'width_fill'] = 4\n",
        "\n",
        "# Give bike paths a width\n",
        "df.loc[~df['bikepath_id'].isnull(), 'obstacle_free_width_float'] = st.width_5\n",
        "df.loc[~df['bikepath_id'].isnull(), 'width_fill'] = 4\n",
        "\n",
        "# Give walk bike connections a width\n",
        "df.loc[df['walk_bike_connection'] == 'Yes', 'obstacle_free_width_float'] = st.width_5\n",
        "df.loc[df['walk_bike_connection'] == 'Yes', 'width_fill'] = 4"
      ],
      "outputs": [],
      "execution_count": null,
      "metadata": {
        "jupyter": {
          "source_hidden": false,
          "outputs_hidden": false
        },
        "nteract": {
          "transient": {
            "deleting": false
          }
        },
        "gather": {
          "logged": 1706007174448
        }
      }
    },
    {
      "cell_type": "code",
      "source": [
        "# Don't include paths that are too narrow\n",
        "df.loc[df['obstacle_free_width_float'] < min_sidewalk_width, 'include'] = 0"
      ],
      "outputs": [],
      "execution_count": null,
      "metadata": {
        "jupyter": {
          "source_hidden": false,
          "outputs_hidden": false
        },
        "nteract": {
          "transient": {
            "deleting": false
          }
        },
        "gather": {
          "logged": 1706007174822
        }
      }
    },
    {
      "cell_type": "code",
      "source": [
        "df['obstacle_free_width_float'].value_counts()"
      ],
      "outputs": [],
      "execution_count": null,
      "metadata": {
        "jupyter": {
          "source_hidden": false,
          "outputs_hidden": false
        },
        "nteract": {
          "transient": {
            "deleting": false
          }
        },
        "gather": {
          "logged": 1706007175294
        }
      }
    },
    {
      "cell_type": "code",
      "source": [
        "df['include'].value_counts(dropna=False)"
      ],
      "outputs": [],
      "execution_count": null,
      "metadata": {
        "jupyter": {
          "source_hidden": false,
          "outputs_hidden": false
        },
        "nteract": {
          "transient": {
            "deleting": false
          }
        },
        "gather": {
          "logged": 1706007175823
        }
      }
    },
    {
      "cell_type": "markdown",
      "source": [
        "### Prepare to drop areas with maintenance"
      ],
      "metadata": {
        "nteract": {
          "transient": {
            "deleting": false
          }
        }
      }
    },
    {
      "cell_type": "code",
      "source": [
        "# # Don't include paths in areas with maintenance  # TODO\n",
        "# df.loc[df['maintenance'] == 'Yes', 'include'] = 0"
      ],
      "outputs": [],
      "execution_count": null,
      "metadata": {
        "jupyter": {
          "source_hidden": false,
          "outputs_hidden": false
        },
        "nteract": {
          "transient": {
            "deleting": false
          }
        },
        "gather": {
          "logged": 1706007176352
        }
      }
    },
    {
      "cell_type": "markdown",
      "source": [
        "## Create objective"
      ],
      "metadata": {
        "nteract": {
          "transient": {
            "deleting": false
          }
        }
      }
    },
    {
      "cell_type": "code",
      "source": [
        "# Define weight (combination of objectives)\n",
        "df['my_weight'] = df['length']"
      ],
      "outputs": [],
      "execution_count": null,
      "metadata": {
        "jupyter": {
          "source_hidden": false,
          "outputs_hidden": false
        },
        "nteract": {
          "transient": {
            "deleting": false
          }
        },
        "gather": {
          "logged": 1706007176823
        }
      }
    },
    {
      "cell_type": "markdown",
      "source": [
        "### Include preference to prevent crossings"
      ],
      "metadata": {
        "nteract": {
          "transient": {
            "deleting": false
          }
        }
      }
    },
    {
      "cell_type": "code",
      "source": [
        "df.loc[df['crossing'] == 'Yes', 'my_weight'] = df['length']*2  # TODO determine which factor to use"
      ],
      "outputs": [],
      "execution_count": null,
      "metadata": {
        "jupyter": {
          "source_hidden": false,
          "outputs_hidden": false
        },
        "nteract": {
          "transient": {
            "deleting": false
          }
        },
        "gather": {
          "logged": 1706007177257
        }
      }
    },
    {
      "cell_type": "code",
      "source": [
        "df['my_weight'].plot()"
      ],
      "outputs": [],
      "execution_count": null,
      "metadata": {
        "jupyter": {
          "source_hidden": false,
          "outputs_hidden": false
        },
        "nteract": {
          "transient": {
            "deleting": false
          }
        },
        "gather": {
          "logged": 1706007177878
        }
      }
    },
    {
      "cell_type": "markdown",
      "source": [
        "### Include bike/pedestrian preference"
      ],
      "metadata": {
        "nteract": {
          "transient": {
            "deleting": false
          }
        }
      }
    },
    {
      "cell_type": "code",
      "source": [
        "# TODO"
      ],
      "outputs": [],
      "execution_count": null,
      "metadata": {
        "jupyter": {
          "source_hidden": false,
          "outputs_hidden": false
        },
        "nteract": {
          "transient": {
            "deleting": false
          }
        },
        "gather": {
          "logged": 1706007178323
        }
      }
    },
    {
      "cell_type": "markdown",
      "source": [
        "## Create graphs"
      ],
      "metadata": {
        "nteract": {
          "transient": {
            "deleting": false
          }
        }
      }
    },
    {
      "cell_type": "code",
      "source": [
        "df_sel = df[df['include'] == 1]"
      ],
      "outputs": [],
      "execution_count": null,
      "metadata": {
        "jupyter": {
          "source_hidden": false,
          "outputs_hidden": false
        },
        "nteract": {
          "transient": {
            "deleting": false
          }
        },
        "gather": {
          "logged": 1706007178711
        }
      }
    },
    {
      "cell_type": "code",
      "source": [
        "df.shape"
      ],
      "outputs": [],
      "execution_count": null,
      "metadata": {
        "jupyter": {
          "source_hidden": false,
          "outputs_hidden": false
        },
        "nteract": {
          "transient": {
            "deleting": false
          }
        },
        "gather": {
          "logged": 1706007179105
        }
      }
    },
    {
      "cell_type": "code",
      "source": [
        "df_sel.shape"
      ],
      "outputs": [],
      "execution_count": null,
      "metadata": {
        "jupyter": {
          "source_hidden": false,
          "outputs_hidden": false
        },
        "nteract": {
          "transient": {
            "deleting": false
          }
        },
        "gather": {
          "logged": 1706007179586
        }
      }
    },
    {
      "cell_type": "code",
      "source": [
        "# Create graph based on max height and min width\n",
        "G_sel = momepy.gdf_to_nx(df_sel, approach=\"primal\", multigraph=True)\n",
        "\n",
        "# Create full graph\n",
        "G = momepy.gdf_to_nx(df, approach=\"primal\", multigraph=True)"
      ],
      "outputs": [],
      "execution_count": null,
      "metadata": {
        "jupyter": {
          "source_hidden": false,
          "outputs_hidden": false
        },
        "nteract": {
          "transient": {
            "deleting": false
          }
        },
        "gather": {
          "logged": 1706007188983
        }
      }
    },
    {
      "cell_type": "markdown",
      "source": [
        "### Take connectivity into account"
      ],
      "metadata": {
        "nteract": {
          "transient": {
            "deleting": false
          }
        }
      }
    },
    {
      "cell_type": "code",
      "source": [
        "# Check sizes of connected components for full graph\n",
        "[len(c) for c in sorted(nx.connected_components(G), key=len, reverse=True)][:20]"
      ],
      "outputs": [],
      "execution_count": null,
      "metadata": {
        "jupyter": {
          "source_hidden": false,
          "outputs_hidden": false
        },
        "nteract": {
          "transient": {
            "deleting": false
          }
        },
        "gather": {
          "logged": 1706007189824
        }
      }
    },
    {
      "cell_type": "code",
      "source": [
        "# Check sizes of connected components for graph based on max height and min width\n",
        "[len(c) for c in sorted(nx.connected_components(G_sel), key=len, reverse=True)][:20]"
      ],
      "outputs": [],
      "execution_count": null,
      "metadata": {
        "jupyter": {
          "source_hidden": false,
          "outputs_hidden": false
        },
        "nteract": {
          "transient": {
            "deleting": false
          }
        },
        "gather": {
          "logged": 1706007191259
        }
      }
    },
    {
      "cell_type": "code",
      "source": [
        "# Get subgraphs\n",
        "S = [G.subgraph(c).copy() for c in sorted(nx.connected_components(G), key=len, reverse=True)]\n",
        "S_sel = [G_sel.subgraph(c).copy() for c in sorted(nx.connected_components(G_sel), key=len, reverse=True)]"
      ],
      "outputs": [],
      "execution_count": null,
      "metadata": {
        "jupyter": {
          "source_hidden": false,
          "outputs_hidden": false
        },
        "nteract": {
          "transient": {
            "deleting": false
          }
        },
        "gather": {
          "logged": 1706007264443
        }
      }
    },
    {
      "cell_type": "code",
      "source": [
        "# Compose final graph based on largest subgraphs (for now 2, as we have 2 pilot areas\n",
        "G_con = nx.compose(S[0], S[1])\n",
        "G_sel_con = nx.compose(S_sel[0], S_sel[1],)\n",
        "G_sel_con = nx.compose(G_sel_con, S_sel[2])  # TODO, adjusted to larger amount to not loose a lot in centre\n",
        "G_sel_con = nx.compose(G_sel_con, S_sel[3])\n",
        "G_sel_con = nx.compose(G_sel_con, S_sel[4])\n",
        "G_sel_con = nx.compose(G_sel_con, S_sel[5])\n",
        "G_sel_con = nx.compose(G_sel_con, S_sel[6])\n",
        "G_sel_con = nx.compose(G_sel_con, S_sel[7])"
      ],
      "outputs": [],
      "execution_count": null,
      "metadata": {
        "jupyter": {
          "source_hidden": false,
          "outputs_hidden": false
        },
        "nteract": {
          "transient": {
            "deleting": false
          }
        },
        "gather": {
          "logged": 1706008157967
        }
      }
    },
    {
      "cell_type": "markdown",
      "source": [
        "## Visualize network"
      ],
      "metadata": {
        "nteract": {
          "transient": {
            "deleting": false
          }
        }
      }
    },
    {
      "cell_type": "code",
      "source": [
        "# Create dataframes with full, connected and final network\n",
        "G_df = momepy.nx_to_gdf(G, points=False, lines=True)\n",
        "G_con_df = momepy.nx_to_gdf(G_con, points=False, lines=True)\n",
        "G_sel_con_df = momepy.nx_to_gdf(G_sel_con, points=False, lines=True)"
      ],
      "outputs": [],
      "execution_count": null,
      "metadata": {
        "jupyter": {
          "source_hidden": false,
          "outputs_hidden": false
        },
        "nteract": {
          "transient": {
            "deleting": false
          }
        },
        "gather": {
          "logged": 1706008166788
        }
      }
    },
    {
      "cell_type": "code",
      "source": [
        "G_df.shape"
      ],
      "outputs": [],
      "execution_count": null,
      "metadata": {
        "jupyter": {
          "source_hidden": false,
          "outputs_hidden": false
        },
        "nteract": {
          "transient": {
            "deleting": false
          }
        },
        "gather": {
          "logged": 1706008167161
        }
      }
    },
    {
      "cell_type": "code",
      "source": [
        "G_con_df.shape"
      ],
      "outputs": [],
      "execution_count": null,
      "metadata": {
        "jupyter": {
          "source_hidden": false,
          "outputs_hidden": false
        },
        "nteract": {
          "transient": {
            "deleting": false
          }
        },
        "gather": {
          "logged": 1706008167567
        }
      }
    },
    {
      "cell_type": "code",
      "source": [
        "G_sel_con_df.shape"
      ],
      "outputs": [],
      "execution_count": null,
      "metadata": {
        "jupyter": {
          "source_hidden": false,
          "outputs_hidden": false
        },
        "nteract": {
          "transient": {
            "deleting": false
          }
        },
        "gather": {
          "logged": 1706008167953
        }
      }
    },
    {
      "cell_type": "code",
      "source": [
        "# Set center of map\n",
        "area_coords = [52.375664816888225, 4.8632280955697995]\n",
        "\n",
        "# Set to map coordinate reference system\n",
        "G_df_show = G_df.to_crs(\"EPSG:4326\")\n",
        "G_con_df_show = G_con_df.to_crs(\"EPSG:4326\")\n",
        "G_sel_con_df_show = G_sel_con_df.to_crs(\"EPSG:4326\")\n",
        "\n",
        "# Create basic map\n",
        "my_map = folium.Map(\n",
        "    location=area_coords,\n",
        "    tiles='cartodbpositron',\n",
        "    min_zoom=10, max_zoom=20, zoom_start=13,\n",
        "    zoom_control=True, control_scale=True, control=False\n",
        "    )\n",
        "\n",
        "# Add complete network\n",
        "folium.GeoJson(data=G_df_show, style_function=lambda x: {\"color\": \"lightgray\"}).add_to(my_map)\n",
        "\n",
        "# Overlay network without hard limits (but with taking connectivity into account)\n",
        "folium.GeoJson(data=G_con_df_show[G_con_df_show['crossing'] == 'No'], style_function=lambda x: {\"color\": \"lightblue\"}).add_to(my_map)\n",
        "folium.GeoJson(data=G_con_df_show[G_con_df_show['crossing'] == 'Yes'], style_function=lambda x: {\"color\": \"pink\"}).add_to(my_map)\n",
        "folium.GeoJson(data=G_con_df_show[~G_con_df_show['bikepath_id'].isnull()], style_function=lambda x: {\"color\": \"lightgreen\"}).add_to(my_map)\n",
        "\n",
        "# # Add lines that can't be included due to user settings (from complete network) (problem: curb crossings are often same for different heights)\n",
        "# folium.GeoJson(data=G_df_show[G_df_show['include'] == 0], style_function=lambda x: {\"color\": \"beige\"}).add_to(my_map)\n",
        "\n",
        "# Overlay final network (with hard limits and taking connectivity into account)\n",
        "folium.GeoJson(data=G_sel_con_df_show[G_sel_con_df_show['crossing'] == 'No'], style_function=lambda x: {\"color\": \"blue\"}).add_to(my_map)  \n",
        "folium.GeoJson(data=G_sel_con_df_show[G_sel_con_df_show['crossing'] == 'Yes'], style_function=lambda x: {\"color\": \"purple\"}).add_to(my_map)\n",
        "folium.GeoJson(data=G_sel_con_df_show[~G_sel_con_df_show['bikepath_id'].isnull()], style_function=lambda x: {\"color\": \"darkgreen\"}).add_to(my_map)"
      ],
      "outputs": [],
      "execution_count": null,
      "metadata": {
        "jupyter": {
          "source_hidden": false,
          "outputs_hidden": false
        },
        "nteract": {
          "transient": {
            "deleting": false
          }
        },
        "gather": {
          "logged": 1706018084441
        }
      }
    },
    {
      "cell_type": "code",
      "source": [
        "# Store map\n",
        "my_map.save(cf.network_map_final)"
      ],
      "outputs": [],
      "execution_count": null,
      "metadata": {
        "jupyter": {
          "source_hidden": false,
          "outputs_hidden": false
        },
        "nteract": {
          "transient": {
            "deleting": false
          }
        },
        "gather": {
          "logged": 1706018113346
        }
      }
    },
    {
      "cell_type": "markdown",
      "source": [
        "## Store network"
      ],
      "metadata": {
        "nteract": {
          "transient": {
            "deleting": false
          }
        }
      }
    },
    {
      "cell_type": "code",
      "source": [
        "# TODO store final graphs as dataframes?"
      ],
      "outputs": [],
      "execution_count": null,
      "metadata": {
        "jupyter": {
          "source_hidden": false,
          "outputs_hidden": false
        },
        "nteract": {
          "transient": {
            "deleting": false
          }
        },
        "gather": {
          "logged": 1705668784706
        }
      }
    },
    {
      "cell_type": "markdown",
      "source": [
        "## Get route"
      ],
      "metadata": {
        "nteract": {
          "transient": {
            "deleting": false
          }
        }
      }
    },
    {
      "cell_type": "code",
      "source": [
        "# Define origin and destination\n",
        "df_coords = pd.DataFrame({\"coordinates\": [\"origin\", \"destination\"],\n",
        "       \"latitude\": [origin_coords[0], dest_coords[0]],\n",
        "       \"longitude\": [origin_coords[1], dest_coords[1]]})\n",
        "\n",
        "# Create geodataframe\n",
        "gdf_coords = gpd.GeoDataFrame(\n",
        "    df_coords, geometry=gpd.points_from_xy(df_coords.longitude, df_coords.latitude), crs=\"EPSG:4326\"\n",
        ")\n",
        "gdf_coords = gdf_coords.to_crs(st.CRS)\n",
        "gdf_coords = gdf_coords[['coordinates', 'geometry']]"
      ],
      "outputs": [],
      "execution_count": null,
      "metadata": {
        "jupyter": {
          "source_hidden": false,
          "outputs_hidden": false
        },
        "nteract": {
          "transient": {
            "deleting": false
          }
        },
        "gather": {
          "logged": 1706018460788
        }
      }
    },
    {
      "cell_type": "code",
      "source": [
        "# Get origin and destination location\n",
        "origin_point = gdf_coords.loc[gdf_coords['coordinates'] == 'origin', 'geometry'].values[0]\n",
        "dest_point = gdf_coords.loc[gdf_coords['coordinates'] == 'destination', 'geometry'].values[0]\n",
        "\n",
        "# Get origin and destination node location - in accessible network\n",
        "origin_node_sel_loc = so.nearest_points(origin_point, sg.MultiPoint(list(G_sel_con.nodes)))[1]\n",
        "dest_node_sel_loc = so.nearest_points(dest_point, sg.MultiPoint(list(G_sel_con.nodes)))[1]\n",
        "\n",
        "# Get origin and destination node - in accessible network\n",
        "origin_node_sel = (origin_node_sel_loc.x, origin_node_sel_loc.y)\n",
        "dest_node_sel = (dest_node_sel_loc.x, dest_node_sel_loc.y)\n",
        "\n",
        "# Get origin and destination node location - in full network\n",
        "origin_node_loc = so.nearest_points(origin_point, sg.MultiPoint(list(G_con.nodes)))[1]\n",
        "dest_node_loc = so.nearest_points(dest_point, sg.MultiPoint(list(G_con.nodes)))[1]\n",
        "\n",
        "# Get origin and destination node - in full network\n",
        "origin_node = (origin_node_loc.x, origin_node_loc.y)\n",
        "dest_node = (dest_node_loc.x, dest_node_loc.y)"
      ],
      "outputs": [],
      "execution_count": null,
      "metadata": {
        "jupyter": {
          "source_hidden": false,
          "outputs_hidden": false
        },
        "nteract": {
          "transient": {
            "deleting": false
          }
        },
        "gather": {
          "logged": 1706018462685
        }
      }
    },
    {
      "cell_type": "code",
      "source": [
        "# Get 'shortest' path between origin and destination, based on custom weight\n",
        "my_path_weight = nx.shortest_path(G_sel_con, origin_node_sel, dest_node_sel, weight='my_weight')\n",
        "\n",
        "# Get 'shortest' path between origin and destination, based on length (for comparison)\n",
        "my_path_length = nx.shortest_path(G_con, origin_node, dest_node) #, weight='length')"
      ],
      "outputs": [],
      "execution_count": null,
      "metadata": {
        "jupyter": {
          "source_hidden": false,
          "outputs_hidden": false
        },
        "nteract": {
          "transient": {
            "deleting": false
          }
        },
        "gather": {
          "logged": 1706018464343
        }
      }
    },
    {
      "cell_type": "code",
      "source": [
        "# Put 'shortest' path in a dataframe, based on accessibility weight\n",
        "G_path_weight = nx.subgraph(G_sel_con, my_path_weight)\n",
        "df_path_weight = momepy.nx_to_gdf(G_path_weight, lines=True, points=False)\n",
        "df_path_weight.head(3)"
      ],
      "outputs": [],
      "execution_count": null,
      "metadata": {
        "jupyter": {
          "source_hidden": false,
          "outputs_hidden": false
        },
        "nteract": {
          "transient": {
            "deleting": false
          }
        },
        "gather": {
          "logged": 1706018466065
        }
      }
    },
    {
      "cell_type": "code",
      "source": [
        "# Put 'shortest' path in a dataframe, based on length\n",
        "G_path_length = nx.subgraph(G_con, my_path_length)\n",
        "df_path_length = momepy.nx_to_gdf(G_path_length, lines=True, points=False)\n",
        "df_path_length.head(3)"
      ],
      "outputs": [],
      "execution_count": null,
      "metadata": {
        "jupyter": {
          "source_hidden": false,
          "outputs_hidden": false
        },
        "nteract": {
          "transient": {
            "deleting": false
          }
        },
        "gather": {
          "logged": 1706018467537
        }
      }
    },
    {
      "cell_type": "markdown",
      "source": [
        "## Visualize route"
      ],
      "metadata": {
        "nteract": {
          "transient": {
            "deleting": false
          }
        }
      }
    },
    {
      "cell_type": "code",
      "source": [
        "# Subset network for plotting\n",
        "my_rad = 70\n",
        "gdf_coords['buffer'] = gdf_coords['geometry'].buffer(my_rad, cap_style=3)\n",
        "plot_area = gpd.GeoDataFrame(geometry=[gdf_coords['buffer'][0].union(gdf_coords['buffer'][1])], crs=st.CRS)\n",
        "df_sub = gpd.sjoin(df, plot_area, how='inner').reset_index()"
      ],
      "outputs": [],
      "execution_count": null,
      "metadata": {
        "jupyter": {
          "source_hidden": false,
          "outputs_hidden": false
        },
        "nteract": {
          "transient": {
            "deleting": false
          }
        },
        "gather": {
          "logged": 1706018472165
        }
      }
    },
    {
      "cell_type": "code",
      "source": [
        "fig, ax = plt.subplots(figsize=(10,10))\n",
        "\n",
        "# Network\n",
        "df_sub.plot(ax=ax, color='lightgrey', linewidth=1)\n",
        "\n",
        "# 'Shortest' paths\n",
        "df_path_weight.plot(ax=ax, color='black', linewidth=3)\n",
        "# df_path_length.plot(ax=ax, color='grey', linewidth=2)\n",
        "\n",
        "# Origin and destination location\n",
        "gdf_coords.head(1).plot(ax=ax, color='blue', markersize=50)\n",
        "gdf_coords.tail(1).plot(ax=ax, color='red', markersize=50)\n",
        "\n",
        "# Origin and destination nodes\n",
        "gpd.GeoSeries([origin_node_sel_loc], crs=st.CRS).plot(ax=ax, color='blue', markersize=20)\n",
        "gpd.GeoSeries([dest_node_sel_loc], crs=st.CRS).plot(ax=ax, color='red', markersize=20)\n",
        "\n",
        "# Background\n",
        "cx.add_basemap(ax=ax, source=cx.providers.CartoDB.Voyager, crs=st.CRS)\n",
        "\n",
        "# Legend\n",
        "route_acc = mpatches.Patch(color='black', label='accessible route')\n",
        "# route = mpatches.Patch(color='grey', label='shortest route')\n",
        "origin = mpatches.Patch(color='blue', label= 'origin')\n",
        "dest = mpatches.Patch(color='red', label= 'destination')\n",
        "# plt.legend(handles=[route_acc,route,origin,dest], loc='lower center')\n",
        "plt.legend(handles=[route_acc,origin,dest], loc='lower center')\n",
        "\n",
        "plt.axis('off')\n",
        "\n",
        "plt.savefig('../data/example_route_NL.png', bbox_inches='tight')\n",
        "#plt.savefig('../data/example_route_OM.png', bbox_inches='tight')\n",
        "\n",
        "plt.show()"
      ],
      "outputs": [],
      "execution_count": null,
      "metadata": {
        "jupyter": {
          "source_hidden": false,
          "outputs_hidden": false
        },
        "nteract": {
          "transient": {
            "deleting": false
          }
        },
        "gather": {
          "logged": 1706018584607
        }
      }
    },
    {
      "cell_type": "markdown",
      "source": [
        "## Store route"
      ],
      "metadata": {
        "nteract": {
          "transient": {
            "deleting": false
          }
        }
      }
    },
    {
      "cell_type": "code",
      "source": [
        "df_path_weight['length'] = df_path_weight['length'].round(2)\n",
        "df_path_weight_store = df_path_weight.to_crs('epsg:4326')\n",
        "df_path_weight_store = df_path_weight_store[['geometry', 'length']]\n",
        "df_path_weight_store"
      ],
      "outputs": [],
      "execution_count": null,
      "metadata": {
        "jupyter": {
          "source_hidden": false,
          "outputs_hidden": false
        },
        "nteract": {
          "transient": {
            "deleting": false
          }
        },
        "gather": {
          "logged": 1706018525306
        }
      }
    },
    {
      "cell_type": "code",
      "source": [
        "df_path_points_store = df_path_weight_store['geometry'].get_coordinates()\n",
        "df_path_points_store = df_path_points_store.reset_index(names='linestring_id')\n",
        "df_path_points_store"
      ],
      "outputs": [],
      "execution_count": null,
      "metadata": {
        "jupyter": {
          "source_hidden": false,
          "outputs_hidden": false
        },
        "nteract": {
          "transient": {
            "deleting": false
          }
        },
        "gather": {
          "logged": 1706018527059
        }
      }
    },
    {
      "cell_type": "code",
      "source": [
        "gdf_coords_store = gdf_coords.to_crs('epsg:4326')\n",
        "gdf_coords_store = gdf_coords_store[['coordinates', 'geometry']]\n",
        "gdf_coords_store\n",
        "# TODO store these differently as well?"
      ],
      "outputs": [],
      "execution_count": null,
      "metadata": {
        "jupyter": {
          "source_hidden": false,
          "outputs_hidden": false
        },
        "nteract": {
          "transient": {
            "deleting": false
          }
        },
        "gather": {
          "logged": 1706018530900
        }
      }
    },
    {
      "cell_type": "code",
      "source": [
        "# df_path_weight_store.to_csv('../data/example_route_NL.csv', sep=';')\n",
        "# df_path_weight_store.to_csv('../data/example_route_OM.csv', sep=';')\n",
        "\n",
        "df_path_points_store.to_csv('../data/example_route_NL_points.csv', sep=';')\n",
        "# df_path_points_store.to_csv('../data/example_route_OM_points.csv', sep=';')\n",
        "\n",
        "gdf_coords.to_csv('../data/example_locations_NL.csv', sep=\";\")\n",
        "# df_path_weight_store.to_csv('../data/example_locations_OM.csv', sep=';')"
      ],
      "outputs": [],
      "execution_count": null,
      "metadata": {
        "jupyter": {
          "source_hidden": false,
          "outputs_hidden": false
        },
        "nteract": {
          "transient": {
            "deleting": false
          }
        },
        "gather": {
          "logged": 1706018552127
        }
      }
    }
  ],
  "metadata": {
    "kernelspec": {
      "name": "venv_rp2",
      "language": "python",
      "display_name": "venv_rp2"
    },
    "language_info": {
      "name": "python",
      "version": "3.8.5",
      "mimetype": "text/x-python",
      "codemirror_mode": {
        "name": "ipython",
        "version": 3
      },
      "pygments_lexer": "ipython3",
      "nbconvert_exporter": "python",
      "file_extension": ".py"
    },
    "microsoft": {
      "ms_spell_check": {
        "ms_spell_check_language": "en"
      },
      "host": {
        "AzureML": {
          "notebookHasBeenCompleted": true
        }
      }
    },
    "kernel_info": {
      "name": "venv_rp2"
    },
    "nteract": {
      "version": "nteract-front-end@1.0.0"
    }
  },
  "nbformat": 4,
  "nbformat_minor": 2
}