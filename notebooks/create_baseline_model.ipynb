{
  "cells": [
    {
      "cell_type": "markdown",
      "source": [
        "# Create baseline model\n",
        "route and origin+destination locations"
      ],
      "metadata": {
        "nteract": {
          "transient": {
            "deleting": false
          }
        }
      }
    },
    {
      "cell_type": "code",
      "source": [
        "# Select where to run notebook: \"azure\" or \"local\"\n",
        "my_run = \"azure\""
      ],
      "outputs": [],
      "execution_count": null,
      "metadata": {
        "jupyter": {
          "source_hidden": false,
          "outputs_hidden": false
        },
        "nteract": {
          "transient": {
            "deleting": false
          }
        },
        "gather": {
          "logged": 1705502560366
        }
      }
    },
    {
      "cell_type": "code",
      "source": [
        "import numpy as np\n",
        "import pandas as pd\n",
        "\n",
        "import shapely.ops as so\n",
        "import shapely.geometry as sg\n",
        "import geopandas as gpd\n",
        "\n",
        "import matplotlib.pyplot as plt\n",
        "import matplotlib.patches as mpatches\n",
        "import contextily as cx\n",
        "\n",
        "import networkx as nx\n",
        "import momepy\n",
        "\n",
        "import settings as st\n",
        "if my_run == \"azure\":\n",
        "    import config_azure as cf\n",
        "elif my_run == \"local\":\n",
        "    import config as cf"
      ],
      "outputs": [],
      "execution_count": null,
      "metadata": {
        "gather": {
          "logged": 1705502650642
        }
      }
    },
    {
      "cell_type": "markdown",
      "source": [
        "## Get network data"
      ],
      "metadata": {
        "nteract": {
          "transient": {
            "deleting": false
          }
        }
      }
    },
    {
      "cell_type": "code",
      "source": [
        "os.system('sudo blobfuse /home/azureuser/cloudfiles/code/blobfuse/sidewalk --tmp-path=/mnt/resource/blobfusetmp --config-file=/home/azureuser/cloudfiles/code/blobfuse/fuse_connection_sidewalk.cfg -o attr_timeout=3600 -o entry_timeout=3600 -o negative_timeout=3600 -o allow_other -o nonempty')"
      ],
      "outputs": [],
      "execution_count": null,
      "metadata": {
        "jupyter": {
          "source_hidden": false,
          "outputs_hidden": false
        },
        "nteract": {
          "transient": {
            "deleting": false
          }
        },
        "gather": {
          "logged": 1705502651132
        }
      }
    },
    {
      "cell_type": "code",
      "source": [
        "# Get basic pedestrian network with widths & crossings\n",
        "df = gpd.read_file(cf.output_file_crossings)\n",
        "df['length'] = df['geometry'].length  # TODO remove once this is added in a previous notebook\n",
        "df.tail(3)"
      ],
      "outputs": [],
      "execution_count": null,
      "metadata": {
        "jupyter": {
          "source_hidden": false,
          "outputs_hidden": false
        },
        "nteract": {
          "transient": {
            "deleting": false
          }
        },
        "gather": {
          "logged": 1705507187182
        }
      }
    },
    {
      "cell_type": "code",
      "source": [
        "df.sort_values(by=['length'])"
      ],
      "outputs": [],
      "execution_count": null,
      "metadata": {
        "jupyter": {
          "source_hidden": false,
          "outputs_hidden": false
        },
        "nteract": {
          "transient": {
            "deleting": false
          }
        },
        "gather": {
          "logged": 1705507187530
        }
      }
    },
    {
      "cell_type": "markdown",
      "source": [
        "## User inputs"
      ],
      "metadata": {
        "nteract": {
          "transient": {
            "deleting": false
          }
        }
      }
    },
    {
      "cell_type": "code",
      "source": [
        "max_curb_height = 0.04  # m\n",
        "min_sidewalk_width = 0.7  # m"
      ],
      "outputs": [],
      "execution_count": null,
      "metadata": {
        "jupyter": {
          "source_hidden": false,
          "outputs_hidden": false
        },
        "nteract": {
          "transient": {
            "deleting": false
          }
        },
        "gather": {
          "logged": 1705507187843
        }
      }
    },
    {
      "cell_type": "code",
      "source": [
        "# Define origin and destination\n",
        "\n",
        "#Test without crossings\n",
        "df_coords = pd.DataFrame({\"coordinates\": [\"origin\", \"destination\"],\n",
        "       \"latitude\": [52.35544169630071, 52.35646800424747],\n",
        "       \"longitude\": [4.7986989333355, 4.7979668425731345]})\n",
        "\n",
        "# Mock-up data Nieuwmarkt/Lastage     \n",
        "#df_coords = pd.DataFrame({\"coordinates\": [\"origin\", \"destination\"],\n",
        "#        \"latitude\": [52.37078165480656, 52.36727669275347],\n",
        "#        \"longitude\": [4.904291948879987, 4.90184804984204]})\n",
        "\n",
        "# # Mock-up data Osdorp-Midden\n",
        "# df_coords = pd.DataFrame({\"coordinates\": [\"origin\", \"destination\"],\n",
        "#         \"latitude\": [52.35775604247446, 52.36102160116833],\n",
        "#         \"longitude\": [4.793441885105594, 4.794255970874044]})\n",
        "\n",
        "# Create geodataframe\n",
        "gdf_coords = gpd.GeoDataFrame(\n",
        "    df_coords, geometry=gpd.points_from_xy(df_coords.longitude, df_coords.latitude), crs=\"EPSG:4326\"\n",
        ")\n",
        "gdf_coords = gdf_coords.to_crs(st.CRS)\n",
        "gdf_coords = gdf_coords[['coordinates', 'geometry']]"
      ],
      "outputs": [],
      "execution_count": null,
      "metadata": {
        "jupyter": {
          "source_hidden": false,
          "outputs_hidden": false
        },
        "nteract": {
          "transient": {
            "deleting": false
          }
        },
        "gather": {
          "logged": 1705507607012
        }
      }
    },
    {
      "cell_type": "markdown",
      "source": [
        "## Hard limits"
      ],
      "metadata": {
        "nteract": {
          "transient": {
            "deleting": false
          }
        }
      }
    },
    {
      "cell_type": "code",
      "source": [
        "df['include'] = 1"
      ],
      "outputs": [],
      "execution_count": null,
      "metadata": {
        "jupyter": {
          "source_hidden": false,
          "outputs_hidden": false
        },
        "nteract": {
          "transient": {
            "deleting": false
          }
        },
        "gather": {
          "logged": 1705507188453
        }
      }
    },
    {
      "cell_type": "markdown",
      "source": [
        "### Prepare to drop crossings based max curb height"
      ],
      "metadata": {
        "nteract": {
          "transient": {
            "deleting": false
          }
        }
      }
    },
    {
      "cell_type": "code",
      "source": [
        "# Don't include crossings with curbs that are too high\n",
        "df.loc[df['curb_height_max'] > max_curb_height, 'include'] = 0"
      ],
      "outputs": [],
      "execution_count": null,
      "metadata": {
        "jupyter": {
          "source_hidden": false,
          "outputs_hidden": false
        },
        "nteract": {
          "transient": {
            "deleting": false
          }
        },
        "gather": {
          "logged": 1705507188748
        }
      }
    },
    {
      "cell_type": "code",
      "source": [
        "df['curb_height_max'].value_counts(dropna=False)"
      ],
      "outputs": [],
      "execution_count": null,
      "metadata": {
        "jupyter": {
          "source_hidden": false,
          "outputs_hidden": false
        },
        "nteract": {
          "transient": {
            "deleting": false
          }
        },
        "gather": {
          "logged": 1705507189093
        }
      }
    },
    {
      "cell_type": "code",
      "source": [
        "df['include'].value_counts(dropna=False)"
      ],
      "outputs": [],
      "execution_count": null,
      "metadata": {
        "jupyter": {
          "source_hidden": false,
          "outputs_hidden": false
        },
        "nteract": {
          "transient": {
            "deleting": false
          }
        },
        "gather": {
          "logged": 1705507189446
        }
      }
    },
    {
      "cell_type": "markdown",
      "source": [
        "## Prepare to drop paths based on min width"
      ],
      "metadata": {
        "nteract": {
          "transient": {
            "deleting": false
          }
        }
      }
    },
    {
      "cell_type": "code",
      "source": [
        " # TODO remove once we have these in the final dataset\n",
        "df['obstacle_free_width_float'] = 0.8\n",
        "change = df.sample(500).index\n",
        "df.loc[change,'obstacle_free_width_float'] = 0.4"
      ],
      "outputs": [],
      "execution_count": null,
      "metadata": {
        "jupyter": {
          "source_hidden": false,
          "outputs_hidden": false
        },
        "nteract": {
          "transient": {
            "deleting": false
          }
        },
        "gather": {
          "logged": 1705507189810
        }
      }
    },
    {
      "cell_type": "code",
      "source": [
        " # TODO determine if this is final and if we want to keep it here\n",
        "# Give crossings a width\n",
        "df.loc[df['crossing'] == 'Yes', 'obstacle_free_width_float'] = st.width_6\n",
        "\n",
        "# Give bike paths a width\n",
        "df.loc[~df['bikepath_id'].isnull(), 'obstacle_free_width_float'] = st.width_5   # TODO: base on yes/no bike column?"
      ],
      "outputs": [],
      "execution_count": null,
      "metadata": {
        "jupyter": {
          "source_hidden": false,
          "outputs_hidden": false
        },
        "nteract": {
          "transient": {
            "deleting": false
          }
        },
        "gather": {
          "logged": 1705507190680
        }
      }
    },
    {
      "cell_type": "code",
      "source": [
        "# Don't include paths that are too narrow\n",
        "df.loc[df['obstacle_free_width_float'] < min_sidewalk_width, 'include'] = 0"
      ],
      "outputs": [],
      "execution_count": null,
      "metadata": {
        "jupyter": {
          "source_hidden": false,
          "outputs_hidden": false
        },
        "nteract": {
          "transient": {
            "deleting": false
          }
        },
        "gather": {
          "logged": 1705507193095
        }
      }
    },
    {
      "cell_type": "code",
      "source": [
        "df['obstacle_free_width_float'].value_counts()"
      ],
      "outputs": [],
      "execution_count": null,
      "metadata": {
        "jupyter": {
          "source_hidden": false,
          "outputs_hidden": false
        },
        "nteract": {
          "transient": {
            "deleting": false
          }
        },
        "gather": {
          "logged": 1705507194225
        }
      }
    },
    {
      "cell_type": "code",
      "source": [
        "df['include'].value_counts(dropna=False)"
      ],
      "outputs": [],
      "execution_count": null,
      "metadata": {
        "jupyter": {
          "source_hidden": false,
          "outputs_hidden": false
        },
        "nteract": {
          "transient": {
            "deleting": false
          }
        },
        "gather": {
          "logged": 1705507197051
        }
      }
    },
    {
      "cell_type": "markdown",
      "source": [
        "## Objective"
      ],
      "metadata": {
        "nteract": {
          "transient": {
            "deleting": false
          }
        }
      }
    },
    {
      "cell_type": "code",
      "source": [
        "# Define weight (combination of objectives) -- DUMMY version for now: should include crossings and bike/pedestrian preference\n",
        "noise = np.random.normal(2, 1, len(df))\n",
        "noise[noise < 0] = 0\n",
        "df['my_weight'] = df['length']*noise\n",
        "df.head()"
      ],
      "outputs": [],
      "execution_count": null,
      "metadata": {
        "jupyter": {
          "source_hidden": false,
          "outputs_hidden": false
        },
        "nteract": {
          "transient": {
            "deleting": false
          }
        },
        "gather": {
          "logged": 1705507204483
        }
      }
    },
    {
      "cell_type": "code",
      "source": [
        "df['my_weight'].plot()"
      ],
      "outputs": [],
      "execution_count": null,
      "metadata": {
        "jupyter": {
          "source_hidden": false,
          "outputs_hidden": false
        },
        "nteract": {
          "transient": {
            "deleting": false
          }
        },
        "gather": {
          "logged": 1705507205628
        }
      }
    },
    {
      "cell_type": "markdown",
      "source": [
        "## Graphs"
      ],
      "metadata": {
        "nteract": {
          "transient": {
            "deleting": false
          }
        }
      }
    },
    {
      "cell_type": "code",
      "source": [
        "df_sel = df[df['include'] == 1]"
      ],
      "outputs": [],
      "execution_count": null,
      "metadata": {
        "jupyter": {
          "source_hidden": false,
          "outputs_hidden": false
        },
        "nteract": {
          "transient": {
            "deleting": false
          }
        },
        "gather": {
          "logged": 1705507208465
        }
      }
    },
    {
      "cell_type": "code",
      "source": [
        "df.shape"
      ],
      "outputs": [],
      "execution_count": null,
      "metadata": {
        "jupyter": {
          "source_hidden": false,
          "outputs_hidden": false
        },
        "nteract": {
          "transient": {
            "deleting": false
          }
        },
        "gather": {
          "logged": 1705507209781
        }
      }
    },
    {
      "cell_type": "code",
      "source": [
        "df_sel.shape"
      ],
      "outputs": [],
      "execution_count": null,
      "metadata": {
        "jupyter": {
          "source_hidden": false,
          "outputs_hidden": false
        },
        "nteract": {
          "transient": {
            "deleting": false
          }
        },
        "gather": {
          "logged": 1705507210757
        }
      }
    },
    {
      "cell_type": "code",
      "source": [
        "# Create graph based on max height and min width\n",
        "G_sel = momepy.gdf_to_nx(df_sel, approach=\"primal\", multigraph=True)  # TODO: bidirectional for bike paths?\n",
        "\n",
        "# Create full graph\n",
        "G = momepy.gdf_to_nx(df, approach=\"primal\", multigraph=True)"
      ],
      "outputs": [],
      "execution_count": null,
      "metadata": {
        "jupyter": {
          "source_hidden": false,
          "outputs_hidden": false
        },
        "nteract": {
          "transient": {
            "deleting": false
          }
        },
        "gather": {
          "logged": 1705507235584
        }
      }
    },
    {
      "cell_type": "markdown",
      "source": [
        "### Connectivity"
      ],
      "metadata": {
        "nteract": {
          "transient": {
            "deleting": false
          }
        }
      }
    },
    {
      "cell_type": "code",
      "source": [
        "[len(c) for c in sorted(nx.connected_components(G), key=len, reverse=True)][:20]"
      ],
      "outputs": [],
      "execution_count": null,
      "metadata": {
        "jupyter": {
          "source_hidden": false,
          "outputs_hidden": false
        },
        "nteract": {
          "transient": {
            "deleting": false
          }
        },
        "gather": {
          "logged": 1705507248781
        }
      }
    },
    {
      "cell_type": "code",
      "source": [
        "[len(c) for c in sorted(nx.connected_components(G_sel), key=len, reverse=True)][:20]"
      ],
      "outputs": [],
      "execution_count": null,
      "metadata": {
        "jupyter": {
          "source_hidden": false,
          "outputs_hidden": false
        },
        "nteract": {
          "transient": {
            "deleting": false
          }
        },
        "gather": {
          "logged": 1705507249957
        }
      }
    },
    {
      "cell_type": "code",
      "source": [
        "# Get subgraphs\n",
        "S = [G.subgraph(c).copy() for c in sorted(nx.connected_components(G), key=len, reverse=True)]\n",
        "S_sel = [G_sel.subgraph(c).copy() for c in sorted(nx.connected_components(G), key=len, reverse=True)]"
      ],
      "outputs": [],
      "execution_count": null,
      "metadata": {
        "jupyter": {
          "source_hidden": false,
          "outputs_hidden": false
        },
        "nteract": {
          "transient": {
            "deleting": false
          }
        },
        "gather": {
          "logged": 1705507301981
        }
      }
    },
    {
      "cell_type": "code",
      "source": [
        "# Compose final graph based on largest subgraphs (for now 2, as we have 2 pilot areas)\n",
        "G_con = nx.compose(S[0], S[1])\n",
        "G_sel_con = nx.compose(S_sel[0], S_sel[1])"
      ],
      "outputs": [],
      "execution_count": null,
      "metadata": {
        "jupyter": {
          "source_hidden": false,
          "outputs_hidden": false
        },
        "nteract": {
          "transient": {
            "deleting": false
          }
        },
        "gather": {
          "logged": 1705507560805
        }
      }
    },
    {
      "cell_type": "code",
      "source": [
        "# TODO store final graphs as dataframes?"
      ],
      "outputs": [],
      "execution_count": null,
      "metadata": {
        "jupyter": {
          "source_hidden": false,
          "outputs_hidden": false
        },
        "nteract": {
          "transient": {
            "deleting": false
          }
        }
      }
    },
    {
      "cell_type": "markdown",
      "source": [
        "## Get route"
      ],
      "metadata": {
        "nteract": {
          "transient": {
            "deleting": false
          }
        }
      }
    },
    {
      "cell_type": "code",
      "source": [
        "# Get origin and destination location\n",
        "origin_point = gdf_coords.loc[gdf_coords['coordinates'] == 'origin', 'geometry'].values[0]\n",
        "dest_point = gdf_coords.loc[gdf_coords['coordinates'] == 'destination', 'geometry'].values[0]\n",
        "\n",
        "# Get origin and destination node location\n",
        "origin_node_loc = so.nearest_points(origin_point, sg.MultiPoint(list(G.nodes)))[1]\n",
        "dest_node_loc = so.nearest_points(dest_point, sg.MultiPoint(list(G.nodes)))[1]\n",
        "\n",
        "# Get origin and destination node\n",
        "origin_node = (origin_node_loc.x, origin_node_loc.y)\n",
        "dest_node = (dest_node_loc.x, dest_node_loc.y)   "
      ],
      "outputs": [],
      "execution_count": null,
      "metadata": {
        "jupyter": {
          "source_hidden": false,
          "outputs_hidden": false
        },
        "nteract": {
          "transient": {
            "deleting": false
          }
        },
        "gather": {
          "logged": 1705507616073
        }
      }
    },
    {
      "cell_type": "code",
      "source": [
        "# Get 'shortest' path between origin and destination, based on custom weight\n",
        "my_path_weight = nx.shortest_path(G_sel_con, origin_node, dest_node, weight='my_weight')\n",
        "\n",
        "# Get 'shortest' path between origin and destination, based on length (for comparison)\n",
        "my_path_length = nx.shortest_path(G_con, origin_node, dest_node) #, weight='length')"
      ],
      "outputs": [],
      "execution_count": null,
      "metadata": {
        "jupyter": {
          "source_hidden": false,
          "outputs_hidden": false
        },
        "nteract": {
          "transient": {
            "deleting": false
          }
        },
        "gather": {
          "logged": 1705507617145
        }
      }
    },
    {
      "cell_type": "code",
      "source": [
        "# Put 'shortest' path in a dataframe, based on accessibility weight\n",
        "G_path_weight = nx.subgraph(G_sel_con, my_path_weight)\n",
        "df_path_weight = momepy.nx_to_gdf(G_path_weight, lines=True, points=False)\n",
        "df_path_weight.head(3)"
      ],
      "outputs": [],
      "execution_count": null,
      "metadata": {
        "jupyter": {
          "source_hidden": false,
          "outputs_hidden": false
        },
        "nteract": {
          "transient": {
            "deleting": false
          }
        },
        "gather": {
          "logged": 1705507618478
        }
      }
    },
    {
      "cell_type": "code",
      "source": [
        "# Put 'shortest' path in a dataframe, based on length\n",
        "G_path_length = nx.subgraph(G_con, my_path_length)\n",
        "df_path_length = momepy.nx_to_gdf(G_path_length, lines=True, points=False)\n",
        "df_path_length.head(3)"
      ],
      "outputs": [],
      "execution_count": null,
      "metadata": {
        "jupyter": {
          "source_hidden": false,
          "outputs_hidden": false
        },
        "nteract": {
          "transient": {
            "deleting": false
          }
        },
        "gather": {
          "logged": 1705507619799
        }
      }
    },
    {
      "cell_type": "markdown",
      "source": [
        "## Visualize"
      ],
      "metadata": {
        "nteract": {
          "transient": {
            "deleting": false
          }
        }
      }
    },
    {
      "cell_type": "code",
      "source": [
        "# Subset network for plotting\n",
        "my_rad = 70\n",
        "gdf_coords['buffer'] = gdf_coords['geometry'].buffer(my_rad, cap_style=3)\n",
        "plot_area = gpd.GeoDataFrame(geometry=[gdf_coords['buffer'][0].union(gdf_coords['buffer'][1])], crs=st.CRS)\n",
        "df_sub = gpd.sjoin(df, plot_area, how='inner').reset_index()"
      ],
      "outputs": [],
      "execution_count": null,
      "metadata": {
        "jupyter": {
          "source_hidden": false,
          "outputs_hidden": false
        },
        "nteract": {
          "transient": {
            "deleting": false
          }
        },
        "gather": {
          "logged": 1705507625708
        }
      }
    },
    {
      "cell_type": "code",
      "source": [
        "fig, ax = plt.subplots(figsize=(10,10))\n",
        "\n",
        "# Network\n",
        "df_sub.plot(ax=ax, color='lightgrey', linewidth=1)\n",
        "\n",
        "# 'Shortest' paths\n",
        "df_path_weight.plot(ax=ax, color='black', linewidth=3)\n",
        "df_path_length.plot(ax=ax, color='grey', linewidth=2)\n",
        "\n",
        "# Origin and destination location\n",
        "gdf_coords.head(1).plot(ax=ax, color='blue', markersize=50)\n",
        "gdf_coords.tail(1).plot(ax=ax, color='red', markersize=50)\n",
        "\n",
        "# Origin and destination nodes\n",
        "gpd.GeoSeries([origin_node_loc], crs=st.CRS).plot(ax=ax, color='blue', markersize=20)\n",
        "gpd.GeoSeries([dest_node_loc], crs=st.CRS).plot(ax=ax, color='red', markersize=20)\n",
        "\n",
        "# Background\n",
        "cx.add_basemap(ax=ax, source=cx.providers.CartoDB.Voyager, crs=st.CRS)\n",
        "\n",
        "# Legend\n",
        "route = mpatches.Patch(color='grey', label='shortest route')\n",
        "route_acc = mpatches.Patch(color='black', label='accessible route')\n",
        "origin = mpatches.Patch(color='blue', label= 'origin')\n",
        "dest = mpatches.Patch(color='red', label= 'destination')\n",
        "plt.legend(handles=[route,route_acc,origin,dest], loc='lower center')\n",
        "#plt.legend(handles=[route_acc,origin,dest], loc='lower center')\n",
        "\n",
        "plt.axis('off')\n",
        "\n",
        "#plt.savefig('../data/example_route_NL.png', bbox_inches='tight')\n",
        "#plt.savefig('../data/example_route_OM.png', bbox_inches='tight')\n",
        "\n",
        "plt.show()"
      ],
      "outputs": [],
      "execution_count": null,
      "metadata": {
        "jupyter": {
          "source_hidden": false,
          "outputs_hidden": false
        },
        "nteract": {
          "transient": {
            "deleting": false
          }
        },
        "gather": {
          "logged": 1705507671116
        }
      }
    },
    {
      "cell_type": "markdown",
      "source": [
        "## Store data"
      ],
      "metadata": {
        "nteract": {
          "transient": {
            "deleting": false
          }
        }
      }
    },
    {
      "cell_type": "code",
      "source": [
        "df_path_weight['length'] = df_path_weight['length'].round(2)\n",
        "df_path_weight_store = df_path_weight.to_crs('epsg:4326')\n",
        "df_path_weight_store = df_path_weight_store[['geometry', 'length']]\n",
        "df_path_weight_store"
      ],
      "outputs": [],
      "execution_count": null,
      "metadata": {
        "jupyter": {
          "source_hidden": false,
          "outputs_hidden": false
        },
        "nteract": {
          "transient": {
            "deleting": false
          }
        },
        "gather": {
          "logged": 1705507688325
        }
      }
    },
    {
      "cell_type": "code",
      "source": [
        "gdf_coords_store = gdf_coords.to_crs('epsg:4326')\n",
        "gdf_coords_store = gdf_coords_store[['coordinates', 'geometry']]\n",
        "gdf_coords_store"
      ],
      "outputs": [],
      "execution_count": null,
      "metadata": {
        "jupyter": {
          "source_hidden": false,
          "outputs_hidden": false
        },
        "nteract": {
          "transient": {
            "deleting": false
          }
        },
        "gather": {
          "logged": 1705507689711
        }
      }
    },
    {
      "cell_type": "code",
      "source": [
        "#df_path_weight_store.to_csv('../data/example_route_NL.csv', sep=';')\n",
        "#df_path_weight_store.to_csv('../data/example_route_OM.csv', sep=';')\n",
        "#df_path_weight_store.to_file('../data/example_route.gpkg', driver='GPKG')\n",
        "\n",
        "#gdf_coords.to_csv('../data/example_locations_NL.csv', sep=\";\")\n",
        "#df_path_weight_store.to_csv('../data/example_locations_OM.csv', sep=';')\n",
        "#gdf_coords.to_file('../data/example_locations.gpkg', driver='GPKG')"
      ],
      "outputs": [],
      "execution_count": null,
      "metadata": {
        "jupyter": {
          "source_hidden": false,
          "outputs_hidden": false
        },
        "nteract": {
          "transient": {
            "deleting": false
          }
        },
        "gather": {
          "logged": 1703153714235
        }
      }
    }
  ],
  "metadata": {
    "kernelspec": {
      "name": "venv_rp",
      "language": "python",
      "display_name": "venv_rp"
    },
    "language_info": {
      "name": "python",
      "version": "3.8.10",
      "mimetype": "text/x-python",
      "codemirror_mode": {
        "name": "ipython",
        "version": 3
      },
      "pygments_lexer": "ipython3",
      "nbconvert_exporter": "python",
      "file_extension": ".py"
    },
    "microsoft": {
      "ms_spell_check": {
        "ms_spell_check_language": "en"
      },
      "host": {
        "AzureML": {
          "notebookHasBeenCompleted": true
        }
      }
    },
    "kernel_info": {
      "name": "venv_rp"
    },
    "nteract": {
      "version": "nteract-front-end@1.0.0"
    }
  },
  "nbformat": 4,
  "nbformat_minor": 2
}