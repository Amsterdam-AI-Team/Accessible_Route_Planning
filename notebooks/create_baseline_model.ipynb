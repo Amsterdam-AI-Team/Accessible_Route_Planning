{
  "cells": [
    {
      "cell_type": "markdown",
      "source": [
        "# Create baseline model\n",
        "route and origin+destination locations"
      ],
      "metadata": {
        "nteract": {
          "transient": {
            "deleting": false
          }
        }
      }
    },
    {
      "cell_type": "code",
      "source": [
        "# Select where to run notebook: \"azure\" or \"local\"\n",
        "my_run = \"azure\""
      ],
      "outputs": [],
      "execution_count": null,
      "metadata": {
        "jupyter": {
          "source_hidden": false,
          "outputs_hidden": false
        },
        "nteract": {
          "transient": {
            "deleting": false
          }
        },
        "gather": {
          "logged": 1705502560366
        }
      }
    },
    {
      "cell_type": "code",
      "source": [
        "import numpy as np\n",
        "import pandas as pd\n",
        "\n",
        "import shapely.ops as so\n",
        "import shapely.geometry as sg\n",
        "import geopandas as gpd\n",
        "\n",
        "import matplotlib.pyplot as plt\n",
        "import matplotlib.patches as mpatches\n",
        "import contextily as cx\n",
        "\n",
        "import networkx as nx\n",
        "import momepy\n",
        "\n",
        "import settings as st\n",
        "if my_run == \"azure\":\n",
        "    import config_azure as cf\n",
        "elif my_run == \"local\":\n",
        "    import config as cf"
      ],
      "outputs": [],
      "execution_count": null,
      "metadata": {
        "gather": {
          "logged": 1705502650642
        }
      }
    },
    {
      "cell_type": "markdown",
      "source": [
        "## Get network data"
      ],
      "metadata": {
        "nteract": {
          "transient": {
            "deleting": false
          }
        }
      }
    },
    {
      "cell_type": "code",
      "source": [
        "os.system('sudo blobfuse /home/azureuser/cloudfiles/code/blobfuse/sidewalk --tmp-path=/mnt/resource/blobfusetmp --config-file=/home/azureuser/cloudfiles/code/blobfuse/fuse_connection_sidewalk.cfg -o attr_timeout=3600 -o entry_timeout=3600 -o negative_timeout=3600 -o allow_other -o nonempty')"
      ],
      "outputs": [],
      "execution_count": null,
      "metadata": {
        "jupyter": {
          "source_hidden": false,
          "outputs_hidden": false
        },
        "nteract": {
          "transient": {
            "deleting": false
          }
        },
        "gather": {
          "logged": 1705502651132
        }
      }
    },
    {
      "cell_type": "code",
      "source": [
        "# Get basic pedestrian network with widths & crossings\n",
        "df = gpd.read_file(cf.output_file_crossings)\n",
        "df['length'] = df['geometry'].length  # TODO remove once this is added in a previous notebook\n",
        "df.tail(3)"
      ],
      "outputs": [],
      "execution_count": null,
      "metadata": {
        "jupyter": {
          "source_hidden": false,
          "outputs_hidden": false
        },
        "nteract": {
          "transient": {
            "deleting": false
          }
        },
        "gather": {
          "logged": 1705502673865
        }
      }
    },
    {
      "cell_type": "markdown",
      "source": [
        "## Get start and end location"
      ],
      "metadata": {
        "nteract": {
          "transient": {
            "deleting": false
          }
        }
      }
    },
    {
      "cell_type": "code",
      "source": [
        "# Define origin and destination\n",
        "\n",
        "# Test without crossings\n",
        "#df_coords = pd.DataFrame({\"coordinates\": [\"origin\", \"destination\"],\n",
        "#        \"latitude\": [52.35544169630071, 52.35646800424747],\n",
        "#        \"longitude\": [4.7986989333355, 4.7979668425731345]})\n",
        "\n",
        "# Mock-up data Nieuwmarkt/Lastage     \n",
        "#df_coords = pd.DataFrame({\"coordinates\": [\"origin\", \"destination\"],\n",
        "#        \"latitude\": [52.37078165480656, 52.36727669275347],\n",
        "#        \"longitude\": [4.904291948879987, 4.90184804984204]})\n",
        "\n",
        "# Mock-up data Osdorp-Midden\n",
        "df_coords = pd.DataFrame({\"coordinates\": [\"origin\", \"destination\"],\n",
        "        \"latitude\": [52.35775604247446, 52.36102160116833],\n",
        "        \"longitude\": [4.793441885105594, 4.794255970874044]})\n",
        "\n",
        "# Create geodataframe\n",
        "gdf_coords = gpd.GeoDataFrame(\n",
        "    df_coords, geometry=gpd.points_from_xy(df_coords.longitude, df_coords.latitude), crs=\"EPSG:4326\"\n",
        ")\n",
        "gdf_coords = gdf_coords.to_crs(st.CRS)\n",
        "gdf_coords = gdf_coords[['coordinates', 'geometry']]"
      ],
      "outputs": [],
      "execution_count": null,
      "metadata": {
        "jupyter": {
          "source_hidden": false,
          "outputs_hidden": false
        },
        "nteract": {
          "transient": {
            "deleting": false
          }
        },
        "gather": {
          "logged": 1703153628453
        }
      }
    },
    {
      "cell_type": "markdown",
      "source": [
        "## Create objective"
      ],
      "metadata": {
        "nteract": {
          "transient": {
            "deleting": false
          }
        }
      }
    },
    {
      "cell_type": "code",
      "source": [
        "# User inputs\n",
        "min_sidewalk_width = 1.4  # m\n",
        "max_curb_height = 0.04  # m"
      ],
      "outputs": [],
      "execution_count": null,
      "metadata": {
        "jupyter": {
          "source_hidden": false,
          "outputs_hidden": false
        },
        "nteract": {
          "transient": {
            "deleting": false
          }
        },
        "gather": {
          "logged": 1703153633495
        }
      }
    },
    {
      "cell_type": "code",
      "source": [
        "# Create accessible width parameter  # TODO deal with unknown and None, we now assume they are wide enough\n",
        "df['accessible_width'] = 1\n",
        "if min_sidewalk_width <= 0.9:\n",
        "    df.loc[df['obstacle_free_width'].isin(['<0.9m']), 'accessible_width'] = 10**6\n",
        "elif (min_sidewalk_width > 0.9) & (min_sidewalk_width <= 1.5):\n",
        "    df.loc[df['obstacle_free_width'].isin(['<0.9m', '0.9-1.5m']), 'accessible_width'] = 10**6\n",
        "elif (min_sidewalk_width > 1.5) & (min_sidewalk_width <= 2.0):\n",
        "    df.loc[df['obstacle_free_width'].isin(['<0.9m', '0.9-1.5m', '1.5-2.0m']), 'accessible_width'] = 10**6\n",
        "elif (min_sidewalk_width > 2.0) & (min_sidewalk_width <= 2.2):\n",
        "    df.loc[df['obstacle_free_width'].isin(['<0.9m', '0.9-1.5m', '1.5-2.0m', '2.0-2.2m']), 'accessible_width'] = 10**6\n",
        "elif (min_sidewalk_width > 2.2) & (min_sidewalk_width <= 2.9):\n",
        "    df.loc[df['obstacle_free_width'].isin(['<0.9m', '0.9-1.5m', '1.5-2.0m', '2.0-2.2m', '2.2-2.9m']), 'accessible_width'] = 10**6\n",
        "elif (min_sidewalk_width > 2.9) & (min_sidewalk_width <= 3.6):\n",
        "    df.loc[df['obstacle_free_width'].isin(['<0.9m', '0.9-1.5m', '1.5-2.0m', '2.0-2.2m', '2.2-2.9m', '2.9-3.6m']), 'accessible_width'] = 10**6"
      ],
      "outputs": [],
      "execution_count": null,
      "metadata": {
        "jupyter": {
          "source_hidden": false,
          "outputs_hidden": false
        },
        "nteract": {
          "transient": {
            "deleting": false
          }
        },
        "gather": {
          "logged": 1703153633906
        }
      }
    },
    {
      "cell_type": "code",
      "source": [
        "# Create accessible height parameter (TODO)\n",
        "df['accessible_height'] = 1"
      ],
      "outputs": [],
      "execution_count": null,
      "metadata": {
        "jupyter": {
          "source_hidden": false,
          "outputs_hidden": false
        },
        "nteract": {
          "transient": {
            "deleting": false
          }
        },
        "gather": {
          "logged": 1703153634225
        }
      }
    },
    {
      "cell_type": "code",
      "source": [
        "# Define weight (combination of objectives) -- DUMMY version for now\n",
        "df['my_weight'] = df['length']*df['accessible_width']*df['accessible_height']\n",
        "#df.to_csv('test_routes.csv', sep=\";\")\n",
        "df.head()\n",
        "#df['my_weight'].plot()"
      ],
      "outputs": [],
      "execution_count": null,
      "metadata": {
        "jupyter": {
          "source_hidden": false,
          "outputs_hidden": false
        },
        "nteract": {
          "transient": {
            "deleting": false
          }
        },
        "gather": {
          "logged": 1703153634575
        }
      }
    },
    {
      "cell_type": "code",
      "source": [
        "G = momepy.gdf_to_nx(df, approach=\"primal\", multigraph=True)"
      ],
      "outputs": [],
      "execution_count": null,
      "metadata": {
        "jupyter": {
          "source_hidden": false,
          "outputs_hidden": false
        },
        "nteract": {
          "transient": {
            "deleting": false
          }
        },
        "gather": {
          "logged": 1703153639324
        }
      }
    },
    {
      "cell_type": "markdown",
      "source": [
        "## Get route"
      ],
      "metadata": {
        "nteract": {
          "transient": {
            "deleting": false
          }
        }
      }
    },
    {
      "cell_type": "code",
      "source": [
        "# Get origin and destination location\n",
        "origin_point = gdf_coords.loc[gdf_coords['coordinates'] == 'origin', 'geometry'].values[0]\n",
        "dest_point = gdf_coords.loc[gdf_coords['coordinates'] == 'destination', 'geometry'].values[0]\n",
        "\n",
        "# Get origin and destination node location\n",
        "origin_node_loc = so.nearest_points(origin_point, sg.MultiPoint(list(G.nodes)))[1]\n",
        "dest_node_loc = so.nearest_points(dest_point, sg.MultiPoint(list(G.nodes)))[1]\n",
        "\n",
        "# Get origin and destination node\n",
        "origin_node = (origin_node_loc.x, origin_node_loc.y)\n",
        "dest_node = (dest_node_loc.x, dest_node_loc.y)   "
      ],
      "outputs": [],
      "execution_count": null,
      "metadata": {
        "jupyter": {
          "source_hidden": false,
          "outputs_hidden": false
        },
        "nteract": {
          "transient": {
            "deleting": false
          }
        },
        "gather": {
          "logged": 1703153641223
        }
      }
    },
    {
      "cell_type": "code",
      "source": [
        "# Get 'shortest' path between origin and destination, based on custom weight\n",
        "my_path_weight = nx.shortest_path(G, origin_node, dest_node, weight='my_weight')\n",
        "\n",
        "# Get 'shortest' path between origin and destination, based on length (for comparison)\n",
        "my_path_length = nx.shortest_path(G, origin_node, dest_node) #, weight='length')"
      ],
      "outputs": [],
      "execution_count": null,
      "metadata": {
        "jupyter": {
          "source_hidden": false,
          "outputs_hidden": false
        },
        "nteract": {
          "transient": {
            "deleting": false
          }
        },
        "gather": {
          "logged": 1703153641455
        }
      }
    },
    {
      "cell_type": "code",
      "source": [
        "# Put 'shortest' path in a dataframe, based on accessibility weight\n",
        "G_path_weight = nx.subgraph(G, my_path_weight)\n",
        "df_path_weight = momepy.nx_to_gdf(G_path_weight, lines=True, points=False)\n",
        "df_path_weight.head(3)"
      ],
      "outputs": [],
      "execution_count": null,
      "metadata": {
        "jupyter": {
          "source_hidden": false,
          "outputs_hidden": false
        },
        "nteract": {
          "transient": {
            "deleting": false
          }
        },
        "gather": {
          "logged": 1703153641937
        }
      }
    },
    {
      "cell_type": "code",
      "source": [
        "# Put 'shortest' path in a dataframe, based on length\n",
        "G_path_length = nx.subgraph(G, my_path_length)\n",
        "df_path_length = momepy.nx_to_gdf(G_path_length, lines=True, points=False)\n",
        "df_path_length.head(3)"
      ],
      "outputs": [],
      "execution_count": null,
      "metadata": {
        "jupyter": {
          "source_hidden": false,
          "outputs_hidden": false
        },
        "nteract": {
          "transient": {
            "deleting": false
          }
        },
        "gather": {
          "logged": 1703153642296
        }
      }
    },
    {
      "cell_type": "markdown",
      "source": [
        "## Visualize"
      ],
      "metadata": {
        "nteract": {
          "transient": {
            "deleting": false
          }
        }
      }
    },
    {
      "cell_type": "code",
      "source": [
        "# Subset network for plotting\n",
        "my_rad = 70\n",
        "gdf_coords['buffer'] = gdf_coords['geometry'].buffer(my_rad, cap_style=3)\n",
        "plot_area = gpd.GeoDataFrame(geometry=[gdf_coords['buffer'][0].union(gdf_coords['buffer'][1])], crs=st.CRS)\n",
        "df_sub = gpd.sjoin(df, plot_area, how='inner').reset_index()"
      ],
      "outputs": [],
      "execution_count": null,
      "metadata": {
        "jupyter": {
          "source_hidden": false,
          "outputs_hidden": false
        },
        "nteract": {
          "transient": {
            "deleting": false
          }
        },
        "gather": {
          "logged": 1703153643497
        }
      }
    },
    {
      "cell_type": "code",
      "source": [
        "fig, ax = plt.subplots(figsize=(10,10))\n",
        "\n",
        "# Network\n",
        "df_sub.plot(ax=ax, color='lightgrey', linewidth=1)\n",
        "\n",
        "# 'Shortest' paths\n",
        "df_path_weight.plot(ax=ax, color='black', linewidth=3)\n",
        "#df_path_length.plot(ax=ax, color='grey', linewidth=2)\n",
        "\n",
        "# Origin and destination location\n",
        "gdf_coords.head(1).plot(ax=ax, color='blue', markersize=50)\n",
        "gdf_coords.tail(1).plot(ax=ax, color='red', markersize=50)\n",
        "\n",
        "# Origin and destination nodes\n",
        "gpd.GeoSeries([origin_node_loc], crs=st.CRS).plot(ax=ax, color='blue', markersize=20)\n",
        "gpd.GeoSeries([dest_node_loc], crs=st.CRS).plot(ax=ax, color='red', markersize=20)\n",
        "\n",
        "# Background\n",
        "cx.add_basemap(ax=ax, source=cx.providers.CartoDB.Voyager, crs=st.CRS)\n",
        "\n",
        "# Legend\n",
        "route = mpatches.Patch(color='grey', label='shortest route')\n",
        "route_acc = mpatches.Patch(color='black', label='accessible route')\n",
        "origin = mpatches.Patch(color='blue', label= 'origin')\n",
        "dest = mpatches.Patch(color='red', label= 'destination')\n",
        "#plt.legend(handles=[route,route_acc,origin,dest], loc='lower center')\n",
        "plt.legend(handles=[route_acc,origin,dest], loc='lower center')\n",
        "\n",
        "plt.axis('off')\n",
        "\n",
        "#plt.savefig('../data/example_route_NL.png', bbox_inches='tight')\n",
        "plt.savefig('../data/example_route_OM.png', bbox_inches='tight')\n",
        "\n",
        "plt.show()"
      ],
      "outputs": [],
      "execution_count": null,
      "metadata": {
        "jupyter": {
          "source_hidden": false,
          "outputs_hidden": false
        },
        "nteract": {
          "transient": {
            "deleting": false
          }
        },
        "gather": {
          "logged": 1703153650932
        }
      }
    },
    {
      "cell_type": "markdown",
      "source": [
        "## Store data"
      ],
      "metadata": {
        "nteract": {
          "transient": {
            "deleting": false
          }
        }
      }
    },
    {
      "cell_type": "code",
      "source": [
        "df_path_weight['length'] = df_path_weight['length'].round(2)\n",
        "df_path_weight_store = df_path_weight.to_crs('epsg:4326')\n",
        "df_path_weight_store = df_path_weight_store[['geometry', 'length']]\n",
        "df_path_weight_store"
      ],
      "outputs": [],
      "execution_count": null,
      "metadata": {
        "jupyter": {
          "source_hidden": false,
          "outputs_hidden": false
        },
        "nteract": {
          "transient": {
            "deleting": false
          }
        },
        "gather": {
          "logged": 1703153667142
        }
      }
    },
    {
      "cell_type": "code",
      "source": [
        "gdf_coords_store = gdf_coords.to_crs('epsg:4326')\n",
        "gdf_coords_store = gdf_coords_store[['coordinates', 'geometry']]\n",
        "gdf_coords_store"
      ],
      "outputs": [],
      "execution_count": null,
      "metadata": {
        "jupyter": {
          "source_hidden": false,
          "outputs_hidden": false
        },
        "nteract": {
          "transient": {
            "deleting": false
          }
        },
        "gather": {
          "logged": 1703153672083
        }
      }
    },
    {
      "cell_type": "code",
      "source": [
        "#df_path_weight_store.to_csv('../data/example_route_NL.csv', sep=';')\n",
        "df_path_weight_store.to_csv('../data/example_route_OM.csv', sep=';')\n",
        "#df_path_weight_store.to_file('../data/example_route.gpkg', driver='GPKG')\n",
        "\n",
        "#gdf_coords.to_csv('../data/example_locations_NL.csv', sep=\";\")\n",
        "df_path_weight_store.to_csv('../data/example_locations_OM.csv', sep=';')\n",
        "#gdf_coords.to_file('../data/example_locations.gpkg', driver='GPKG')"
      ],
      "outputs": [],
      "execution_count": null,
      "metadata": {
        "jupyter": {
          "source_hidden": false,
          "outputs_hidden": false
        },
        "nteract": {
          "transient": {
            "deleting": false
          }
        },
        "gather": {
          "logged": 1703153714235
        }
      }
    }
  ],
  "metadata": {
    "kernelspec": {
      "name": "venv_rp",
      "language": "python",
      "display_name": "venv_rp"
    },
    "language_info": {
      "name": "python",
      "version": "3.8.10",
      "mimetype": "text/x-python",
      "codemirror_mode": {
        "name": "ipython",
        "version": 3
      },
      "pygments_lexer": "ipython3",
      "nbconvert_exporter": "python",
      "file_extension": ".py"
    },
    "microsoft": {
      "ms_spell_check": {
        "ms_spell_check_language": "en"
      },
      "host": {
        "AzureML": {
          "notebookHasBeenCompleted": true
        }
      }
    },
    "kernel_info": {
      "name": "venv_rp"
    },
    "nteract": {
      "version": "nteract-front-end@1.0.0"
    }
  },
  "nbformat": 4,
  "nbformat_minor": 2
}