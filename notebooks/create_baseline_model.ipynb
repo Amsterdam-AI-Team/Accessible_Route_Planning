{
  "cells": [
    {
      "cell_type": "markdown",
      "source": [
        "# Create accessible route"
      ],
      "metadata": {
        "nteract": {
          "transient": {
            "deleting": false
          }
        }
      }
    },
    {
      "cell_type": "code",
      "source": [
        "# Select where to run notebook: \"azure\" or \"local\"\n",
        "my_run = \"azure\""
      ],
      "outputs": [],
      "execution_count": null,
      "metadata": {
        "gather": {
          "logged": 1709128960331
        },
        "jupyter": {
          "outputs_hidden": false,
          "source_hidden": false
        },
        "nteract": {
          "transient": {
            "deleting": false
          }
        }
      }
    },
    {
      "cell_type": "code",
      "source": [
        "import set_path\n",
        "\n",
        "import numpy as np\n",
        "import pandas as pd\n",
        "\n",
        "import shapely.ops as so\n",
        "import shapely.geometry as sg\n",
        "import geopandas as gpd\n",
        "\n",
        "import matplotlib.pyplot as plt\n",
        "import matplotlib.patches as mpatches\n",
        "import contextily as cx\n",
        "import folium\n",
        "\n",
        "import networkx as nx\n",
        "import momepy\n",
        "\n",
        "import plot_utils\n",
        "import poly_utils\n",
        "\n",
        "import settings as st\n",
        "if my_run == \"azure\":\n",
        "    import config_azure as cf\n",
        "elif my_run == \"local\":\n",
        "    import config as cf"
      ],
      "outputs": [],
      "execution_count": null,
      "metadata": {
        "gather": {
          "logged": 1709128962242
        }
      }
    },
    {
      "cell_type": "markdown",
      "source": [
        "## User inputs"
      ],
      "metadata": {
        "nteract": {
          "transient": {
            "deleting": false
          }
        }
      }
    },
    {
      "cell_type": "code",
      "source": [
        "# Profile settings\n",
        "max_curb_height = 0.04  # m\n",
        "min_sidewalk_width = 0.80  # m\n",
        "walk_bike_preference = 'bike' # choose between walk and bike"
      ],
      "outputs": [],
      "execution_count": null,
      "metadata": {
        "gather": {
          "logged": 1709135819983
        },
        "jupyter": {
          "outputs_hidden": false,
          "source_hidden": false
        },
        "nteract": {
          "transient": {
            "deleting": false
          }
        }
      }
    },
    {
      "cell_type": "code",
      "source": [
        "# Select start and end location\n",
        "\n",
        "# route_id = 'A'  # Osdorp-Midden\n",
        "# origin_coords = [52.35294689100653, 4.799673198980336]  # Koos vorrinkweg, tram/busstop\n",
        "# dest_coords = [52.35462950521128, 4.792434509867106]\n",
        "\n",
        "# route_id = 'B'  # Osdorp-Midden\n",
        "# origin_coords = [52.35294689100653, 4.799673198980336]\n",
        "# dest_coords = [52.356441237773716, 4.791450654424283]  # Koos vorrinkweg, tram/busstop\n",
        "\n",
        "# route_id = 'C'  # Nieuwmarkt/Lastage\n",
        "# origin_coords = [52.371576034609845, 4.900591003670581] \n",
        "# dest_coords = [52.36730156271599, 4.901898723097168]  # Waterlooplein, metro ingang (TODO: correct location of entrance in network)\n",
        "\n",
        "route_id = 'D'  # Nieuwmarkt/Lastage\n",
        "origin_coords = [52.36789258235766, 4.905669275986852]  # Mr. Visserplein, tram stop\n",
        "dest_coords = [52.37006044454489, 4.910663945243775]  # Nieuwe Herengracht 261\n",
        "\n",
        "route_name = route_id + '_' + walk_bike_preference"
      ],
      "outputs": [],
      "execution_count": null,
      "metadata": {
        "gather": {
          "logged": 1709135962989
        },
        "jupyter": {
          "outputs_hidden": false,
          "source_hidden": false
        },
        "nteract": {
          "transient": {
            "deleting": false
          }
        }
      }
    },
    {
      "cell_type": "markdown",
      "source": [
        "## Get network data"
      ],
      "metadata": {
        "nteract": {
          "transient": {
            "deleting": false
          }
        }
      }
    },
    {
      "cell_type": "code",
      "source": [
        "os.system('sudo blobfuse /home/azureuser/cloudfiles/code/blobfuse/sidewalk --tmp-path=/mnt/resource/blobfusetmp --config-file=/home/azureuser/cloudfiles/code/blobfuse/fuse_connection_sidewalk.cfg -o attr_timeout=3600 -o entry_timeout=3600 -o negative_timeout=3600 -o allow_other -o nonempty')"
      ],
      "outputs": [],
      "execution_count": null,
      "metadata": {
        "gather": {
          "logged": 1709130584741
        },
        "jupyter": {
          "outputs_hidden": false,
          "source_hidden": false
        },
        "nteract": {
          "transient": {
            "deleting": false
          }
        }
      }
    },
    {
      "cell_type": "code",
      "source": [
        "# Get network with widths, crossings and public transport stops\n",
        "df_raw = gpd.read_file(cf.output_basic_network_including_crossings)"
      ],
      "outputs": [],
      "execution_count": null,
      "metadata": {
        "gather": {
          "logged": 1709133510204
        },
        "jupyter": {
          "outputs_hidden": false,
          "source_hidden": false
        },
        "nteract": {
          "transient": {
            "deleting": false
          }
        }
      }
    },
    {
      "cell_type": "code",
      "source": [
        "# Select relevant columns\n",
        "df = df_raw[['length', 'obstacle_free_width_float', 'width_fill', 'sidewalk_id', 'crossing',\n",
        "       'walk_bike_connection', 'walk_public_transport_stop_connection',\n",
        "       'public_transport_stop', 'bikepath_id', 'path_type',\n",
        "       'crossing_type', 'curb_height_max', 'stop_type', 'stop_name',\n",
        "       'stop_placement_type', 'wheelchair_accessible', 'geometry']]\n",
        "df = df.rename(columns={'walk_public_transport_stop_connection': 'walk_pt_connection'})\n",
        "df.head(3)"
      ],
      "outputs": [],
      "execution_count": null,
      "metadata": {
        "gather": {
          "logged": 1709135825497
        },
        "jupyter": {
          "outputs_hidden": false,
          "source_hidden": false
        },
        "nteract": {
          "transient": {
            "deleting": false
          }
        }
      }
    },
    {
      "cell_type": "code",
      "source": [
        "# Check if missings values are as expected\n",
        "print(len(df))\n",
        "df.isna().sum()"
      ],
      "outputs": [],
      "execution_count": null,
      "metadata": {
        "gather": {
          "logged": 1709135826186
        },
        "jupyter": {
          "outputs_hidden": false,
          "source_hidden": false
        },
        "nteract": {
          "transient": {
            "deleting": false
          }
        }
      }
    },
    {
      "cell_type": "markdown",
      "source": [
        "## Set hard limits"
      ],
      "metadata": {
        "nteract": {
          "transient": {
            "deleting": false
          }
        }
      }
    },
    {
      "cell_type": "code",
      "source": [
        "df['include'] = 1"
      ],
      "outputs": [],
      "execution_count": null,
      "metadata": {
        "gather": {
          "logged": 1709135826768
        },
        "jupyter": {
          "outputs_hidden": false,
          "source_hidden": false
        },
        "nteract": {
          "transient": {
            "deleting": false
          }
        }
      }
    },
    {
      "cell_type": "markdown",
      "source": [
        "### Prepare to drop crossings based max curb height"
      ],
      "metadata": {
        "nteract": {
          "transient": {
            "deleting": false
          }
        }
      }
    },
    {
      "cell_type": "code",
      "source": [
        "# Check if there are any curb height crossings without max height\n",
        "df[df['crossing_type'] == 'curb_height']['curb_height_max'].value_counts(dropna=False)"
      ],
      "outputs": [],
      "execution_count": null,
      "metadata": {
        "gather": {
          "logged": 1709135827515
        },
        "jupyter": {
          "outputs_hidden": false,
          "source_hidden": false
        },
        "nteract": {
          "transient": {
            "deleting": false
          }
        }
      }
    },
    {
      "cell_type": "code",
      "source": [
        "# Don't include crossings with curbs that are too high\n",
        "df.loc[df['curb_height_max'] > max_curb_height, 'include'] = 0"
      ],
      "outputs": [],
      "execution_count": null,
      "metadata": {
        "gather": {
          "logged": 1709135828022
        },
        "jupyter": {
          "outputs_hidden": false,
          "source_hidden": false
        },
        "nteract": {
          "transient": {
            "deleting": false
          }
        }
      }
    },
    {
      "cell_type": "code",
      "source": [
        "# Check if the right amount of paths are included\n",
        "print(df['curb_height_max'].value_counts(dropna=False))\n",
        "print(df['include'].value_counts(dropna=False))"
      ],
      "outputs": [],
      "execution_count": null,
      "metadata": {
        "gather": {
          "logged": 1709135828413
        },
        "jupyter": {
          "outputs_hidden": false,
          "source_hidden": false
        },
        "nteract": {
          "transient": {
            "deleting": false
          }
        }
      }
    },
    {
      "cell_type": "markdown",
      "source": [
        "### Prepare to drop paths based on min width"
      ],
      "metadata": {
        "nteract": {
          "transient": {
            "deleting": false
          }
        }
      }
    },
    {
      "cell_type": "code",
      "source": [
        "# TODO determine if this is final and if we want to keep it here\n",
        "# Give crossings a width\n",
        "df.loc[df['crossing'] == 'Yes', 'obstacle_free_width_float'] = st.width_6\n",
        "df.loc[df['crossing'] == 'Yes', 'width_fill'] = 4\n",
        "\n",
        "# Give bike paths a width\n",
        "df.loc[~df['bikepath_id'].isnull(), 'obstacle_free_width_float'] = st.width_5\n",
        "df.loc[~df['bikepath_id'].isnull(), 'width_fill'] = 4\n",
        "\n",
        "# Give walk bike connections a width\n",
        "df.loc[df['walk_bike_connection'] == 'Yes', 'obstacle_free_width_float'] = st.width_5\n",
        "df.loc[df['walk_bike_connection'] == 'Yes', 'width_fill'] = 4\n",
        "\n",
        "# Give walk public transport stop connections a width if unknown\n",
        "df.loc[(df['walk_pt_connection'] == 'Yes') & df['obstacle_free_width_float'].isnull(), 'width_fill'] = 4\n",
        "df.loc[(df['walk_pt_connection'] == 'Yes') & df['obstacle_free_width_float'].isnull(), 'obstacle_free_width_float'] = st.width_2"
      ],
      "outputs": [],
      "execution_count": null,
      "metadata": {
        "gather": {
          "logged": 1709135828966
        },
        "jupyter": {
          "outputs_hidden": false,
          "source_hidden": false
        },
        "nteract": {
          "transient": {
            "deleting": false
          }
        }
      }
    },
    {
      "cell_type": "code",
      "source": [
        "# Check if there are any remaining paths without width\n",
        "df.loc[(df['obstacle_free_width_float'].isnull()) & (df['public_transport_stop'] == 'No')]"
      ],
      "outputs": [],
      "execution_count": null,
      "metadata": {
        "gather": {
          "logged": 1709135829508
        },
        "jupyter": {
          "outputs_hidden": false,
          "source_hidden": false
        },
        "nteract": {
          "transient": {
            "deleting": false
          }
        }
      }
    },
    {
      "cell_type": "code",
      "source": [
        "# Don't include paths that are too narrow\n",
        "df.loc[df['obstacle_free_width_float'] < min_sidewalk_width, 'include'] = 0"
      ],
      "outputs": [],
      "execution_count": null,
      "metadata": {
        "gather": {
          "logged": 1709135829968
        },
        "jupyter": {
          "outputs_hidden": false,
          "source_hidden": false
        },
        "nteract": {
          "transient": {
            "deleting": false
          }
        }
      }
    },
    {
      "cell_type": "code",
      "source": [
        "# Check if the right amount of paths are included\n",
        "print(df['obstacle_free_width_float'].value_counts())\n",
        "print(df['include'].value_counts(dropna=False))"
      ],
      "outputs": [],
      "execution_count": null,
      "metadata": {
        "gather": {
          "logged": 1709135830577
        },
        "jupyter": {
          "outputs_hidden": false,
          "source_hidden": false
        },
        "nteract": {
          "transient": {
            "deleting": false
          }
        }
      }
    },
    {
      "cell_type": "markdown",
      "source": [
        "## Create objective"
      ],
      "metadata": {
        "nteract": {
          "transient": {
            "deleting": false
          }
        }
      }
    },
    {
      "cell_type": "code",
      "source": [
        "# Define weight (combination of objectives)\n",
        "df['my_weight'] = df['length']"
      ],
      "outputs": [],
      "execution_count": null,
      "metadata": {
        "gather": {
          "logged": 1709135831199
        },
        "jupyter": {
          "outputs_hidden": false,
          "source_hidden": false
        },
        "nteract": {
          "transient": {
            "deleting": false
          }
        }
      }
    },
    {
      "cell_type": "markdown",
      "source": [
        "### Include preference to prevent crossings"
      ],
      "metadata": {
        "nteract": {
          "transient": {
            "deleting": false
          }
        }
      }
    },
    {
      "cell_type": "code",
      "source": [
        "df.loc[df['crossing'] == 'Yes', 'my_weight'] = df['length'] * st.crossing_weight_factor"
      ],
      "outputs": [],
      "execution_count": null,
      "metadata": {
        "gather": {
          "logged": 1709135831605
        },
        "jupyter": {
          "outputs_hidden": false,
          "source_hidden": false
        },
        "nteract": {
          "transient": {
            "deleting": false
          }
        }
      }
    },
    {
      "cell_type": "markdown",
      "source": [
        "### Include bike/pedestrian preference"
      ],
      "metadata": {
        "nteract": {
          "transient": {
            "deleting": false
          }
        }
      }
    },
    {
      "cell_type": "code",
      "source": [
        "if walk_bike_preference == 'walk':\n",
        "    df.loc[df['path_type'] == 'walk', 'my_weight'] = df['my_weight'] * st.walk_bike_preference_weight_factor\n",
        "elif walk_bike_preference == 'bike':\n",
        "    df.loc[df['path_type'] == 'bike', 'my_weight'] = df['my_weight'] * st.walk_bike_preference_weight_factor    "
      ],
      "outputs": [],
      "execution_count": null,
      "metadata": {
        "gather": {
          "logged": 1709135832173
        },
        "jupyter": {
          "outputs_hidden": false,
          "source_hidden": false
        },
        "nteract": {
          "transient": {
            "deleting": false
          }
        }
      }
    },
    {
      "cell_type": "code",
      "source": [
        "# Check weights\n",
        "df['my_weight'].plot()"
      ],
      "outputs": [],
      "execution_count": null,
      "metadata": {
        "gather": {
          "logged": 1709135832870
        },
        "jupyter": {
          "outputs_hidden": false,
          "source_hidden": false
        },
        "nteract": {
          "transient": {
            "deleting": false
          }
        }
      }
    },
    {
      "cell_type": "code",
      "source": [
        "# Normalize weights\n",
        "df['my_weight'] = df['my_weight'] /df['my_weight'].abs().max()"
      ],
      "outputs": [],
      "execution_count": null,
      "metadata": {
        "gather": {
          "logged": 1709135833247
        }
      }
    },
    {
      "cell_type": "markdown",
      "source": [
        "## Store final dataframe"
      ],
      "metadata": {
        "nteract": {
          "transient": {
            "deleting": false
          }
        }
      }
    },
    {
      "cell_type": "code",
      "source": [
        "#df.to_file(cf.output_final_network, driver='GPKG')"
      ],
      "outputs": [],
      "execution_count": null,
      "metadata": {
        "gather": {
          "logged": 1709135833964
        },
        "jupyter": {
          "outputs_hidden": false,
          "source_hidden": false
        },
        "nteract": {
          "transient": {
            "deleting": false
          }
        }
      }
    },
    {
      "cell_type": "markdown",
      "source": [
        "## Create graphs"
      ],
      "metadata": {
        "nteract": {
          "transient": {
            "deleting": false
          }
        }
      }
    },
    {
      "cell_type": "code",
      "source": [
        "# Select accessible paths to include\n",
        "df_sel = df[df['include'] == 1]"
      ],
      "outputs": [],
      "execution_count": null,
      "metadata": {
        "gather": {
          "logged": 1709135834423
        },
        "jupyter": {
          "outputs_hidden": false,
          "source_hidden": false
        },
        "nteract": {
          "transient": {
            "deleting": false
          }
        }
      }
    },
    {
      "cell_type": "code",
      "source": [
        "df.shape"
      ],
      "outputs": [],
      "execution_count": null,
      "metadata": {
        "gather": {
          "logged": 1709135834938
        },
        "jupyter": {
          "outputs_hidden": false,
          "source_hidden": false
        },
        "nteract": {
          "transient": {
            "deleting": false
          }
        }
      }
    },
    {
      "cell_type": "code",
      "source": [
        "df_sel.shape"
      ],
      "outputs": [],
      "execution_count": null,
      "metadata": {
        "gather": {
          "logged": 1709135835408
        },
        "jupyter": {
          "outputs_hidden": false,
          "source_hidden": false
        },
        "nteract": {
          "transient": {
            "deleting": false
          }
        }
      }
    },
    {
      "cell_type": "code",
      "source": [
        "# Create graph based on max height and min width  # Warning relates to public transport stop nodes\n",
        "G_sel = momepy.gdf_to_nx(df_sel, approach=\"primal\", multigraph=True)\n",
        "\n",
        "# Create full graph\n",
        "G = momepy.gdf_to_nx(df, approach=\"primal\", multigraph=True)"
      ],
      "outputs": [],
      "execution_count": null,
      "metadata": {
        "gather": {
          "logged": 1709135842339
        },
        "jupyter": {
          "outputs_hidden": false,
          "source_hidden": false
        },
        "nteract": {
          "transient": {
            "deleting": false
          }
        }
      }
    },
    {
      "cell_type": "markdown",
      "source": [
        "### Take connectivity into account"
      ],
      "metadata": {
        "nteract": {
          "transient": {
            "deleting": false
          }
        }
      }
    },
    {
      "cell_type": "code",
      "source": [
        "# Check sizes of connected components for full graph\n",
        "# [len(c) for c in sorted(nx.connected_components(G), key=len, reverse=True)][:20]"
      ],
      "outputs": [],
      "execution_count": null,
      "metadata": {
        "gather": {
          "logged": 1709135842816
        },
        "jupyter": {
          "outputs_hidden": false,
          "source_hidden": false
        },
        "nteract": {
          "transient": {
            "deleting": false
          }
        }
      }
    },
    {
      "cell_type": "code",
      "source": [
        "# Check sizes of connected components for graph based on max height and min width\n",
        "# [len(c) for c in sorted(nx.connected_components(G_sel), key=len, reverse=True)][:20]"
      ],
      "outputs": [],
      "execution_count": null,
      "metadata": {
        "gather": {
          "logged": 1709135843284
        },
        "jupyter": {
          "outputs_hidden": false,
          "source_hidden": false
        },
        "nteract": {
          "transient": {
            "deleting": false
          }
        }
      }
    },
    {
      "cell_type": "code",
      "source": [
        "# Get subgraphs\n",
        "S = [G.subgraph(c).copy() for c in sorted(nx.connected_components(G), key=len, reverse=True)]\n",
        "S_sel = [G_sel.subgraph(c).copy() for c in sorted(nx.connected_components(G_sel), key=len, reverse=True)]"
      ],
      "outputs": [],
      "execution_count": null,
      "metadata": {
        "gather": {
          "logged": 1709135846448
        },
        "jupyter": {
          "outputs_hidden": false,
          "source_hidden": false
        },
        "nteract": {
          "transient": {
            "deleting": false
          }
        }
      }
    },
    {
      "cell_type": "code",
      "source": [
        "# Compose final graph based on largest subgraphs\n",
        "G_con = nx.compose(S[0], S[1])\n",
        "G_sel_con = nx.compose(S_sel[0], S_sel[1])\n",
        "G_sel_con = nx.compose(G_sel_con, S_sel[2])\n",
        "G_sel_con = nx.compose(G_sel_con, S_sel[3])\n",
        "G_sel_con = nx.compose(G_sel_con, S_sel[4])"
      ],
      "outputs": [],
      "execution_count": null,
      "metadata": {
        "gather": {
          "logged": 1709135851456
        },
        "jupyter": {
          "outputs_hidden": false,
          "source_hidden": false
        },
        "nteract": {
          "transient": {
            "deleting": false
          }
        }
      }
    },
    {
      "cell_type": "code",
      "source": [
        "# Create dataframes with full, connected and final network\n",
        "G_df = momepy.nx_to_gdf(G, points=False, lines=True)\n",
        "G_con_df = momepy.nx_to_gdf(G_con, points=False, lines=True)\n",
        "G_sel_con_df = momepy.nx_to_gdf(G_sel_con, points=False, lines=True)"
      ],
      "outputs": [],
      "execution_count": null,
      "metadata": {
        "gather": {
          "logged": 1709135857620
        },
        "jupyter": {
          "outputs_hidden": false,
          "source_hidden": false
        },
        "nteract": {
          "transient": {
            "deleting": false
          }
        }
      }
    },
    {
      "cell_type": "markdown",
      "source": [
        "## Visualize network"
      ],
      "metadata": {
        "nteract": {
          "transient": {
            "deleting": false
          }
        }
      }
    },
    {
      "cell_type": "code",
      "source": [
        "G_df.shape"
      ],
      "outputs": [],
      "execution_count": null,
      "metadata": {
        "gather": {
          "logged": 1709135857984
        },
        "jupyter": {
          "outputs_hidden": false,
          "source_hidden": false
        },
        "nteract": {
          "transient": {
            "deleting": false
          }
        }
      }
    },
    {
      "cell_type": "code",
      "source": [
        "G_con_df.shape"
      ],
      "outputs": [],
      "execution_count": null,
      "metadata": {
        "gather": {
          "logged": 1709135858374
        },
        "jupyter": {
          "outputs_hidden": false,
          "source_hidden": false
        },
        "nteract": {
          "transient": {
            "deleting": false
          }
        }
      }
    },
    {
      "cell_type": "code",
      "source": [
        "G_sel_con_df.shape"
      ],
      "outputs": [],
      "execution_count": null,
      "metadata": {
        "gather": {
          "logged": 1709135858751
        },
        "jupyter": {
          "outputs_hidden": false,
          "source_hidden": false
        },
        "nteract": {
          "transient": {
            "deleting": false
          }
        }
      }
    },
    {
      "cell_type": "code",
      "source": [
        "# Set center of map\n",
        "area_coords = [52.375664816888225, 4.8632280955697995]\n",
        "\n",
        "# Set to map coordinate reference system\n",
        "G_df_show = G_df.to_crs(st.CRS_map)\n",
        "G_con_df_show = G_con_df.to_crs(st.CRS_map)\n",
        "G_sel_con_df_show = G_sel_con_df.to_crs(st.CRS_map)\n",
        "\n",
        "# Create basic map\n",
        "my_map = folium.Map(\n",
        "    location=area_coords,\n",
        "    tiles='cartodbpositron',\n",
        "    min_zoom=10, max_zoom=20, zoom_start=13,\n",
        "    zoom_control=True, control_scale=True, control=False\n",
        "    )\n",
        "\n",
        "# Add complete network\n",
        "folium.GeoJson(data=G_df_show, style_function=lambda x: {\"color\": \"lightgray\"}).add_to(my_map)\n",
        "\n",
        "# Overlay network without hard limits (but with taking connectivity into account)\n",
        "folium.GeoJson(data=G_con_df_show[G_con_df_show['crossing'] == 'No'], style_function=lambda x: {\"color\": \"lightblue\"}).add_to(my_map)\n",
        "folium.GeoJson(data=G_con_df_show[G_con_df_show['crossing'] == 'Yes'], style_function=lambda x: {\"color\": \"pink\"}).add_to(my_map)\n",
        "folium.GeoJson(data=G_con_df_show[~G_con_df_show['bikepath_id'].isnull()], style_function=lambda x: {\"color\": \"lightgreen\"}).add_to(my_map)\n",
        "\n",
        "# Overlay final network (with hard limits and taking connectivity into account)\n",
        "folium.GeoJson(data=G_sel_con_df_show[G_sel_con_df_show['crossing'] == 'No'], style_function=lambda x: {\"color\": \"blue\"}).add_to(my_map)  \n",
        "folium.GeoJson(data=G_sel_con_df_show[~G_sel_con_df_show['bikepath_id'].isnull()], style_function=lambda x: {\"color\": \"darkgreen\"}).add_to(my_map)\n",
        "folium.GeoJson(data=G_sel_con_df_show[G_sel_con_df_show['crossing'] == 'Yes'], style_function=lambda x: {\"color\": \"purple\"}).add_to(my_map)\n",
        "\n",
        "# Add public transport stop nodes icluding information to the network\n",
        "gdf_ptf = df.loc[df['public_transport_stop'] == 'Yes']\n",
        "feature_names = gdf_ptf.columns.tolist()\n",
        "feature_names.remove('geometry')\n",
        "color_column = 'wheelchair_accessible'\n",
        "tooltip = plot_utils.gen_tooltip(feature_names, feature_names)\n",
        "folium.GeoJson(gdf_ptf, tooltip=tooltip, marker=folium.Marker(icon=folium.Icon(icon='solid fa-code-merge', prefix='fa')), style_function=lambda feature: {\"markerColor\": 'green' if\n",
        "                                                                                                                                            feature[\"properties\"][color_column] == 'Yes' else \n",
        "                                                                                                                                            'red' if feature[\"properties\"][color_column] == 'No' else\n",
        "                                                                                                                                            'orange'}).add_to(my_map)"
      ],
      "outputs": [],
      "execution_count": null,
      "metadata": {
        "gather": {
          "logged": 1709135859103
        },
        "jupyter": {
          "outputs_hidden": false,
          "source_hidden": false
        },
        "nteract": {
          "transient": {
            "deleting": false
          }
        }
      }
    },
    {
      "cell_type": "code",
      "source": [
        "# Store map\n",
        "my_map.save(cf.network_map_final)"
      ],
      "outputs": [],
      "execution_count": null,
      "metadata": {
        "gather": {
          "logged": 1709135859425
        },
        "jupyter": {
          "outputs_hidden": false,
          "source_hidden": false
        },
        "nteract": {
          "transient": {
            "deleting": false
          }
        }
      }
    },
    {
      "cell_type": "markdown",
      "source": [
        "## Add directionality\n",
        "Note: this cannot be done earlier, as the conected components part cannot deal with directionality"
      ],
      "metadata": {
        "nteract": {
          "transient": {
            "deleting": false
          }
        }
      }
    },
    {
      "cell_type": "code",
      "source": [
        "len(G_sel_con.edges)"
      ],
      "outputs": [],
      "execution_count": null,
      "metadata": {
        "jupyter": {
          "source_hidden": false,
          "outputs_hidden": false
        },
        "nteract": {
          "transient": {
            "deleting": false
          }
        },
        "gather": {
          "logged": 1709135859773
        }
      }
    },
    {
      "cell_type": "code",
      "source": [
        "# Make bi-directionality of sidewalks (and not of bike paths) explicit\n",
        "G_con_df['oneway'] = np.where(G_con_df['bikepath_id'].isna(), False, True)\n",
        "G_sel_con_df['oneway'] = np.where(G_sel_con_df['bikepath_id'].isna(), False, True)\n",
        "\n",
        "# Create graphs that take directionality into account\n",
        "G_con_dir = momepy.gdf_to_nx(G_con_df, approach=\"primal\", multigraph=True, directed=True, oneway_column=\"oneway\")  # Note: need momepy 0.6 for this (which only works with Shapely 2)\n",
        "G_sel_con_dir = momepy.gdf_to_nx(G_sel_con_df, approach=\"primal\", multigraph=True, directed=True, oneway_column=\"oneway\")\n",
        "len(G_sel_con_dir.edges)"
      ],
      "outputs": [],
      "execution_count": null,
      "metadata": {
        "jupyter": {
          "source_hidden": false,
          "outputs_hidden": false
        },
        "nteract": {
          "transient": {
            "deleting": false
          }
        },
        "gather": {
          "logged": 1709135870672
        }
      }
    },
    {
      "cell_type": "markdown",
      "source": [
        "## Get route"
      ],
      "metadata": {
        "nteract": {
          "transient": {
            "deleting": false
          }
        }
      }
    },
    {
      "cell_type": "code",
      "source": [
        "# Define origin and destination\n",
        "df_coords = pd.DataFrame({\"coordinates\": [\"origin\", \"destination\"],\n",
        "       \"latitude\": [origin_coords[0], dest_coords[0]],\n",
        "       \"longitude\": [origin_coords[1], dest_coords[1]]})\n",
        "\n",
        "# Create geodataframe\n",
        "gdf_coords = gpd.GeoDataFrame(\n",
        "    df_coords, geometry=gpd.points_from_xy(df_coords.longitude, df_coords.latitude), crs=st.CRS_map\n",
        ")\n",
        "gdf_coords = gdf_coords.to_crs(st.CRS)\n",
        "gdf_coords = gdf_coords[['coordinates', 'geometry']]\n",
        "\n",
        "# Get origin and destination location\n",
        "origin_point = gdf_coords.loc[gdf_coords['coordinates'] == 'origin', 'geometry'].values[0]\n",
        "dest_point = gdf_coords.loc[gdf_coords['coordinates'] == 'destination', 'geometry'].values[0]"
      ],
      "outputs": [],
      "execution_count": null,
      "metadata": {
        "gather": {
          "logged": 1709135970503
        },
        "jupyter": {
          "outputs_hidden": false,
          "source_hidden": false
        },
        "nteract": {
          "transient": {
            "deleting": false
          }
        }
      }
    },
    {
      "cell_type": "code",
      "source": [
        "# Get origin and destination node location - in full network\n",
        "origin_node_loc = so.nearest_points(origin_point, sg.MultiPoint(list(G_con_dir.nodes)))[1]\n",
        "dest_node_loc = so.nearest_points(dest_point, sg.MultiPoint(list(G_con_dir.nodes)))[1]\n",
        "\n",
        "# Get origin and destination node - in full network\n",
        "origin_node = (origin_node_loc.x, origin_node_loc.y)\n",
        "dest_node = (dest_node_loc.x, dest_node_loc.y)\n",
        "print(origin_node)\n",
        "print(dest_node)"
      ],
      "outputs": [],
      "execution_count": null,
      "metadata": {
        "gather": {
          "logged": 1709135974879
        },
        "jupyter": {
          "outputs_hidden": false,
          "source_hidden": false
        },
        "nteract": {
          "transient": {
            "deleting": false
          }
        }
      }
    },
    {
      "cell_type": "code",
      "source": [
        "# Get origin and destination node location - in accessible network\n",
        "origin_node_sel_loc = so.nearest_points(origin_point, sg.MultiPoint(list(G_sel_con_dir.nodes)))[1]\n",
        "dest_node_sel_loc = so.nearest_points(dest_point, sg.MultiPoint(list(G_sel_con_dir.nodes)))[1]\n",
        "\n",
        "# Get origin and destination node - in accessible network\n",
        "origin_node_sel = (origin_node_sel_loc.x, origin_node_sel_loc.y)\n",
        "dest_node_sel = (dest_node_sel_loc.x, dest_node_sel_loc.y)\n",
        "print(origin_node_sel)\n",
        "print(dest_node_sel)"
      ],
      "outputs": [],
      "execution_count": null,
      "metadata": {
        "gather": {
          "logged": 1709135976304
        },
        "jupyter": {
          "outputs_hidden": false,
          "source_hidden": false
        },
        "nteract": {
          "transient": {
            "deleting": false
          }
        }
      }
    },
    {
      "cell_type": "code",
      "source": [
        "heuristic = 'dijkstra'\n",
        "# heuristic = 'a_star'\n",
        "\n",
        "if heuristic =='dijkstra':\n",
        "    # Get shortest path between origin and destination, based on length (in full network)\n",
        "    my_path_length = nx.shortest_path(G_con_dir, origin_node, dest_node, weight='length')\n",
        "    # Get 'shortest' path between origin and destination, based on custom weight (in accessible network)\n",
        "    my_path_weight = nx.shortest_path(G_sel_con_dir, origin_node_sel, dest_node_sel, weight='my_weight')\n",
        "elif heuristic == 'a_star':\n",
        "    # Get shortest path between origin and destination, based on length (in full network)\n",
        "    my_path_length = nx.astar_path(G_con_dir, origin_node, dest_node, heuristic=poly_utils.dist, weight='length')\n",
        "    # Get 'shortest' path between origin and destination, based on custom weight (in accessible network)\n",
        "    my_path_weight = nx.astar_path(G_sel_con_dir, origin_node_sel, dest_node_sel, heuristic=poly_utils.dist, weight='my_weight')"
      ],
      "outputs": [],
      "execution_count": null,
      "metadata": {
        "gather": {
          "logged": 1709135976759
        },
        "jupyter": {
          "outputs_hidden": false,
          "source_hidden": false
        },
        "nteract": {
          "transient": {
            "deleting": false
          }
        }
      }
    },
    {
      "cell_type": "code",
      "source": [
        "# Put shortest path (based on length) in a dataframe\n",
        "G_path_length = nx.subgraph(G_con_dir, my_path_length)\n",
        "df_path_length = momepy.nx_to_gdf(G_path_length, lines=True, points=False)\n",
        "\n",
        "# TODO why are there duplicates? and should we filter them out???\n",
        "# df_path_length.shape  se for example route_id 3"
      ],
      "outputs": [],
      "execution_count": null,
      "metadata": {
        "gather": {
          "logged": 1709135977213
        },
        "jupyter": {
          "outputs_hidden": false,
          "source_hidden": false
        },
        "nteract": {
          "transient": {
            "deleting": false
          }
        }
      }
    },
    {
      "cell_type": "code",
      "source": [
        "# Put 'shortest' path (based on accessibility weight) in a dataframe\n",
        "G_path_weight = nx.subgraph(G_sel_con_dir, my_path_weight)\n",
        "df_path_weight = momepy.nx_to_gdf(G_path_weight, lines=True, points=False)"
      ],
      "outputs": [],
      "execution_count": null,
      "metadata": {
        "gather": {
          "logged": 1709135977962
        },
        "jupyter": {
          "outputs_hidden": false,
          "source_hidden": false
        },
        "nteract": {
          "transient": {
            "deleting": false
          }
        }
      }
    },
    {
      "cell_type": "code",
      "source": [
        "# Check lengths of routes (m)\n",
        "print(df_path_length['mm_len'].sum().round())\n",
        "print(df_path_weight['mm_len'].sum().round())"
      ],
      "outputs": [],
      "execution_count": null,
      "metadata": {
        "gather": {
          "logged": 1709135978238
        },
        "jupyter": {
          "outputs_hidden": false,
          "source_hidden": false
        },
        "nteract": {
          "transient": {
            "deleting": false
          }
        }
      }
    },
    {
      "cell_type": "code",
      "source": [
        "print(df_path_length['length'].sum().round())\n",
        "print(df_path_weight['length'].sum().round())"
      ],
      "outputs": [],
      "execution_count": null,
      "metadata": {
        "jupyter": {
          "source_hidden": false,
          "outputs_hidden": false
        },
        "nteract": {
          "transient": {
            "deleting": false
          }
        },
        "gather": {
          "logged": 1709135978545
        }
      }
    },
    {
      "cell_type": "markdown",
      "source": [
        "## Visualize route"
      ],
      "metadata": {
        "nteract": {
          "transient": {
            "deleting": false
          }
        }
      }
    },
    {
      "cell_type": "code",
      "source": [
        "# Subset network for plotting\n",
        "my_rad = 70\n",
        "gdf_coords['buffer'] = gdf_coords['geometry'].buffer(my_rad, cap_style=3)\n",
        "plot_area = gpd.GeoDataFrame(geometry=[gdf_coords['buffer'][0].union(gdf_coords['buffer'][1])], crs=st.CRS)\n",
        "df_sub = gpd.sjoin(df, plot_area, how='inner').reset_index()"
      ],
      "outputs": [],
      "execution_count": null,
      "metadata": {
        "gather": {
          "logged": 1709135978813
        },
        "jupyter": {
          "outputs_hidden": false,
          "source_hidden": false
        },
        "nteract": {
          "transient": {
            "deleting": false
          }
        }
      }
    },
    {
      "cell_type": "code",
      "source": [
        "fig, ax = plt.subplots(figsize=(12,12))\n",
        "\n",
        "# Network\n",
        "df_sub.plot(ax=ax, color='lightgrey', linewidth=1)\n",
        "\n",
        "# 'Shortest' paths\n",
        "df_path_length.plot(ax=ax, color='grey', linewidth=3)\n",
        "df_path_weight.plot(ax=ax, color='black', linewidth=2)\n",
        "df_path_weight[~df_path_weight['bikepath_id'].isnull()].plot(ax=ax, color='darkgreen', linewidth=2)\n",
        "\n",
        "# Origin and destination location\n",
        "gdf_coords.head(1).plot(ax=ax, color='blue', markersize=50)\n",
        "gdf_coords.tail(1).plot(ax=ax, color='red', markersize=50)\n",
        "\n",
        "# Origin and destination nodes\n",
        "gpd.GeoSeries([origin_node_sel_loc], crs=st.CRS).plot(ax=ax, color='blue', markersize=20)\n",
        "gpd.GeoSeries([dest_node_sel_loc], crs=st.CRS).plot(ax=ax, color='red', markersize=20)\n",
        "\n",
        "# Background\n",
        "cx.add_basemap(ax=ax, source=cx.providers.CartoDB.Voyager, crs=st.CRS)\n",
        "\n",
        "# Legend\n",
        "route_acc = mpatches.Patch(color='black', label='accessible route (pedestrian)')\n",
        "route_acc_b = mpatches.Patch(color='darkgreen', label='accessible route (bike)')\n",
        "route = mpatches.Patch(color='grey', label='shortest route')\n",
        "origin = mpatches.Patch(color='blue', label= 'origin')\n",
        "dest = mpatches.Patch(color='red', label= 'destination')\n",
        "plt.legend(handles=[route_acc,route_acc_b,route,origin,dest], loc='lower center')\n",
        "# plt.legend(handles=[route_acc,origin,dest], loc='lower center')\n",
        "\n",
        "plt.axis('off')\n",
        "\n",
        "plt.savefig(f'{cf.out_folder}final_routes/route_{route_name}.png', bbox_inches='tight')\n",
        "\n",
        "plt.show()"
      ],
      "outputs": [],
      "execution_count": null,
      "metadata": {
        "gather": {
          "logged": 1709135979554
        },
        "jupyter": {
          "outputs_hidden": false,
          "source_hidden": false
        },
        "nteract": {
          "transient": {
            "deleting": false
          }
        }
      }
    },
    {
      "cell_type": "markdown",
      "source": [
        "## Store route"
      ],
      "metadata": {
        "nteract": {
          "transient": {
            "deleting": false
          }
        }
      }
    },
    {
      "cell_type": "code",
      "source": [
        "df_path_weight['length'] = df_path_weight['length'].round(2)\n",
        "df_path_weight_store = df_path_weight.to_crs(st.CRS_map)\n",
        "df_path_weight_store = df_path_weight_store[['geometry', 'length']]\n",
        "df_path_points_store = df_path_weight_store['geometry'].get_coordinates()\n",
        "df_path_points_store = df_path_points_store.reset_index(names='linestring_id')\n",
        "df_path_points_store.head(2)"
      ],
      "outputs": [],
      "execution_count": null,
      "metadata": {
        "gather": {
          "logged": 1709135979928
        },
        "jupyter": {
          "outputs_hidden": false,
          "source_hidden": false
        },
        "nteract": {
          "transient": {
            "deleting": false
          }
        }
      }
    },
    {
      "cell_type": "code",
      "source": [
        "gdf_coords_store = gdf_coords.to_crs(st.CRS_map)\n",
        "gdf_coords_store = gdf_coords_store[['coordinates', 'geometry']]\n",
        "gdf_coords_points_store = gdf_coords_store.set_index('coordinates')['geometry'].get_coordinates()\n",
        "gdf_coords_points_store = gdf_coords_points_store.reset_index()\n",
        "gdf_coords_points_store"
      ],
      "outputs": [],
      "execution_count": null,
      "metadata": {
        "gather": {
          "logged": 1709135980308
        },
        "jupyter": {
          "outputs_hidden": false,
          "source_hidden": false
        },
        "nteract": {
          "transient": {
            "deleting": false
          }
        }
      }
    },
    {
      "cell_type": "code",
      "source": [
        "# Store the data  # TODO change path to non-local\n",
        "gdf_coords_points_store.to_csv(f'{cf.out_folder}final_routes/route_{route_id}_start_end.csv', sep=';')\n",
        "df_path_points_store.to_csv(f'{cf.out_folder}final_routes/route_{route_name}.csv', sep=';')"
      ],
      "outputs": [],
      "execution_count": null,
      "metadata": {
        "gather": {
          "logged": 1709135980697
        },
        "jupyter": {
          "outputs_hidden": false,
          "source_hidden": false
        },
        "nteract": {
          "transient": {
            "deleting": false
          }
        }
      }
    }
  ],
  "metadata": {
    "kernel_info": {
      "name": "venv_rp"
    },
    "kernelspec": {
      "name": "venv_rp",
      "language": "python",
      "display_name": "venv_rp"
    },
    "language_info": {
      "name": "python",
      "version": "3.8.10",
      "mimetype": "text/x-python",
      "codemirror_mode": {
        "name": "ipython",
        "version": 3
      },
      "pygments_lexer": "ipython3",
      "nbconvert_exporter": "python",
      "file_extension": ".py"
    },
    "microsoft": {
      "host": {
        "AzureML": {
          "notebookHasBeenCompleted": true
        }
      },
      "ms_spell_check": {
        "ms_spell_check_language": "en"
      }
    },
    "nteract": {
      "version": "nteract-front-end@1.0.0"
    }
  },
  "nbformat": 4,
  "nbformat_minor": 2
}