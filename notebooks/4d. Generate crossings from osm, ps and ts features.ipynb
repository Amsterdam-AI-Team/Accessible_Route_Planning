{
  "cells": [
    {
      "cell_type": "markdown",
      "id": "5f034096",
      "metadata": {},
      "source": [
        "# 4d. Get osm, project sidewalk and traffic sign crossings"
      ]
    },
    {
      "cell_type": "code",
      "execution_count": null,
      "id": "071158b6",
      "metadata": {
        "gather": {
          "logged": 1705500764480
        }
      },
      "outputs": [],
      "source": [
        "# Standard library and path imports\n",
        "import set_path\n",
        "\n",
        "# Third-party library imports\n",
        "import numpy as np\n",
        "import pandas as pd\n",
        "import geopandas as gpd\n",
        "from shapely import wkt\n",
        "import momepy\n",
        "import networkx as nx\n",
        "from branca.element import Template, MacroElement\n",
        "import folium\n",
        "\n",
        "# Local or project-specific imports\n",
        "import plot_utils\n",
        "import crossing_utils\n",
        "import settings as st\n",
        "\n",
        "if st.my_run == \"azure\":\n",
        "    import config_azure as cf\n",
        "elif st.my_run == \"local\":\n",
        "    import config as cf"
      ]
    },
    {
      "cell_type": "markdown",
      "id": "50c6b9b1",
      "metadata": {},
      "source": [
        "## Import walking network "
      ]
    },
    {
      "cell_type": "code",
      "execution_count": null,
      "id": "b4a3ab12-418d-4c39-8d47-51946b25f288",
      "metadata": {
        "gather": {
          "logged": 1705500792390
        }
      },
      "outputs": [],
      "source": [
        "# Get basic pedestrian network with widths\n",
        "gdf_network = gpd.read_file(cf.output_file_widths).to_crs(crs=st.CRS)\n",
        "gdf_network_nodes = gpd.GeoDataFrame(geometry = gdf_network.boundary.explode(index_parts=True), crs=st.CRS)\n",
        "gdf_network_nodes['x'], gdf_network_nodes['y'] = gdf_network_nodes.geometry.x, gdf_network_nodes.geometry.y\n",
        "gdf_network_nodes.reset_index()\n",
        "graph_network = momepy.gdf_to_nx(gdf_network, approach='primal')"
      ]
    },
    {
      "cell_type": "code",
      "execution_count": null,
      "id": "87aeac20-1362-4cd6-b859-94a7a4dc5648",
      "metadata": {
        "gather": {
          "logged": 1705500801359
        },
        "jupyter": {
          "outputs_hidden": false,
          "source_hidden": false
        },
        "nteract": {
          "transient": {
            "deleting": false
          }
        }
      },
      "outputs": [],
      "source": [
        "# Calculate connected components for pedestrian network\n",
        "cc_network = list(nx.connected_components(graph_network))\n",
        "nodes_in_edge = [line.coords[0] for line in gdf_network['geometry'].to_list()]\n",
        "cc_ids = [i for node in nodes_in_edge for i in range(len(cc_network)) if node in cc_network[i]]\n",
        "gdf_network_nodes['cc'] = [x for y in zip(cc_ids, cc_ids) for x in y]"
      ]
    },
    {
      "cell_type": "markdown",
      "id": "b119fa36-97db-4304-98f3-9f2419d955c9",
      "metadata": {},
      "source": [
        "## Create crossings with OSM crossing features"
      ]
    },
    {
      "cell_type": "markdown",
      "id": "0305933d-ee94-4680-b9a6-9b3e17ea125d",
      "metadata": {},
      "source": [
        "### Import osm crossing features"
      ]
    },
    {
      "cell_type": "code",
      "execution_count": null,
      "id": "0d67ccd2-f06b-408a-bb19-535fba848a6c",
      "metadata": {
        "gather": {
          "logged": 1705500853645
        },
        "jupyter": {
          "outputs_hidden": false,
          "source_hidden": false
        },
        "nteract": {
          "transient": {
            "deleting": false
          }
        }
      },
      "outputs": [],
      "source": [
        "# Import osm crossing features\n",
        "gdf_osm_cf = gpd.read_file(cf.output_osm_crossing_features).to_crs(crs=st.CRS)"
      ]
    },
    {
      "cell_type": "markdown",
      "id": "8096e21a-ff68-4c06-aac5-3cf1c854e26d",
      "metadata": {
        "nteract": {
          "transient": {
            "deleting": false
          }
        }
      },
      "source": [
        "### Select crossing features and nodes to keep \n"
      ]
    },
    {
      "cell_type": "code",
      "execution_count": null,
      "id": "32ea3892-d7d9-4bb9-adfb-631e6ddf7331",
      "metadata": {
        "gather": {
          "logged": 1705500857348
        },
        "jupyter": {
          "outputs_hidden": false,
          "source_hidden": false
        },
        "nteract": {
          "transient": {
            "deleting": false
          }
        }
      },
      "outputs": [],
      "source": [
        "# Create network and crossing feature dataframes\n",
        "gdf_osm_cf_sel = gdf_osm_cf.loc[gdf_osm_cf['highway'] != 'cycleway']\n",
        "gdf_osm_nodes = gdf_osm_cf_sel[gdf_osm_cf_sel['element_type'] == 'node']\n",
        "gdf_osm_edges = gdf_osm_cf_sel[gdf_osm_cf_sel['element_type'] == 'way']\n",
        "gdf_osm_edges = gdf_osm_edges.drop(columns=gdf_osm_edges.columns.difference(['geometry']))\n",
        "\n",
        "# Remove crossing nodes that already are on a crossing edge\n",
        "if not gdf_osm_edges.empty:\n",
        "    for i, row in gdf_osm_nodes.iterrows():\n",
        "        gdf_osm_nodes.loc[i, 'min_dis'] = gdf_osm_edges.distance(row['geometry']).min()\n",
        "    gdf_osm_nodes = gdf_osm_nodes.loc[gdf_osm_nodes['min_dis'] <= 0.01]"
      ]
    },
    {
      "cell_type": "markdown",
      "id": "7711a26f-4913-4748-abe3-4fbdb4c0ee5d",
      "metadata": {
        "nteract": {
          "transient": {
            "deleting": false
          }
        }
      },
      "source": [
        "### Add osm crosswalk edges to the network"
      ]
    },
    {
      "cell_type": "code",
      "execution_count": null,
      "id": "410c68a5-d781-4185-b61b-ca21cf041e81",
      "metadata": {
        "gather": {
          "logged": 1705500882400
        },
        "jupyter": {
          "outputs_hidden": false,
          "source_hidden": false
        },
        "nteract": {
          "transient": {
            "deleting": false
          }
        }
      },
      "outputs": [],
      "source": [
        "# # Current heuristic: find closest node in the network and connect outer points of crosswalk edge to that point\n",
        "\n",
        "# Get outer nodes of crossing edges and connect to network\n",
        "gdf_osm_edge_nodes = gpd.GeoDataFrame(geometry=gdf_osm_edges['geometry'].boundary.explode(index_parts=True), crs=st.CRS).reset_index()\n",
        "gdf_osm_edge_nodes['x'], gdf_osm_edge_nodes['y'] = gdf_osm_edge_nodes.geometry.x, gdf_osm_edge_nodes.geometry.y\n",
        "gdf_new_edges_from_osm_edges = crossing_utils.get_connections(gdf_osm_edge_nodes, gdf_network_nodes, max_dist=10, max_connections=2, \n",
        "                                                                crs=st.CRS, include_cc_rule=True, cc_column='cc')\n",
        "print('Number of new edges from crosswalk edge to network node:', len(gdf_new_edges_from_osm_edges))"
      ]
    },
    {
      "cell_type": "markdown",
      "id": "d3171ef4-cc72-4189-9e98-1d9c9f19c523",
      "metadata": {
        "nteract": {
          "transient": {
            "deleting": false
          }
        }
      },
      "source": [
        "### Add osm crosswalk nodes to the network"
      ]
    },
    {
      "cell_type": "code",
      "execution_count": null,
      "id": "c0fa3061-4d1b-407a-a544-e259e3b81d07",
      "metadata": {
        "gather": {
          "logged": 1705500890419
        },
        "jupyter": {
          "outputs_hidden": false,
          "source_hidden": false
        },
        "nteract": {
          "transient": {
            "deleting": false
          }
        }
      },
      "outputs": [],
      "source": [
        "# Get coordinates of crossing feature nodes\n",
        "gdf_osm_nodes['x'], gdf_osm_nodes['y'] = gdf_osm_nodes.geometry.x, gdf_osm_nodes.geometry.y\n",
        "\n",
        "# Connect osm crosswalk nodes to eachother\n",
        "gdf_self_edges = crossing_utils.get_connections(gdf_osm_nodes, gdf_osm_nodes, max_dist=10, max_connections=2, crs=st.CRS)\n",
        "print('Number of new edges from crossing node to crossing node:', len(gdf_self_edges))\n",
        "\n",
        "# Connect osm crosswalk nodes to network\n",
        "gdf_network_edges = crossing_utils.get_connections(gdf_osm_nodes, gdf_network_nodes, max_dist=10, max_connections=3, crs=st.CRS, include_cc_rule=True, cc_column='cc')\n",
        "print('Number of new edges from osm node to network node:', len(gdf_network_edges))"
      ]
    },
    {
      "cell_type": "markdown",
      "id": "4b040a19-bee5-434e-9672-2c4b9081692b",
      "metadata": {
        "nteract": {
          "transient": {
            "deleting": false
          }
        }
      },
      "source": [
        "### visualize OSM crossings"
      ]
    },
    {
      "cell_type": "code",
      "execution_count": null,
      "id": "5c507598-d05e-4a26-920c-05d6dd01f3cd",
      "metadata": {
        "gather": {
          "logged": 1705329313249
        },
        "jupyter": {
          "outputs_hidden": false,
          "source_hidden": false
        },
        "nteract": {
          "transient": {
            "deleting": false
          }
        }
      },
      "outputs": [],
      "source": [
        "# set True for satellite background, False for standard background\n",
        "satellite = False\n",
        "\n",
        "# Create Folium map\n",
        "map = folium.Map(\n",
        "    location=[52.350547922223434, 4.794019242371844], tiles=plot_utils.generate_map_params(satellite=satellite),\n",
        "    min_zoom=10, max_zoom=25, zoom_start=17,\n",
        "    zoom_control=True, control_scale=True, control=False\n",
        "    )\n",
        "\n",
        "# Add network and new edges\n",
        "geo_j = folium.GeoJson(gdf_network, style_function=lambda x: {\"color\": \"black\", \"weight\": 2}).add_to(map)\n",
        "geo_j = folium.GeoJson(gdf_osm_edges, style_function=lambda x: {\"color\": \"orange\", \"weight\": 4}).add_to(map)\n",
        "geo_j = folium.GeoJson(gdf_new_edges_from_osm_edges, style_function=lambda x: {\"color\": \"red\", \"weight\": 6}).add_to(map)\n",
        "geo_j = folium.GeoJson(gdf_network_edges, style_function=lambda x: {\"color\": \"yellow\", \"weight\": 6}).add_to(map)\n",
        "geo_j = folium.GeoJson(gdf_self_edges, style_function=lambda x: {\"color\": \"lightgreen\", \"weight\": 6}).add_to(map)\n",
        "\n",
        "# Add crossing edges and nodes\n",
        "feature_names = gdf_osm_cf_sel.columns.tolist()\n",
        "feature_names.remove('geometry')\n",
        "tooltip = plot_utils.gen_tooltip(feature_names, feature_names)\n",
        "geo_j = folium.GeoJson(gdf_osm_cf_sel, style_function=lambda x: {\"color\": \"orange\", \"weight\": 4}, tooltip=tooltip).add_to(map)\n",
        "\n",
        "# Plot map\n",
        "template = plot_utils.gen_template()\n",
        "macro = MacroElement()\n",
        "macro._template = Template(template)\n",
        "map.get_root().add_child(macro)\n",
        "\n",
        "map"
      ]
    },
    {
      "cell_type": "markdown",
      "id": "38e2325a-b4b1-4a98-ad35-2cbddd2f991d",
      "metadata": {
        "nteract": {
          "transient": {
            "deleting": false
          }
        }
      },
      "source": [
        "### Store OSM crossings"
      ]
    },
    {
      "cell_type": "code",
      "execution_count": null,
      "id": "ad69e0bc-db97-4815-b0d8-bace2a6e795c",
      "metadata": {
        "gather": {
          "logged": 1705329601254
        },
        "jupyter": {
          "outputs_hidden": false,
          "source_hidden": false
        },
        "nteract": {
          "transient": {
            "deleting": false
          }
        }
      },
      "outputs": [],
      "source": [
        "gdf_edges = pd.concat([gdf_osm_edges, gdf_new_edges_from_osm_edges, gdf_self_edges, gdf_network_edges], ignore_index=True, sort=False)\n",
        "gdf_edges.to_file(cf.output_osm_crossings, driver='GPKG')"
      ]
    },
    {
      "cell_type": "markdown",
      "id": "e8c496dd-65a8-49a2-90c3-33bc24196b0f",
      "metadata": {},
      "source": [
        "## Create crossings with Project Sidewalk crossing features"
      ]
    },
    {
      "cell_type": "markdown",
      "id": "3cbc3c1b-0c98-47ce-a1a1-6b9a26c0598e",
      "metadata": {},
      "source": [
        "### Import Project sidewalk crossing features"
      ]
    },
    {
      "cell_type": "code",
      "execution_count": null,
      "id": "9b95745b-6ed2-489c-b74d-2ebacb79f6ff",
      "metadata": {
        "gather": {
          "logged": 1705329710922
        }
      },
      "outputs": [],
      "source": [
        "# Import project sidewalk crossing features\n",
        "gdf_ps_cf = gpd.read_file(cf.output_project_sidewalk_crossing_features)"
      ]
    },
    {
      "cell_type": "markdown",
      "id": "8240ba4b-7331-4a82-8cdd-08f3f3c4176a",
      "metadata": {},
      "source": [
        "### Select crossing features and nodes to keep"
      ]
    },
    {
      "cell_type": "code",
      "execution_count": null,
      "id": "a73e7ada-5f6e-4a17-b7a9-91667fbc0981",
      "metadata": {
        "gather": {
          "logged": 1705329714966
        }
      },
      "outputs": [],
      "source": [
        "# Create network and crossing feature dataframes\n",
        "gdf_ps_nodes = gdf_ps_cf.loc[gdf_ps_cf['label_type'] == 'Crosswalk']\n",
        "\n",
        "# TODO Check if ['CurbRamp' 'Obstacle' 'Signal' 'NoCurbRamp' 'SurfaceProblem'] nodes are useful to find crossings as well"
      ]
    },
    {
      "cell_type": "markdown",
      "id": "6cdc1616-6821-46ad-8fb8-f546c8dee81b",
      "metadata": {},
      "source": [
        "### Add project sidewalk nodes to network"
      ]
    },
    {
      "cell_type": "code",
      "execution_count": null,
      "id": "629d5ef3-7585-4082-9f7e-b9e8e84f7c3d",
      "metadata": {
        "gather": {
          "logged": 1705329718476
        }
      },
      "outputs": [],
      "source": [
        "# Get coordinates of crossing feature and network nodes\n",
        "gdf_ps_nodes['x'], gdf_ps_nodes['y'] = gdf_ps_nodes.geometry.x, gdf_ps_nodes.geometry.y\n",
        "\n",
        "# Connect project sidewalk crosswalk nodes to eachother\n",
        "gdf_self_edges = crossing_utils.get_connections(gdf_ps_nodes, gdf_ps_nodes, max_dist=10, max_connections=2, crs=st.CRS)\n",
        "print('Number of new edges from crosswalk node to crosswalk node:', len(gdf_self_edges))\n",
        "\n",
        "# Connect project sidewalk crosswalk nodes to network\n",
        "gdf_network_edges = crossing_utils.get_connections(gdf_ps_nodes, gdf_network_nodes, max_dist=10, max_connections=3, crs=st.CRS, include_cc_rule=True, cc_column='cc')\n",
        "print('Number of new edges from crosswalk node to network node:', len(gdf_network_edges))"
      ]
    },
    {
      "cell_type": "markdown",
      "id": "137dd18c-6d3b-4c1a-b31e-7ae1ec3d8d90",
      "metadata": {},
      "source": [
        "### Visualize Project Sidewalk crossings"
      ]
    },
    {
      "cell_type": "code",
      "execution_count": null,
      "id": "c79fd691-8206-403f-bb46-00456ebe8d97",
      "metadata": {
        "gather": {
          "logged": 1705329739408
        }
      },
      "outputs": [],
      "source": [
        "# set True for satellite background, False for standard background\n",
        "satellite = False\n",
        "\n",
        "# Create Folium map\n",
        "map = folium.Map(\n",
        "    location=[52.350547922223434, 4.794019242371844], tiles=plot_utils.generate_map_params(satellite=satellite),\n",
        "    min_zoom=10, max_zoom=25, zoom_start=17,\n",
        "    zoom_control=True, control_scale=True, control=False\n",
        "    )\n",
        "\n",
        "# Add network edges and crossing nodes\n",
        "geo_j = folium.GeoJson(gdf_network, style_function=lambda x: {\"color\": \"black\", \"weight\": 2}).add_to(map)\n",
        "geo_j = folium.GeoJson(gdf_network_edges, style_function=lambda x: {\"color\": \"yellow\", \"weight\": 6}).add_to(map)\n",
        "geo_j = folium.GeoJson(gdf_self_edges, style_function=lambda x: {\"color\": \"lightgreen\", \"weight\": 6}).add_to(map)\n",
        "\n",
        "# Add crossing edges and nodes\n",
        "feature_names = gdf_ps_nodes.columns.tolist()\n",
        "feature_names.remove('geometry')\n",
        "tooltip = plot_utils.gen_tooltip(feature_names, feature_names)\n",
        "geo_j = folium.GeoJson(gdf_ps_nodes, style_function=lambda x: {\"color\": \"orange\", \"weight\": 4}, tooltip=tooltip).add_to(map)\n",
        "\n",
        "# Save map\n",
        "map.get_root().add_child(macro)\n",
        "map"
      ]
    },
    {
      "cell_type": "markdown",
      "id": "e505e570-d936-4e2a-8cb3-9759bd575582",
      "metadata": {
        "nteract": {
          "transient": {
            "deleting": false
          }
        }
      },
      "source": [
        "### Store Project Sidewalk crossings"
      ]
    },
    {
      "cell_type": "code",
      "execution_count": null,
      "id": "63241f0c-bab3-4de8-b3a6-c722d47d3269",
      "metadata": {
        "gather": {
          "logged": 1705329745915
        },
        "jupyter": {
          "outputs_hidden": false,
          "source_hidden": false
        },
        "nteract": {
          "transient": {
            "deleting": false
          }
        }
      },
      "outputs": [],
      "source": [
        "gdf_edges = pd.concat([gdf_self_edges, gdf_network_edges], ignore_index=True, sort=False)\n",
        "gdf_edges.to_file(cf.output_project_sidewalk_crossings, driver='GPKG')"
      ]
    },
    {
      "cell_type": "markdown",
      "id": "5208187f-b1da-4ba8-a819-b2547d8f59fe",
      "metadata": {},
      "source": [
        "## Add crossings with traffic sign features "
      ]
    },
    {
      "cell_type": "markdown",
      "id": "626064b8-269c-417e-9b80-5e322e710d9e",
      "metadata": {},
      "source": [
        "### Import traffic sign features"
      ]
    },
    {
      "cell_type": "code",
      "execution_count": null,
      "id": "8a3feeb5-48ab-4a6d-b87f-266ac7eb0d10",
      "metadata": {
        "gather": {
          "logged": 1705329943735
        }
      },
      "outputs": [],
      "source": [
        "# Import project traffic sign features\n",
        "gdf_ts_nodes = gpd.read_file(cf.output_traffic_sign_crossing_features)"
      ]
    },
    {
      "cell_type": "markdown",
      "id": "6618ba14-0ef8-47ce-9d39-32a66e1c21e4",
      "metadata": {},
      "source": [
        "### Add traffic sign nodes to network"
      ]
    },
    {
      "cell_type": "code",
      "execution_count": null,
      "id": "40c991e8-e63e-49e2-8f4f-ee055cb6e44b",
      "metadata": {
        "gather": {
          "logged": 1705329947787
        }
      },
      "outputs": [],
      "source": [
        "# Get coordinates of crossing feature and network nodes\n",
        "gdf_ts_nodes['x'], gdf_ts_nodes['y'] = gdf_ts_nodes.geometry.x, gdf_ts_nodes.geometry.y\n",
        "\n",
        "# Connect traffic sign crosswalk nodes to eachother\n",
        "gdf_self_edges = crossing_utils.get_connections(gdf_ts_nodes, gdf_ts_nodes, max_dist=20, max_connections=2, crs=st.CRS)\n",
        "print('Number of new edges from traffic sign node to traffic sign node:', len(gdf_self_edges))\n",
        "\n",
        "# Connect traffic sign crosswalk nodes to network\n",
        "gdf_network_edges = crossing_utils.get_connections(gdf_ts_nodes, gdf_network_nodes, max_dist=12, max_connections=3, crs=st.CRS, include_cc_rule=True, cc_column='cc')\n",
        "print('Number of new edges from traffic sign node to network node:', len(gdf_network_edges))"
      ]
    },
    {
      "cell_type": "markdown",
      "id": "d265f7df-745f-4acc-bc89-4321e53b963d",
      "metadata": {},
      "source": [
        "### Visualize traffic sign crossings"
      ]
    },
    {
      "cell_type": "code",
      "execution_count": null,
      "id": "168ae6ea-b481-4042-93c0-ec0c6e5b8a8a",
      "metadata": {
        "gather": {
          "logged": 1705329964625
        }
      },
      "outputs": [],
      "source": [
        "# set True for satellite background, False for standard background\n",
        "satellite = False\n",
        "\n",
        "# Create Folium map\n",
        "map = folium.Map(\n",
        "    location=[52.350547922223434, 4.794019242371844], tiles=plot_utils.generate_map_params(satellite=satellite),\n",
        "    min_zoom=10, max_zoom=25, zoom_start=17,\n",
        "    zoom_control=True, control_scale=True, control=False\n",
        "    )\n",
        "\n",
        "# Add network edges and crossing nodes\n",
        "geo_j = folium.GeoJson(gdf_network, style_function=lambda x: {\"color\": \"black\", \"weight\": 2}).add_to(map)\n",
        "geo_j = folium.GeoJson(gdf_network_edges, style_function=lambda x: {\"color\": \"yellow\", \"weight\": 6}).add_to(map)\n",
        "geo_j = folium.GeoJson(gdf_self_edges, style_function=lambda x: {\"color\": \"lightgreen\", \"weight\": 6}).add_to(map)\n",
        "\n",
        "# Add crossing edges and nodes\n",
        "feature_names = gdf_ts_nodes.columns.tolist()\n",
        "feature_names.remove('geometry')\n",
        "tooltip = plot_utils.gen_tooltip(feature_names, feature_names)\n",
        "geo_j = folium.GeoJson(gdf_ts_nodes, style_function=lambda x: {\"color\": \"orange\", \"weight\": 4}, tooltip=tooltip).add_to(map)\n",
        "\n",
        "# Save map\n",
        "map.get_root().add_child(macro)\n",
        "map"
      ]
    },
    {
      "cell_type": "markdown",
      "id": "ab6d8b77-eeb4-4fe0-868f-4b1fbfd0121e",
      "metadata": {
        "nteract": {
          "transient": {
            "deleting": false
          }
        }
      },
      "source": [
        "### Store traffic sign crossings"
      ]
    },
    {
      "cell_type": "code",
      "execution_count": null,
      "id": "a38dfcbc-55f5-49c5-8c64-3fbb95e28406",
      "metadata": {
        "gather": {
          "logged": 1705329969250
        },
        "jupyter": {
          "outputs_hidden": false,
          "source_hidden": false
        },
        "nteract": {
          "transient": {
            "deleting": false
          }
        }
      },
      "outputs": [],
      "source": [
        "gdf_edges = pd.concat([gdf_self_edges, gdf_network_edges], ignore_index=True, sort=False)\n",
        "gdf_edges.to_file(cf.output_traffic_sign_crossings, driver='GPKG')"
      ]
    }
  ],
  "metadata": {
    "kernel_info": {
      "name": "crosswalk_extraction"
    },
    "kernelspec": {
      "display_name": "add_crossings",
      "language": "python",
      "name": "python3"
    },
    "language_info": {
      "codemirror_mode": {
        "name": "ipython",
        "version": 3
      },
      "file_extension": ".py",
      "mimetype": "text/x-python",
      "name": "python",
      "nbconvert_exporter": "python",
      "pygments_lexer": "ipython3",
      "version": "3.8.0"
    },
    "microsoft": {
      "host": {
        "AzureML": {
          "notebookHasBeenCompleted": true
        }
      },
      "ms_spell_check": {
        "ms_spell_check_language": "en"
      }
    },
    "nteract": {
      "version": "nteract-front-end@1.0.0"
    }
  },
  "nbformat": 4,
  "nbformat_minor": 5
}
