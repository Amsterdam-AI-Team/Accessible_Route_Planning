{
  "cells": [
    {
      "cell_type": "markdown",
      "id": "5f034096",
      "metadata": {},
      "source": [
        "# Create centerline road network \n",
        "Based on BGT data"
      ]
    },
    {
      "cell_type": "code",
      "execution_count": null,
      "id": "071158b6",
      "metadata": {
        "gather": {
          "logged": 1708709748788
        }
      },
      "outputs": [],
      "source": [
        "# Standard library and path imports\n",
        "import set_path\n",
        "import warnings\n",
        "\n",
        "# Third-party library imports\n",
        "import shapely.ops as so\n",
        "import geopandas as gpd\n",
        "from geopandas import GeoDataFrame\n",
        "from tqdm.notebook import tqdm\n",
        "tqdm.pandas()\n",
        "import folium\n",
        "\n",
        "# Local or project-specific imports\n",
        "import bgt_utils\n",
        "import plot_utils\n",
        "import poly_utils\n",
        "import settings as st\n",
        "\n",
        "if st.my_run == \"azure\":\n",
        "    import config_azure as cf\n",
        "elif st.my_run == \"local\":\n",
        "    import config as cf\n",
        "\n",
        "from shapely.errors import ShapelyDeprecationWarning\n",
        "warnings.filterwarnings(\"ignore\", category=ShapelyDeprecationWarning)"
      ]
    },
    {
      "cell_type": "code",
      "execution_count": null,
      "id": "7483f8f4-1714-49c4-a509-6a4784e49dfa",
      "metadata": {
        "gather": {
          "logged": 1708709748978
        },
        "jupyter": {
          "outputs_hidden": false,
          "source_hidden": false
        },
        "nteract": {
          "transient": {
            "deleting": false
          }
        }
      },
      "outputs": [],
      "source": [
        "if st.my_run == \"azure\":\n",
        "    os.system('sudo blobfuse /home/azureuser/cloudfiles/code/blobfuse/sidewalk --tmp-path=/mnt/resource/blobfusetmp --config-file=/home/azureuser/cloudfiles/code/blobfuse/fuse_connection_sidewalk.cfg -o attr_timeout=3600 -o entry_timeout=3600 -o negative_timeout=3600 -o allow_other -o nonempty')"
      ]
    },
    {
      "cell_type": "markdown",
      "id": "50c6b9b1",
      "metadata": {},
      "source": [
        "## Import BGT data"
      ]
    },
    {
      "cell_type": "code",
      "execution_count": null,
      "id": "0d67ccd2-f06b-408a-bb19-535fba848a6c",
      "metadata": {
        "gather": {
          "logged": 1708709791747
        },
        "jupyter": {
          "outputs_hidden": false,
          "source_hidden": false
        },
        "nteract": {
          "transient": {
            "deleting": false
          }
        }
      },
      "outputs": [],
      "source": [
        "# Get BGT data\n",
        "df_bgt_full = bgt_utils.get_bgt_data_for_bbox(st.bbox, st.bgt_road_layers)\n",
        "df_bgt_full['naam'].value_counts()"
      ]
    },
    {
      "cell_type": "markdown",
      "id": "8096e21a-ff68-4c06-aac5-3cf1c854e26d",
      "metadata": {
        "nteract": {
          "transient": {
            "deleting": false
          }
        }
      },
      "source": [
        "## Select pilot areas"
      ]
    },
    {
      "cell_type": "code",
      "execution_count": null,
      "id": "32ea3892-d7d9-4bb9-adfb-631e6ddf7331",
      "metadata": {
        "gather": {
          "logged": 1708709791948
        },
        "jupyter": {
          "outputs_hidden": false,
          "source_hidden": false
        },
        "nteract": {
          "transient": {
            "deleting": false
          }
        }
      },
      "outputs": [],
      "source": [
        "# Import areas\n",
        "df_areas = gpd.read_file(cf.output_pilot_area)"
      ]
    },
    {
      "cell_type": "code",
      "execution_count": null,
      "id": "410c68a5-d781-4185-b61b-ca21cf041e81",
      "metadata": {
        "gather": {
          "logged": 1708709792164
        },
        "jupyter": {
          "outputs_hidden": false,
          "source_hidden": false
        },
        "nteract": {
          "transient": {
            "deleting": false
          }
        }
      },
      "outputs": [],
      "source": [
        "# Only keep BGT data that intersects with pilot area\n",
        "df_bgt = df_bgt_full.sjoin(df_areas, how='inner', predicate='intersects')\n",
        "df_bgt['naam_left'].value_counts()"
      ]
    },
    {
      "cell_type": "markdown",
      "id": "4b040a19-bee5-434e-9672-2c4b9081692b",
      "metadata": {
        "nteract": {
          "transient": {
            "deleting": false
          }
        }
      },
      "source": [
        "## Pre-process BGT data"
      ]
    },
    {
      "cell_type": "code",
      "execution_count": null,
      "id": "5c507598-d05e-4a26-920c-05d6dd01f3cd",
      "metadata": {
        "gather": {
          "logged": 1708709792742
        },
        "jupyter": {
          "outputs_hidden": false,
          "source_hidden": false
        },
        "nteract": {
          "transient": {
            "deleting": false
          }
        }
      },
      "outputs": [],
      "source": [
        "# Merge road polygons\n",
        "df_bgt = GeoDataFrame(geometry=gpd.GeoSeries(df_bgt['geometry'].unary_union))\n",
        "df_bgt = gpd.GeoDataFrame(df_bgt.geometry.explode(index_parts=True))"
      ]
    },
    {
      "cell_type": "markdown",
      "id": "e0e9203a-5397-4e3d-96e2-d62b98ff84f4",
      "metadata": {
        "nteract": {
          "transient": {
            "deleting": false
          }
        }
      },
      "source": [
        "## Create centerlines"
      ]
    },
    {
      "cell_type": "code",
      "execution_count": null,
      "id": "adc8a0fd-29da-4db0-b40d-67a035f2e15c",
      "metadata": {
        "gather": {
          "logged": 1708709792976
        },
        "jupyter": {
          "outputs_hidden": false,
          "source_hidden": false
        },
        "nteract": {
          "transient": {
            "deleting": false
          }
        }
      },
      "outputs": [],
      "source": [
        "# Calculate centerlines\n",
        "df_bgt['centerlines'] = df_bgt.progress_apply(\n",
        "   lambda row: poly_utils.get_centerlines(row.geometry, interpolation_distance=2), axis=1)\n",
        "\n",
        "\n",
        "df_bgt['geometry'] = df_bgt['centerlines']\n",
        "df_bgt = df_bgt.drop(columns=['centerlines'])\n",
        "df_bgt = df_bgt.loc[df_bgt['geometry'].notna()]"
      ]
    },
    {
      "cell_type": "code",
      "execution_count": null,
      "id": "4ca6a2f3-73ce-4b10-b7fb-a32db5f4d773",
      "metadata": {
        "gather": {
          "logged": 1705497087625
        },
        "jupyter": {
          "outputs_hidden": false,
          "source_hidden": false
        },
        "nteract": {
          "transient": {
            "deleting": false
          }
        }
      },
      "outputs": [],
      "source": [
        "# Merge lines\n",
        "idxs = df_bgt.index[df_bgt.geom_type != 'LineString'].tolist()\n",
        "df_bgt.loc[idxs, 'geometry'] = df_bgt.loc[idxs, 'geometry'].progress_apply(so.linemerge)\n",
        "\n",
        "# Remove death-ends\n",
        "df_bgt['geometry'] = df_bgt['geometry'].progress_apply(\n",
        "    lambda x: poly_utils.remove_short_lines(x, st.min_se_length_fw))"
      ]
    },
    {
      "cell_type": "code",
      "execution_count": null,
      "id": "1c224759",
      "metadata": {},
      "outputs": [],
      "source": [
        "# Get each centerline in separate row\n",
        "df_bgt_exp = df_bgt.explode(ignore_index=True)\n",
        "df_bgt_exp.reset_index()\n",
        "df_bgt_exp['road_part_id'] = df_bgt_exp.index\n",
        "df_bgt_exp = df_bgt_exp.set_crs(crs=st.CRS)"
      ]
    },
    {
      "cell_type": "markdown",
      "id": "10991d1e",
      "metadata": {},
      "source": [
        "## Store final output"
      ]
    },
    {
      "cell_type": "code",
      "execution_count": null,
      "id": "a2d416f4",
      "metadata": {
        "gather": {
          "logged": 1705493273555
        }
      },
      "outputs": [],
      "source": [
        "# Write road network to file\n",
        "df_bgt_exp.to_file(cf.output_road_network, driver='GPKG')"
      ]
    },
    {
      "cell_type": "markdown",
      "id": "bff0944b",
      "metadata": {},
      "source": [
        "### Visualize"
      ]
    },
    {
      "cell_type": "code",
      "execution_count": null,
      "id": "df5f63ae-d6a5-4ea0-8b5d-215569553abe",
      "metadata": {
        "gather": {
          "logged": 1705493526784
        },
        "jupyter": {
          "outputs_hidden": false,
          "source_hidden": false
        },
        "nteract": {
          "transient": {
            "deleting": false
          }
        }
      },
      "outputs": [],
      "source": [
        "# set True for satelite background, False for regular background\n",
        "satellite = False\n",
        "\n",
        "# Create Folium map\n",
        "map = folium.Map(\n",
        "    location=[52.350547922223434, 4.794019242371844], tiles=plot_utils.generate_map_params(satellite=satellite),\n",
        "    min_zoom=10, max_zoom=25, zoom_start=17,\n",
        "    zoom_control=True, control_scale=True, control=False\n",
        "    )\n",
        "\n",
        "# Add network and new edges\n",
        "geo_j = folium.GeoJson(df_bgt_exp, style_function=lambda x: {\"color\": \"black\", \"weight\": 2}).add_to(map)"
      ]
    },
    {
      "cell_type": "code",
      "execution_count": null,
      "id": "bb1e9c78-946f-42ea-bffb-b8cc589fb839",
      "metadata": {
        "gather": {
          "logged": 1705493526895
        },
        "jupyter": {
          "outputs_hidden": false,
          "source_hidden": false
        },
        "nteract": {
          "transient": {
            "deleting": false
          }
        }
      },
      "outputs": [],
      "source": [
        "# Add title\n",
        "loc = 'Road network'\n",
        "title_html = '''\n",
        "             <h3 align=\"center\" style=\"font-size:16px\"><b>{}</b></h3>\n",
        "             '''.format(loc)\n",
        "\n",
        "map.get_root().html.add_child(folium.Element(title_html))"
      ]
    },
    {
      "cell_type": "code",
      "execution_count": null,
      "id": "e5329c7f-19c7-4cea-9395-700f99464ada",
      "metadata": {
        "gather": {
          "logged": 1705493527020
        },
        "jupyter": {
          "outputs_hidden": false,
          "source_hidden": false
        },
        "nteract": {
          "transient": {
            "deleting": false
          }
        }
      },
      "outputs": [],
      "source": [
        "map"
      ]
    }
  ],
  "metadata": {
    "kernel_info": {
      "name": "curb_exploration"
    },
    "kernelspec": {
      "display_name": "add_crossings",
      "language": "python",
      "name": "python3"
    },
    "language_info": {
      "codemirror_mode": {
        "name": "ipython",
        "version": 3
      },
      "file_extension": ".py",
      "mimetype": "text/x-python",
      "name": "python",
      "nbconvert_exporter": "python",
      "pygments_lexer": "ipython3",
      "version": "3.8.0"
    },
    "microsoft": {
      "host": {
        "AzureML": {
          "notebookHasBeenCompleted": true
        }
      },
      "ms_spell_check": {
        "ms_spell_check_language": "en"
      }
    },
    "nteract": {
      "version": "nteract-front-end@1.0.0"
    }
  },
  "nbformat": 4,
  "nbformat_minor": 5
}
