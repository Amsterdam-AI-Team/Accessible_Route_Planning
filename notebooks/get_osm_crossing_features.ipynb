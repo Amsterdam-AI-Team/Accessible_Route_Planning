{
  "cells": [
    {
      "cell_type": "markdown",
      "source": [
        "# OpenStreetMap - get crossing features"
      ],
      "metadata": {
        "nteract": {
          "transient": {
            "deleting": false
          }
        }
      },
      "id": "8a4c3ed3-645d-48bd-916e-6528df567d3d"
    },
    {
      "cell_type": "code",
      "source": [
        "# Import dependencies\n",
        "import osmnx as ox\n",
        "import matplotlib.pyplot as plt\n",
        "import seaborn as sns\n",
        "import requests\n",
        "import folium\n",
        "import functions as f\n",
        "import config_azure as cf\n",
        "import geopandas as gpd\n",
        "import pandas as pd"
      ],
      "outputs": [],
      "execution_count": null,
      "metadata": {
        "gather": {
          "logged": 1705326655642
        }
      },
      "id": "757d1d0d-dacf-463b-a3a1-0363cc85fd52"
    },
    {
      "cell_type": "code",
      "source": [
        "os.system('sudo blobfuse /home/azureuser/cloudfiles/code/blobfuse/sidewalk --tmp-path=/mnt/resource/blobfusetmp --config-file=/home/azureuser/cloudfiles/code/blobfuse/fuse_connection_sidewalk.cfg -o attr_timeout=3600 -o entry_timeout=3600 -o negative_timeout=3600 -o allow_other -o nonempty')"
      ],
      "outputs": [],
      "execution_count": null,
      "metadata": {
        "jupyter": {
          "source_hidden": false,
          "outputs_hidden": false
        },
        "nteract": {
          "transient": {
            "deleting": false
          }
        },
        "gather": {
          "logged": 1705326215525
        }
      },
      "id": "c7bba4bc-55e6-4a17-9e77-1e1b89ba577b"
    },
    {
      "cell_type": "markdown",
      "source": [
        "### Get mask of area"
      ],
      "metadata": {
        "nteract": {
          "transient": {
            "deleting": false
          }
        }
      },
      "id": "821e50dd-36f5-416d-bc5d-c34ee71134af"
    },
    {
      "cell_type": "code",
      "source": [
        "# Import areas\n",
        "CRS = 'EPSG:4326'\n",
        "df_areas = gpd.read_file(cf.output_pilot_area)\n",
        "polygon = df_areas.to_crs(crs=CRS).unary_union"
      ],
      "outputs": [],
      "execution_count": null,
      "metadata": {
        "gather": {
          "logged": 1705327261407
        }
      },
      "id": "e7cd484e-9759-49b9-963f-5ff8f87dfc57"
    },
    {
      "cell_type": "markdown",
      "source": [
        "### Retrieve crossing features"
      ],
      "metadata": {
        "nteract": {
          "transient": {
            "deleting": false
          }
        }
      },
      "id": "fdbbb352-7578-40ac-a201-79fb54f783ac"
    },
    {
      "cell_type": "code",
      "source": [
        "# Retrieve crossing attributes\n",
        "tags = {\"crossing\": True, \"footway\": 'crossing', \"kerb\": True}\n",
        "crossing_features = ox.features_from_polygon(polygon, tags)    "
      ],
      "outputs": [],
      "execution_count": null,
      "metadata": {
        "gather": {
          "logged": 1705327303088
        }
      },
      "id": "67212946-157a-4bb8-a66b-338ff72615be"
    },
    {
      "cell_type": "markdown",
      "source": [
        "### Generate map and export crossing features"
      ],
      "metadata": {
        "nteract": {
          "transient": {
            "deleting": false
          }
        }
      },
      "id": "01f19503-5958-4abf-b4a4-7b825cec436f"
    },
    {
      "cell_type": "code",
      "source": [
        "# Create tooltip for feature representation on map\n",
        "def gen_tooltip(fields, aliases):\n",
        "\n",
        "    tooltip = folium.GeoJsonTooltip(\n",
        "        fields=fields,\n",
        "        aliases=aliases,\n",
        "        localize=True,\n",
        "        sticky=False,\n",
        "        labels=True,\n",
        "        style=\"\"\"\n",
        "            background-color: #F0EFEF;\n",
        "            border: 2px solid black;\n",
        "            border-radius: 3px;\n",
        "            box-shadow: 3px;\n",
        "        \"\"\",\n",
        "        max_width=800,\n",
        "    )\n",
        "    return tooltip\n",
        "\n",
        "# set True for satelite background, False for regular background\n",
        "satelite = False\n",
        "\n",
        "# Set folium map background\n",
        "if satelite == True:\n",
        "    network_color = 'white'\n",
        "    tile = folium.TileLayer(\n",
        "                tiles = 'https://server.arcgisonline.com/ArcGIS/rest/services/World_Imagery/MapServer/tile/{z}/{y}/{x}',\n",
        "                attr = 'Esri',\n",
        "                name = 'Esri Satellite',\n",
        "                overlay = False,\n",
        "                control = True)\n",
        "else:\n",
        "    tile = 'openstreetmap'\n",
        "    network_color = 'black'\n",
        "\n",
        "# Create Folium map\n",
        "map = folium.Map(\n",
        "    location=[52.389164, 4.908453], tiles=tile,\n",
        "    min_zoom=10, max_zoom=25, zoom_start=15,\n",
        "    zoom_control=True, control_scale=True, control=False\n",
        "    )\n",
        "\n",
        "# Add crossing features\n",
        "feature_names = crossing_features.columns.tolist()\n",
        "feature_names.remove('geometry')\n",
        "tooltip = gen_tooltip(feature_names, feature_names)\n",
        "geo_j = folium.GeoJson(crossing_features, tooltip=tooltip, style_function=lambda x: {\"color\": \"orange\", \"weight\": 10}).add_to(map)\n",
        "\n",
        "map"
      ],
      "outputs": [],
      "execution_count": null,
      "metadata": {
        "gather": {
          "logged": 1705327327625
        },
        "jupyter": {
          "outputs_hidden": false,
          "source_hidden": false
        },
        "nteract": {
          "transient": {
            "deleting": false
          }
        }
      },
      "id": "1b0359da-0397-4ca0-8013-8946c1a68a62"
    },
    {
      "cell_type": "code",
      "source": [
        "# Save crossing features as csv\n",
        "crossing_features.to_csv(cf.out_folder + '/crossing_features/OpenStreetMap/crossing_features_osm.csv')\n",
        "\n",
        "# Save network with crossing features as html map\n",
        "if satelite == True:\n",
        "    map.save(cf.out_folder + '/crossing_features/OpenStreetMap/crossing_features_osm_satelite.html')\n",
        "else:\n",
        "    map.save(cf.out_folder + '/crossing_features/OpenStreetMap/crossing_features_osm.html')"
      ],
      "outputs": [],
      "execution_count": null,
      "metadata": {
        "gather": {
          "logged": 1702911416157
        }
      },
      "id": "3eb61b94-520b-4dd2-b99a-a174c94248e0"
    }
  ],
  "metadata": {
    "kernel_info": {
      "name": "osmx-examples"
    },
    "kernelspec": {
      "name": "osmx-examples",
      "language": "python",
      "display_name": "osmx-examples"
    },
    "language_info": {
      "name": "python",
      "version": "3.8.0",
      "mimetype": "text/x-python",
      "codemirror_mode": {
        "name": "ipython",
        "version": 3
      },
      "pygments_lexer": "ipython3",
      "nbconvert_exporter": "python",
      "file_extension": ".py"
    },
    "microsoft": {
      "host": {
        "AzureML": {
          "notebookHasBeenCompleted": true
        }
      },
      "ms_spell_check": {
        "ms_spell_check_language": "en"
      }
    },
    "nteract": {
      "version": "nteract-front-end@1.0.0"
    }
  },
  "nbformat": 4,
  "nbformat_minor": 5
}